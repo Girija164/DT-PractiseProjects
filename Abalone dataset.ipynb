{
 "cells": [
  {
   "cell_type": "markdown",
   "id": "1a4b908d",
   "metadata": {},
   "source": [
    "# ABALONE DATA ANALYSIS"
   ]
  },
  {
   "cell_type": "markdown",
   "id": "d87da8fa",
   "metadata": {},
   "source": [
    "Abalones are marine snails. Their taxonomy puts them in the family Haliotidae which contains only one genus, Haliotis, which once contained six subgenera. These subgenera have become alternate representations of Haliotis. The number of species recognized worldwide ranges between 30 and 130 with over 230 species-level taxa described. The most comprehensive treatment of the family considers 56 species valid, with 18 additional subspecies."
   ]
  },
  {
   "cell_type": "markdown",
   "id": "a80fdb1f",
   "metadata": {},
   "source": [
    "# Requirement"
   ]
  },
  {
   "cell_type": "markdown",
   "id": "8a401693",
   "metadata": {},
   "source": [
    "To Determine The Age Of The Rings"
   ]
  },
  {
   "cell_type": "markdown",
   "id": "eb577e51",
   "metadata": {},
   "source": [
    " The original stated problem is estimate the age an abalone, which can be determined from the number of rings in their shell. However, counting the number of rings in an abalone shell is an expensive method. Thus, one possible solution is predict the number of rings of an abalone from characteristics like height, diameter, lenght and weight measurements."
   ]
  },
  {
   "cell_type": "markdown",
   "id": "3522e64b",
   "metadata": {},
   "source": [
    "# Attributes that contributes in Calculating the age of the rings"
   ]
  },
  {
   "cell_type": "markdown",
   "id": "6c539292",
   "metadata": {},
   "source": [
    "Sex  / M, F, and I (infant)\n",
    "\n",
    "\n",
    "Length / Longest shell measurement\n",
    "\n",
    "Diameter / perpendicular to length\n",
    "\n",
    "Height /  with meat in shell\n",
    "\n",
    "Whole weight / whole abalone\n",
    "\n",
    "Shucked weight / weight of meat\n",
    "\n",
    "Viscera weight / gut weight (after bleeding)\n",
    "\n",
    "Shell weight / after being dried\n",
    "\n",
    "\n"
   ]
  },
  {
   "cell_type": "markdown",
   "id": "47d971e1",
   "metadata": {},
   "source": [
    "# Import Libraries\n"
   ]
  },
  {
   "cell_type": "code",
   "execution_count": 1,
   "id": "a0188a13",
   "metadata": {},
   "outputs": [],
   "source": [
    "import numpy as np\n",
    "import pandas as pd\n",
    "\n",
    "import matplotlib.pyplot as plt\n",
    "import seaborn as sns\n",
    "\n",
    "import scipy\n",
    "\n",
    "from sklearn.preprocessing import LabelEncoder\n",
    "from sklearn.preprocessing import StandardScaler\n",
    "\n",
    "import warnings\n",
    "warnings.filterwarnings('ignore')"
   ]
  },
  {
   "cell_type": "markdown",
   "id": "965a12a2",
   "metadata": {},
   "source": [
    "# Load Dataset"
   ]
  },
  {
   "cell_type": "code",
   "execution_count": 2,
   "id": "c43735b3",
   "metadata": {},
   "outputs": [
    {
     "data": {
      "text/html": [
       "<div>\n",
       "<style scoped>\n",
       "    .dataframe tbody tr th:only-of-type {\n",
       "        vertical-align: middle;\n",
       "    }\n",
       "\n",
       "    .dataframe tbody tr th {\n",
       "        vertical-align: top;\n",
       "    }\n",
       "\n",
       "    .dataframe thead th {\n",
       "        text-align: right;\n",
       "    }\n",
       "</style>\n",
       "<table border=\"1\" class=\"dataframe\">\n",
       "  <thead>\n",
       "    <tr style=\"text-align: right;\">\n",
       "      <th></th>\n",
       "      <th>Sex</th>\n",
       "      <th>Length</th>\n",
       "      <th>Diameter</th>\n",
       "      <th>Height</th>\n",
       "      <th>Whole weight</th>\n",
       "      <th>Shucked weight</th>\n",
       "      <th>Viscera weight</th>\n",
       "      <th>Shell weight</th>\n",
       "      <th>Rings</th>\n",
       "    </tr>\n",
       "  </thead>\n",
       "  <tbody>\n",
       "    <tr>\n",
       "      <th>0</th>\n",
       "      <td>M</td>\n",
       "      <td>0.455</td>\n",
       "      <td>0.365</td>\n",
       "      <td>0.095</td>\n",
       "      <td>0.5140</td>\n",
       "      <td>0.2245</td>\n",
       "      <td>0.1010</td>\n",
       "      <td>0.1500</td>\n",
       "      <td>15</td>\n",
       "    </tr>\n",
       "    <tr>\n",
       "      <th>1</th>\n",
       "      <td>M</td>\n",
       "      <td>0.350</td>\n",
       "      <td>0.265</td>\n",
       "      <td>0.090</td>\n",
       "      <td>0.2255</td>\n",
       "      <td>0.0995</td>\n",
       "      <td>0.0485</td>\n",
       "      <td>0.0700</td>\n",
       "      <td>7</td>\n",
       "    </tr>\n",
       "    <tr>\n",
       "      <th>2</th>\n",
       "      <td>F</td>\n",
       "      <td>0.530</td>\n",
       "      <td>0.420</td>\n",
       "      <td>0.135</td>\n",
       "      <td>0.6770</td>\n",
       "      <td>0.2565</td>\n",
       "      <td>0.1415</td>\n",
       "      <td>0.2100</td>\n",
       "      <td>9</td>\n",
       "    </tr>\n",
       "    <tr>\n",
       "      <th>3</th>\n",
       "      <td>M</td>\n",
       "      <td>0.440</td>\n",
       "      <td>0.365</td>\n",
       "      <td>0.125</td>\n",
       "      <td>0.5160</td>\n",
       "      <td>0.2155</td>\n",
       "      <td>0.1140</td>\n",
       "      <td>0.1550</td>\n",
       "      <td>10</td>\n",
       "    </tr>\n",
       "    <tr>\n",
       "      <th>4</th>\n",
       "      <td>I</td>\n",
       "      <td>0.330</td>\n",
       "      <td>0.255</td>\n",
       "      <td>0.080</td>\n",
       "      <td>0.2050</td>\n",
       "      <td>0.0895</td>\n",
       "      <td>0.0395</td>\n",
       "      <td>0.0550</td>\n",
       "      <td>7</td>\n",
       "    </tr>\n",
       "    <tr>\n",
       "      <th>...</th>\n",
       "      <td>...</td>\n",
       "      <td>...</td>\n",
       "      <td>...</td>\n",
       "      <td>...</td>\n",
       "      <td>...</td>\n",
       "      <td>...</td>\n",
       "      <td>...</td>\n",
       "      <td>...</td>\n",
       "      <td>...</td>\n",
       "    </tr>\n",
       "    <tr>\n",
       "      <th>4172</th>\n",
       "      <td>F</td>\n",
       "      <td>0.565</td>\n",
       "      <td>0.450</td>\n",
       "      <td>0.165</td>\n",
       "      <td>0.8870</td>\n",
       "      <td>0.3700</td>\n",
       "      <td>0.2390</td>\n",
       "      <td>0.2490</td>\n",
       "      <td>11</td>\n",
       "    </tr>\n",
       "    <tr>\n",
       "      <th>4173</th>\n",
       "      <td>M</td>\n",
       "      <td>0.590</td>\n",
       "      <td>0.440</td>\n",
       "      <td>0.135</td>\n",
       "      <td>0.9660</td>\n",
       "      <td>0.4390</td>\n",
       "      <td>0.2145</td>\n",
       "      <td>0.2605</td>\n",
       "      <td>10</td>\n",
       "    </tr>\n",
       "    <tr>\n",
       "      <th>4174</th>\n",
       "      <td>M</td>\n",
       "      <td>0.600</td>\n",
       "      <td>0.475</td>\n",
       "      <td>0.205</td>\n",
       "      <td>1.1760</td>\n",
       "      <td>0.5255</td>\n",
       "      <td>0.2875</td>\n",
       "      <td>0.3080</td>\n",
       "      <td>9</td>\n",
       "    </tr>\n",
       "    <tr>\n",
       "      <th>4175</th>\n",
       "      <td>F</td>\n",
       "      <td>0.625</td>\n",
       "      <td>0.485</td>\n",
       "      <td>0.150</td>\n",
       "      <td>1.0945</td>\n",
       "      <td>0.5310</td>\n",
       "      <td>0.2610</td>\n",
       "      <td>0.2960</td>\n",
       "      <td>10</td>\n",
       "    </tr>\n",
       "    <tr>\n",
       "      <th>4176</th>\n",
       "      <td>M</td>\n",
       "      <td>0.710</td>\n",
       "      <td>0.555</td>\n",
       "      <td>0.195</td>\n",
       "      <td>1.9485</td>\n",
       "      <td>0.9455</td>\n",
       "      <td>0.3765</td>\n",
       "      <td>0.4950</td>\n",
       "      <td>12</td>\n",
       "    </tr>\n",
       "  </tbody>\n",
       "</table>\n",
       "<p>4177 rows × 9 columns</p>\n",
       "</div>"
      ],
      "text/plain": [
       "     Sex  Length  Diameter  Height  Whole weight  Shucked weight  \\\n",
       "0      M   0.455     0.365   0.095        0.5140          0.2245   \n",
       "1      M   0.350     0.265   0.090        0.2255          0.0995   \n",
       "2      F   0.530     0.420   0.135        0.6770          0.2565   \n",
       "3      M   0.440     0.365   0.125        0.5160          0.2155   \n",
       "4      I   0.330     0.255   0.080        0.2050          0.0895   \n",
       "...   ..     ...       ...     ...           ...             ...   \n",
       "4172   F   0.565     0.450   0.165        0.8870          0.3700   \n",
       "4173   M   0.590     0.440   0.135        0.9660          0.4390   \n",
       "4174   M   0.600     0.475   0.205        1.1760          0.5255   \n",
       "4175   F   0.625     0.485   0.150        1.0945          0.5310   \n",
       "4176   M   0.710     0.555   0.195        1.9485          0.9455   \n",
       "\n",
       "      Viscera weight  Shell weight  Rings  \n",
       "0             0.1010        0.1500     15  \n",
       "1             0.0485        0.0700      7  \n",
       "2             0.1415        0.2100      9  \n",
       "3             0.1140        0.1550     10  \n",
       "4             0.0395        0.0550      7  \n",
       "...              ...           ...    ...  \n",
       "4172          0.2390        0.2490     11  \n",
       "4173          0.2145        0.2605     10  \n",
       "4174          0.2875        0.3080      9  \n",
       "4175          0.2610        0.2960     10  \n",
       "4176          0.3765        0.4950     12  \n",
       "\n",
       "[4177 rows x 9 columns]"
      ]
     },
     "execution_count": 2,
     "metadata": {},
     "output_type": "execute_result"
    }
   ],
   "source": [
    "df= pd.read_csv(\"abalone.csv\")\n",
    "df"
   ]
  },
  {
   "cell_type": "markdown",
   "id": "7266fcf2",
   "metadata": {},
   "source": [
    "Type and sample of the dataset"
   ]
  },
  {
   "cell_type": "code",
   "execution_count": 3,
   "id": "ca1b7d2a",
   "metadata": {},
   "outputs": [
    {
     "data": {
      "text/plain": [
       "Sex                object\n",
       "Length            float64\n",
       "Diameter          float64\n",
       "Height            float64\n",
       "Whole weight      float64\n",
       "Shucked weight    float64\n",
       "Viscera weight    float64\n",
       "Shell weight      float64\n",
       "Rings               int64\n",
       "dtype: object"
      ]
     },
     "execution_count": 3,
     "metadata": {},
     "output_type": "execute_result"
    }
   ],
   "source": [
    "df.dtypes"
   ]
  },
  {
   "cell_type": "code",
   "execution_count": 4,
   "id": "bc80942a",
   "metadata": {},
   "outputs": [
    {
     "data": {
      "text/plain": [
       "(4177, 9)"
      ]
     },
     "execution_count": 4,
     "metadata": {},
     "output_type": "execute_result"
    }
   ],
   "source": [
    "df.shape"
   ]
  },
  {
   "cell_type": "markdown",
   "id": "f337b617",
   "metadata": {},
   "source": [
    "Checking For Null Values"
   ]
  },
  {
   "cell_type": "code",
   "execution_count": 5,
   "id": "90b98f52",
   "metadata": {},
   "outputs": [
    {
     "data": {
      "text/plain": [
       "Sex               0\n",
       "Length            0\n",
       "Diameter          0\n",
       "Height            0\n",
       "Whole weight      0\n",
       "Shucked weight    0\n",
       "Viscera weight    0\n",
       "Shell weight      0\n",
       "Rings             0\n",
       "dtype: int64"
      ]
     },
     "execution_count": 5,
     "metadata": {},
     "output_type": "execute_result"
    }
   ],
   "source": [
    "df.isnull().sum()"
   ]
  },
  {
   "cell_type": "code",
   "execution_count": 6,
   "id": "6a7b58fb",
   "metadata": {},
   "outputs": [
    {
     "data": {
      "image/png": "[encoded data removed]",
      "text/plain": [
       "<Figure size 432x288 with 2 Axes>"
      ]
     },
     "metadata": {
      "needs_background": "light"
     },
     "output_type": "display_data"
    }
   ],
   "source": [
    "sns.heatmap(df.isnull())\n",
    "plt.show()"
   ]
  },
  {
   "cell_type": "markdown",
   "id": "511cc3d3",
   "metadata": {},
   "source": [
    "The dataset has no null values, so proceeding with the further analysis"
   ]
  },
  {
   "cell_type": "code",
   "execution_count": 7,
   "id": "494cf8d1",
   "metadata": {},
   "outputs": [
    {
     "data": {
      "text/plain": [
       "Index(['Sex', 'Length', 'Diameter', 'Height', 'Whole weight', 'Shucked weight',\n",
       "       'Viscera weight', 'Shell weight', 'Rings'],\n",
       "      dtype='object')"
      ]
     },
     "execution_count": 7,
     "metadata": {},
     "output_type": "execute_result"
    }
   ],
   "source": [
    "df.columns"
   ]
  },
  {
   "cell_type": "markdown",
   "id": "72398e53",
   "metadata": {},
   "source": [
    "Analysing each parameter"
   ]
  },
  {
   "cell_type": "code",
   "execution_count": 8,
   "id": "b23a612d",
   "metadata": {},
   "outputs": [
    {
     "data": {
      "text/plain": [
       "<AxesSubplot:xlabel='Sex', ylabel='count'>"
      ]
     },
     "execution_count": 8,
     "metadata": {},
     "output_type": "execute_result"
    },
    {
     "data": {
      "image/png": "[encoded data removed]",
      "text/plain": [
       "<Figure size 432x288 with 1 Axes>"
      ]
     },
     "metadata": {
      "needs_background": "light"
     },
     "output_type": "display_data"
    }
   ],
   "source": [
    "sns.countplot(df['Sex'])"
   ]
  },
  {
   "cell_type": "markdown",
   "id": "1efb6e3a",
   "metadata": {},
   "source": [
    "The above graph shows there are more male abalone found than the female and infants"
   ]
  },
  {
   "cell_type": "markdown",
   "id": "6fb37391",
   "metadata": {},
   "source": [
    "# Encode Gender column"
   ]
  },
  {
   "cell_type": "code",
   "execution_count": 9,
   "id": "b56207d5",
   "metadata": {},
   "outputs": [],
   "source": [
    "LE= LabelEncoder()\n",
    "df['Sex']= LE.fit_transform(df['Sex'])\n"
   ]
  },
  {
   "cell_type": "code",
   "execution_count": 10,
   "id": "0e275d91",
   "metadata": {},
   "outputs": [
    {
     "data": {
      "text/plain": [
       "array(['M', 'I', 'F'], dtype=object)"
      ]
     },
     "execution_count": 10,
     "metadata": {},
     "output_type": "execute_result"
    }
   ],
   "source": [
    "LE.inverse_transform([2,1,0])"
   ]
  },
  {
   "cell_type": "code",
   "execution_count": 11,
   "id": "3bdfbe40",
   "metadata": {},
   "outputs": [
    {
     "data": {
      "text/html": [
       "<div>\n",
       "<style scoped>\n",
       "    .dataframe tbody tr th:only-of-type {\n",
       "        vertical-align: middle;\n",
       "    }\n",
       "\n",
       "    .dataframe tbody tr th {\n",
       "        vertical-align: top;\n",
       "    }\n",
       "\n",
       "    .dataframe thead th {\n",
       "        text-align: right;\n",
       "    }\n",
       "</style>\n",
       "<table border=\"1\" class=\"dataframe\">\n",
       "  <thead>\n",
       "    <tr style=\"text-align: right;\">\n",
       "      <th></th>\n",
       "      <th>Sex</th>\n",
       "      <th>Length</th>\n",
       "      <th>Diameter</th>\n",
       "      <th>Height</th>\n",
       "      <th>Whole weight</th>\n",
       "      <th>Shucked weight</th>\n",
       "      <th>Viscera weight</th>\n",
       "      <th>Shell weight</th>\n",
       "      <th>Rings</th>\n",
       "    </tr>\n",
       "  </thead>\n",
       "  <tbody>\n",
       "    <tr>\n",
       "      <th>0</th>\n",
       "      <td>2</td>\n",
       "      <td>0.455</td>\n",
       "      <td>0.365</td>\n",
       "      <td>0.095</td>\n",
       "      <td>0.5140</td>\n",
       "      <td>0.2245</td>\n",
       "      <td>0.1010</td>\n",
       "      <td>0.1500</td>\n",
       "      <td>15</td>\n",
       "    </tr>\n",
       "    <tr>\n",
       "      <th>1</th>\n",
       "      <td>2</td>\n",
       "      <td>0.350</td>\n",
       "      <td>0.265</td>\n",
       "      <td>0.090</td>\n",
       "      <td>0.2255</td>\n",
       "      <td>0.0995</td>\n",
       "      <td>0.0485</td>\n",
       "      <td>0.0700</td>\n",
       "      <td>7</td>\n",
       "    </tr>\n",
       "    <tr>\n",
       "      <th>2</th>\n",
       "      <td>0</td>\n",
       "      <td>0.530</td>\n",
       "      <td>0.420</td>\n",
       "      <td>0.135</td>\n",
       "      <td>0.6770</td>\n",
       "      <td>0.2565</td>\n",
       "      <td>0.1415</td>\n",
       "      <td>0.2100</td>\n",
       "      <td>9</td>\n",
       "    </tr>\n",
       "    <tr>\n",
       "      <th>3</th>\n",
       "      <td>2</td>\n",
       "      <td>0.440</td>\n",
       "      <td>0.365</td>\n",
       "      <td>0.125</td>\n",
       "      <td>0.5160</td>\n",
       "      <td>0.2155</td>\n",
       "      <td>0.1140</td>\n",
       "      <td>0.1550</td>\n",
       "      <td>10</td>\n",
       "    </tr>\n",
       "    <tr>\n",
       "      <th>4</th>\n",
       "      <td>1</td>\n",
       "      <td>0.330</td>\n",
       "      <td>0.255</td>\n",
       "      <td>0.080</td>\n",
       "      <td>0.2050</td>\n",
       "      <td>0.0895</td>\n",
       "      <td>0.0395</td>\n",
       "      <td>0.0550</td>\n",
       "      <td>7</td>\n",
       "    </tr>\n",
       "    <tr>\n",
       "      <th>...</th>\n",
       "      <td>...</td>\n",
       "      <td>...</td>\n",
       "      <td>...</td>\n",
       "      <td>...</td>\n",
       "      <td>...</td>\n",
       "      <td>...</td>\n",
       "      <td>...</td>\n",
       "      <td>...</td>\n",
       "      <td>...</td>\n",
       "    </tr>\n",
       "    <tr>\n",
       "      <th>4172</th>\n",
       "      <td>0</td>\n",
       "      <td>0.565</td>\n",
       "      <td>0.450</td>\n",
       "      <td>0.165</td>\n",
       "      <td>0.8870</td>\n",
       "      <td>0.3700</td>\n",
       "      <td>0.2390</td>\n",
       "      <td>0.2490</td>\n",
       "      <td>11</td>\n",
       "    </tr>\n",
       "    <tr>\n",
       "      <th>4173</th>\n",
       "      <td>2</td>\n",
       "      <td>0.590</td>\n",
       "      <td>0.440</td>\n",
       "      <td>0.135</td>\n",
       "      <td>0.9660</td>\n",
       "      <td>0.4390</td>\n",
       "      <td>0.2145</td>\n",
       "      <td>0.2605</td>\n",
       "      <td>10</td>\n",
       "    </tr>\n",
       "    <tr>\n",
       "      <th>4174</th>\n",
       "      <td>2</td>\n",
       "      <td>0.600</td>\n",
       "      <td>0.475</td>\n",
       "      <td>0.205</td>\n",
       "      <td>1.1760</td>\n",
       "      <td>0.5255</td>\n",
       "      <td>0.2875</td>\n",
       "      <td>0.3080</td>\n",
       "      <td>9</td>\n",
       "    </tr>\n",
       "    <tr>\n",
       "      <th>4175</th>\n",
       "      <td>0</td>\n",
       "      <td>0.625</td>\n",
       "      <td>0.485</td>\n",
       "      <td>0.150</td>\n",
       "      <td>1.0945</td>\n",
       "      <td>0.5310</td>\n",
       "      <td>0.2610</td>\n",
       "      <td>0.2960</td>\n",
       "      <td>10</td>\n",
       "    </tr>\n",
       "    <tr>\n",
       "      <th>4176</th>\n",
       "      <td>2</td>\n",
       "      <td>0.710</td>\n",
       "      <td>0.555</td>\n",
       "      <td>0.195</td>\n",
       "      <td>1.9485</td>\n",
       "      <td>0.9455</td>\n",
       "      <td>0.3765</td>\n",
       "      <td>0.4950</td>\n",
       "      <td>12</td>\n",
       "    </tr>\n",
       "  </tbody>\n",
       "</table>\n",
       "<p>4177 rows × 9 columns</p>\n",
       "</div>"
      ],
      "text/plain": [
       "      Sex  Length  Diameter  Height  Whole weight  Shucked weight  \\\n",
       "0       2   0.455     0.365   0.095        0.5140          0.2245   \n",
       "1       2   0.350     0.265   0.090        0.2255          0.0995   \n",
       "2       0   0.530     0.420   0.135        0.6770          0.2565   \n",
       "3       2   0.440     0.365   0.125        0.5160          0.2155   \n",
       "4       1   0.330     0.255   0.080        0.2050          0.0895   \n",
       "...   ...     ...       ...     ...           ...             ...   \n",
       "4172    0   0.565     0.450   0.165        0.8870          0.3700   \n",
       "4173    2   0.590     0.440   0.135        0.9660          0.4390   \n",
       "4174    2   0.600     0.475   0.205        1.1760          0.5255   \n",
       "4175    0   0.625     0.485   0.150        1.0945          0.5310   \n",
       "4176    2   0.710     0.555   0.195        1.9485          0.9455   \n",
       "\n",
       "      Viscera weight  Shell weight  Rings  \n",
       "0             0.1010        0.1500     15  \n",
       "1             0.0485        0.0700      7  \n",
       "2             0.1415        0.2100      9  \n",
       "3             0.1140        0.1550     10  \n",
       "4             0.0395        0.0550      7  \n",
       "...              ...           ...    ...  \n",
       "4172          0.2390        0.2490     11  \n",
       "4173          0.2145        0.2605     10  \n",
       "4174          0.2875        0.3080      9  \n",
       "4175          0.2610        0.2960     10  \n",
       "4176          0.3765        0.4950     12  \n",
       "\n",
       "[4177 rows x 9 columns]"
      ]
     },
     "execution_count": 11,
     "metadata": {},
     "output_type": "execute_result"
    }
   ],
   "source": [
    "df"
   ]
  },
  {
   "cell_type": "code",
   "execution_count": 12,
   "id": "cc8b5658",
   "metadata": {},
   "outputs": [
    {
     "data": {
      "text/plain": [
       "<AxesSubplot:xlabel='Diameter', ylabel='Density'>"
      ]
     },
     "execution_count": 12,
     "metadata": {},
     "output_type": "execute_result"
    },
    {
     "data": {
      "image/png": "[encoded data removed]",
      "text/plain": [
       "<Figure size 432x288 with 1 Axes>"
      ]
     },
     "metadata": {
      "needs_background": "light"
     },
     "output_type": "display_data"
    }
   ],
   "source": [
    "sns.distplot(df['Diameter'])"
   ]
  },
  {
   "cell_type": "markdown",
   "id": "8622e647",
   "metadata": {},
   "source": [
    "From the above plot, it is clear that the diameter ranges from 0.1 to 0.65. Most shells have diameter of 0.35 to 0.55"
   ]
  },
  {
   "cell_type": "code",
   "execution_count": 13,
   "id": "1d1adcd1",
   "metadata": {},
   "outputs": [
    {
     "data": {
      "text/plain": [
       "<AxesSubplot:xlabel='Length', ylabel='Density'>"
      ]
     },
     "execution_count": 13,
     "metadata": {},
     "output_type": "execute_result"
    },
    {
     "data": {
      "image/png": "[encoded data removed]",
      "text/plain": [
       "<Figure size 432x288 with 1 Axes>"
      ]
     },
     "metadata": {
      "needs_background": "light"
     },
     "output_type": "display_data"
    }
   ],
   "source": [
    "sns.distplot(df['Length'])"
   ]
  },
  {
   "cell_type": "markdown",
   "id": "301df323",
   "metadata": {},
   "source": [
    "The length is distributed between 0.45 to 0.7"
   ]
  },
  {
   "cell_type": "code",
   "execution_count": 13,
   "id": "dbba8e18",
   "metadata": {},
   "outputs": [
    {
     "data": {
      "text/plain": [
       "<AxesSubplot:xlabel='Height', ylabel='Density'>"
      ]
     },
     "execution_count": 13,
     "metadata": {},
     "output_type": "execute_result"
    },
    {
     "data": {
      "image/png": "[encoded data removed]",
      "text/plain": [
       "<Figure size 432x288 with 1 Axes>"
      ]
     },
     "metadata": {
      "needs_background": "light"
     },
     "output_type": "display_data"
    }
   ],
   "source": [
    "sns.distplot(df['Height'])"
   ]
  },
  {
   "cell_type": "markdown",
   "id": "98860644",
   "metadata": {},
   "source": [
    "The Height of the abalone is distributed within the range of 0.2 to 0.22 only"
   ]
  },
  {
   "cell_type": "code",
   "execution_count": 14,
   "id": "4c9e6bf2",
   "metadata": {},
   "outputs": [
    {
     "data": {
      "text/plain": [
       "<AxesSubplot:xlabel='Shucked weight', ylabel='Count'>"
      ]
     },
     "execution_count": 14,
     "metadata": {},
     "output_type": "execute_result"
    },
    {
     "data": {
      "image/png": "[encoded data removed]",
      "text/plain": [
       "<Figure size 432x288 with 1 Axes>"
      ]
     },
     "metadata": {
      "needs_background": "light"
     },
     "output_type": "display_data"
    }
   ],
   "source": [
    "sns.histplot(df['Shucked weight'], bins=10)"
   ]
  },
  {
   "cell_type": "markdown",
   "id": "51de8afb",
   "metadata": {},
   "source": [
    "Most shell have shucked weight between 0.2 to 0.4"
   ]
  },
  {
   "cell_type": "code",
   "execution_count": 15,
   "id": "ae6a6281",
   "metadata": {},
   "outputs": [
    {
     "data": {
      "text/plain": [
       "<AxesSubplot:xlabel='Whole weight', ylabel='Count'>"
      ]
     },
     "execution_count": 15,
     "metadata": {},
     "output_type": "execute_result"
    },
    {
     "data": {
      "image/png": "[encoded data removed]",
      "text/plain": [
       "<Figure size 432x288 with 1 Axes>"
      ]
     },
     "metadata": {
      "needs_background": "light"
     },
     "output_type": "display_data"
    }
   ],
   "source": [
    "sns.histplot(df['Whole weight'], bins=10)"
   ]
  },
  {
   "cell_type": "code",
   "execution_count": 16,
   "id": "b65b16ea",
   "metadata": {},
   "outputs": [
    {
     "data": {
      "text/plain": [
       "<AxesSubplot:xlabel='Shell weight', ylabel='Count'>"
      ]
     },
     "execution_count": 16,
     "metadata": {},
     "output_type": "execute_result"
    },
    {
     "data": {
      "image/png": "[encoded data removed]",
      "text/plain": [
       "<Figure size 432x288 with 1 Axes>"
      ]
     },
     "metadata": {
      "needs_background": "light"
     },
     "output_type": "display_data"
    }
   ],
   "source": [
    "sns.histplot(df['Shell weight'], bins=10)"
   ]
  },
  {
   "cell_type": "code",
   "execution_count": 17,
   "id": "bedc97be",
   "metadata": {},
   "outputs": [
    {
     "data": {
      "text/html": [
       "<div>\n",
       "<style scoped>\n",
       "    .dataframe tbody tr th:only-of-type {\n",
       "        vertical-align: middle;\n",
       "    }\n",
       "\n",
       "    .dataframe tbody tr th {\n",
       "        vertical-align: top;\n",
       "    }\n",
       "\n",
       "    .dataframe thead th {\n",
       "        text-align: right;\n",
       "    }\n",
       "</style>\n",
       "<table border=\"1\" class=\"dataframe\">\n",
       "  <thead>\n",
       "    <tr style=\"text-align: right;\">\n",
       "      <th></th>\n",
       "      <th>Sex</th>\n",
       "      <th>Length</th>\n",
       "      <th>Diameter</th>\n",
       "      <th>Height</th>\n",
       "      <th>Whole weight</th>\n",
       "      <th>Shucked weight</th>\n",
       "      <th>Viscera weight</th>\n",
       "      <th>Shell weight</th>\n",
       "      <th>Rings</th>\n",
       "    </tr>\n",
       "  </thead>\n",
       "  <tbody>\n",
       "    <tr>\n",
       "      <th>count</th>\n",
       "      <td>4177.000000</td>\n",
       "      <td>4177.000000</td>\n",
       "      <td>4177.000000</td>\n",
       "      <td>4177.000000</td>\n",
       "      <td>4177.000000</td>\n",
       "      <td>4177.000000</td>\n",
       "      <td>4177.000000</td>\n",
       "      <td>4177.000000</td>\n",
       "      <td>4177.000000</td>\n",
       "    </tr>\n",
       "    <tr>\n",
       "      <th>mean</th>\n",
       "      <td>1.052909</td>\n",
       "      <td>0.523992</td>\n",
       "      <td>0.407881</td>\n",
       "      <td>0.139516</td>\n",
       "      <td>0.828742</td>\n",
       "      <td>0.359367</td>\n",
       "      <td>0.180594</td>\n",
       "      <td>0.238831</td>\n",
       "      <td>9.933684</td>\n",
       "    </tr>\n",
       "    <tr>\n",
       "      <th>std</th>\n",
       "      <td>0.822240</td>\n",
       "      <td>0.120093</td>\n",
       "      <td>0.099240</td>\n",
       "      <td>0.041827</td>\n",
       "      <td>0.490389</td>\n",
       "      <td>0.221963</td>\n",
       "      <td>0.109614</td>\n",
       "      <td>0.139203</td>\n",
       "      <td>3.224169</td>\n",
       "    </tr>\n",
       "    <tr>\n",
       "      <th>min</th>\n",
       "      <td>0.000000</td>\n",
       "      <td>0.075000</td>\n",
       "      <td>0.055000</td>\n",
       "      <td>0.000000</td>\n",
       "      <td>0.002000</td>\n",
       "      <td>0.001000</td>\n",
       "      <td>0.000500</td>\n",
       "      <td>0.001500</td>\n",
       "      <td>1.000000</td>\n",
       "    </tr>\n",
       "    <tr>\n",
       "      <th>25%</th>\n",
       "      <td>0.000000</td>\n",
       "      <td>0.450000</td>\n",
       "      <td>0.350000</td>\n",
       "      <td>0.115000</td>\n",
       "      <td>0.441500</td>\n",
       "      <td>0.186000</td>\n",
       "      <td>0.093500</td>\n",
       "      <td>0.130000</td>\n",
       "      <td>8.000000</td>\n",
       "    </tr>\n",
       "    <tr>\n",
       "      <th>50%</th>\n",
       "      <td>1.000000</td>\n",
       "      <td>0.545000</td>\n",
       "      <td>0.425000</td>\n",
       "      <td>0.140000</td>\n",
       "      <td>0.799500</td>\n",
       "      <td>0.336000</td>\n",
       "      <td>0.171000</td>\n",
       "      <td>0.234000</td>\n",
       "      <td>9.000000</td>\n",
       "    </tr>\n",
       "    <tr>\n",
       "      <th>75%</th>\n",
       "      <td>2.000000</td>\n",
       "      <td>0.615000</td>\n",
       "      <td>0.480000</td>\n",
       "      <td>0.165000</td>\n",
       "      <td>1.153000</td>\n",
       "      <td>0.502000</td>\n",
       "      <td>0.253000</td>\n",
       "      <td>0.329000</td>\n",
       "      <td>11.000000</td>\n",
       "    </tr>\n",
       "    <tr>\n",
       "      <th>max</th>\n",
       "      <td>2.000000</td>\n",
       "      <td>0.815000</td>\n",
       "      <td>0.650000</td>\n",
       "      <td>1.130000</td>\n",
       "      <td>2.825500</td>\n",
       "      <td>1.488000</td>\n",
       "      <td>0.760000</td>\n",
       "      <td>1.005000</td>\n",
       "      <td>29.000000</td>\n",
       "    </tr>\n",
       "  </tbody>\n",
       "</table>\n",
       "</div>"
      ],
      "text/plain": [
       "               Sex       Length     Diameter       Height  Whole weight  \\\n",
       "count  4177.000000  4177.000000  4177.000000  4177.000000   4177.000000   \n",
       "mean      1.052909     0.523992     0.407881     0.139516      0.828742   \n",
       "std       0.822240     0.120093     0.099240     0.041827      0.490389   \n",
       "min       0.000000     0.075000     0.055000     0.000000      0.002000   \n",
       "25%       0.000000     0.450000     0.350000     0.115000      0.441500   \n",
       "50%       1.000000     0.545000     0.425000     0.140000      0.799500   \n",
       "75%       2.000000     0.615000     0.480000     0.165000      1.153000   \n",
       "max       2.000000     0.815000     0.650000     1.130000      2.825500   \n",
       "\n",
       "       Shucked weight  Viscera weight  Shell weight        Rings  \n",
       "count     4177.000000     4177.000000   4177.000000  4177.000000  \n",
       "mean         0.359367        0.180594      0.238831     9.933684  \n",
       "std          0.221963        0.109614      0.139203     3.224169  \n",
       "min          0.001000        0.000500      0.001500     1.000000  \n",
       "25%          0.186000        0.093500      0.130000     8.000000  \n",
       "50%          0.336000        0.171000      0.234000     9.000000  \n",
       "75%          0.502000        0.253000      0.329000    11.000000  \n",
       "max          1.488000        0.760000      1.005000    29.000000  "
      ]
     },
     "execution_count": 17,
     "metadata": {},
     "output_type": "execute_result"
    }
   ],
   "source": [
    "df.describe()"
   ]
  },
  {
   "cell_type": "markdown",
   "id": "f7edb9bf",
   "metadata": {},
   "source": [
    "# To Find Correlation "
   ]
  },
  {
   "cell_type": "code",
   "execution_count": 18,
   "id": "2cb20d16",
   "metadata": {},
   "outputs": [
    {
     "data": {
      "text/html": [
       "<div>\n",
       "<style scoped>\n",
       "    .dataframe tbody tr th:only-of-type {\n",
       "        vertical-align: middle;\n",
       "    }\n",
       "\n",
       "    .dataframe tbody tr th {\n",
       "        vertical-align: top;\n",
       "    }\n",
       "\n",
       "    .dataframe thead th {\n",
       "        text-align: right;\n",
       "    }\n",
       "</style>\n",
       "<table border=\"1\" class=\"dataframe\">\n",
       "  <thead>\n",
       "    <tr style=\"text-align: right;\">\n",
       "      <th></th>\n",
       "      <th>Sex</th>\n",
       "      <th>Length</th>\n",
       "      <th>Diameter</th>\n",
       "      <th>Height</th>\n",
       "      <th>Whole weight</th>\n",
       "      <th>Shucked weight</th>\n",
       "      <th>Viscera weight</th>\n",
       "      <th>Shell weight</th>\n",
       "      <th>Rings</th>\n",
       "    </tr>\n",
       "  </thead>\n",
       "  <tbody>\n",
       "    <tr>\n",
       "      <th>Sex</th>\n",
       "      <td>1.000000</td>\n",
       "      <td>-0.036066</td>\n",
       "      <td>-0.038874</td>\n",
       "      <td>-0.042077</td>\n",
       "      <td>-0.021391</td>\n",
       "      <td>-0.001373</td>\n",
       "      <td>-0.032067</td>\n",
       "      <td>-0.034854</td>\n",
       "      <td>-0.034627</td>\n",
       "    </tr>\n",
       "    <tr>\n",
       "      <th>Length</th>\n",
       "      <td>-0.036066</td>\n",
       "      <td>1.000000</td>\n",
       "      <td>0.986812</td>\n",
       "      <td>0.827554</td>\n",
       "      <td>0.925261</td>\n",
       "      <td>0.897914</td>\n",
       "      <td>0.903018</td>\n",
       "      <td>0.897706</td>\n",
       "      <td>0.556720</td>\n",
       "    </tr>\n",
       "    <tr>\n",
       "      <th>Diameter</th>\n",
       "      <td>-0.038874</td>\n",
       "      <td>0.986812</td>\n",
       "      <td>1.000000</td>\n",
       "      <td>0.833684</td>\n",
       "      <td>0.925452</td>\n",
       "      <td>0.893162</td>\n",
       "      <td>0.899724</td>\n",
       "      <td>0.905330</td>\n",
       "      <td>0.574660</td>\n",
       "    </tr>\n",
       "    <tr>\n",
       "      <th>Height</th>\n",
       "      <td>-0.042077</td>\n",
       "      <td>0.827554</td>\n",
       "      <td>0.833684</td>\n",
       "      <td>1.000000</td>\n",
       "      <td>0.819221</td>\n",
       "      <td>0.774972</td>\n",
       "      <td>0.798319</td>\n",
       "      <td>0.817338</td>\n",
       "      <td>0.557467</td>\n",
       "    </tr>\n",
       "    <tr>\n",
       "      <th>Whole weight</th>\n",
       "      <td>-0.021391</td>\n",
       "      <td>0.925261</td>\n",
       "      <td>0.925452</td>\n",
       "      <td>0.819221</td>\n",
       "      <td>1.000000</td>\n",
       "      <td>0.969405</td>\n",
       "      <td>0.966375</td>\n",
       "      <td>0.955355</td>\n",
       "      <td>0.540390</td>\n",
       "    </tr>\n",
       "    <tr>\n",
       "      <th>Shucked weight</th>\n",
       "      <td>-0.001373</td>\n",
       "      <td>0.897914</td>\n",
       "      <td>0.893162</td>\n",
       "      <td>0.774972</td>\n",
       "      <td>0.969405</td>\n",
       "      <td>1.000000</td>\n",
       "      <td>0.931961</td>\n",
       "      <td>0.882617</td>\n",
       "      <td>0.420884</td>\n",
       "    </tr>\n",
       "    <tr>\n",
       "      <th>Viscera weight</th>\n",
       "      <td>-0.032067</td>\n",
       "      <td>0.903018</td>\n",
       "      <td>0.899724</td>\n",
       "      <td>0.798319</td>\n",
       "      <td>0.966375</td>\n",
       "      <td>0.931961</td>\n",
       "      <td>1.000000</td>\n",
       "      <td>0.907656</td>\n",
       "      <td>0.503819</td>\n",
       "    </tr>\n",
       "    <tr>\n",
       "      <th>Shell weight</th>\n",
       "      <td>-0.034854</td>\n",
       "      <td>0.897706</td>\n",
       "      <td>0.905330</td>\n",
       "      <td>0.817338</td>\n",
       "      <td>0.955355</td>\n",
       "      <td>0.882617</td>\n",
       "      <td>0.907656</td>\n",
       "      <td>1.000000</td>\n",
       "      <td>0.627574</td>\n",
       "    </tr>\n",
       "    <tr>\n",
       "      <th>Rings</th>\n",
       "      <td>-0.034627</td>\n",
       "      <td>0.556720</td>\n",
       "      <td>0.574660</td>\n",
       "      <td>0.557467</td>\n",
       "      <td>0.540390</td>\n",
       "      <td>0.420884</td>\n",
       "      <td>0.503819</td>\n",
       "      <td>0.627574</td>\n",
       "      <td>1.000000</td>\n",
       "    </tr>\n",
       "  </tbody>\n",
       "</table>\n",
       "</div>"
      ],
      "text/plain": [
       "                     Sex    Length  Diameter    Height  Whole weight  \\\n",
       "Sex             1.000000 -0.036066 -0.038874 -0.042077     -0.021391   \n",
       "Length         -0.036066  1.000000  0.986812  0.827554      0.925261   \n",
       "Diameter       -0.038874  0.986812  1.000000  0.833684      0.925452   \n",
       "Height         -0.042077  0.827554  0.833684  1.000000      0.819221   \n",
       "Whole weight   -0.021391  0.925261  0.925452  0.819221      1.000000   \n",
       "Shucked weight -0.001373  0.897914  0.893162  0.774972      0.969405   \n",
       "Viscera weight -0.032067  0.903018  0.899724  0.798319      0.966375   \n",
       "Shell weight   -0.034854  0.897706  0.905330  0.817338      0.955355   \n",
       "Rings          -0.034627  0.556720  0.574660  0.557467      0.540390   \n",
       "\n",
       "                Shucked weight  Viscera weight  Shell weight     Rings  \n",
       "Sex                  -0.001373       -0.032067     -0.034854 -0.034627  \n",
       "Length                0.897914        0.903018      0.897706  0.556720  \n",
       "Diameter              0.893162        0.899724      0.905330  0.574660  \n",
       "Height                0.774972        0.798319      0.817338  0.557467  \n",
       "Whole weight          0.969405        0.966375      0.955355  0.540390  \n",
       "Shucked weight        1.000000        0.931961      0.882617  0.420884  \n",
       "Viscera weight        0.931961        1.000000      0.907656  0.503819  \n",
       "Shell weight          0.882617        0.907656      1.000000  0.627574  \n",
       "Rings                 0.420884        0.503819      0.627574  1.000000  "
      ]
     },
     "execution_count": 18,
     "metadata": {},
     "output_type": "execute_result"
    }
   ],
   "source": [
    "df.corr()"
   ]
  },
  {
   "cell_type": "code",
   "execution_count": 19,
   "id": "3e932dce",
   "metadata": {},
   "outputs": [
    {
     "data": {
      "image/png": "[encoded data removed]",
      "text/plain": [
       "<Figure size 432x288 with 2 Axes>"
      ]
     },
     "metadata": {
      "needs_background": "light"
     },
     "output_type": "display_data"
    },
    {
     "data": {
      "text/plain": [
       "<Figure size 1080x576 with 0 Axes>"
      ]
     },
     "metadata": {},
     "output_type": "display_data"
    }
   ],
   "source": [
    "sns.heatmap(df.corr(),annot=True)\n",
    "plt.figure(figsize=(15,8))\n",
    "plt.show()"
   ]
  },
  {
   "cell_type": "markdown",
   "id": "930f4cf6",
   "metadata": {},
   "source": [
    "# Correlation Outcome"
   ]
  },
  {
   "cell_type": "markdown",
   "id": "cea07cdf",
   "metadata": {},
   "source": [
    "The columns(length, Diameter) and (Whole weight, Shucked weight) seems to be highly correlated.\n",
    "\n",
    "We have to check for multicolinearity. We can use VIF\n",
    "\n",
    "The Shell weight and Diameter are highly correlated to the dependent variable(Rings)"
   ]
  },
  {
   "cell_type": "markdown",
   "id": "024edc27",
   "metadata": {},
   "source": [
    "# VIF"
   ]
  },
  {
   "cell_type": "code",
   "execution_count": 20,
   "id": "0ce7d9c9",
   "metadata": {},
   "outputs": [],
   "source": [
    "from statsmodels.stats.outliers_influence import variance_inflation_factor"
   ]
  },
  {
   "cell_type": "code",
   "execution_count": 21,
   "id": "b15f612f",
   "metadata": {},
   "outputs": [
    {
     "data": {
      "text/html": [
       "<div>\n",
       "<style scoped>\n",
       "    .dataframe tbody tr th:only-of-type {\n",
       "        vertical-align: middle;\n",
       "    }\n",
       "\n",
       "    .dataframe tbody tr th {\n",
       "        vertical-align: top;\n",
       "    }\n",
       "\n",
       "    .dataframe thead th {\n",
       "        text-align: right;\n",
       "    }\n",
       "</style>\n",
       "<table border=\"1\" class=\"dataframe\">\n",
       "  <thead>\n",
       "    <tr style=\"text-align: right;\">\n",
       "      <th></th>\n",
       "      <th>Sex</th>\n",
       "      <th>Length</th>\n",
       "      <th>Diameter</th>\n",
       "      <th>Height</th>\n",
       "      <th>Whole weight</th>\n",
       "      <th>Shucked weight</th>\n",
       "      <th>Viscera weight</th>\n",
       "      <th>Shell weight</th>\n",
       "    </tr>\n",
       "  </thead>\n",
       "  <tbody>\n",
       "    <tr>\n",
       "      <th>0</th>\n",
       "      <td>2</td>\n",
       "      <td>0.455</td>\n",
       "      <td>0.365</td>\n",
       "      <td>0.095</td>\n",
       "      <td>0.5140</td>\n",
       "      <td>0.2245</td>\n",
       "      <td>0.1010</td>\n",
       "      <td>0.1500</td>\n",
       "    </tr>\n",
       "    <tr>\n",
       "      <th>1</th>\n",
       "      <td>2</td>\n",
       "      <td>0.350</td>\n",
       "      <td>0.265</td>\n",
       "      <td>0.090</td>\n",
       "      <td>0.2255</td>\n",
       "      <td>0.0995</td>\n",
       "      <td>0.0485</td>\n",
       "      <td>0.0700</td>\n",
       "    </tr>\n",
       "    <tr>\n",
       "      <th>2</th>\n",
       "      <td>0</td>\n",
       "      <td>0.530</td>\n",
       "      <td>0.420</td>\n",
       "      <td>0.135</td>\n",
       "      <td>0.6770</td>\n",
       "      <td>0.2565</td>\n",
       "      <td>0.1415</td>\n",
       "      <td>0.2100</td>\n",
       "    </tr>\n",
       "    <tr>\n",
       "      <th>3</th>\n",
       "      <td>2</td>\n",
       "      <td>0.440</td>\n",
       "      <td>0.365</td>\n",
       "      <td>0.125</td>\n",
       "      <td>0.5160</td>\n",
       "      <td>0.2155</td>\n",
       "      <td>0.1140</td>\n",
       "      <td>0.1550</td>\n",
       "    </tr>\n",
       "    <tr>\n",
       "      <th>4</th>\n",
       "      <td>1</td>\n",
       "      <td>0.330</td>\n",
       "      <td>0.255</td>\n",
       "      <td>0.080</td>\n",
       "      <td>0.2050</td>\n",
       "      <td>0.0895</td>\n",
       "      <td>0.0395</td>\n",
       "      <td>0.0550</td>\n",
       "    </tr>\n",
       "    <tr>\n",
       "      <th>...</th>\n",
       "      <td>...</td>\n",
       "      <td>...</td>\n",
       "      <td>...</td>\n",
       "      <td>...</td>\n",
       "      <td>...</td>\n",
       "      <td>...</td>\n",
       "      <td>...</td>\n",
       "      <td>...</td>\n",
       "    </tr>\n",
       "    <tr>\n",
       "      <th>4172</th>\n",
       "      <td>0</td>\n",
       "      <td>0.565</td>\n",
       "      <td>0.450</td>\n",
       "      <td>0.165</td>\n",
       "      <td>0.8870</td>\n",
       "      <td>0.3700</td>\n",
       "      <td>0.2390</td>\n",
       "      <td>0.2490</td>\n",
       "    </tr>\n",
       "    <tr>\n",
       "      <th>4173</th>\n",
       "      <td>2</td>\n",
       "      <td>0.590</td>\n",
       "      <td>0.440</td>\n",
       "      <td>0.135</td>\n",
       "      <td>0.9660</td>\n",
       "      <td>0.4390</td>\n",
       "      <td>0.2145</td>\n",
       "      <td>0.2605</td>\n",
       "    </tr>\n",
       "    <tr>\n",
       "      <th>4174</th>\n",
       "      <td>2</td>\n",
       "      <td>0.600</td>\n",
       "      <td>0.475</td>\n",
       "      <td>0.205</td>\n",
       "      <td>1.1760</td>\n",
       "      <td>0.5255</td>\n",
       "      <td>0.2875</td>\n",
       "      <td>0.3080</td>\n",
       "    </tr>\n",
       "    <tr>\n",
       "      <th>4175</th>\n",
       "      <td>0</td>\n",
       "      <td>0.625</td>\n",
       "      <td>0.485</td>\n",
       "      <td>0.150</td>\n",
       "      <td>1.0945</td>\n",
       "      <td>0.5310</td>\n",
       "      <td>0.2610</td>\n",
       "      <td>0.2960</td>\n",
       "    </tr>\n",
       "    <tr>\n",
       "      <th>4176</th>\n",
       "      <td>2</td>\n",
       "      <td>0.710</td>\n",
       "      <td>0.555</td>\n",
       "      <td>0.195</td>\n",
       "      <td>1.9485</td>\n",
       "      <td>0.9455</td>\n",
       "      <td>0.3765</td>\n",
       "      <td>0.4950</td>\n",
       "    </tr>\n",
       "  </tbody>\n",
       "</table>\n",
       "<p>4177 rows × 8 columns</p>\n",
       "</div>"
      ],
      "text/plain": [
       "      Sex  Length  Diameter  Height  Whole weight  Shucked weight  \\\n",
       "0       2   0.455     0.365   0.095        0.5140          0.2245   \n",
       "1       2   0.350     0.265   0.090        0.2255          0.0995   \n",
       "2       0   0.530     0.420   0.135        0.6770          0.2565   \n",
       "3       2   0.440     0.365   0.125        0.5160          0.2155   \n",
       "4       1   0.330     0.255   0.080        0.2050          0.0895   \n",
       "...   ...     ...       ...     ...           ...             ...   \n",
       "4172    0   0.565     0.450   0.165        0.8870          0.3700   \n",
       "4173    2   0.590     0.440   0.135        0.9660          0.4390   \n",
       "4174    2   0.600     0.475   0.205        1.1760          0.5255   \n",
       "4175    0   0.625     0.485   0.150        1.0945          0.5310   \n",
       "4176    2   0.710     0.555   0.195        1.9485          0.9455   \n",
       "\n",
       "      Viscera weight  Shell weight  \n",
       "0             0.1010        0.1500  \n",
       "1             0.0485        0.0700  \n",
       "2             0.1415        0.2100  \n",
       "3             0.1140        0.1550  \n",
       "4             0.0395        0.0550  \n",
       "...              ...           ...  \n",
       "4172          0.2390        0.2490  \n",
       "4173          0.2145        0.2605  \n",
       "4174          0.2875        0.3080  \n",
       "4175          0.2610        0.2960  \n",
       "4176          0.3765        0.4950  \n",
       "\n",
       "[4177 rows x 8 columns]"
      ]
     },
     "execution_count": 21,
     "metadata": {},
     "output_type": "execute_result"
    }
   ],
   "source": [
    "df1=df.iloc[:,0:8]\n",
    "df1"
   ]
  },
  {
   "cell_type": "code",
   "execution_count": 22,
   "id": "9f73e71d",
   "metadata": {},
   "outputs": [
    {
     "data": {
      "text/plain": [
       "(4177, 8)"
      ]
     },
     "execution_count": 22,
     "metadata": {},
     "output_type": "execute_result"
    }
   ],
   "source": [
    "df1.shape"
   ]
  },
  {
   "cell_type": "code",
   "execution_count": 23,
   "id": "9be37914",
   "metadata": {},
   "outputs": [
    {
     "data": {
      "text/plain": [
       "Index(['Sex', 'Length', 'Diameter', 'Height', 'Whole weight', 'Shucked weight',\n",
       "       'Viscera weight', 'Shell weight'],\n",
       "      dtype='object')"
      ]
     },
     "execution_count": 23,
     "metadata": {},
     "output_type": "execute_result"
    }
   ],
   "source": [
    "df1.columns"
   ]
  },
  {
   "cell_type": "code",
   "execution_count": 24,
   "id": "a1fb6b61",
   "metadata": {},
   "outputs": [
    {
     "data": {
      "text/plain": [
       "8"
      ]
     },
     "execution_count": 24,
     "metadata": {},
     "output_type": "execute_result"
    }
   ],
   "source": [
    "df1.shape[1]#x.shape[1]"
   ]
  },
  {
   "cell_type": "code",
   "execution_count": 25,
   "id": "30436b15",
   "metadata": {},
   "outputs": [],
   "source": [
    "def vif_fun():\n",
    "    vif=pd.DataFrame()\n",
    "    vif['vif_factor']=[variance_inflation_factor(df1.values,i) for i in range(df1.shape[1])]\n",
    "    vif['features']= df1.columns\n",
    "    return(vif)"
   ]
  },
  {
   "cell_type": "code",
   "execution_count": 26,
   "id": "6665fcba",
   "metadata": {},
   "outputs": [
    {
     "data": {
      "text/html": [
       "<div>\n",
       "<style scoped>\n",
       "    .dataframe tbody tr th:only-of-type {\n",
       "        vertical-align: middle;\n",
       "    }\n",
       "\n",
       "    .dataframe tbody tr th {\n",
       "        vertical-align: top;\n",
       "    }\n",
       "\n",
       "    .dataframe thead th {\n",
       "        text-align: right;\n",
       "    }\n",
       "</style>\n",
       "<table border=\"1\" class=\"dataframe\">\n",
       "  <thead>\n",
       "    <tr style=\"text-align: right;\">\n",
       "      <th></th>\n",
       "      <th>vif_factor</th>\n",
       "      <th>features</th>\n",
       "    </tr>\n",
       "  </thead>\n",
       "  <tbody>\n",
       "    <tr>\n",
       "      <th>0</th>\n",
       "      <td>2.555356</td>\n",
       "      <td>Sex</td>\n",
       "    </tr>\n",
       "    <tr>\n",
       "      <th>1</th>\n",
       "      <td>700.488988</td>\n",
       "      <td>Length</td>\n",
       "    </tr>\n",
       "    <tr>\n",
       "      <th>2</th>\n",
       "      <td>749.121626</td>\n",
       "      <td>Diameter</td>\n",
       "    </tr>\n",
       "    <tr>\n",
       "      <th>3</th>\n",
       "      <td>42.128924</td>\n",
       "      <td>Height</td>\n",
       "    </tr>\n",
       "    <tr>\n",
       "      <th>4</th>\n",
       "      <td>421.652484</td>\n",
       "      <td>Whole weight</td>\n",
       "    </tr>\n",
       "    <tr>\n",
       "      <th>5</th>\n",
       "      <td>101.674946</td>\n",
       "      <td>Shucked weight</td>\n",
       "    </tr>\n",
       "    <tr>\n",
       "      <th>6</th>\n",
       "      <td>63.585627</td>\n",
       "      <td>Viscera weight</td>\n",
       "    </tr>\n",
       "    <tr>\n",
       "      <th>7</th>\n",
       "      <td>81.873737</td>\n",
       "      <td>Shell weight</td>\n",
       "    </tr>\n",
       "  </tbody>\n",
       "</table>\n",
       "</div>"
      ],
      "text/plain": [
       "   vif_factor        features\n",
       "0    2.555356             Sex\n",
       "1  700.488988          Length\n",
       "2  749.121626        Diameter\n",
       "3   42.128924          Height\n",
       "4  421.652484    Whole weight\n",
       "5  101.674946  Shucked weight\n",
       "6   63.585627  Viscera weight\n",
       "7   81.873737    Shell weight"
      ]
     },
     "execution_count": 26,
     "metadata": {},
     "output_type": "execute_result"
    }
   ],
   "source": [
    "vif_fun()"
   ]
  },
  {
   "cell_type": "markdown",
   "id": "d31a1772",
   "metadata": {},
   "source": [
    "Length and Diameter has high VIF factor, indicating high collinearity. Among which Diameter is highly correlated with Output, so we can drop Length.\n",
    "\n",
    "Whole weight and Shucked weight has high VIF factor, among which Whole weight is highly correlated with Output, so we can drop Shucked weight"
   ]
  },
  {
   "cell_type": "markdown",
   "id": "c56c668b",
   "metadata": {},
   "source": [
    "# Drop The columns with collinearity"
   ]
  },
  {
   "cell_type": "code",
   "execution_count": 27,
   "id": "f5855993",
   "metadata": {},
   "outputs": [
    {
     "data": {
      "text/html": [
       "<div>\n",
       "<style scoped>\n",
       "    .dataframe tbody tr th:only-of-type {\n",
       "        vertical-align: middle;\n",
       "    }\n",
       "\n",
       "    .dataframe tbody tr th {\n",
       "        vertical-align: top;\n",
       "    }\n",
       "\n",
       "    .dataframe thead th {\n",
       "        text-align: right;\n",
       "    }\n",
       "</style>\n",
       "<table border=\"1\" class=\"dataframe\">\n",
       "  <thead>\n",
       "    <tr style=\"text-align: right;\">\n",
       "      <th></th>\n",
       "      <th>Sex</th>\n",
       "      <th>Diameter</th>\n",
       "      <th>Height</th>\n",
       "      <th>Whole weight</th>\n",
       "      <th>Viscera weight</th>\n",
       "      <th>Shell weight</th>\n",
       "      <th>Rings</th>\n",
       "    </tr>\n",
       "  </thead>\n",
       "  <tbody>\n",
       "    <tr>\n",
       "      <th>0</th>\n",
       "      <td>2</td>\n",
       "      <td>0.365</td>\n",
       "      <td>0.095</td>\n",
       "      <td>0.5140</td>\n",
       "      <td>0.1010</td>\n",
       "      <td>0.1500</td>\n",
       "      <td>15</td>\n",
       "    </tr>\n",
       "    <tr>\n",
       "      <th>1</th>\n",
       "      <td>2</td>\n",
       "      <td>0.265</td>\n",
       "      <td>0.090</td>\n",
       "      <td>0.2255</td>\n",
       "      <td>0.0485</td>\n",
       "      <td>0.0700</td>\n",
       "      <td>7</td>\n",
       "    </tr>\n",
       "    <tr>\n",
       "      <th>2</th>\n",
       "      <td>0</td>\n",
       "      <td>0.420</td>\n",
       "      <td>0.135</td>\n",
       "      <td>0.6770</td>\n",
       "      <td>0.1415</td>\n",
       "      <td>0.2100</td>\n",
       "      <td>9</td>\n",
       "    </tr>\n",
       "    <tr>\n",
       "      <th>3</th>\n",
       "      <td>2</td>\n",
       "      <td>0.365</td>\n",
       "      <td>0.125</td>\n",
       "      <td>0.5160</td>\n",
       "      <td>0.1140</td>\n",
       "      <td>0.1550</td>\n",
       "      <td>10</td>\n",
       "    </tr>\n",
       "    <tr>\n",
       "      <th>4</th>\n",
       "      <td>1</td>\n",
       "      <td>0.255</td>\n",
       "      <td>0.080</td>\n",
       "      <td>0.2050</td>\n",
       "      <td>0.0395</td>\n",
       "      <td>0.0550</td>\n",
       "      <td>7</td>\n",
       "    </tr>\n",
       "    <tr>\n",
       "      <th>...</th>\n",
       "      <td>...</td>\n",
       "      <td>...</td>\n",
       "      <td>...</td>\n",
       "      <td>...</td>\n",
       "      <td>...</td>\n",
       "      <td>...</td>\n",
       "      <td>...</td>\n",
       "    </tr>\n",
       "    <tr>\n",
       "      <th>4172</th>\n",
       "      <td>0</td>\n",
       "      <td>0.450</td>\n",
       "      <td>0.165</td>\n",
       "      <td>0.8870</td>\n",
       "      <td>0.2390</td>\n",
       "      <td>0.2490</td>\n",
       "      <td>11</td>\n",
       "    </tr>\n",
       "    <tr>\n",
       "      <th>4173</th>\n",
       "      <td>2</td>\n",
       "      <td>0.440</td>\n",
       "      <td>0.135</td>\n",
       "      <td>0.9660</td>\n",
       "      <td>0.2145</td>\n",
       "      <td>0.2605</td>\n",
       "      <td>10</td>\n",
       "    </tr>\n",
       "    <tr>\n",
       "      <th>4174</th>\n",
       "      <td>2</td>\n",
       "      <td>0.475</td>\n",
       "      <td>0.205</td>\n",
       "      <td>1.1760</td>\n",
       "      <td>0.2875</td>\n",
       "      <td>0.3080</td>\n",
       "      <td>9</td>\n",
       "    </tr>\n",
       "    <tr>\n",
       "      <th>4175</th>\n",
       "      <td>0</td>\n",
       "      <td>0.485</td>\n",
       "      <td>0.150</td>\n",
       "      <td>1.0945</td>\n",
       "      <td>0.2610</td>\n",
       "      <td>0.2960</td>\n",
       "      <td>10</td>\n",
       "    </tr>\n",
       "    <tr>\n",
       "      <th>4176</th>\n",
       "      <td>2</td>\n",
       "      <td>0.555</td>\n",
       "      <td>0.195</td>\n",
       "      <td>1.9485</td>\n",
       "      <td>0.3765</td>\n",
       "      <td>0.4950</td>\n",
       "      <td>12</td>\n",
       "    </tr>\n",
       "  </tbody>\n",
       "</table>\n",
       "<p>4177 rows × 7 columns</p>\n",
       "</div>"
      ],
      "text/plain": [
       "      Sex  Diameter  Height  Whole weight  Viscera weight  Shell weight  Rings\n",
       "0       2     0.365   0.095        0.5140          0.1010        0.1500     15\n",
       "1       2     0.265   0.090        0.2255          0.0485        0.0700      7\n",
       "2       0     0.420   0.135        0.6770          0.1415        0.2100      9\n",
       "3       2     0.365   0.125        0.5160          0.1140        0.1550     10\n",
       "4       1     0.255   0.080        0.2050          0.0395        0.0550      7\n",
       "...   ...       ...     ...           ...             ...           ...    ...\n",
       "4172    0     0.450   0.165        0.8870          0.2390        0.2490     11\n",
       "4173    2     0.440   0.135        0.9660          0.2145        0.2605     10\n",
       "4174    2     0.475   0.205        1.1760          0.2875        0.3080      9\n",
       "4175    0     0.485   0.150        1.0945          0.2610        0.2960     10\n",
       "4176    2     0.555   0.195        1.9485          0.3765        0.4950     12\n",
       "\n",
       "[4177 rows x 7 columns]"
      ]
     },
     "execution_count": 27,
     "metadata": {},
     "output_type": "execute_result"
    }
   ],
   "source": [
    "df.drop(['Length', 'Shucked weight'], axis=1, inplace=True)\n",
    "df"
   ]
  },
  {
   "cell_type": "code",
   "execution_count": 28,
   "id": "1851d4f8",
   "metadata": {},
   "outputs": [],
   "source": [
    "df1=df.iloc[:,0:-1]"
   ]
  },
  {
   "cell_type": "code",
   "execution_count": 29,
   "id": "d994e4a5",
   "metadata": {},
   "outputs": [
    {
     "data": {
      "text/plain": [
       "Index(['Sex', 'Diameter', 'Height', 'Whole weight', 'Viscera weight',\n",
       "       'Shell weight'],\n",
       "      dtype='object')"
      ]
     },
     "execution_count": 29,
     "metadata": {},
     "output_type": "execute_result"
    }
   ],
   "source": [
    "df1.columns"
   ]
  },
  {
   "cell_type": "code",
   "execution_count": 30,
   "id": "5ee967f9",
   "metadata": {},
   "outputs": [
    {
     "data": {
      "text/plain": [
       "(4177, 6)"
      ]
     },
     "execution_count": 30,
     "metadata": {},
     "output_type": "execute_result"
    }
   ],
   "source": [
    "df1.shape"
   ]
  },
  {
   "cell_type": "code",
   "execution_count": 31,
   "id": "1573af38",
   "metadata": {},
   "outputs": [
    {
     "data": {
      "text/html": [
       "<div>\n",
       "<style scoped>\n",
       "    .dataframe tbody tr th:only-of-type {\n",
       "        vertical-align: middle;\n",
       "    }\n",
       "\n",
       "    .dataframe tbody tr th {\n",
       "        vertical-align: top;\n",
       "    }\n",
       "\n",
       "    .dataframe thead th {\n",
       "        text-align: right;\n",
       "    }\n",
       "</style>\n",
       "<table border=\"1\" class=\"dataframe\">\n",
       "  <thead>\n",
       "    <tr style=\"text-align: right;\">\n",
       "      <th></th>\n",
       "      <th>vif_factor</th>\n",
       "      <th>features</th>\n",
       "    </tr>\n",
       "  </thead>\n",
       "  <tbody>\n",
       "    <tr>\n",
       "      <th>0</th>\n",
       "      <td>2.532536</td>\n",
       "      <td>Sex</td>\n",
       "    </tr>\n",
       "    <tr>\n",
       "      <th>1</th>\n",
       "      <td>46.978990</td>\n",
       "      <td>Diameter</td>\n",
       "    </tr>\n",
       "    <tr>\n",
       "      <th>2</th>\n",
       "      <td>41.650431</td>\n",
       "      <td>Height</td>\n",
       "    </tr>\n",
       "    <tr>\n",
       "      <th>3</th>\n",
       "      <td>123.993316</td>\n",
       "      <td>Whole weight</td>\n",
       "    </tr>\n",
       "    <tr>\n",
       "      <th>4</th>\n",
       "      <td>59.292682</td>\n",
       "      <td>Viscera weight</td>\n",
       "    </tr>\n",
       "    <tr>\n",
       "      <th>5</th>\n",
       "      <td>49.403495</td>\n",
       "      <td>Shell weight</td>\n",
       "    </tr>\n",
       "  </tbody>\n",
       "</table>\n",
       "</div>"
      ],
      "text/plain": [
       "   vif_factor        features\n",
       "0    2.532536             Sex\n",
       "1   46.978990        Diameter\n",
       "2   41.650431          Height\n",
       "3  123.993316    Whole weight\n",
       "4   59.292682  Viscera weight\n",
       "5   49.403495    Shell weight"
      ]
     },
     "execution_count": 31,
     "metadata": {},
     "output_type": "execute_result"
    }
   ],
   "source": [
    "vif_fun()"
   ]
  },
  {
   "cell_type": "markdown",
   "id": "e31a424a",
   "metadata": {},
   "source": [
    "# Check For Skewness"
   ]
  },
  {
   "cell_type": "code",
   "execution_count": 32,
   "id": "7c92a711",
   "metadata": {},
   "outputs": [
    {
     "data": {
      "text/plain": [
       "Height            3.128817\n",
       "Shell weight      0.620927\n",
       "Viscera weight    0.591852\n",
       "Whole weight      0.530959\n",
       "Sex              -0.098155\n",
       "Diameter         -0.609198\n",
       "dtype: float64"
      ]
     },
     "execution_count": 32,
     "metadata": {},
     "output_type": "execute_result"
    }
   ],
   "source": [
    "df1.skew().sort_values(ascending=False)"
   ]
  },
  {
   "cell_type": "markdown",
   "id": "664537de",
   "metadata": {},
   "source": [
    "Height Column has very high skewness. Remove Skewness with Power Transform method"
   ]
  },
  {
   "cell_type": "code",
   "execution_count": 33,
   "id": "3cf51cbf",
   "metadata": {},
   "outputs": [],
   "source": [
    "from sklearn.preprocessing import power_transform"
   ]
  },
  {
   "cell_type": "code",
   "execution_count": 34,
   "id": "b3a97f09",
   "metadata": {},
   "outputs": [],
   "source": [
    "df1_new= power_transform(df1)"
   ]
  },
  {
   "cell_type": "code",
   "execution_count": 35,
   "id": "63571a95",
   "metadata": {},
   "outputs": [
    {
     "data": {
      "text/html": [
       "<div>\n",
       "<style scoped>\n",
       "    .dataframe tbody tr th:only-of-type {\n",
       "        vertical-align: middle;\n",
       "    }\n",
       "\n",
       "    .dataframe tbody tr th {\n",
       "        vertical-align: top;\n",
       "    }\n",
       "\n",
       "    .dataframe thead th {\n",
       "        text-align: right;\n",
       "    }\n",
       "</style>\n",
       "<table border=\"1\" class=\"dataframe\">\n",
       "  <thead>\n",
       "    <tr style=\"text-align: right;\">\n",
       "      <th></th>\n",
       "      <th>Sex</th>\n",
       "      <th>Diameter</th>\n",
       "      <th>Height</th>\n",
       "      <th>Whole weight</th>\n",
       "      <th>Viscera weight</th>\n",
       "      <th>Shell weight</th>\n",
       "    </tr>\n",
       "  </thead>\n",
       "  <tbody>\n",
       "    <tr>\n",
       "      <th>0</th>\n",
       "      <td>1.127072</td>\n",
       "      <td>-0.549860</td>\n",
       "      <td>-1.124512</td>\n",
       "      <td>-0.576766</td>\n",
       "      <td>-0.693283</td>\n",
       "      <td>-0.587809</td>\n",
       "    </tr>\n",
       "    <tr>\n",
       "      <th>1</th>\n",
       "      <td>1.127072</td>\n",
       "      <td>-1.387333</td>\n",
       "      <td>-1.264396</td>\n",
       "      <td>-1.351761</td>\n",
       "      <td>-1.332953</td>\n",
       "      <td>-1.332420</td>\n",
       "    </tr>\n",
       "    <tr>\n",
       "      <th>2</th>\n",
       "      <td>-1.307935</td>\n",
       "      <td>0.008537</td>\n",
       "      <td>-0.064823</td>\n",
       "      <td>-0.198099</td>\n",
       "      <td>-0.255135</td>\n",
       "      <td>-0.098262</td>\n",
       "    </tr>\n",
       "    <tr>\n",
       "      <th>3</th>\n",
       "      <td>1.127072</td>\n",
       "      <td>-0.549860</td>\n",
       "      <td>-0.320227</td>\n",
       "      <td>-0.571893</td>\n",
       "      <td>-0.547782</td>\n",
       "      <td>-0.544931</td>\n",
       "    </tr>\n",
       "    <tr>\n",
       "      <th>4</th>\n",
       "      <td>-0.009459</td>\n",
       "      <td>-1.459659</td>\n",
       "      <td>-1.549424</td>\n",
       "      <td>-1.413146</td>\n",
       "      <td>-1.451759</td>\n",
       "      <td>-1.485528</td>\n",
       "    </tr>\n",
       "    <tr>\n",
       "      <th>...</th>\n",
       "      <td>...</td>\n",
       "      <td>...</td>\n",
       "      <td>...</td>\n",
       "      <td>...</td>\n",
       "      <td>...</td>\n",
       "      <td>...</td>\n",
       "    </tr>\n",
       "    <tr>\n",
       "      <th>4172</th>\n",
       "      <td>-1.307935</td>\n",
       "      <td>0.345636</td>\n",
       "      <td>0.666117</td>\n",
       "      <td>0.241948</td>\n",
       "      <td>0.639623</td>\n",
       "      <td>0.193008</td>\n",
       "    </tr>\n",
       "    <tr>\n",
       "      <th>4173</th>\n",
       "      <td>1.127072</td>\n",
       "      <td>0.230611</td>\n",
       "      <td>-0.064823</td>\n",
       "      <td>0.395706</td>\n",
       "      <td>0.433568</td>\n",
       "      <td>0.275215</td>\n",
       "    </tr>\n",
       "    <tr>\n",
       "      <th>4174</th>\n",
       "      <td>1.127072</td>\n",
       "      <td>0.645191</td>\n",
       "      <td>1.565082</td>\n",
       "      <td>0.777944</td>\n",
       "      <td>1.015607</td>\n",
       "      <td>0.598398</td>\n",
       "    </tr>\n",
       "    <tr>\n",
       "      <th>4175</th>\n",
       "      <td>-1.307935</td>\n",
       "      <td>0.769928</td>\n",
       "      <td>0.307083</td>\n",
       "      <td>0.633874</td>\n",
       "      <td>0.815184</td>\n",
       "      <td>0.519145</td>\n",
       "    </tr>\n",
       "    <tr>\n",
       "      <th>4176</th>\n",
       "      <td>1.127072</td>\n",
       "      <td>1.726289</td>\n",
       "      <td>1.347943</td>\n",
       "      <td>1.937323</td>\n",
       "      <td>1.611344</td>\n",
       "      <td>1.658488</td>\n",
       "    </tr>\n",
       "  </tbody>\n",
       "</table>\n",
       "<p>4177 rows × 6 columns</p>\n",
       "</div>"
      ],
      "text/plain": [
       "           Sex  Diameter    Height  Whole weight  Viscera weight  Shell weight\n",
       "0     1.127072 -0.549860 -1.124512     -0.576766       -0.693283     -0.587809\n",
       "1     1.127072 -1.387333 -1.264396     -1.351761       -1.332953     -1.332420\n",
       "2    -1.307935  0.008537 -0.064823     -0.198099       -0.255135     -0.098262\n",
       "3     1.127072 -0.549860 -0.320227     -0.571893       -0.547782     -0.544931\n",
       "4    -0.009459 -1.459659 -1.549424     -1.413146       -1.451759     -1.485528\n",
       "...        ...       ...       ...           ...             ...           ...\n",
       "4172 -1.307935  0.345636  0.666117      0.241948        0.639623      0.193008\n",
       "4173  1.127072  0.230611 -0.064823      0.395706        0.433568      0.275215\n",
       "4174  1.127072  0.645191  1.565082      0.777944        1.015607      0.598398\n",
       "4175 -1.307935  0.769928  0.307083      0.633874        0.815184      0.519145\n",
       "4176  1.127072  1.726289  1.347943      1.937323        1.611344      1.658488\n",
       "\n",
       "[4177 rows x 6 columns]"
      ]
     },
     "execution_count": 35,
     "metadata": {},
     "output_type": "execute_result"
    }
   ],
   "source": [
    "df1=pd.DataFrame(df1_new, columns= df1.columns)\n",
    "df1"
   ]
  },
  {
   "cell_type": "code",
   "execution_count": 36,
   "id": "deaa4559",
   "metadata": {},
   "outputs": [
    {
     "data": {
      "text/plain": [
       "Viscera weight    0.039780\n",
       "Shell weight      0.023390\n",
       "Whole weight     -0.003980\n",
       "Diameter         -0.065977\n",
       "Height           -0.115483\n",
       "Sex              -0.176442\n",
       "dtype: float64"
      ]
     },
     "execution_count": 36,
     "metadata": {},
     "output_type": "execute_result"
    }
   ],
   "source": [
    "df1.skew().sort_values(ascending=False)"
   ]
  },
  {
   "cell_type": "code",
   "execution_count": 37,
   "id": "5b302331",
   "metadata": {},
   "outputs": [
    {
     "data": {
      "text/plain": [
       "Sex              -0.176442\n",
       "Diameter         -0.065977\n",
       "Height           -0.115483\n",
       "Whole weight     -0.003980\n",
       "Viscera weight    0.039780\n",
       "Shell weight      0.023390\n",
       "dtype: float64"
      ]
     },
     "execution_count": 37,
     "metadata": {},
     "output_type": "execute_result"
    }
   ],
   "source": [
    "sk=df1.skew()\n",
    "sk"
   ]
  },
  {
   "cell_type": "code",
   "execution_count": 38,
   "id": "d5c8802a",
   "metadata": {},
   "outputs": [
    {
     "data": {
      "text/plain": [
       "True"
      ]
     },
     "execution_count": 38,
     "metadata": {},
     "output_type": "execute_result"
    }
   ],
   "source": [
    "df1.skew()[np.abs(df1.skew())<0.25].all()"
   ]
  },
  {
   "cell_type": "markdown",
   "id": "b31b7519",
   "metadata": {},
   "source": [
    "# Checking For Outliers"
   ]
  },
  {
   "cell_type": "code",
   "execution_count": 39,
   "id": "be05f727",
   "metadata": {},
   "outputs": [
    {
     "data": {
      "image/png": "[encoded data removed]",
      "text/plain": [
       "<Figure size 1080x576 with 1 Axes>"
      ]
     },
     "metadata": {
      "needs_background": "light"
     },
     "output_type": "display_data"
    }
   ],
   "source": [
    "df.boxplot(figsize=(15,8))\n",
    "plt.subplots_adjust(bottom=0.25)\n",
    "plt.show()"
   ]
  },
  {
   "cell_type": "markdown",
   "id": "d3125a8d",
   "metadata": {},
   "source": [
    "Some outliers are present in Diameter, Height and Shell weight. So we will remove the outliers"
   ]
  },
  {
   "cell_type": "code",
   "execution_count": 40,
   "id": "d862a399",
   "metadata": {},
   "outputs": [
    {
     "data": {
      "text/plain": [
       "array([[1.15198011, 0.43214879, 1.06442415, ..., 0.72621157, 0.63821689,\n",
       "        1.57154357],\n",
       "       [1.15198011, 1.439929  , 1.18397831, ..., 1.20522124, 1.21298732,\n",
       "        0.91001299],\n",
       "       [1.28068972, 0.12213032, 0.10799087, ..., 0.35668983, 0.20713907,\n",
       "        0.28962385],\n",
       "       ...,\n",
       "       [1.15198011, 0.67640943, 1.56576738, ..., 0.97541324, 0.49695471,\n",
       "        0.28962385],\n",
       "       [1.28068972, 0.77718745, 0.25067161, ..., 0.73362741, 0.41073914,\n",
       "        0.02057072],\n",
       "       [1.15198011, 1.48263359, 1.32665906, ..., 1.78744868, 1.84048058,\n",
       "        0.64095986]])"
      ]
     },
     "execution_count": 40,
     "metadata": {},
     "output_type": "execute_result"
    }
   ],
   "source": [
    "from scipy.stats import zscore\n",
    "z=np.abs(zscore(df))\n",
    "z"
   ]
  },
  {
   "cell_type": "code",
   "execution_count": 41,
   "id": "02718c73",
   "metadata": {},
   "outputs": [
    {
     "name": "stdout",
     "output_type": "stream",
     "text": [
      "(array([   6,   72,   81,   83,  129,  163,  164,  165,  165,  166,  166,\n",
      "        167,  168,  170,  181,  232,  236,  236,  237,  238,  270,  275,\n",
      "        277,  278,  294,  310,  313,  314,  334,  351,  355,  358,  358,\n",
      "        362,  375,  416,  417,  428,  431,  433,  469,  478,  480,  501,\n",
      "        526,  530,  572,  628,  673,  674,  675,  678,  694,  696,  719,\n",
      "        720,  744,  754,  756,  811,  891,  891, 1048, 1051, 1052, 1204,\n",
      "       1206, 1207, 1207, 1207, 1209, 1257, 1417, 1422, 1427, 1427, 1428,\n",
      "       1429, 1757, 1759, 1762, 1762, 1763, 1763, 1987, 2051, 2090, 2108,\n",
      "       2108, 2114, 2157, 2161, 2176, 2180, 2199, 2201, 2208, 2209, 2274,\n",
      "       2275, 2305, 2334, 2334, 2334, 2335, 2344, 2358, 2368, 2436, 2459,\n",
      "       2471, 2623, 2624, 2624, 2709, 2710, 2810, 2811, 2811, 2863, 2863,\n",
      "       3008, 3140, 3148, 3149, 3149, 3151, 3151, 3188, 3193, 3280, 3359,\n",
      "       3427, 3427, 3599, 3628, 3715, 3715, 3715, 3800, 3837, 3899, 3924,\n",
      "       3930, 3944, 3996, 4145, 4148], dtype=int64), array([6, 6, 5, 6, 5, 5, 5, 3, 5, 5, 6, 6, 5, 4, 6, 6, 1, 2, 1, 1, 6, 6,\n",
      "       5, 6, 6, 6, 6, 6, 5, 6, 6, 3, 5, 6, 6, 6, 6, 6, 6, 6, 6, 6, 6, 6,\n",
      "       1, 6, 6, 6, 6, 6, 6, 6, 1, 1, 1, 1, 6, 6, 6, 6, 3, 5, 4, 3, 3, 4,\n",
      "       4, 3, 4, 5, 3, 2, 2, 4, 3, 4, 5, 1, 4, 4, 3, 4, 3, 4, 1, 2, 5, 5,\n",
      "       6, 1, 5, 5, 6, 6, 6, 6, 5, 6, 5, 6, 6, 3, 4, 6, 6, 6, 6, 5, 6, 6,\n",
      "       6, 3, 3, 4, 4, 4, 4, 3, 4, 3, 4, 5, 6, 5, 5, 6, 5, 6, 5, 6, 6, 6,\n",
      "       3, 4, 3, 4, 3, 4, 5, 3, 1, 1, 6, 6, 6, 2, 5, 4], dtype=int64))\n"
     ]
    }
   ],
   "source": [
    "# threshold for zscore is 3........., zscore greater than 3 is outliers\n",
    "threshold =3\n",
    "print(np.where(z>3))"
   ]
  },
  {
   "cell_type": "code",
   "execution_count": 42,
   "id": "426ad716",
   "metadata": {},
   "outputs": [
    {
     "data": {
      "text/plain": [
       "5.504642062399616"
      ]
     },
     "execution_count": 42,
     "metadata": {},
     "output_type": "execute_result"
    }
   ],
   "source": [
    "z[163][5]"
   ]
  },
  {
   "cell_type": "code",
   "execution_count": 43,
   "id": "9d418bda",
   "metadata": {},
   "outputs": [],
   "source": [
    "df_new= df[(z<3).all(axis=1)]"
   ]
  },
  {
   "cell_type": "code",
   "execution_count": 44,
   "id": "8601aada",
   "metadata": {},
   "outputs": [
    {
     "data": {
      "text/plain": [
       "(4177, 7)"
      ]
     },
     "execution_count": 44,
     "metadata": {},
     "output_type": "execute_result"
    }
   ],
   "source": [
    "df.shape"
   ]
  },
  {
   "cell_type": "code",
   "execution_count": 45,
   "id": "cdbe394e",
   "metadata": {},
   "outputs": [
    {
     "data": {
      "text/plain": [
       "(4050, 7)"
      ]
     },
     "execution_count": 45,
     "metadata": {},
     "output_type": "execute_result"
    }
   ],
   "source": [
    "df_new.shape"
   ]
  },
  {
   "cell_type": "markdown",
   "id": "a205398d",
   "metadata": {},
   "source": [
    "Percentage loss"
   ]
  },
  {
   "cell_type": "code",
   "execution_count": 46,
   "id": "2f68e919",
   "metadata": {},
   "outputs": [
    {
     "data": {
      "text/plain": [
       "3.040459660043093"
      ]
     },
     "execution_count": 46,
     "metadata": {},
     "output_type": "execute_result"
    }
   ],
   "source": [
    "loss_percent= (4177-4050)/ 4177*100\n",
    "loss_percent"
   ]
  },
  {
   "cell_type": "markdown",
   "id": "a43f98f4",
   "metadata": {},
   "source": [
    "Very less percent of the data is lost from outliers removal"
   ]
  },
  {
   "cell_type": "code",
   "execution_count": 64,
   "id": "89b27464",
   "metadata": {},
   "outputs": [
    {
     "data": {
      "text/html": [
       "<div>\n",
       "<style scoped>\n",
       "    .dataframe tbody tr th:only-of-type {\n",
       "        vertical-align: middle;\n",
       "    }\n",
       "\n",
       "    .dataframe tbody tr th {\n",
       "        vertical-align: top;\n",
       "    }\n",
       "\n",
       "    .dataframe thead th {\n",
       "        text-align: right;\n",
       "    }\n",
       "</style>\n",
       "<table border=\"1\" class=\"dataframe\">\n",
       "  <thead>\n",
       "    <tr style=\"text-align: right;\">\n",
       "      <th></th>\n",
       "      <th>Sex</th>\n",
       "      <th>Diameter</th>\n",
       "      <th>Height</th>\n",
       "      <th>Whole weight</th>\n",
       "      <th>Viscera weight</th>\n",
       "      <th>Shell weight</th>\n",
       "    </tr>\n",
       "  </thead>\n",
       "  <tbody>\n",
       "    <tr>\n",
       "      <th>0</th>\n",
       "      <td>2</td>\n",
       "      <td>0.365</td>\n",
       "      <td>0.095</td>\n",
       "      <td>0.5140</td>\n",
       "      <td>0.1010</td>\n",
       "      <td>0.1500</td>\n",
       "    </tr>\n",
       "    <tr>\n",
       "      <th>1</th>\n",
       "      <td>2</td>\n",
       "      <td>0.265</td>\n",
       "      <td>0.090</td>\n",
       "      <td>0.2255</td>\n",
       "      <td>0.0485</td>\n",
       "      <td>0.0700</td>\n",
       "    </tr>\n",
       "    <tr>\n",
       "      <th>2</th>\n",
       "      <td>0</td>\n",
       "      <td>0.420</td>\n",
       "      <td>0.135</td>\n",
       "      <td>0.6770</td>\n",
       "      <td>0.1415</td>\n",
       "      <td>0.2100</td>\n",
       "    </tr>\n",
       "    <tr>\n",
       "      <th>3</th>\n",
       "      <td>2</td>\n",
       "      <td>0.365</td>\n",
       "      <td>0.125</td>\n",
       "      <td>0.5160</td>\n",
       "      <td>0.1140</td>\n",
       "      <td>0.1550</td>\n",
       "    </tr>\n",
       "    <tr>\n",
       "      <th>4</th>\n",
       "      <td>1</td>\n",
       "      <td>0.255</td>\n",
       "      <td>0.080</td>\n",
       "      <td>0.2050</td>\n",
       "      <td>0.0395</td>\n",
       "      <td>0.0550</td>\n",
       "    </tr>\n",
       "    <tr>\n",
       "      <th>...</th>\n",
       "      <td>...</td>\n",
       "      <td>...</td>\n",
       "      <td>...</td>\n",
       "      <td>...</td>\n",
       "      <td>...</td>\n",
       "      <td>...</td>\n",
       "    </tr>\n",
       "    <tr>\n",
       "      <th>4172</th>\n",
       "      <td>0</td>\n",
       "      <td>0.450</td>\n",
       "      <td>0.165</td>\n",
       "      <td>0.8870</td>\n",
       "      <td>0.2390</td>\n",
       "      <td>0.2490</td>\n",
       "    </tr>\n",
       "    <tr>\n",
       "      <th>4173</th>\n",
       "      <td>2</td>\n",
       "      <td>0.440</td>\n",
       "      <td>0.135</td>\n",
       "      <td>0.9660</td>\n",
       "      <td>0.2145</td>\n",
       "      <td>0.2605</td>\n",
       "    </tr>\n",
       "    <tr>\n",
       "      <th>4174</th>\n",
       "      <td>2</td>\n",
       "      <td>0.475</td>\n",
       "      <td>0.205</td>\n",
       "      <td>1.1760</td>\n",
       "      <td>0.2875</td>\n",
       "      <td>0.3080</td>\n",
       "    </tr>\n",
       "    <tr>\n",
       "      <th>4175</th>\n",
       "      <td>0</td>\n",
       "      <td>0.485</td>\n",
       "      <td>0.150</td>\n",
       "      <td>1.0945</td>\n",
       "      <td>0.2610</td>\n",
       "      <td>0.2960</td>\n",
       "    </tr>\n",
       "    <tr>\n",
       "      <th>4176</th>\n",
       "      <td>2</td>\n",
       "      <td>0.555</td>\n",
       "      <td>0.195</td>\n",
       "      <td>1.9485</td>\n",
       "      <td>0.3765</td>\n",
       "      <td>0.4950</td>\n",
       "    </tr>\n",
       "  </tbody>\n",
       "</table>\n",
       "<p>4050 rows × 6 columns</p>\n",
       "</div>"
      ],
      "text/plain": [
       "      Sex  Diameter  Height  Whole weight  Viscera weight  Shell weight\n",
       "0       2     0.365   0.095        0.5140          0.1010        0.1500\n",
       "1       2     0.265   0.090        0.2255          0.0485        0.0700\n",
       "2       0     0.420   0.135        0.6770          0.1415        0.2100\n",
       "3       2     0.365   0.125        0.5160          0.1140        0.1550\n",
       "4       1     0.255   0.080        0.2050          0.0395        0.0550\n",
       "...   ...       ...     ...           ...             ...           ...\n",
       "4172    0     0.450   0.165        0.8870          0.2390        0.2490\n",
       "4173    2     0.440   0.135        0.9660          0.2145        0.2605\n",
       "4174    2     0.475   0.205        1.1760          0.2875        0.3080\n",
       "4175    0     0.485   0.150        1.0945          0.2610        0.2960\n",
       "4176    2     0.555   0.195        1.9485          0.3765        0.4950\n",
       "\n",
       "[4050 rows x 6 columns]"
      ]
     },
     "execution_count": 64,
     "metadata": {},
     "output_type": "execute_result"
    }
   ],
   "source": [
    "x= df_new.iloc[:,0:-1]\n",
    "x"
   ]
  },
  {
   "cell_type": "code",
   "execution_count": 65,
   "id": "2a6ee11d",
   "metadata": {},
   "outputs": [
    {
     "data": {
      "text/plain": [
       "0       15\n",
       "1        7\n",
       "2        9\n",
       "3       10\n",
       "4        7\n",
       "        ..\n",
       "4172    11\n",
       "4173    10\n",
       "4174     9\n",
       "4175    10\n",
       "4176    12\n",
       "Name: Rings, Length: 4050, dtype: int64"
      ]
     },
     "execution_count": 65,
     "metadata": {},
     "output_type": "execute_result"
    }
   ],
   "source": [
    "y=df_new.iloc[:,-1]\n",
    "y"
   ]
  },
  {
   "cell_type": "code",
   "execution_count": 66,
   "id": "1baee078",
   "metadata": {},
   "outputs": [
    {
     "data": {
      "text/plain": [
       "(4050, 6)"
      ]
     },
     "execution_count": 66,
     "metadata": {},
     "output_type": "execute_result"
    }
   ],
   "source": [
    "x.shape"
   ]
  },
  {
   "cell_type": "code",
   "execution_count": 67,
   "id": "9c141301",
   "metadata": {},
   "outputs": [
    {
     "data": {
      "text/plain": [
       "(4050,)"
      ]
     },
     "execution_count": 67,
     "metadata": {},
     "output_type": "execute_result"
    }
   ],
   "source": [
    "y.shape"
   ]
  },
  {
   "cell_type": "markdown",
   "id": "7d5d7448",
   "metadata": {},
   "source": [
    "Since the Target variable is categorical with more than 2 classes, we use classification models to train our data"
   ]
  },
  {
   "cell_type": "markdown",
   "id": "df19d0bb",
   "metadata": {},
   "source": [
    "# Training the Model"
   ]
  },
  {
   "cell_type": "code",
   "execution_count": 68,
   "id": "884538e3",
   "metadata": {},
   "outputs": [],
   "source": [
    "from sklearn.naive_bayes import MultinomialNB\n",
    "from sklearn.tree import DecisionTreeClassifier\n",
    "from sklearn.ensemble import RandomForestClassifier\n",
    "from sklearn.svm import SVC\n",
    "from sklearn.neighbors import KNeighborsClassifier\n",
    "from sklearn.metrics import accuracy_score, confusion_matrix, classification_report\n",
    "from sklearn.model_selection import train_test_split"
   ]
  },
  {
   "cell_type": "markdown",
   "id": "021e1117",
   "metadata": {},
   "source": [
    "# TO Find Best Random State"
   ]
  },
  {
   "cell_type": "markdown",
   "id": "ac5119aa",
   "metadata": {},
   "source": [
    "MultinomialNB"
   ]
  },
  {
   "cell_type": "code",
   "execution_count": 69,
   "id": "82cb5094",
   "metadata": {},
   "outputs": [
    {
     "name": "stdout",
     "output_type": "stream",
     "text": [
      "Best Accuracy_score is 0.4 on Random_state 29\n"
     ]
    }
   ],
   "source": [
    "maxAcc=0\n",
    "maxRS=0\n",
    "\n",
    "for i in range(1,200):\n",
    "    xtrain,xtest,ytrain,ytest= train_test_split(x,y,test_size=20,random_state=i)\n",
    "    mnb=MultinomialNB()\n",
    "    mnb.fit(xtrain,ytrain)\n",
    "    predmnb= mnb.predict(xtest)\n",
    "    acc= accuracy_score(ytest,predmnb)\n",
    "    if acc>maxAcc:\n",
    "        maxAcc=acc\n",
    "        maxRS=i\n",
    "print(\"Best Accuracy_score is\", maxAcc, 'on Random_state',maxRS)"
   ]
  },
  {
   "cell_type": "markdown",
   "id": "8ca14b16",
   "metadata": {},
   "source": [
    "DecisionTreeClassifier"
   ]
  },
  {
   "cell_type": "code",
   "execution_count": 70,
   "id": "d1bf14c7",
   "metadata": {},
   "outputs": [
    {
     "name": "stdout",
     "output_type": "stream",
     "text": [
      "Best Accuracy_score is 0.5 on Random_state 153\n"
     ]
    }
   ],
   "source": [
    "maxAcc=0\n",
    "maxRS=0\n",
    "\n",
    "for i in range(1,200):\n",
    "    xtrain,xtest,ytrain,ytest= train_test_split(x,y,test_size=20,random_state=i)\n",
    "    dtc=DecisionTreeClassifier()\n",
    "    dtc.fit(xtrain,ytrain)\n",
    "    preddtc= dtc.predict(xtest)\n",
    "    acc= accuracy_score(ytest,preddtc)\n",
    "    if acc>maxAcc:\n",
    "        maxAcc=acc\n",
    "        maxRS=i\n",
    "print(\"Best Accuracy_score is\", maxAcc, 'on Random_state',maxRS)"
   ]
  },
  {
   "cell_type": "markdown",
   "id": "17c998d4",
   "metadata": {},
   "source": [
    "RandomForestClassifier"
   ]
  },
  {
   "cell_type": "code",
   "execution_count": 71,
   "id": "441f4df9",
   "metadata": {},
   "outputs": [
    {
     "name": "stdout",
     "output_type": "stream",
     "text": [
      "Best Accuracy_score is 0.5 on Random_state 4\n"
     ]
    }
   ],
   "source": [
    "maxAcc=0\n",
    "maxRS=0\n",
    "\n",
    "for i in range(1,100):\n",
    "    xtrain,xtest,ytrain,ytest= train_test_split(x,y,test_size=20,random_state=i)\n",
    "    rf=RandomForestClassifier()\n",
    "    rf.fit(xtrain,ytrain)\n",
    "    predrf=rf.predict(xtest)\n",
    "    acc= accuracy_score(ytest,predrf)\n",
    "    if acc>maxAcc:\n",
    "        maxAcc=acc\n",
    "        maxRS=i\n",
    "print(\"Best Accuracy_score is\", maxAcc, 'on Random_state',maxRS)"
   ]
  },
  {
   "cell_type": "markdown",
   "id": "edbf5c10",
   "metadata": {},
   "source": [
    "SVC"
   ]
  },
  {
   "cell_type": "code",
   "execution_count": 146,
   "id": "3670ec45",
   "metadata": {},
   "outputs": [
    {
     "name": "stdout",
     "output_type": "stream",
     "text": [
      "Best Accuracy_score is 0.5 on Random_state 28\n"
     ]
    }
   ],
   "source": [
    "maxAcc=0\n",
    "maxRS=0\n",
    "\n",
    "for i in range(1,100):\n",
    "    xtrain,xtest,ytrain,ytest= train_test_split(x,y,test_size=20,random_state=i)\n",
    "    svc=SVC(kernel='linear')\n",
    "    svc.fit(xtrain,ytrain)\n",
    "    predsvc= svc.predict(xtest)\n",
    "    acc= accuracy_score(ytest,predsvc)\n",
    "    if acc>maxAcc:\n",
    "        maxAcc=acc\n",
    "        maxRS=i\n",
    "print(\"Best Accuracy_score is\", maxAcc, 'on Random_state',maxRS)"
   ]
  },
  {
   "cell_type": "markdown",
   "id": "c2ef74a6",
   "metadata": {},
   "source": [
    "KNeighborsClassifier"
   ]
  },
  {
   "cell_type": "code",
   "execution_count": 73,
   "id": "296baca6",
   "metadata": {},
   "outputs": [
    {
     "name": "stdout",
     "output_type": "stream",
     "text": [
      "Best Accuracy_score is 0.5 on Random_state 28\n"
     ]
    }
   ],
   "source": [
    "maxAcc=0\n",
    "maxRS=0\n",
    "\n",
    "for i in range(1,100):\n",
    "    xtrain,xtest,ytrain,ytest= train_test_split(x,y,test_size=20,random_state=i)\n",
    "    knn=KNeighborsClassifier()\n",
    "    knn.fit(xtrain,ytrain)\n",
    "    predknn= knn.predict(xtest)\n",
    "    acc= accuracy_score(ytest,predknn)\n",
    "    if acc>maxAcc:\n",
    "        maxAcc=acc\n",
    "        maxRS=i\n",
    "print(\"Best Accuracy_score is\", maxAcc, 'on Random_state',maxRS)"
   ]
  },
  {
   "cell_type": "markdown",
   "id": "a373ab00",
   "metadata": {},
   "source": [
    "From the above results, KNeighborsClassifier, RandomForestClassifier, SVC has highest accuracy"
   ]
  },
  {
   "cell_type": "markdown",
   "id": "a40c1e72",
   "metadata": {},
   "source": [
    "Check Accuracy of each model"
   ]
  },
  {
   "cell_type": "markdown",
   "id": "38fb3845",
   "metadata": {},
   "source": [
    "KNeighborsClassifier"
   ]
  },
  {
   "cell_type": "code",
   "execution_count": 88,
   "id": "055d2af6",
   "metadata": {},
   "outputs": [
    {
     "name": "stdout",
     "output_type": "stream",
     "text": [
      "acc= 0.5\n",
      "[[0 0 0 0 0 0 0 0 0]\n",
      " [0 0 1 0 0 0 0 0 0]\n",
      " [0 1 3 0 0 0 0 0 0]\n",
      " [1 0 0 2 0 0 0 0 0]\n",
      " [0 0 0 1 1 0 1 0 0]\n",
      " [0 0 1 0 0 3 1 0 0]\n",
      " [0 0 0 1 0 0 1 0 0]\n",
      " [0 0 0 1 0 0 0 0 0]\n",
      " [0 0 0 0 0 1 0 0 0]]\n",
      "              precision    recall  f1-score   support\n",
      "\n",
      "           5       0.00      0.00      0.00         0\n",
      "           6       0.00      0.00      0.00         1\n",
      "           7       0.60      0.75      0.67         4\n",
      "           8       0.40      0.67      0.50         3\n",
      "           9       1.00      0.33      0.50         3\n",
      "          10       0.75      0.60      0.67         5\n",
      "          11       0.33      0.50      0.40         2\n",
      "          14       0.00      0.00      0.00         1\n",
      "          18       0.00      0.00      0.00         1\n",
      "\n",
      "    accuracy                           0.50        20\n",
      "   macro avg       0.34      0.32      0.30        20\n",
      "weighted avg       0.55      0.50      0.49        20\n",
      "\n"
     ]
    }
   ],
   "source": [
    "xtrain,xtest,ytrain,ytest=train_test_split(x,y,test_size=20, random_state=28)\n",
    "knn=KNeighborsClassifier()\n",
    "knn.fit(xtrain,ytrain)\n",
    "predknn= knn.predict(xtest)\n",
    "print('acc=', accuracy_score(ytest,predknn))\n",
    "print(confusion_matrix(ytest,predknn))\n",
    "print(classification_report(ytest,predknn))"
   ]
  },
  {
   "cell_type": "markdown",
   "id": "1a47e6b2",
   "metadata": {},
   "source": [
    "MultinomialNB"
   ]
  },
  {
   "cell_type": "code",
   "execution_count": 89,
   "id": "7fda2b0f",
   "metadata": {},
   "outputs": [
    {
     "name": "stdout",
     "output_type": "stream",
     "text": [
      "acc= 0.25\n",
      "[[0 0 0 1 0 0 0 0]\n",
      " [0 0 0 4 0 0 0 0]\n",
      " [0 0 0 3 0 0 0 0]\n",
      " [0 0 0 3 0 0 0 0]\n",
      " [0 0 0 3 2 0 0 0]\n",
      " [0 0 0 2 0 0 0 0]\n",
      " [0 0 0 1 0 0 0 0]\n",
      " [0 0 0 1 0 0 0 0]]\n",
      "              precision    recall  f1-score   support\n",
      "\n",
      "           6       0.00      0.00      0.00         1\n",
      "           7       0.00      0.00      0.00         4\n",
      "           8       0.00      0.00      0.00         3\n",
      "           9       0.17      1.00      0.29         3\n",
      "          10       1.00      0.40      0.57         5\n",
      "          11       0.00      0.00      0.00         2\n",
      "          14       0.00      0.00      0.00         1\n",
      "          18       0.00      0.00      0.00         1\n",
      "\n",
      "    accuracy                           0.25        20\n",
      "   macro avg       0.15      0.17      0.11        20\n",
      "weighted avg       0.28      0.25      0.19        20\n",
      "\n"
     ]
    }
   ],
   "source": [
    "xtrain,xtest,ytrain,ytest=train_test_split(x,y,test_size=20, random_state=28)\n",
    "mnb=MultinomialNB()\n",
    "mnb.fit(xtrain,ytrain)\n",
    "predmnb= mnb.predict(xtest)\n",
    "print('acc=', accuracy_score(ytest,predmnb))\n",
    "print(confusion_matrix(ytest,predmnb))\n",
    "print(classification_report(ytest,predmnb))"
   ]
  },
  {
   "cell_type": "markdown",
   "id": "44eebb63",
   "metadata": {},
   "source": [
    "DecisionTreeClassifier"
   ]
  },
  {
   "cell_type": "code",
   "execution_count": 90,
   "id": "0de6d656",
   "metadata": {},
   "outputs": [
    {
     "name": "stdout",
     "output_type": "stream",
     "text": [
      "acc= 0.15\n",
      "[[0 1 0 0 0 0 0 0 0]\n",
      " [0 2 1 0 1 0 0 0 0]\n",
      " [1 0 1 1 0 0 0 0 0]\n",
      " [0 0 3 0 0 0 0 0 0]\n",
      " [0 0 0 1 0 3 0 1 0]\n",
      " [0 0 0 0 1 0 1 0 0]\n",
      " [0 0 0 0 0 0 0 0 0]\n",
      " [0 0 0 1 0 0 0 0 0]\n",
      " [0 0 0 0 0 1 0 0 0]]\n",
      "              precision    recall  f1-score   support\n",
      "\n",
      "           6       0.00      0.00      0.00         1\n",
      "           7       0.67      0.50      0.57         4\n",
      "           8       0.20      0.33      0.25         3\n",
      "           9       0.00      0.00      0.00         3\n",
      "          10       0.00      0.00      0.00         5\n",
      "          11       0.00      0.00      0.00         2\n",
      "          12       0.00      0.00      0.00         0\n",
      "          14       0.00      0.00      0.00         1\n",
      "          18       0.00      0.00      0.00         1\n",
      "\n",
      "    accuracy                           0.15        20\n",
      "   macro avg       0.10      0.09      0.09        20\n",
      "weighted avg       0.16      0.15      0.15        20\n",
      "\n"
     ]
    }
   ],
   "source": [
    "xtrain,xtest,ytrain,ytest=train_test_split(x,y,test_size=20, random_state=28)\n",
    "dtc=DecisionTreeClassifier()\n",
    "dtc.fit(xtrain,ytrain)\n",
    "preddtc= dtc.predict(xtest)\n",
    "print('acc=', accuracy_score(ytest,preddtc))\n",
    "print(confusion_matrix(ytest,preddtc))\n",
    "print(classification_report(ytest,preddtc))"
   ]
  },
  {
   "cell_type": "markdown",
   "id": "64cd95bc",
   "metadata": {},
   "source": [
    "RandomForestClassifier"
   ]
  },
  {
   "cell_type": "code",
   "execution_count": 91,
   "id": "d086fc2c",
   "metadata": {},
   "outputs": [
    {
     "name": "stdout",
     "output_type": "stream",
     "text": [
      "acc= 0.45\n",
      "[[0 1 0 0 0 0 0 0 0]\n",
      " [0 3 1 0 0 0 0 0 0]\n",
      " [1 0 1 1 0 0 0 0 0]\n",
      " [0 0 1 2 0 0 0 0 0]\n",
      " [0 0 0 0 2 3 0 0 0]\n",
      " [0 0 1 0 0 1 0 0 0]\n",
      " [0 0 0 0 0 0 0 0 0]\n",
      " [0 0 0 0 0 0 1 0 0]\n",
      " [0 0 0 0 1 0 0 0 0]]\n",
      "              precision    recall  f1-score   support\n",
      "\n",
      "           6       0.00      0.00      0.00         1\n",
      "           7       0.75      0.75      0.75         4\n",
      "           8       0.25      0.33      0.29         3\n",
      "           9       0.67      0.67      0.67         3\n",
      "          10       0.67      0.40      0.50         5\n",
      "          11       0.25      0.50      0.33         2\n",
      "          12       0.00      0.00      0.00         0\n",
      "          14       0.00      0.00      0.00         1\n",
      "          18       0.00      0.00      0.00         1\n",
      "\n",
      "    accuracy                           0.45        20\n",
      "   macro avg       0.29      0.29      0.28        20\n",
      "weighted avg       0.48      0.45      0.45        20\n",
      "\n"
     ]
    }
   ],
   "source": [
    "xtrain,xtest,ytrain,ytest=train_test_split(x,y,test_size=20, random_state=28)\n",
    "rf=RandomForestClassifier()\n",
    "rf.fit(xtrain,ytrain)\n",
    "predrf= rf.predict(xtest)\n",
    "print('acc=', accuracy_score(ytest,predrf))\n",
    "print(confusion_matrix(ytest,predrf))\n",
    "print(classification_report(ytest,predrf))"
   ]
  },
  {
   "cell_type": "markdown",
   "id": "2c787b4e",
   "metadata": {},
   "source": [
    "SVC"
   ]
  },
  {
   "cell_type": "code",
   "execution_count": 149,
   "id": "96022e27",
   "metadata": {},
   "outputs": [
    {
     "name": "stdout",
     "output_type": "stream",
     "text": [
      "acc= 0.5\n",
      "[[1 0 0 0 0 0 0 0]\n",
      " [0 1 2 1 0 0 0 0]\n",
      " [1 0 2 0 0 0 0 0]\n",
      " [0 0 1 2 0 0 0 0]\n",
      " [0 0 0 0 3 2 0 0]\n",
      " [0 0 1 0 0 1 0 0]\n",
      " [0 0 0 1 0 0 0 0]\n",
      " [0 0 0 1 0 0 0 0]]\n",
      "              precision    recall  f1-score   support\n",
      "\n",
      "           6       0.50      1.00      0.67         1\n",
      "           7       1.00      0.25      0.40         4\n",
      "           8       0.33      0.67      0.44         3\n",
      "           9       0.40      0.67      0.50         3\n",
      "          10       1.00      0.60      0.75         5\n",
      "          11       0.33      0.50      0.40         2\n",
      "          14       0.00      0.00      0.00         1\n",
      "          18       0.00      0.00      0.00         1\n",
      "\n",
      "    accuracy                           0.50        20\n",
      "   macro avg       0.45      0.46      0.40        20\n",
      "weighted avg       0.62      0.50      0.48        20\n",
      "\n"
     ]
    }
   ],
   "source": [
    "xtrain,xtest,ytrain,ytest=train_test_split(x,y,test_size=20, random_state=28)\n",
    "svc=SVC()\n",
    "svc.fit(xtrain,ytrain)\n",
    "predsvc= svc.predict(xtest)\n",
    "print('acc=', accuracy_score(ytest,predsvc))\n",
    "print(confusion_matrix(ytest,predsvc))\n",
    "print(classification_report(ytest,predsvc))"
   ]
  },
  {
   "cell_type": "code",
   "execution_count": 92,
   "id": "126c0f6f",
   "metadata": {},
   "outputs": [
    {
     "name": "stdout",
     "output_type": "stream",
     "text": [
      "acc= 0.25\n",
      "[[0 0 0 1 0 0 0 0]\n",
      " [0 0 0 4 0 0 0 0]\n",
      " [0 0 0 3 0 0 0 0]\n",
      " [0 0 0 3 0 0 0 0]\n",
      " [0 0 0 3 2 0 0 0]\n",
      " [0 0 0 2 0 0 0 0]\n",
      " [0 0 0 1 0 0 0 0]\n",
      " [0 0 0 1 0 0 0 0]]\n",
      "              precision    recall  f1-score   support\n",
      "\n",
      "           6       0.00      0.00      0.00         1\n",
      "           7       0.00      0.00      0.00         4\n",
      "           8       0.00      0.00      0.00         3\n",
      "           9       0.17      1.00      0.29         3\n",
      "          10       1.00      0.40      0.57         5\n",
      "          11       0.00      0.00      0.00         2\n",
      "          14       0.00      0.00      0.00         1\n",
      "          18       0.00      0.00      0.00         1\n",
      "\n",
      "    accuracy                           0.25        20\n",
      "   macro avg       0.15      0.17      0.11        20\n",
      "weighted avg       0.28      0.25      0.19        20\n",
      "\n"
     ]
    }
   ],
   "source": [
    "from sklearn.ensemble import AdaBoostClassifier\n",
    "xtrain,xtest,ytrain,ytest=train_test_split(x,y,test_size=20, random_state=28)\n",
    "ad=AdaBoostClassifier()\n",
    "ad.fit(xtrain,ytrain)\n",
    "predad= mnb.predict(xtest)\n",
    "print('acc=', accuracy_score(ytest,predad))\n",
    "print(confusion_matrix(ytest,predad))\n",
    "print(classification_report(ytest,predad))"
   ]
  },
  {
   "cell_type": "code",
   "execution_count": 93,
   "id": "1853c816",
   "metadata": {},
   "outputs": [
    {
     "name": "stdout",
     "output_type": "stream",
     "text": [
      "acc= 0.25\n",
      "[[0 0 0 1 0 0 0 0]\n",
      " [0 0 0 4 0 0 0 0]\n",
      " [0 0 0 3 0 0 0 0]\n",
      " [0 0 0 3 0 0 0 0]\n",
      " [0 0 0 3 2 0 0 0]\n",
      " [0 0 0 2 0 0 0 0]\n",
      " [0 0 0 1 0 0 0 0]\n",
      " [0 0 0 1 0 0 0 0]]\n",
      "              precision    recall  f1-score   support\n",
      "\n",
      "           6       0.00      0.00      0.00         1\n",
      "           7       0.00      0.00      0.00         4\n",
      "           8       0.00      0.00      0.00         3\n",
      "           9       0.17      1.00      0.29         3\n",
      "          10       1.00      0.40      0.57         5\n",
      "          11       0.00      0.00      0.00         2\n",
      "          14       0.00      0.00      0.00         1\n",
      "          18       0.00      0.00      0.00         1\n",
      "\n",
      "    accuracy                           0.25        20\n",
      "   macro avg       0.15      0.17      0.11        20\n",
      "weighted avg       0.28      0.25      0.19        20\n",
      "\n"
     ]
    }
   ],
   "source": [
    "from sklearn.ensemble import GradientBoostingClassifier\n",
    "xtrain,xtest,ytrain,ytest=train_test_split(x,y,test_size=20, random_state=28)\n",
    "gd=GradientBoostingClassifier()\n",
    "gd.fit(xtrain,ytrain)\n",
    "predgd= gd.predict(xtest)\n",
    "print('acc=', accuracy_score(ytest,predgd))\n",
    "print(confusion_matrix(ytest,predgd))\n",
    "print(classification_report(ytest,predgd))"
   ]
  },
  {
   "cell_type": "markdown",
   "id": "1270640d",
   "metadata": {},
   "source": [
    "# Cross Validation For Each Model"
   ]
  },
  {
   "cell_type": "code",
   "execution_count": 94,
   "id": "ac1fc7fd",
   "metadata": {},
   "outputs": [],
   "source": [
    "from sklearn.model_selection import cross_val_score"
   ]
  },
  {
   "cell_type": "code",
   "execution_count": 133,
   "id": "663ac851",
   "metadata": {},
   "outputs": [
    {
     "name": "stdout",
     "output_type": "stream",
     "text": [
      "Cross Validation Score of KNeighborsClassifier is: 0.22692533276645005\n"
     ]
    }
   ],
   "source": [
    "scr=cross_val_score(knn, x,y, cv=7)\n",
    "print('Cross Validation Score of KNeighborsClassifier is:', scr.mean())"
   ]
  },
  {
   "cell_type": "code",
   "execution_count": 134,
   "id": "187ba1d5",
   "metadata": {},
   "outputs": [
    {
     "name": "stdout",
     "output_type": "stream",
     "text": [
      "Cross Validation Score of MultinomialNB is: 0.16962231402771413\n"
     ]
    }
   ],
   "source": [
    "scr1=cross_val_score(mnb, x,y, cv=7)\n",
    "print('Cross Validation Score of MultinomialNB is:', scr1.mean())"
   ]
  },
  {
   "cell_type": "code",
   "execution_count": 135,
   "id": "0d0e1bfb",
   "metadata": {},
   "outputs": [
    {
     "name": "stdout",
     "output_type": "stream",
     "text": [
      "Cross Validation Score of RandomForestClassifier is: 0.23161748698260162\n"
     ]
    }
   ],
   "source": [
    "scr2=cross_val_score(rf, x,y, cv=7)\n",
    "print('Cross Validation Score of RandomForestClassifier is:', scr2.mean())"
   ]
  },
  {
   "cell_type": "code",
   "execution_count": 136,
   "id": "dceff892",
   "metadata": {},
   "outputs": [
    {
     "name": "stdout",
     "output_type": "stream",
     "text": [
      "Cross Validation Score of DecisionTreeClassifier is: 0.1861857208595111\n"
     ]
    }
   ],
   "source": [
    "scr3=cross_val_score(dtc, x,y, cv=7)\n",
    "print('Cross Validation Score of DecisionTreeClassifier is:', scr3.mean())"
   ]
  },
  {
   "cell_type": "code",
   "execution_count": 137,
   "id": "a48762c4",
   "metadata": {},
   "outputs": [
    {
     "name": "stdout",
     "output_type": "stream",
     "text": [
      "Cross Validation Score of SupportVectorClassifier is: 0.25185923195855603\n"
     ]
    }
   ],
   "source": [
    "scr4=cross_val_score(svc, x,y, cv=7)\n",
    "print('Cross Validation Score of SupportVectorClassifier is:', scr4.mean())"
   ]
  },
  {
   "cell_type": "code",
   "execution_count": 138,
   "id": "f3f87f3f",
   "metadata": {},
   "outputs": [
    {
     "name": "stdout",
     "output_type": "stream",
     "text": [
      "Cross Validation Score of AdaBoostClassifier is: 0.15852369597640945\n"
     ]
    }
   ],
   "source": [
    "scr5=cross_val_score(ad, x,y, cv=7)\n",
    "print('Cross Validation Score of AdaBoostClassifier is:', scr5.mean())"
   ]
  },
  {
   "cell_type": "code",
   "execution_count": 139,
   "id": "d32e66b3",
   "metadata": {},
   "outputs": [
    {
     "name": "stdout",
     "output_type": "stream",
     "text": [
      "Cross Validation Score of GradientBoostingClassifier is: 0.25062984657441156\n"
     ]
    }
   ],
   "source": [
    "scr6=cross_val_score(gd, x,y, cv=7)\n",
    "print('Cross Validation Score of GradientBoostingClassifier is:', scr6.mean())"
   ]
  },
  {
   "cell_type": "markdown",
   "id": "96a17bc8",
   "metadata": {},
   "source": [
    "From the above validation SVC performs better than the other models"
   ]
  },
  {
   "cell_type": "markdown",
   "id": "30df8c88",
   "metadata": {},
   "source": [
    "# GridSearchCV"
   ]
  },
  {
   "cell_type": "code",
   "execution_count": 140,
   "id": "10523b0b",
   "metadata": {},
   "outputs": [
    {
     "data": {
      "text/plain": [
       "SVC()"
      ]
     },
     "execution_count": 140,
     "metadata": {},
     "output_type": "execute_result"
    }
   ],
   "source": [
    "SVC()"
   ]
  },
  {
   "cell_type": "code",
   "execution_count": 141,
   "id": "801b2726",
   "metadata": {},
   "outputs": [],
   "source": [
    "from sklearn.model_selection import GridSearchCV"
   ]
  },
  {
   "cell_type": "code",
   "execution_count": 144,
   "id": "49b7a753",
   "metadata": {},
   "outputs": [],
   "source": [
    "parameters={'gamma': ['scale', 'auto'],\n",
    "            'decision_function_shape': ['ovo', 'ovr'],\n",
    "            'kernel':['linear', 'poly', 'rbf']}"
   ]
  },
  {
   "cell_type": "code",
   "execution_count": 145,
   "id": "cd1c0a4d",
   "metadata": {},
   "outputs": [
    {
     "data": {
      "text/plain": [
       "{'decision_function_shape': 'ovo', 'gamma': 'scale', 'kernel': 'linear'}"
      ]
     },
     "execution_count": 145,
     "metadata": {},
     "output_type": "execute_result"
    }
   ],
   "source": [
    "GCV=GridSearchCV(SVC(), parameters, cv=7, scoring='accuracy')\n",
    "GCV.fit(xtrain,ytrain)\n",
    "GCV.best_params_"
   ]
  },
  {
   "cell_type": "code",
   "execution_count": 147,
   "id": "6b3ac726",
   "metadata": {},
   "outputs": [
    {
     "data": {
      "text/plain": [
       "SVC(decision_function_shape='ovo', kernel='linear')"
      ]
     },
     "execution_count": 147,
     "metadata": {},
     "output_type": "execute_result"
    }
   ],
   "source": [
    "GCV.best_estimator_"
   ]
  },
  {
   "cell_type": "code",
   "execution_count": 148,
   "id": "330d824b",
   "metadata": {},
   "outputs": [
    {
     "data": {
      "text/plain": [
       "0.25"
      ]
     },
     "execution_count": 148,
     "metadata": {},
     "output_type": "execute_result"
    }
   ],
   "source": [
    "GCV_pred=GCV.best_estimator_.predict(xtest)\n",
    "accuracy_score(ytest,GCV_pred)"
   ]
  },
  {
   "cell_type": "markdown",
   "id": "c99a4bdc",
   "metadata": {},
   "source": [
    "RandomForestClassifier"
   ]
  },
  {
   "cell_type": "code",
   "execution_count": null,
   "id": "536a6beb",
   "metadata": {},
   "outputs": [],
   "source": [
    "RandomForestClassifier()"
   ]
  },
  {
   "cell_type": "code",
   "execution_count": 150,
   "id": "4ab41a98",
   "metadata": {},
   "outputs": [],
   "source": [
    "parameters={'max_features': [\"auto\", \"sqrt\", \"log2\"],\n",
    "            'max_depth': [4,5,6,7,8],\n",
    "            'criterion':[\"gini\", \"entropy\"]}"
   ]
  },
  {
   "cell_type": "code",
   "execution_count": 151,
   "id": "603f0752",
   "metadata": {},
   "outputs": [
    {
     "data": {
      "text/plain": [
       "{'criterion': 'entropy', 'max_depth': 4, 'max_features': 'auto'}"
      ]
     },
     "execution_count": 151,
     "metadata": {},
     "output_type": "execute_result"
    }
   ],
   "source": [
    "GCV=GridSearchCV(RandomForestClassifier(), parameters, cv=7, scoring='accuracy')\n",
    "GCV.fit(xtrain,ytrain)\n",
    "GCV.best_params_"
   ]
  },
  {
   "cell_type": "code",
   "execution_count": 152,
   "id": "0829e078",
   "metadata": {},
   "outputs": [
    {
     "data": {
      "text/plain": [
       "RandomForestClassifier(criterion='entropy', max_depth=4)"
      ]
     },
     "execution_count": 152,
     "metadata": {},
     "output_type": "execute_result"
    }
   ],
   "source": [
    "GCV.best_estimator_"
   ]
  },
  {
   "cell_type": "code",
   "execution_count": 153,
   "id": "6b1eb9bb",
   "metadata": {},
   "outputs": [
    {
     "data": {
      "text/plain": [
       "0.35"
      ]
     },
     "execution_count": 153,
     "metadata": {},
     "output_type": "execute_result"
    }
   ],
   "source": [
    "GCV_pred=GCV.best_estimator_.predict(xtest)\n",
    "accuracy_score(ytest,GCV_pred)"
   ]
  },
  {
   "cell_type": "markdown",
   "id": "2559a679",
   "metadata": {},
   "source": [
    "GridSearchCV has given an improved accuracy to the model."
   ]
  },
  {
   "cell_type": "markdown",
   "id": "27af31cf",
   "metadata": {},
   "source": [
    "# Model Saving"
   ]
  },
  {
   "cell_type": "code",
   "execution_count": 155,
   "id": "9a20482f",
   "metadata": {},
   "outputs": [],
   "source": [
    "import pickle\n",
    "filename= 'Abalone.pkl'\n",
    "pickle.dump(GCV.best_estimator_,open(filename, 'wb'))"
   ]
  },
  {
   "cell_type": "code",
   "execution_count": 156,
   "id": "cb7d941f",
   "metadata": {},
   "outputs": [
    {
     "data": {
      "text/html": [
       "<div>\n",
       "<style scoped>\n",
       "    .dataframe tbody tr th:only-of-type {\n",
       "        vertical-align: middle;\n",
       "    }\n",
       "\n",
       "    .dataframe tbody tr th {\n",
       "        vertical-align: top;\n",
       "    }\n",
       "\n",
       "    .dataframe thead th {\n",
       "        text-align: right;\n",
       "    }\n",
       "</style>\n",
       "<table border=\"1\" class=\"dataframe\">\n",
       "  <thead>\n",
       "    <tr style=\"text-align: right;\">\n",
       "      <th></th>\n",
       "      <th>original</th>\n",
       "      <th>Predicted</th>\n",
       "    </tr>\n",
       "  </thead>\n",
       "  <tbody>\n",
       "    <tr>\n",
       "      <th>0</th>\n",
       "      <td>8</td>\n",
       "      <td>8</td>\n",
       "    </tr>\n",
       "    <tr>\n",
       "      <th>1</th>\n",
       "      <td>8</td>\n",
       "      <td>8</td>\n",
       "    </tr>\n",
       "    <tr>\n",
       "      <th>2</th>\n",
       "      <td>9</td>\n",
       "      <td>9</td>\n",
       "    </tr>\n",
       "    <tr>\n",
       "      <th>3</th>\n",
       "      <td>10</td>\n",
       "      <td>11</td>\n",
       "    </tr>\n",
       "    <tr>\n",
       "      <th>4</th>\n",
       "      <td>18</td>\n",
       "      <td>9</td>\n",
       "    </tr>\n",
       "    <tr>\n",
       "      <th>5</th>\n",
       "      <td>11</td>\n",
       "      <td>9</td>\n",
       "    </tr>\n",
       "    <tr>\n",
       "      <th>6</th>\n",
       "      <td>14</td>\n",
       "      <td>8</td>\n",
       "    </tr>\n",
       "    <tr>\n",
       "      <th>7</th>\n",
       "      <td>10</td>\n",
       "      <td>10</td>\n",
       "    </tr>\n",
       "    <tr>\n",
       "      <th>8</th>\n",
       "      <td>10</td>\n",
       "      <td>11</td>\n",
       "    </tr>\n",
       "    <tr>\n",
       "      <th>9</th>\n",
       "      <td>10</td>\n",
       "      <td>11</td>\n",
       "    </tr>\n",
       "    <tr>\n",
       "      <th>10</th>\n",
       "      <td>11</td>\n",
       "      <td>11</td>\n",
       "    </tr>\n",
       "    <tr>\n",
       "      <th>11</th>\n",
       "      <td>9</td>\n",
       "      <td>8</td>\n",
       "    </tr>\n",
       "    <tr>\n",
       "      <th>12</th>\n",
       "      <td>10</td>\n",
       "      <td>11</td>\n",
       "    </tr>\n",
       "    <tr>\n",
       "      <th>13</th>\n",
       "      <td>9</td>\n",
       "      <td>9</td>\n",
       "    </tr>\n",
       "    <tr>\n",
       "      <th>14</th>\n",
       "      <td>8</td>\n",
       "      <td>7</td>\n",
       "    </tr>\n",
       "    <tr>\n",
       "      <th>15</th>\n",
       "      <td>7</td>\n",
       "      <td>8</td>\n",
       "    </tr>\n",
       "    <tr>\n",
       "      <th>16</th>\n",
       "      <td>7</td>\n",
       "      <td>8</td>\n",
       "    </tr>\n",
       "    <tr>\n",
       "      <th>17</th>\n",
       "      <td>6</td>\n",
       "      <td>7</td>\n",
       "    </tr>\n",
       "    <tr>\n",
       "      <th>18</th>\n",
       "      <td>7</td>\n",
       "      <td>9</td>\n",
       "    </tr>\n",
       "    <tr>\n",
       "      <th>19</th>\n",
       "      <td>7</td>\n",
       "      <td>7</td>\n",
       "    </tr>\n",
       "  </tbody>\n",
       "</table>\n",
       "</div>"
      ],
      "text/plain": [
       "    original  Predicted\n",
       "0          8          8\n",
       "1          8          8\n",
       "2          9          9\n",
       "3         10         11\n",
       "4         18          9\n",
       "5         11          9\n",
       "6         14          8\n",
       "7         10         10\n",
       "8         10         11\n",
       "9         10         11\n",
       "10        11         11\n",
       "11         9          8\n",
       "12        10         11\n",
       "13         9          9\n",
       "14         8          7\n",
       "15         7          8\n",
       "16         7          8\n",
       "17         6          7\n",
       "18         7          9\n",
       "19         7          7"
      ]
     },
     "execution_count": 156,
     "metadata": {},
     "output_type": "execute_result"
    }
   ],
   "source": [
    "x=np.array(ytest)\n",
    "predicted= np.array(GCV.best_estimator_.predict(xtest))\n",
    "df_con= pd.DataFrame({'original': x, 'Predicted': predicted}, index= range(len(x)))\n",
    "df_con"
   ]
  },
  {
   "cell_type": "code",
   "execution_count": null,
   "id": "5d80db34",
   "metadata": {},
   "outputs": [],
   "source": []
  }
 ],
 "metadata": {
  "kernelspec": {
   "display_name": "Python 3",
   "language": "python",
   "name": "python3"
  },
  "language_info": {
   "codemirror_mode": {
    "name": "ipython",
    "version": 3
   },
   "file_extension": ".py",
   "mimetype": "text/x-python",
   "name": "python",
   "nbconvert_exporter": "python",
   "pygments_lexer": "ipython3",
   "version": "3.8.8"
  }
 },
 "nbformat": 4,
 "nbformat_minor": 5
}
