{
 "cells": [
  {
   "cell_type": "markdown",
   "id": "83c16a84",
   "metadata": {},
   "source": [
    "# Big Data Mart Sales Prediction"
   ]
  },
  {
   "cell_type": "markdown",
   "id": "6f0ac77a",
   "metadata": {},
   "source": [
    "Nowadays, shopping malls and Big Marts keep track of individual item sales data in\n",
    "order to forecast future client demand and adjust inventory management. In a data\n",
    "warehouse, these data stores hold a significant amount of consumer information and\n",
    "particular item details. By mining the data store from the data warehouse, more\n",
    "anomalies and common patterns can be discovered.\n",
    "\n",
    "The data scientists at BigMart have collected 2013 sales data for 1559 products across 10 stores in different cities. Also, certain attributes of each product and store have been defined. The aim is to build a predictive model and find out the sales of each product at a particular store."
   ]
  },
  {
   "cell_type": "markdown",
   "id": "2929455c",
   "metadata": {},
   "source": [
    "# Problem Statement"
   ]
  },
  {
   "cell_type": "markdown",
   "id": "8b8b5e92",
   "metadata": {},
   "source": [
    "To find what drives the sales amount for a certain product in different stores and to predict where and how to maximize the sales for this particular product. The task is to predict the sales of a certain product at a particular store, part of a chain of stores and find out what influences that sale. We have access to 2013 collected data, for 1559 products across 10 stores in different cities. We will evaluate the model for the predictive accuracy."
   ]
  },
  {
   "cell_type": "markdown",
   "id": "656a9291",
   "metadata": {},
   "source": [
    "# Data Description"
   ]
  },
  {
   "cell_type": "markdown",
   "id": "83d68d19",
   "metadata": {},
   "source": [
    "  \n",
    "Item_Identifier- Unique product ID\n",
    "\n",
    "Item_Weight- Weight of product\n",
    "\n",
    "Item_Fat_Content - Whether the product is low fat or not\n",
    "\n",
    "Item_Visibility - The % of total display area of all products in a store allocated to the particular product\n",
    "\n",
    "Item_Type - The category to which the product belongs to\n",
    "\n",
    "Item_MRP - Maximum Retail Price (list price) of the product\n",
    "\n",
    "Outlet_Identifier - Unique store ID\n",
    "\n",
    "Outlet_Establishment_Year- The year in which store was established\n",
    "\n",
    "Outlet_Size - The size of the store in terms of ground area covered\n",
    "\n",
    "Outlet_Location_Type- The type of city in which the store is located\n",
    "\n",
    "Outlet_Type- Whether the outlet is just a grocery store or supermarket\n",
    "\n",
    "Item_Outlet_Sales - Sales of the product in the particular store. This is the output variable to be predicted."
   ]
  },
  {
   "cell_type": "markdown",
   "id": "58a2679e",
   "metadata": {},
   "source": [
    "# Import Libraries"
   ]
  },
  {
   "cell_type": "code",
   "execution_count": 1,
   "id": "58bcc316",
   "metadata": {},
   "outputs": [],
   "source": [
    "import numpy as np\n",
    "import pandas as pd\n",
    "import matplotlib.pyplot as plt\n",
    "import seaborn as sns\n",
    "import sklearn\n",
    "\n",
    "from sklearn.preprocessing import LabelEncoder\n",
    "from sklearn.preprocessing import StandardScaler\n",
    "\n",
    "import warnings\n",
    "warnings.filterwarnings('ignore')"
   ]
  },
  {
   "cell_type": "markdown",
   "id": "efc92fae",
   "metadata": {},
   "source": [
    "# Load Dataset"
   ]
  },
  {
   "cell_type": "markdown",
   "id": "3d765b3b",
   "metadata": {},
   "source": [
    "There are two files in the dataset train and test.\n",
    "\n",
    "we will analysis both the files simultaneously so that the test files can be used for prediction purpose"
   ]
  },
  {
   "cell_type": "code",
   "execution_count": 2,
   "id": "adf353b2",
   "metadata": {},
   "outputs": [],
   "source": [
    "train_df= pd.read_csv('train.csv')\n",
    "test_df=pd.read_csv('test.csv')"
   ]
  },
  {
   "cell_type": "code",
   "execution_count": 3,
   "id": "1863367a",
   "metadata": {},
   "outputs": [
    {
     "data": {
      "text/html": [
       "<div>\n",
       "<style scoped>\n",
       "    .dataframe tbody tr th:only-of-type {\n",
       "        vertical-align: middle;\n",
       "    }\n",
       "\n",
       "    .dataframe tbody tr th {\n",
       "        vertical-align: top;\n",
       "    }\n",
       "\n",
       "    .dataframe thead th {\n",
       "        text-align: right;\n",
       "    }\n",
       "</style>\n",
       "<table border=\"1\" class=\"dataframe\">\n",
       "  <thead>\n",
       "    <tr style=\"text-align: right;\">\n",
       "      <th></th>\n",
       "      <th>Item_Identifier</th>\n",
       "      <th>Item_Weight</th>\n",
       "      <th>Item_Fat_Content</th>\n",
       "      <th>Item_Visibility</th>\n",
       "      <th>Item_Type</th>\n",
       "      <th>Item_MRP</th>\n",
       "      <th>Outlet_Identifier</th>\n",
       "      <th>Outlet_Establishment_Year</th>\n",
       "      <th>Outlet_Size</th>\n",
       "      <th>Outlet_Location_Type</th>\n",
       "      <th>Outlet_Type</th>\n",
       "      <th>Item_Outlet_Sales</th>\n",
       "    </tr>\n",
       "  </thead>\n",
       "  <tbody>\n",
       "    <tr>\n",
       "      <th>0</th>\n",
       "      <td>FDA15</td>\n",
       "      <td>9.30</td>\n",
       "      <td>Low Fat</td>\n",
       "      <td>0.016047</td>\n",
       "      <td>Dairy</td>\n",
       "      <td>249.8092</td>\n",
       "      <td>OUT049</td>\n",
       "      <td>1999</td>\n",
       "      <td>Medium</td>\n",
       "      <td>Tier 1</td>\n",
       "      <td>Supermarket Type1</td>\n",
       "      <td>3735.1380</td>\n",
       "    </tr>\n",
       "    <tr>\n",
       "      <th>1</th>\n",
       "      <td>DRC01</td>\n",
       "      <td>5.92</td>\n",
       "      <td>Regular</td>\n",
       "      <td>0.019278</td>\n",
       "      <td>Soft Drinks</td>\n",
       "      <td>48.2692</td>\n",
       "      <td>OUT018</td>\n",
       "      <td>2009</td>\n",
       "      <td>Medium</td>\n",
       "      <td>Tier 3</td>\n",
       "      <td>Supermarket Type2</td>\n",
       "      <td>443.4228</td>\n",
       "    </tr>\n",
       "    <tr>\n",
       "      <th>2</th>\n",
       "      <td>FDN15</td>\n",
       "      <td>17.50</td>\n",
       "      <td>Low Fat</td>\n",
       "      <td>0.016760</td>\n",
       "      <td>Meat</td>\n",
       "      <td>141.6180</td>\n",
       "      <td>OUT049</td>\n",
       "      <td>1999</td>\n",
       "      <td>Medium</td>\n",
       "      <td>Tier 1</td>\n",
       "      <td>Supermarket Type1</td>\n",
       "      <td>2097.2700</td>\n",
       "    </tr>\n",
       "    <tr>\n",
       "      <th>3</th>\n",
       "      <td>FDX07</td>\n",
       "      <td>19.20</td>\n",
       "      <td>Regular</td>\n",
       "      <td>0.000000</td>\n",
       "      <td>Fruits and Vegetables</td>\n",
       "      <td>182.0950</td>\n",
       "      <td>OUT010</td>\n",
       "      <td>1998</td>\n",
       "      <td>NaN</td>\n",
       "      <td>Tier 3</td>\n",
       "      <td>Grocery Store</td>\n",
       "      <td>732.3800</td>\n",
       "    </tr>\n",
       "    <tr>\n",
       "      <th>4</th>\n",
       "      <td>NCD19</td>\n",
       "      <td>8.93</td>\n",
       "      <td>Low Fat</td>\n",
       "      <td>0.000000</td>\n",
       "      <td>Household</td>\n",
       "      <td>53.8614</td>\n",
       "      <td>OUT013</td>\n",
       "      <td>1987</td>\n",
       "      <td>High</td>\n",
       "      <td>Tier 3</td>\n",
       "      <td>Supermarket Type1</td>\n",
       "      <td>994.7052</td>\n",
       "    </tr>\n",
       "  </tbody>\n",
       "</table>\n",
       "</div>"
      ],
      "text/plain": [
       "  Item_Identifier  Item_Weight Item_Fat_Content  Item_Visibility  \\\n",
       "0           FDA15         9.30          Low Fat         0.016047   \n",
       "1           DRC01         5.92          Regular         0.019278   \n",
       "2           FDN15        17.50          Low Fat         0.016760   \n",
       "3           FDX07        19.20          Regular         0.000000   \n",
       "4           NCD19         8.93          Low Fat         0.000000   \n",
       "\n",
       "               Item_Type  Item_MRP Outlet_Identifier  \\\n",
       "0                  Dairy  249.8092            OUT049   \n",
       "1            Soft Drinks   48.2692            OUT018   \n",
       "2                   Meat  141.6180            OUT049   \n",
       "3  Fruits and Vegetables  182.0950            OUT010   \n",
       "4              Household   53.8614            OUT013   \n",
       "\n",
       "   Outlet_Establishment_Year Outlet_Size Outlet_Location_Type  \\\n",
       "0                       1999      Medium               Tier 1   \n",
       "1                       2009      Medium               Tier 3   \n",
       "2                       1999      Medium               Tier 1   \n",
       "3                       1998         NaN               Tier 3   \n",
       "4                       1987        High               Tier 3   \n",
       "\n",
       "         Outlet_Type  Item_Outlet_Sales  \n",
       "0  Supermarket Type1          3735.1380  \n",
       "1  Supermarket Type2           443.4228  \n",
       "2  Supermarket Type1          2097.2700  \n",
       "3      Grocery Store           732.3800  \n",
       "4  Supermarket Type1           994.7052  "
      ]
     },
     "execution_count": 3,
     "metadata": {},
     "output_type": "execute_result"
    }
   ],
   "source": [
    "train_df.head()"
   ]
  },
  {
   "cell_type": "code",
   "execution_count": 4,
   "id": "8c8d15fc",
   "metadata": {},
   "outputs": [
    {
     "data": {
      "text/html": [
       "<div>\n",
       "<style scoped>\n",
       "    .dataframe tbody tr th:only-of-type {\n",
       "        vertical-align: middle;\n",
       "    }\n",
       "\n",
       "    .dataframe tbody tr th {\n",
       "        vertical-align: top;\n",
       "    }\n",
       "\n",
       "    .dataframe thead th {\n",
       "        text-align: right;\n",
       "    }\n",
       "</style>\n",
       "<table border=\"1\" class=\"dataframe\">\n",
       "  <thead>\n",
       "    <tr style=\"text-align: right;\">\n",
       "      <th></th>\n",
       "      <th>Item_Identifier</th>\n",
       "      <th>Item_Weight</th>\n",
       "      <th>Item_Fat_Content</th>\n",
       "      <th>Item_Visibility</th>\n",
       "      <th>Item_Type</th>\n",
       "      <th>Item_MRP</th>\n",
       "      <th>Outlet_Identifier</th>\n",
       "      <th>Outlet_Establishment_Year</th>\n",
       "      <th>Outlet_Size</th>\n",
       "      <th>Outlet_Location_Type</th>\n",
       "      <th>Outlet_Type</th>\n",
       "    </tr>\n",
       "  </thead>\n",
       "  <tbody>\n",
       "    <tr>\n",
       "      <th>0</th>\n",
       "      <td>FDW58</td>\n",
       "      <td>20.750</td>\n",
       "      <td>Low Fat</td>\n",
       "      <td>0.007565</td>\n",
       "      <td>Snack Foods</td>\n",
       "      <td>107.8622</td>\n",
       "      <td>OUT049</td>\n",
       "      <td>1999</td>\n",
       "      <td>Medium</td>\n",
       "      <td>Tier 1</td>\n",
       "      <td>Supermarket Type1</td>\n",
       "    </tr>\n",
       "    <tr>\n",
       "      <th>1</th>\n",
       "      <td>FDW14</td>\n",
       "      <td>8.300</td>\n",
       "      <td>reg</td>\n",
       "      <td>0.038428</td>\n",
       "      <td>Dairy</td>\n",
       "      <td>87.3198</td>\n",
       "      <td>OUT017</td>\n",
       "      <td>2007</td>\n",
       "      <td>NaN</td>\n",
       "      <td>Tier 2</td>\n",
       "      <td>Supermarket Type1</td>\n",
       "    </tr>\n",
       "    <tr>\n",
       "      <th>2</th>\n",
       "      <td>NCN55</td>\n",
       "      <td>14.600</td>\n",
       "      <td>Low Fat</td>\n",
       "      <td>0.099575</td>\n",
       "      <td>Others</td>\n",
       "      <td>241.7538</td>\n",
       "      <td>OUT010</td>\n",
       "      <td>1998</td>\n",
       "      <td>NaN</td>\n",
       "      <td>Tier 3</td>\n",
       "      <td>Grocery Store</td>\n",
       "    </tr>\n",
       "    <tr>\n",
       "      <th>3</th>\n",
       "      <td>FDQ58</td>\n",
       "      <td>7.315</td>\n",
       "      <td>Low Fat</td>\n",
       "      <td>0.015388</td>\n",
       "      <td>Snack Foods</td>\n",
       "      <td>155.0340</td>\n",
       "      <td>OUT017</td>\n",
       "      <td>2007</td>\n",
       "      <td>NaN</td>\n",
       "      <td>Tier 2</td>\n",
       "      <td>Supermarket Type1</td>\n",
       "    </tr>\n",
       "    <tr>\n",
       "      <th>4</th>\n",
       "      <td>FDY38</td>\n",
       "      <td>NaN</td>\n",
       "      <td>Regular</td>\n",
       "      <td>0.118599</td>\n",
       "      <td>Dairy</td>\n",
       "      <td>234.2300</td>\n",
       "      <td>OUT027</td>\n",
       "      <td>1985</td>\n",
       "      <td>Medium</td>\n",
       "      <td>Tier 3</td>\n",
       "      <td>Supermarket Type3</td>\n",
       "    </tr>\n",
       "  </tbody>\n",
       "</table>\n",
       "</div>"
      ],
      "text/plain": [
       "  Item_Identifier  Item_Weight Item_Fat_Content  Item_Visibility    Item_Type  \\\n",
       "0           FDW58       20.750          Low Fat         0.007565  Snack Foods   \n",
       "1           FDW14        8.300              reg         0.038428        Dairy   \n",
       "2           NCN55       14.600          Low Fat         0.099575       Others   \n",
       "3           FDQ58        7.315          Low Fat         0.015388  Snack Foods   \n",
       "4           FDY38          NaN          Regular         0.118599        Dairy   \n",
       "\n",
       "   Item_MRP Outlet_Identifier  Outlet_Establishment_Year Outlet_Size  \\\n",
       "0  107.8622            OUT049                       1999      Medium   \n",
       "1   87.3198            OUT017                       2007         NaN   \n",
       "2  241.7538            OUT010                       1998         NaN   \n",
       "3  155.0340            OUT017                       2007         NaN   \n",
       "4  234.2300            OUT027                       1985      Medium   \n",
       "\n",
       "  Outlet_Location_Type        Outlet_Type  \n",
       "0               Tier 1  Supermarket Type1  \n",
       "1               Tier 2  Supermarket Type1  \n",
       "2               Tier 3      Grocery Store  \n",
       "3               Tier 2  Supermarket Type1  \n",
       "4               Tier 3  Supermarket Type3  "
      ]
     },
     "execution_count": 4,
     "metadata": {},
     "output_type": "execute_result"
    }
   ],
   "source": [
    "test_df.head()"
   ]
  },
  {
   "cell_type": "code",
   "execution_count": 5,
   "id": "6bc633f9",
   "metadata": {},
   "outputs": [
    {
     "data": {
      "text/plain": [
       "(8523, 12)"
      ]
     },
     "execution_count": 5,
     "metadata": {},
     "output_type": "execute_result"
    }
   ],
   "source": [
    "train_df.shape"
   ]
  },
  {
   "cell_type": "code",
   "execution_count": 6,
   "id": "2e856cd0",
   "metadata": {},
   "outputs": [
    {
     "data": {
      "text/plain": [
       "(5681, 11)"
      ]
     },
     "execution_count": 6,
     "metadata": {},
     "output_type": "execute_result"
    }
   ],
   "source": [
    "test_df.shape"
   ]
  },
  {
   "cell_type": "code",
   "execution_count": 7,
   "id": "d7a51996",
   "metadata": {},
   "outputs": [
    {
     "data": {
      "text/plain": [
       "Index(['Item_Identifier', 'Item_Weight', 'Item_Fat_Content', 'Item_Visibility',\n",
       "       'Item_Type', 'Item_MRP', 'Outlet_Identifier',\n",
       "       'Outlet_Establishment_Year', 'Outlet_Size', 'Outlet_Location_Type',\n",
       "       'Outlet_Type', 'Item_Outlet_Sales'],\n",
       "      dtype='object')"
      ]
     },
     "execution_count": 7,
     "metadata": {},
     "output_type": "execute_result"
    }
   ],
   "source": [
    "train_df.columns"
   ]
  },
  {
   "cell_type": "code",
   "execution_count": 8,
   "id": "5240a6e9",
   "metadata": {},
   "outputs": [
    {
     "data": {
      "text/plain": [
       "Index(['Item_Identifier', 'Item_Weight', 'Item_Fat_Content', 'Item_Visibility',\n",
       "       'Item_Type', 'Item_MRP', 'Outlet_Identifier',\n",
       "       'Outlet_Establishment_Year', 'Outlet_Size', 'Outlet_Location_Type',\n",
       "       'Outlet_Type'],\n",
       "      dtype='object')"
      ]
     },
     "execution_count": 8,
     "metadata": {},
     "output_type": "execute_result"
    }
   ],
   "source": [
    "test_df.columns"
   ]
  },
  {
   "cell_type": "code",
   "execution_count": 9,
   "id": "f3985832",
   "metadata": {},
   "outputs": [
    {
     "name": "stdout",
     "output_type": "stream",
     "text": [
      "<class 'pandas.core.frame.DataFrame'>\n",
      "RangeIndex: 8523 entries, 0 to 8522\n",
      "Data columns (total 12 columns):\n",
      " #   Column                     Non-Null Count  Dtype  \n",
      "---  ------                     --------------  -----  \n",
      " 0   Item_Identifier            8523 non-null   object \n",
      " 1   Item_Weight                7060 non-null   float64\n",
      " 2   Item_Fat_Content           8523 non-null   object \n",
      " 3   Item_Visibility            8523 non-null   float64\n",
      " 4   Item_Type                  8523 non-null   object \n",
      " 5   Item_MRP                   8523 non-null   float64\n",
      " 6   Outlet_Identifier          8523 non-null   object \n",
      " 7   Outlet_Establishment_Year  8523 non-null   int64  \n",
      " 8   Outlet_Size                6113 non-null   object \n",
      " 9   Outlet_Location_Type       8523 non-null   object \n",
      " 10  Outlet_Type                8523 non-null   object \n",
      " 11  Item_Outlet_Sales          8523 non-null   float64\n",
      "dtypes: float64(4), int64(1), object(7)\n",
      "memory usage: 799.2+ KB\n"
     ]
    }
   ],
   "source": [
    "train_df.info()"
   ]
  },
  {
   "cell_type": "markdown",
   "id": "9a410f2c",
   "metadata": {},
   "source": [
    "# Data Cleaning"
   ]
  },
  {
   "cell_type": "markdown",
   "id": "25cc3518",
   "metadata": {},
   "source": [
    "# Check For Null Values"
   ]
  },
  {
   "cell_type": "code",
   "execution_count": 10,
   "id": "029ccffd",
   "metadata": {},
   "outputs": [
    {
     "data": {
      "text/plain": [
       "Item_Identifier                 0\n",
       "Item_Weight                  1463\n",
       "Item_Fat_Content                0\n",
       "Item_Visibility                 0\n",
       "Item_Type                       0\n",
       "Item_MRP                        0\n",
       "Outlet_Identifier               0\n",
       "Outlet_Establishment_Year       0\n",
       "Outlet_Size                  2410\n",
       "Outlet_Location_Type            0\n",
       "Outlet_Type                     0\n",
       "Item_Outlet_Sales               0\n",
       "dtype: int64"
      ]
     },
     "execution_count": 10,
     "metadata": {},
     "output_type": "execute_result"
    }
   ],
   "source": [
    "train_df.isnull().sum()"
   ]
  },
  {
   "cell_type": "code",
   "execution_count": 11,
   "id": "56d9798a",
   "metadata": {},
   "outputs": [
    {
     "data": {
      "text/plain": [
       "<AxesSubplot:>"
      ]
     },
     "execution_count": 11,
     "metadata": {},
     "output_type": "execute_result"
    },
    {
     "data": {
      "image/png": "[encoded data removed]",
      "text/plain": [
       "<Figure size 432x288 with 2 Axes>"
      ]
     },
     "metadata": {
      "needs_background": "light"
     },
     "output_type": "display_data"
    }
   ],
   "source": [
    "sns.heatmap(train_df.isnull())"
   ]
  },
  {
   "cell_type": "code",
   "execution_count": 12,
   "id": "f306def8",
   "metadata": {},
   "outputs": [
    {
     "data": {
      "text/plain": [
       "Item_Identifier                 0\n",
       "Item_Weight                   976\n",
       "Item_Fat_Content                0\n",
       "Item_Visibility                 0\n",
       "Item_Type                       0\n",
       "Item_MRP                        0\n",
       "Outlet_Identifier               0\n",
       "Outlet_Establishment_Year       0\n",
       "Outlet_Size                  1606\n",
       "Outlet_Location_Type            0\n",
       "Outlet_Type                     0\n",
       "dtype: int64"
      ]
     },
     "execution_count": 12,
     "metadata": {},
     "output_type": "execute_result"
    }
   ],
   "source": [
    "test_df.isnull().sum()"
   ]
  },
  {
   "cell_type": "code",
   "execution_count": 13,
   "id": "96541719",
   "metadata": {},
   "outputs": [
    {
     "data": {
      "text/plain": [
       "<AxesSubplot:>"
      ]
     },
     "execution_count": 13,
     "metadata": {},
     "output_type": "execute_result"
    },
    {
     "data": {
      "image/png": "[encoded data removed]",
      "text/plain": [
       "<Figure size 432x288 with 2 Axes>"
      ]
     },
     "metadata": {
      "needs_background": "light"
     },
     "output_type": "display_data"
    }
   ],
   "source": [
    "sns.heatmap(test_df.isnull())"
   ]
  },
  {
   "cell_type": "markdown",
   "id": "6fa8f5fb",
   "metadata": {},
   "source": [
    "The columns Item_Weight and Outlet_size has null values.\n",
    "\n",
    "Item_Weight: Null values are treated with the mean of the column.\n",
    "    \n",
    "Outlet_size: Null values are treated with most occuring value(mode) of the column"
   ]
  },
  {
   "cell_type": "markdown",
   "id": "3d61d3b7",
   "metadata": {},
   "source": [
    "Fill Item_Weight: Mean imputation since it is a numerical column"
   ]
  },
  {
   "cell_type": "code",
   "execution_count": 14,
   "id": "a650db72",
   "metadata": {},
   "outputs": [],
   "source": [
    "train_df['Item_Weight'].fillna(train_df['Item_Weight'].mean(), inplace=True)"
   ]
  },
  {
   "cell_type": "code",
   "execution_count": 15,
   "id": "8c566e2a",
   "metadata": {},
   "outputs": [],
   "source": [
    "test_df['Item_Weight'].fillna(test_df['Item_Weight'].mean(), inplace=True)"
   ]
  },
  {
   "cell_type": "markdown",
   "id": "298e5328",
   "metadata": {},
   "source": [
    "Fill Outlet_Size: Mode imputation since it is a categorical data."
   ]
  },
  {
   "cell_type": "code",
   "execution_count": 16,
   "id": "a7631600",
   "metadata": {},
   "outputs": [
    {
     "data": {
      "text/plain": [
       "Medium    2793\n",
       "Small     2388\n",
       "High       932\n",
       "Name: Outlet_Size, dtype: int64"
      ]
     },
     "execution_count": 16,
     "metadata": {},
     "output_type": "execute_result"
    }
   ],
   "source": [
    "train_df['Outlet_Size'].value_counts()"
   ]
  },
  {
   "cell_type": "code",
   "execution_count": 17,
   "id": "6860c593",
   "metadata": {},
   "outputs": [
    {
     "data": {
      "text/plain": [
       "'High'"
      ]
     },
     "execution_count": 17,
     "metadata": {},
     "output_type": "execute_result"
    }
   ],
   "source": [
    "train_df['Outlet_Size'].value_counts().index[2]"
   ]
  },
  {
   "cell_type": "code",
   "execution_count": 18,
   "id": "86e31468",
   "metadata": {},
   "outputs": [
    {
     "data": {
      "text/plain": [
       "Medium    1862\n",
       "Small     1592\n",
       "High       621\n",
       "Name: Outlet_Size, dtype: int64"
      ]
     },
     "execution_count": 18,
     "metadata": {},
     "output_type": "execute_result"
    }
   ],
   "source": [
    "test_df['Outlet_Size'].value_counts()"
   ]
  },
  {
   "cell_type": "code",
   "execution_count": 19,
   "id": "4d5ff9a4",
   "metadata": {},
   "outputs": [
    {
     "data": {
      "text/plain": [
       "'High'"
      ]
     },
     "execution_count": 19,
     "metadata": {},
     "output_type": "execute_result"
    }
   ],
   "source": [
    "test_df['Outlet_Size'].value_counts().index[2]"
   ]
  },
  {
   "cell_type": "markdown",
   "id": "6bee173a",
   "metadata": {},
   "source": [
    "Since the column is imbalanced, we are filling the null values with the lowest frequent occurance to balance the column"
   ]
  },
  {
   "cell_type": "code",
   "execution_count": 20,
   "id": "163ff7d7",
   "metadata": {},
   "outputs": [],
   "source": [
    "train_df['Outlet_Size'].fillna(train_df['Outlet_Size'].value_counts().index[2], inplace=True)\n",
    "test_df['Outlet_Size'].fillna(test_df['Outlet_Size'].value_counts().index[2], inplace=True)"
   ]
  },
  {
   "cell_type": "code",
   "execution_count": 21,
   "id": "c8cfe09b",
   "metadata": {},
   "outputs": [
    {
     "data": {
      "text/plain": [
       "Item_Identifier              0\n",
       "Item_Weight                  0\n",
       "Item_Fat_Content             0\n",
       "Item_Visibility              0\n",
       "Item_Type                    0\n",
       "Item_MRP                     0\n",
       "Outlet_Identifier            0\n",
       "Outlet_Establishment_Year    0\n",
       "Outlet_Size                  0\n",
       "Outlet_Location_Type         0\n",
       "Outlet_Type                  0\n",
       "Item_Outlet_Sales            0\n",
       "dtype: int64"
      ]
     },
     "execution_count": 21,
     "metadata": {},
     "output_type": "execute_result"
    }
   ],
   "source": [
    "train_df.isnull().sum()"
   ]
  },
  {
   "cell_type": "code",
   "execution_count": 22,
   "id": "0845f583",
   "metadata": {},
   "outputs": [
    {
     "data": {
      "text/plain": [
       "Item_Identifier              0\n",
       "Item_Weight                  0\n",
       "Item_Fat_Content             0\n",
       "Item_Visibility              0\n",
       "Item_Type                    0\n",
       "Item_MRP                     0\n",
       "Outlet_Identifier            0\n",
       "Outlet_Establishment_Year    0\n",
       "Outlet_Size                  0\n",
       "Outlet_Location_Type         0\n",
       "Outlet_Type                  0\n",
       "dtype: int64"
      ]
     },
     "execution_count": 22,
     "metadata": {},
     "output_type": "execute_result"
    }
   ],
   "source": [
    "test_df.isnull().sum()"
   ]
  },
  {
   "cell_type": "markdown",
   "id": "33044762",
   "metadata": {},
   "source": [
    "# Drop Columns"
   ]
  },
  {
   "cell_type": "markdown",
   "id": "4cae72d1",
   "metadata": {},
   "source": [
    "Item_Identifier and Outlet_Identifier are indentification codes for the product. It doesnt have much to do with the sales, so deleting this columns"
   ]
  },
  {
   "cell_type": "code",
   "execution_count": 23,
   "id": "5b78fcf1",
   "metadata": {},
   "outputs": [],
   "source": [
    "train_df.drop(columns=['Item_Identifier', 'Outlet_Identifier'], axis=1, inplace=True)"
   ]
  },
  {
   "cell_type": "code",
   "execution_count": 24,
   "id": "6f8d70ca",
   "metadata": {},
   "outputs": [],
   "source": [
    "test_df.drop(columns=['Item_Identifier', 'Outlet_Identifier'], axis=1, inplace=True)"
   ]
  },
  {
   "cell_type": "code",
   "execution_count": 25,
   "id": "4682c527",
   "metadata": {},
   "outputs": [
    {
     "data": {
      "text/plain": [
       "(8523, 10)"
      ]
     },
     "execution_count": 25,
     "metadata": {},
     "output_type": "execute_result"
    }
   ],
   "source": [
    "train_df.shape"
   ]
  },
  {
   "cell_type": "code",
   "execution_count": 26,
   "id": "54379d37",
   "metadata": {},
   "outputs": [
    {
     "data": {
      "text/plain": [
       "(5681, 9)"
      ]
     },
     "execution_count": 26,
     "metadata": {},
     "output_type": "execute_result"
    }
   ],
   "source": [
    "test_df.shape"
   ]
  },
  {
   "cell_type": "markdown",
   "id": "a9ce14b3",
   "metadata": {},
   "source": [
    "# Data Analysis"
   ]
  },
  {
   "cell_type": "code",
   "execution_count": 27,
   "id": "b0c47519",
   "metadata": {},
   "outputs": [
    {
     "data": {
      "text/plain": [
       "Item_Weight                  float64\n",
       "Item_Fat_Content              object\n",
       "Item_Visibility              float64\n",
       "Item_Type                     object\n",
       "Item_MRP                     float64\n",
       "Outlet_Establishment_Year      int64\n",
       "Outlet_Size                   object\n",
       "Outlet_Location_Type          object\n",
       "Outlet_Type                   object\n",
       "Item_Outlet_Sales            float64\n",
       "dtype: object"
      ]
     },
     "execution_count": 27,
     "metadata": {},
     "output_type": "execute_result"
    }
   ],
   "source": [
    "train_df.dtypes"
   ]
  },
  {
   "cell_type": "code",
   "execution_count": 28,
   "id": "cd81a9de",
   "metadata": {},
   "outputs": [
    {
     "data": {
      "text/plain": [
       "['Item_Fat_Content',\n",
       " 'Item_Type',\n",
       " 'Outlet_Size',\n",
       " 'Outlet_Location_Type',\n",
       " 'Outlet_Type']"
      ]
     },
     "execution_count": 28,
     "metadata": {},
     "output_type": "execute_result"
    }
   ],
   "source": [
    "categorical_columns=[x for x in train_df.dtypes.index if train_df.dtypes[x]=='object']\n",
    "categorical_columns"
   ]
  },
  {
   "cell_type": "code",
   "execution_count": 29,
   "id": "bc3bf2fe",
   "metadata": {},
   "outputs": [
    {
     "data": {
      "image/png": "[encoded data removed]",
      "text/plain": [
       "<Figure size 432x288 with 1 Axes>"
      ]
     },
     "metadata": {
      "needs_background": "light"
     },
     "output_type": "display_data"
    }
   ],
   "source": [
    "sns.distplot(train_df['Item_Weight'],bins=10)\n",
    "plt.show()"
   ]
  },
  {
   "cell_type": "markdown",
   "id": "a72791b1",
   "metadata": {},
   "source": [
    "Item_Weight is distributed between 5 to 20 kgs, but the average weight lies around 12 to 13."
   ]
  },
  {
   "cell_type": "code",
   "execution_count": 30,
   "id": "9d9929f3",
   "metadata": {},
   "outputs": [
    {
     "data": {
      "image/png": "[encoded data removed]",
      "text/plain": [
       "<Figure size 432x288 with 1 Axes>"
      ]
     },
     "metadata": {
      "needs_background": "light"
     },
     "output_type": "display_data"
    }
   ],
   "source": [
    "sns.distplot(train_df['Item_Visibility'],bins=10)\n",
    "plt.show()"
   ]
  },
  {
   "cell_type": "markdown",
   "id": "a87ddafe",
   "metadata": {},
   "source": [
    "There is skewness present in this column. \n",
    "\n",
    "This Item_Visibility is distributed more around 0 to 0.05 "
   ]
  },
  {
   "cell_type": "code",
   "execution_count": 31,
   "id": "2f4dc4cd",
   "metadata": {},
   "outputs": [
    {
     "data": {
      "image/png": "[encoded data removed]",
      "text/plain": [
       "<Figure size 432x288 with 1 Axes>"
      ]
     },
     "metadata": {
      "needs_background": "light"
     },
     "output_type": "display_data"
    }
   ],
   "source": [
    "sns.distplot(train_df['Item_MRP'],bins=10)\n",
    "plt.show()"
   ]
  },
  {
   "cell_type": "markdown",
   "id": "db95cdbe",
   "metadata": {},
   "source": [
    "The items are distributed in different price ranges. Most products fall under the price range of 80 to 120 and 150 to 200 dollars"
   ]
  },
  {
   "cell_type": "markdown",
   "id": "3128ae48",
   "metadata": {},
   "source": [
    "Target Variable"
   ]
  },
  {
   "cell_type": "code",
   "execution_count": 32,
   "id": "7ddc8d9f",
   "metadata": {},
   "outputs": [
    {
     "data": {
      "image/png": "[encoded data removed]",
      "text/plain": [
       "<Figure size 432x288 with 1 Axes>"
      ]
     },
     "metadata": {
      "needs_background": "light"
     },
     "output_type": "display_data"
    }
   ],
   "source": [
    "sns.distplot(train_df['Item_Outlet_Sales'],bins=10)\n",
    "plt.show()"
   ]
  },
  {
   "cell_type": "markdown",
   "id": "f8f09e6b",
   "metadata": {},
   "source": [
    "The overall sales is high within the range of 1000 to 2000 dollars."
   ]
  },
  {
   "cell_type": "code",
   "execution_count": 33,
   "id": "eecf7141",
   "metadata": {},
   "outputs": [
    {
     "data": {
      "image/png": "[encoded data removed]",
      "text/plain": [
       "<Figure size 432x288 with 1 Axes>"
      ]
     },
     "metadata": {
      "needs_background": "light"
     },
     "output_type": "display_data"
    }
   ],
   "source": [
    "sns.countplot(train_df['Outlet_Establishment_Year'])\n",
    "plt.show()"
   ]
  },
  {
   "cell_type": "markdown",
   "id": "3a1e5e0b",
   "metadata": {},
   "source": [
    "This indicates that most of the outlets are established in the year 1985. In 1998, very less number are outlets are being established."
   ]
  },
  {
   "cell_type": "code",
   "execution_count": 34,
   "id": "c0a95c21",
   "metadata": {},
   "outputs": [
    {
     "data": {
      "image/png": "[encoded data removed]",
      "text/plain": [
       "<Figure size 432x288 with 1 Axes>"
      ]
     },
     "metadata": {
      "needs_background": "light"
     },
     "output_type": "display_data"
    }
   ],
   "source": [
    "sns.countplot(train_df['Item_Fat_Content'])\n",
    "plt.show()"
   ]
  },
  {
   "cell_type": "markdown",
   "id": "fa4d88cb",
   "metadata": {},
   "source": [
    "This column shows only two classification, but products are distributed in different name. So we will combine them"
   ]
  },
  {
   "cell_type": "code",
   "execution_count": 35,
   "id": "4f531216",
   "metadata": {},
   "outputs": [],
   "source": [
    "train_df.replace({'Item_Fat_Content':{'low fat':'Low Fat', 'LF':'Low Fat', 'reg':'Regular'}}, inplace=True)\n",
    "test_df.replace({'Item_Fat_Content':{'low fat':'Low Fat', 'LF':'Low Fat', 'reg':'Regular'}}, inplace=True)"
   ]
  },
  {
   "cell_type": "code",
   "execution_count": 36,
   "id": "91e433f1",
   "metadata": {},
   "outputs": [
    {
     "data": {
      "text/plain": [
       "Low Fat    5517\n",
       "Regular    3006\n",
       "Name: Item_Fat_Content, dtype: int64"
      ]
     },
     "execution_count": 36,
     "metadata": {},
     "output_type": "execute_result"
    }
   ],
   "source": [
    "train_df['Item_Fat_Content'].value_counts()"
   ]
  },
  {
   "cell_type": "code",
   "execution_count": 37,
   "id": "e56e3deb",
   "metadata": {},
   "outputs": [
    {
     "data": {
      "image/png": "[encoded data removed]",
      "text/plain": [
       "<Figure size 1800x720 with 1 Axes>"
      ]
     },
     "metadata": {
      "needs_background": "light"
     },
     "output_type": "display_data"
    }
   ],
   "source": [
    "plt.figure(figsize=(25,10))\n",
    "sns.countplot(train_df['Item_Type'])\n",
    "plt.show()"
   ]
  },
  {
   "cell_type": "markdown",
   "id": "57660517",
   "metadata": {},
   "source": [
    "This column indicates that there are nearly 16 types of item monitored for sales"
   ]
  },
  {
   "cell_type": "code",
   "execution_count": 38,
   "id": "fb513bc9",
   "metadata": {},
   "outputs": [
    {
     "data": {
      "image/png": "[encoded data removed]",
      "text/plain": [
       "<Figure size 432x288 with 1 Axes>"
      ]
     },
     "metadata": {
      "needs_background": "light"
     },
     "output_type": "display_data"
    }
   ],
   "source": [
    "sns.countplot(train_df['Outlet_Size'])\n",
    "plt.show()"
   ]
  },
  {
   "cell_type": "markdown",
   "id": "24293803",
   "metadata": {},
   "source": [
    "The Outlet size is high and medium for many of the outlets taken into consideration"
   ]
  },
  {
   "cell_type": "code",
   "execution_count": 39,
   "id": "5196e969",
   "metadata": {},
   "outputs": [
    {
     "data": {
      "image/png": "[encoded data removed]",
      "text/plain": [
       "<Figure size 432x288 with 1 Axes>"
      ]
     },
     "metadata": {
      "needs_background": "light"
     },
     "output_type": "display_data"
    }
   ],
   "source": [
    "sns.countplot(train_df['Outlet_Location_Type'])\n",
    "plt.show()"
   ]
  },
  {
   "cell_type": "markdown",
   "id": "6690782c",
   "metadata": {},
   "source": [
    "Most of the outlets will fall under Tier3 location category"
   ]
  },
  {
   "cell_type": "code",
   "execution_count": 40,
   "id": "363d4477",
   "metadata": {},
   "outputs": [
    {
     "data": {
      "image/png": "[encoded data removed]",
      "text/plain": [
       "<Figure size 720x360 with 1 Axes>"
      ]
     },
     "metadata": {
      "needs_background": "light"
     },
     "output_type": "display_data"
    }
   ],
   "source": [
    "plt.figure(figsize=(10,5))\n",
    "sns.countplot(train_df['Outlet_Type'])\n",
    "plt.show()"
   ]
  },
  {
   "cell_type": "markdown",
   "id": "8c55b0f5",
   "metadata": {},
   "source": [
    "Most of the outlets comes under Supermarket Type 1, other store are equally categorized to the other types"
   ]
  },
  {
   "cell_type": "markdown",
   "id": "10ebe696",
   "metadata": {},
   "source": [
    "# Encode The Categorical Columns"
   ]
  },
  {
   "cell_type": "code",
   "execution_count": 41,
   "id": "ca2e9bc2",
   "metadata": {},
   "outputs": [],
   "source": [
    "LE= LabelEncoder()\n",
    "train_df['Item_Fat_Content']= LE.fit_transform(train_df['Item_Fat_Content'])\n",
    "test_df['Item_Fat_Content']= LE.fit_transform(test_df['Item_Fat_Content'])"
   ]
  },
  {
   "cell_type": "code",
   "execution_count": 42,
   "id": "107b1264",
   "metadata": {},
   "outputs": [
    {
     "data": {
      "text/plain": [
       "array(['Regular', 'Low Fat'], dtype=object)"
      ]
     },
     "execution_count": 42,
     "metadata": {},
     "output_type": "execute_result"
    }
   ],
   "source": [
    "LE.inverse_transform([1,0])"
   ]
  },
  {
   "cell_type": "code",
   "execution_count": 43,
   "id": "4e389959",
   "metadata": {},
   "outputs": [],
   "source": [
    "train_df['Item_Type']= LE.fit_transform(train_df['Item_Type'])\n",
    "test_df['Item_Type']= LE.fit_transform(test_df['Item_Type'])"
   ]
  },
  {
   "cell_type": "code",
   "execution_count": 44,
   "id": "43232e0f",
   "metadata": {},
   "outputs": [],
   "source": [
    "train_df['Outlet_Size']= LE.fit_transform(train_df['Outlet_Size'])\n",
    "test_df['Outlet_Size']= LE.fit_transform(test_df['Outlet_Size'])"
   ]
  },
  {
   "cell_type": "code",
   "execution_count": 45,
   "id": "9e9eba0c",
   "metadata": {},
   "outputs": [
    {
     "data": {
      "text/plain": [
       "array(['Small', 'Medium', 'High'], dtype=object)"
      ]
     },
     "execution_count": 45,
     "metadata": {},
     "output_type": "execute_result"
    }
   ],
   "source": [
    "LE.inverse_transform([2,1,0])"
   ]
  },
  {
   "cell_type": "code",
   "execution_count": 46,
   "id": "ac103358",
   "metadata": {},
   "outputs": [],
   "source": [
    "train_df['Outlet_Location_Type']= LE.fit_transform(train_df['Outlet_Location_Type'])\n",
    "test_df['Outlet_Location_Type']= LE.fit_transform(test_df['Outlet_Location_Type'])"
   ]
  },
  {
   "cell_type": "code",
   "execution_count": 47,
   "id": "429abfa4",
   "metadata": {},
   "outputs": [
    {
     "data": {
      "text/plain": [
       "array(['Tier 3', 'Tier 2', 'Tier 1'], dtype=object)"
      ]
     },
     "execution_count": 47,
     "metadata": {},
     "output_type": "execute_result"
    }
   ],
   "source": [
    "LE.inverse_transform([2,1,0])"
   ]
  },
  {
   "cell_type": "code",
   "execution_count": 48,
   "id": "62a04cea",
   "metadata": {},
   "outputs": [],
   "source": [
    "train_df['Outlet_Type']= LE.fit_transform(train_df['Outlet_Type'])\n",
    "test_df['Outlet_Type']= LE.fit_transform(test_df['Outlet_Type'])"
   ]
  },
  {
   "cell_type": "code",
   "execution_count": 49,
   "id": "c7395f9d",
   "metadata": {},
   "outputs": [
    {
     "data": {
      "text/plain": [
       "array(['Supermarket Type3', 'Supermarket Type2', 'Supermarket Type1',\n",
       "       'Grocery Store'], dtype=object)"
      ]
     },
     "execution_count": 49,
     "metadata": {},
     "output_type": "execute_result"
    }
   ],
   "source": [
    "LE.inverse_transform([3,2,1,0])"
   ]
  },
  {
   "cell_type": "code",
   "execution_count": 50,
   "id": "62b8f470",
   "metadata": {},
   "outputs": [
    {
     "data": {
      "text/html": [
       "<div>\n",
       "<style scoped>\n",
       "    .dataframe tbody tr th:only-of-type {\n",
       "        vertical-align: middle;\n",
       "    }\n",
       "\n",
       "    .dataframe tbody tr th {\n",
       "        vertical-align: top;\n",
       "    }\n",
       "\n",
       "    .dataframe thead th {\n",
       "        text-align: right;\n",
       "    }\n",
       "</style>\n",
       "<table border=\"1\" class=\"dataframe\">\n",
       "  <thead>\n",
       "    <tr style=\"text-align: right;\">\n",
       "      <th></th>\n",
       "      <th>Item_Weight</th>\n",
       "      <th>Item_Fat_Content</th>\n",
       "      <th>Item_Visibility</th>\n",
       "      <th>Item_Type</th>\n",
       "      <th>Item_MRP</th>\n",
       "      <th>Outlet_Establishment_Year</th>\n",
       "      <th>Outlet_Size</th>\n",
       "      <th>Outlet_Location_Type</th>\n",
       "      <th>Outlet_Type</th>\n",
       "      <th>Item_Outlet_Sales</th>\n",
       "    </tr>\n",
       "  </thead>\n",
       "  <tbody>\n",
       "    <tr>\n",
       "      <th>0</th>\n",
       "      <td>9.300</td>\n",
       "      <td>0</td>\n",
       "      <td>0.016047</td>\n",
       "      <td>4</td>\n",
       "      <td>249.8092</td>\n",
       "      <td>1999</td>\n",
       "      <td>1</td>\n",
       "      <td>0</td>\n",
       "      <td>1</td>\n",
       "      <td>3735.1380</td>\n",
       "    </tr>\n",
       "    <tr>\n",
       "      <th>1</th>\n",
       "      <td>5.920</td>\n",
       "      <td>1</td>\n",
       "      <td>0.019278</td>\n",
       "      <td>14</td>\n",
       "      <td>48.2692</td>\n",
       "      <td>2009</td>\n",
       "      <td>1</td>\n",
       "      <td>2</td>\n",
       "      <td>2</td>\n",
       "      <td>443.4228</td>\n",
       "    </tr>\n",
       "    <tr>\n",
       "      <th>2</th>\n",
       "      <td>17.500</td>\n",
       "      <td>0</td>\n",
       "      <td>0.016760</td>\n",
       "      <td>10</td>\n",
       "      <td>141.6180</td>\n",
       "      <td>1999</td>\n",
       "      <td>1</td>\n",
       "      <td>0</td>\n",
       "      <td>1</td>\n",
       "      <td>2097.2700</td>\n",
       "    </tr>\n",
       "    <tr>\n",
       "      <th>3</th>\n",
       "      <td>19.200</td>\n",
       "      <td>1</td>\n",
       "      <td>0.000000</td>\n",
       "      <td>6</td>\n",
       "      <td>182.0950</td>\n",
       "      <td>1998</td>\n",
       "      <td>0</td>\n",
       "      <td>2</td>\n",
       "      <td>0</td>\n",
       "      <td>732.3800</td>\n",
       "    </tr>\n",
       "    <tr>\n",
       "      <th>4</th>\n",
       "      <td>8.930</td>\n",
       "      <td>0</td>\n",
       "      <td>0.000000</td>\n",
       "      <td>9</td>\n",
       "      <td>53.8614</td>\n",
       "      <td>1987</td>\n",
       "      <td>0</td>\n",
       "      <td>2</td>\n",
       "      <td>1</td>\n",
       "      <td>994.7052</td>\n",
       "    </tr>\n",
       "    <tr>\n",
       "      <th>...</th>\n",
       "      <td>...</td>\n",
       "      <td>...</td>\n",
       "      <td>...</td>\n",
       "      <td>...</td>\n",
       "      <td>...</td>\n",
       "      <td>...</td>\n",
       "      <td>...</td>\n",
       "      <td>...</td>\n",
       "      <td>...</td>\n",
       "      <td>...</td>\n",
       "    </tr>\n",
       "    <tr>\n",
       "      <th>8518</th>\n",
       "      <td>6.865</td>\n",
       "      <td>0</td>\n",
       "      <td>0.056783</td>\n",
       "      <td>13</td>\n",
       "      <td>214.5218</td>\n",
       "      <td>1987</td>\n",
       "      <td>0</td>\n",
       "      <td>2</td>\n",
       "      <td>1</td>\n",
       "      <td>2778.3834</td>\n",
       "    </tr>\n",
       "    <tr>\n",
       "      <th>8519</th>\n",
       "      <td>8.380</td>\n",
       "      <td>1</td>\n",
       "      <td>0.046982</td>\n",
       "      <td>0</td>\n",
       "      <td>108.1570</td>\n",
       "      <td>2002</td>\n",
       "      <td>0</td>\n",
       "      <td>1</td>\n",
       "      <td>1</td>\n",
       "      <td>549.2850</td>\n",
       "    </tr>\n",
       "    <tr>\n",
       "      <th>8520</th>\n",
       "      <td>10.600</td>\n",
       "      <td>0</td>\n",
       "      <td>0.035186</td>\n",
       "      <td>8</td>\n",
       "      <td>85.1224</td>\n",
       "      <td>2004</td>\n",
       "      <td>2</td>\n",
       "      <td>1</td>\n",
       "      <td>1</td>\n",
       "      <td>1193.1136</td>\n",
       "    </tr>\n",
       "    <tr>\n",
       "      <th>8521</th>\n",
       "      <td>7.210</td>\n",
       "      <td>1</td>\n",
       "      <td>0.145221</td>\n",
       "      <td>13</td>\n",
       "      <td>103.1332</td>\n",
       "      <td>2009</td>\n",
       "      <td>1</td>\n",
       "      <td>2</td>\n",
       "      <td>2</td>\n",
       "      <td>1845.5976</td>\n",
       "    </tr>\n",
       "    <tr>\n",
       "      <th>8522</th>\n",
       "      <td>14.800</td>\n",
       "      <td>0</td>\n",
       "      <td>0.044878</td>\n",
       "      <td>14</td>\n",
       "      <td>75.4670</td>\n",
       "      <td>1997</td>\n",
       "      <td>2</td>\n",
       "      <td>0</td>\n",
       "      <td>1</td>\n",
       "      <td>765.6700</td>\n",
       "    </tr>\n",
       "  </tbody>\n",
       "</table>\n",
       "<p>8523 rows × 10 columns</p>\n",
       "</div>"
      ],
      "text/plain": [
       "      Item_Weight  Item_Fat_Content  Item_Visibility  Item_Type  Item_MRP  \\\n",
       "0           9.300                 0         0.016047          4  249.8092   \n",
       "1           5.920                 1         0.019278         14   48.2692   \n",
       "2          17.500                 0         0.016760         10  141.6180   \n",
       "3          19.200                 1         0.000000          6  182.0950   \n",
       "4           8.930                 0         0.000000          9   53.8614   \n",
       "...           ...               ...              ...        ...       ...   \n",
       "8518        6.865                 0         0.056783         13  214.5218   \n",
       "8519        8.380                 1         0.046982          0  108.1570   \n",
       "8520       10.600                 0         0.035186          8   85.1224   \n",
       "8521        7.210                 1         0.145221         13  103.1332   \n",
       "8522       14.800                 0         0.044878         14   75.4670   \n",
       "\n",
       "      Outlet_Establishment_Year  Outlet_Size  Outlet_Location_Type  \\\n",
       "0                          1999            1                     0   \n",
       "1                          2009            1                     2   \n",
       "2                          1999            1                     0   \n",
       "3                          1998            0                     2   \n",
       "4                          1987            0                     2   \n",
       "...                         ...          ...                   ...   \n",
       "8518                       1987            0                     2   \n",
       "8519                       2002            0                     1   \n",
       "8520                       2004            2                     1   \n",
       "8521                       2009            1                     2   \n",
       "8522                       1997            2                     0   \n",
       "\n",
       "      Outlet_Type  Item_Outlet_Sales  \n",
       "0               1          3735.1380  \n",
       "1               2           443.4228  \n",
       "2               1          2097.2700  \n",
       "3               0           732.3800  \n",
       "4               1           994.7052  \n",
       "...           ...                ...  \n",
       "8518            1          2778.3834  \n",
       "8519            1           549.2850  \n",
       "8520            1          1193.1136  \n",
       "8521            2          1845.5976  \n",
       "8522            1           765.6700  \n",
       "\n",
       "[8523 rows x 10 columns]"
      ]
     },
     "execution_count": 50,
     "metadata": {},
     "output_type": "execute_result"
    }
   ],
   "source": [
    "train_df"
   ]
  },
  {
   "cell_type": "code",
   "execution_count": 51,
   "id": "967f8d1b",
   "metadata": {},
   "outputs": [
    {
     "data": {
      "text/html": [
       "<div>\n",
       "<style scoped>\n",
       "    .dataframe tbody tr th:only-of-type {\n",
       "        vertical-align: middle;\n",
       "    }\n",
       "\n",
       "    .dataframe tbody tr th {\n",
       "        vertical-align: top;\n",
       "    }\n",
       "\n",
       "    .dataframe thead th {\n",
       "        text-align: right;\n",
       "    }\n",
       "</style>\n",
       "<table border=\"1\" class=\"dataframe\">\n",
       "  <thead>\n",
       "    <tr style=\"text-align: right;\">\n",
       "      <th></th>\n",
       "      <th>Item_Weight</th>\n",
       "      <th>Item_Fat_Content</th>\n",
       "      <th>Item_Visibility</th>\n",
       "      <th>Item_Type</th>\n",
       "      <th>Item_MRP</th>\n",
       "      <th>Outlet_Establishment_Year</th>\n",
       "      <th>Outlet_Size</th>\n",
       "      <th>Outlet_Location_Type</th>\n",
       "      <th>Outlet_Type</th>\n",
       "    </tr>\n",
       "  </thead>\n",
       "  <tbody>\n",
       "    <tr>\n",
       "      <th>0</th>\n",
       "      <td>20.750000</td>\n",
       "      <td>0</td>\n",
       "      <td>0.007565</td>\n",
       "      <td>13</td>\n",
       "      <td>107.8622</td>\n",
       "      <td>1999</td>\n",
       "      <td>1</td>\n",
       "      <td>0</td>\n",
       "      <td>1</td>\n",
       "    </tr>\n",
       "    <tr>\n",
       "      <th>1</th>\n",
       "      <td>8.300000</td>\n",
       "      <td>1</td>\n",
       "      <td>0.038428</td>\n",
       "      <td>4</td>\n",
       "      <td>87.3198</td>\n",
       "      <td>2007</td>\n",
       "      <td>0</td>\n",
       "      <td>1</td>\n",
       "      <td>1</td>\n",
       "    </tr>\n",
       "    <tr>\n",
       "      <th>2</th>\n",
       "      <td>14.600000</td>\n",
       "      <td>0</td>\n",
       "      <td>0.099575</td>\n",
       "      <td>11</td>\n",
       "      <td>241.7538</td>\n",
       "      <td>1998</td>\n",
       "      <td>0</td>\n",
       "      <td>2</td>\n",
       "      <td>0</td>\n",
       "    </tr>\n",
       "    <tr>\n",
       "      <th>3</th>\n",
       "      <td>7.315000</td>\n",
       "      <td>0</td>\n",
       "      <td>0.015388</td>\n",
       "      <td>13</td>\n",
       "      <td>155.0340</td>\n",
       "      <td>2007</td>\n",
       "      <td>0</td>\n",
       "      <td>1</td>\n",
       "      <td>1</td>\n",
       "    </tr>\n",
       "    <tr>\n",
       "      <th>4</th>\n",
       "      <td>12.695633</td>\n",
       "      <td>1</td>\n",
       "      <td>0.118599</td>\n",
       "      <td>4</td>\n",
       "      <td>234.2300</td>\n",
       "      <td>1985</td>\n",
       "      <td>1</td>\n",
       "      <td>2</td>\n",
       "      <td>3</td>\n",
       "    </tr>\n",
       "    <tr>\n",
       "      <th>...</th>\n",
       "      <td>...</td>\n",
       "      <td>...</td>\n",
       "      <td>...</td>\n",
       "      <td>...</td>\n",
       "      <td>...</td>\n",
       "      <td>...</td>\n",
       "      <td>...</td>\n",
       "      <td>...</td>\n",
       "      <td>...</td>\n",
       "    </tr>\n",
       "    <tr>\n",
       "      <th>5676</th>\n",
       "      <td>10.500000</td>\n",
       "      <td>1</td>\n",
       "      <td>0.013496</td>\n",
       "      <td>13</td>\n",
       "      <td>141.3154</td>\n",
       "      <td>1997</td>\n",
       "      <td>2</td>\n",
       "      <td>0</td>\n",
       "      <td>1</td>\n",
       "    </tr>\n",
       "    <tr>\n",
       "      <th>5677</th>\n",
       "      <td>7.600000</td>\n",
       "      <td>1</td>\n",
       "      <td>0.142991</td>\n",
       "      <td>15</td>\n",
       "      <td>169.1448</td>\n",
       "      <td>2009</td>\n",
       "      <td>1</td>\n",
       "      <td>2</td>\n",
       "      <td>2</td>\n",
       "    </tr>\n",
       "    <tr>\n",
       "      <th>5678</th>\n",
       "      <td>10.000000</td>\n",
       "      <td>0</td>\n",
       "      <td>0.073529</td>\n",
       "      <td>8</td>\n",
       "      <td>118.7440</td>\n",
       "      <td>2002</td>\n",
       "      <td>0</td>\n",
       "      <td>1</td>\n",
       "      <td>1</td>\n",
       "    </tr>\n",
       "    <tr>\n",
       "      <th>5679</th>\n",
       "      <td>15.300000</td>\n",
       "      <td>1</td>\n",
       "      <td>0.000000</td>\n",
       "      <td>3</td>\n",
       "      <td>214.6218</td>\n",
       "      <td>2007</td>\n",
       "      <td>0</td>\n",
       "      <td>1</td>\n",
       "      <td>1</td>\n",
       "    </tr>\n",
       "    <tr>\n",
       "      <th>5680</th>\n",
       "      <td>9.500000</td>\n",
       "      <td>1</td>\n",
       "      <td>0.104720</td>\n",
       "      <td>3</td>\n",
       "      <td>79.7960</td>\n",
       "      <td>2002</td>\n",
       "      <td>0</td>\n",
       "      <td>1</td>\n",
       "      <td>1</td>\n",
       "    </tr>\n",
       "  </tbody>\n",
       "</table>\n",
       "<p>5681 rows × 9 columns</p>\n",
       "</div>"
      ],
      "text/plain": [
       "      Item_Weight  Item_Fat_Content  Item_Visibility  Item_Type  Item_MRP  \\\n",
       "0       20.750000                 0         0.007565         13  107.8622   \n",
       "1        8.300000                 1         0.038428          4   87.3198   \n",
       "2       14.600000                 0         0.099575         11  241.7538   \n",
       "3        7.315000                 0         0.015388         13  155.0340   \n",
       "4       12.695633                 1         0.118599          4  234.2300   \n",
       "...           ...               ...              ...        ...       ...   \n",
       "5676    10.500000                 1         0.013496         13  141.3154   \n",
       "5677     7.600000                 1         0.142991         15  169.1448   \n",
       "5678    10.000000                 0         0.073529          8  118.7440   \n",
       "5679    15.300000                 1         0.000000          3  214.6218   \n",
       "5680     9.500000                 1         0.104720          3   79.7960   \n",
       "\n",
       "      Outlet_Establishment_Year  Outlet_Size  Outlet_Location_Type  \\\n",
       "0                          1999            1                     0   \n",
       "1                          2007            0                     1   \n",
       "2                          1998            0                     2   \n",
       "3                          2007            0                     1   \n",
       "4                          1985            1                     2   \n",
       "...                         ...          ...                   ...   \n",
       "5676                       1997            2                     0   \n",
       "5677                       2009            1                     2   \n",
       "5678                       2002            0                     1   \n",
       "5679                       2007            0                     1   \n",
       "5680                       2002            0                     1   \n",
       "\n",
       "      Outlet_Type  \n",
       "0               1  \n",
       "1               1  \n",
       "2               0  \n",
       "3               1  \n",
       "4               3  \n",
       "...           ...  \n",
       "5676            1  \n",
       "5677            2  \n",
       "5678            1  \n",
       "5679            1  \n",
       "5680            1  \n",
       "\n",
       "[5681 rows x 9 columns]"
      ]
     },
     "execution_count": 51,
     "metadata": {},
     "output_type": "execute_result"
    }
   ],
   "source": [
    "test_df"
   ]
  },
  {
   "cell_type": "code",
   "execution_count": 52,
   "id": "89e176e5",
   "metadata": {},
   "outputs": [
    {
     "data": {
      "text/html": [
       "<div>\n",
       "<style scoped>\n",
       "    .dataframe tbody tr th:only-of-type {\n",
       "        vertical-align: middle;\n",
       "    }\n",
       "\n",
       "    .dataframe tbody tr th {\n",
       "        vertical-align: top;\n",
       "    }\n",
       "\n",
       "    .dataframe thead th {\n",
       "        text-align: right;\n",
       "    }\n",
       "</style>\n",
       "<table border=\"1\" class=\"dataframe\">\n",
       "  <thead>\n",
       "    <tr style=\"text-align: right;\">\n",
       "      <th></th>\n",
       "      <th>Item_Weight</th>\n",
       "      <th>Item_Fat_Content</th>\n",
       "      <th>Item_Visibility</th>\n",
       "      <th>Item_Type</th>\n",
       "      <th>Item_MRP</th>\n",
       "      <th>Outlet_Establishment_Year</th>\n",
       "      <th>Outlet_Size</th>\n",
       "      <th>Outlet_Location_Type</th>\n",
       "      <th>Outlet_Type</th>\n",
       "      <th>Item_Outlet_Sales</th>\n",
       "    </tr>\n",
       "  </thead>\n",
       "  <tbody>\n",
       "    <tr>\n",
       "      <th>count</th>\n",
       "      <td>8523.000000</td>\n",
       "      <td>8523.000000</td>\n",
       "      <td>8523.000000</td>\n",
       "      <td>8523.000000</td>\n",
       "      <td>8523.000000</td>\n",
       "      <td>8523.000000</td>\n",
       "      <td>8523.000000</td>\n",
       "      <td>8523.000000</td>\n",
       "      <td>8523.000000</td>\n",
       "      <td>8523.000000</td>\n",
       "    </tr>\n",
       "    <tr>\n",
       "      <th>mean</th>\n",
       "      <td>12.857645</td>\n",
       "      <td>0.352693</td>\n",
       "      <td>0.066132</td>\n",
       "      <td>7.226681</td>\n",
       "      <td>140.992782</td>\n",
       "      <td>1997.831867</td>\n",
       "      <td>0.888068</td>\n",
       "      <td>1.112871</td>\n",
       "      <td>1.201220</td>\n",
       "      <td>2181.288914</td>\n",
       "    </tr>\n",
       "    <tr>\n",
       "      <th>std</th>\n",
       "      <td>4.226124</td>\n",
       "      <td>0.477836</td>\n",
       "      <td>0.051598</td>\n",
       "      <td>4.209990</td>\n",
       "      <td>62.275067</td>\n",
       "      <td>8.371760</td>\n",
       "      <td>0.812310</td>\n",
       "      <td>0.812757</td>\n",
       "      <td>0.796459</td>\n",
       "      <td>1706.499616</td>\n",
       "    </tr>\n",
       "    <tr>\n",
       "      <th>min</th>\n",
       "      <td>4.555000</td>\n",
       "      <td>0.000000</td>\n",
       "      <td>0.000000</td>\n",
       "      <td>0.000000</td>\n",
       "      <td>31.290000</td>\n",
       "      <td>1985.000000</td>\n",
       "      <td>0.000000</td>\n",
       "      <td>0.000000</td>\n",
       "      <td>0.000000</td>\n",
       "      <td>33.290000</td>\n",
       "    </tr>\n",
       "    <tr>\n",
       "      <th>25%</th>\n",
       "      <td>9.310000</td>\n",
       "      <td>0.000000</td>\n",
       "      <td>0.026989</td>\n",
       "      <td>4.000000</td>\n",
       "      <td>93.826500</td>\n",
       "      <td>1987.000000</td>\n",
       "      <td>0.000000</td>\n",
       "      <td>0.000000</td>\n",
       "      <td>1.000000</td>\n",
       "      <td>834.247400</td>\n",
       "    </tr>\n",
       "    <tr>\n",
       "      <th>50%</th>\n",
       "      <td>12.857645</td>\n",
       "      <td>0.000000</td>\n",
       "      <td>0.053931</td>\n",
       "      <td>6.000000</td>\n",
       "      <td>143.012800</td>\n",
       "      <td>1999.000000</td>\n",
       "      <td>1.000000</td>\n",
       "      <td>1.000000</td>\n",
       "      <td>1.000000</td>\n",
       "      <td>1794.331000</td>\n",
       "    </tr>\n",
       "    <tr>\n",
       "      <th>75%</th>\n",
       "      <td>16.000000</td>\n",
       "      <td>1.000000</td>\n",
       "      <td>0.094585</td>\n",
       "      <td>10.000000</td>\n",
       "      <td>185.643700</td>\n",
       "      <td>2004.000000</td>\n",
       "      <td>2.000000</td>\n",
       "      <td>2.000000</td>\n",
       "      <td>1.000000</td>\n",
       "      <td>3101.296400</td>\n",
       "    </tr>\n",
       "    <tr>\n",
       "      <th>max</th>\n",
       "      <td>21.350000</td>\n",
       "      <td>1.000000</td>\n",
       "      <td>0.328391</td>\n",
       "      <td>15.000000</td>\n",
       "      <td>266.888400</td>\n",
       "      <td>2009.000000</td>\n",
       "      <td>2.000000</td>\n",
       "      <td>2.000000</td>\n",
       "      <td>3.000000</td>\n",
       "      <td>13086.964800</td>\n",
       "    </tr>\n",
       "  </tbody>\n",
       "</table>\n",
       "</div>"
      ],
      "text/plain": [
       "       Item_Weight  Item_Fat_Content  Item_Visibility    Item_Type  \\\n",
       "count  8523.000000       8523.000000      8523.000000  8523.000000   \n",
       "mean     12.857645          0.352693         0.066132     7.226681   \n",
       "std       4.226124          0.477836         0.051598     4.209990   \n",
       "min       4.555000          0.000000         0.000000     0.000000   \n",
       "25%       9.310000          0.000000         0.026989     4.000000   \n",
       "50%      12.857645          0.000000         0.053931     6.000000   \n",
       "75%      16.000000          1.000000         0.094585    10.000000   \n",
       "max      21.350000          1.000000         0.328391    15.000000   \n",
       "\n",
       "          Item_MRP  Outlet_Establishment_Year  Outlet_Size  \\\n",
       "count  8523.000000                8523.000000  8523.000000   \n",
       "mean    140.992782                1997.831867     0.888068   \n",
       "std      62.275067                   8.371760     0.812310   \n",
       "min      31.290000                1985.000000     0.000000   \n",
       "25%      93.826500                1987.000000     0.000000   \n",
       "50%     143.012800                1999.000000     1.000000   \n",
       "75%     185.643700                2004.000000     2.000000   \n",
       "max     266.888400                2009.000000     2.000000   \n",
       "\n",
       "       Outlet_Location_Type  Outlet_Type  Item_Outlet_Sales  \n",
       "count           8523.000000  8523.000000        8523.000000  \n",
       "mean               1.112871     1.201220        2181.288914  \n",
       "std                0.812757     0.796459        1706.499616  \n",
       "min                0.000000     0.000000          33.290000  \n",
       "25%                0.000000     1.000000         834.247400  \n",
       "50%                1.000000     1.000000        1794.331000  \n",
       "75%                2.000000     1.000000        3101.296400  \n",
       "max                2.000000     3.000000       13086.964800  "
      ]
     },
     "execution_count": 52,
     "metadata": {},
     "output_type": "execute_result"
    }
   ],
   "source": [
    "train_df.describe()"
   ]
  },
  {
   "cell_type": "markdown",
   "id": "a734e839",
   "metadata": {},
   "source": [
    "The mean is deviated from median in certain columns, which shows the columns may have skewness.\n",
    "\n",
    "There are large difference between 75th percentile and the maximum values in Item_Type, Item_MRP, so there can be outliers present in the columns which cn be handled with z score"
   ]
  },
  {
   "cell_type": "markdown",
   "id": "98655ec8",
   "metadata": {},
   "source": [
    "# To Find Correlation"
   ]
  },
  {
   "cell_type": "code",
   "execution_count": 53,
   "id": "5e07123e",
   "metadata": {},
   "outputs": [
    {
     "data": {
      "text/html": [
       "<div>\n",
       "<style scoped>\n",
       "    .dataframe tbody tr th:only-of-type {\n",
       "        vertical-align: middle;\n",
       "    }\n",
       "\n",
       "    .dataframe tbody tr th {\n",
       "        vertical-align: top;\n",
       "    }\n",
       "\n",
       "    .dataframe thead th {\n",
       "        text-align: right;\n",
       "    }\n",
       "</style>\n",
       "<table border=\"1\" class=\"dataframe\">\n",
       "  <thead>\n",
       "    <tr style=\"text-align: right;\">\n",
       "      <th></th>\n",
       "      <th>Item_Weight</th>\n",
       "      <th>Item_Fat_Content</th>\n",
       "      <th>Item_Visibility</th>\n",
       "      <th>Item_Type</th>\n",
       "      <th>Item_MRP</th>\n",
       "      <th>Outlet_Establishment_Year</th>\n",
       "      <th>Outlet_Size</th>\n",
       "      <th>Outlet_Location_Type</th>\n",
       "      <th>Outlet_Type</th>\n",
       "      <th>Item_Outlet_Sales</th>\n",
       "    </tr>\n",
       "  </thead>\n",
       "  <tbody>\n",
       "    <tr>\n",
       "      <th>Item_Weight</th>\n",
       "      <td>1.000000</td>\n",
       "      <td>-0.021157</td>\n",
       "      <td>-0.012049</td>\n",
       "      <td>0.028015</td>\n",
       "      <td>0.024756</td>\n",
       "      <td>-0.008301</td>\n",
       "      <td>0.001182</td>\n",
       "      <td>0.004088</td>\n",
       "      <td>-0.000566</td>\n",
       "      <td>0.011550</td>\n",
       "    </tr>\n",
       "    <tr>\n",
       "      <th>Item_Fat_Content</th>\n",
       "      <td>-0.021157</td>\n",
       "      <td>1.000000</td>\n",
       "      <td>0.047314</td>\n",
       "      <td>-0.139434</td>\n",
       "      <td>0.006063</td>\n",
       "      <td>0.003151</td>\n",
       "      <td>0.000142</td>\n",
       "      <td>-0.001598</td>\n",
       "      <td>0.002199</td>\n",
       "      <td>0.018719</td>\n",
       "    </tr>\n",
       "    <tr>\n",
       "      <th>Item_Visibility</th>\n",
       "      <td>-0.012049</td>\n",
       "      <td>0.047314</td>\n",
       "      <td>1.000000</td>\n",
       "      <td>-0.035249</td>\n",
       "      <td>-0.001315</td>\n",
       "      <td>-0.074834</td>\n",
       "      <td>0.023376</td>\n",
       "      <td>-0.028099</td>\n",
       "      <td>-0.173468</td>\n",
       "      <td>-0.128625</td>\n",
       "    </tr>\n",
       "    <tr>\n",
       "      <th>Item_Type</th>\n",
       "      <td>0.028015</td>\n",
       "      <td>-0.139434</td>\n",
       "      <td>-0.035249</td>\n",
       "      <td>1.000000</td>\n",
       "      <td>0.032651</td>\n",
       "      <td>0.004970</td>\n",
       "      <td>-0.002565</td>\n",
       "      <td>0.003084</td>\n",
       "      <td>0.003053</td>\n",
       "      <td>0.017048</td>\n",
       "    </tr>\n",
       "    <tr>\n",
       "      <th>Item_MRP</th>\n",
       "      <td>0.024756</td>\n",
       "      <td>0.006063</td>\n",
       "      <td>-0.001315</td>\n",
       "      <td>0.032651</td>\n",
       "      <td>1.000000</td>\n",
       "      <td>0.005020</td>\n",
       "      <td>0.008222</td>\n",
       "      <td>0.000232</td>\n",
       "      <td>-0.001975</td>\n",
       "      <td>0.567574</td>\n",
       "    </tr>\n",
       "    <tr>\n",
       "      <th>Outlet_Establishment_Year</th>\n",
       "      <td>-0.008301</td>\n",
       "      <td>0.003151</td>\n",
       "      <td>-0.074834</td>\n",
       "      <td>0.004970</td>\n",
       "      <td>0.005020</td>\n",
       "      <td>1.000000</td>\n",
       "      <td>-0.071996</td>\n",
       "      <td>-0.089216</td>\n",
       "      <td>-0.122304</td>\n",
       "      <td>-0.049135</td>\n",
       "    </tr>\n",
       "    <tr>\n",
       "      <th>Outlet_Size</th>\n",
       "      <td>0.001182</td>\n",
       "      <td>0.000142</td>\n",
       "      <td>0.023376</td>\n",
       "      <td>-0.002565</td>\n",
       "      <td>0.008222</td>\n",
       "      <td>-0.071996</td>\n",
       "      <td>1.000000</td>\n",
       "      <td>-0.504295</td>\n",
       "      <td>0.039714</td>\n",
       "      <td>0.009478</td>\n",
       "    </tr>\n",
       "    <tr>\n",
       "      <th>Outlet_Location_Type</th>\n",
       "      <td>0.004088</td>\n",
       "      <td>-0.001598</td>\n",
       "      <td>-0.028099</td>\n",
       "      <td>0.003084</td>\n",
       "      <td>0.000232</td>\n",
       "      <td>-0.089216</td>\n",
       "      <td>-0.504295</td>\n",
       "      <td>1.000000</td>\n",
       "      <td>0.467219</td>\n",
       "      <td>0.089367</td>\n",
       "    </tr>\n",
       "    <tr>\n",
       "      <th>Outlet_Type</th>\n",
       "      <td>-0.000566</td>\n",
       "      <td>0.002199</td>\n",
       "      <td>-0.173468</td>\n",
       "      <td>0.003053</td>\n",
       "      <td>-0.001975</td>\n",
       "      <td>-0.122304</td>\n",
       "      <td>0.039714</td>\n",
       "      <td>0.467219</td>\n",
       "      <td>1.000000</td>\n",
       "      <td>0.401522</td>\n",
       "    </tr>\n",
       "    <tr>\n",
       "      <th>Item_Outlet_Sales</th>\n",
       "      <td>0.011550</td>\n",
       "      <td>0.018719</td>\n",
       "      <td>-0.128625</td>\n",
       "      <td>0.017048</td>\n",
       "      <td>0.567574</td>\n",
       "      <td>-0.049135</td>\n",
       "      <td>0.009478</td>\n",
       "      <td>0.089367</td>\n",
       "      <td>0.401522</td>\n",
       "      <td>1.000000</td>\n",
       "    </tr>\n",
       "  </tbody>\n",
       "</table>\n",
       "</div>"
      ],
      "text/plain": [
       "                           Item_Weight  Item_Fat_Content  Item_Visibility  \\\n",
       "Item_Weight                   1.000000         -0.021157        -0.012049   \n",
       "Item_Fat_Content             -0.021157          1.000000         0.047314   \n",
       "Item_Visibility              -0.012049          0.047314         1.000000   \n",
       "Item_Type                     0.028015         -0.139434        -0.035249   \n",
       "Item_MRP                      0.024756          0.006063        -0.001315   \n",
       "Outlet_Establishment_Year    -0.008301          0.003151        -0.074834   \n",
       "Outlet_Size                   0.001182          0.000142         0.023376   \n",
       "Outlet_Location_Type          0.004088         -0.001598        -0.028099   \n",
       "Outlet_Type                  -0.000566          0.002199        -0.173468   \n",
       "Item_Outlet_Sales             0.011550          0.018719        -0.128625   \n",
       "\n",
       "                           Item_Type  Item_MRP  Outlet_Establishment_Year  \\\n",
       "Item_Weight                 0.028015  0.024756                  -0.008301   \n",
       "Item_Fat_Content           -0.139434  0.006063                   0.003151   \n",
       "Item_Visibility            -0.035249 -0.001315                  -0.074834   \n",
       "Item_Type                   1.000000  0.032651                   0.004970   \n",
       "Item_MRP                    0.032651  1.000000                   0.005020   \n",
       "Outlet_Establishment_Year   0.004970  0.005020                   1.000000   \n",
       "Outlet_Size                -0.002565  0.008222                  -0.071996   \n",
       "Outlet_Location_Type        0.003084  0.000232                  -0.089216   \n",
       "Outlet_Type                 0.003053 -0.001975                  -0.122304   \n",
       "Item_Outlet_Sales           0.017048  0.567574                  -0.049135   \n",
       "\n",
       "                           Outlet_Size  Outlet_Location_Type  Outlet_Type  \\\n",
       "Item_Weight                   0.001182              0.004088    -0.000566   \n",
       "Item_Fat_Content              0.000142             -0.001598     0.002199   \n",
       "Item_Visibility               0.023376             -0.028099    -0.173468   \n",
       "Item_Type                    -0.002565              0.003084     0.003053   \n",
       "Item_MRP                      0.008222              0.000232    -0.001975   \n",
       "Outlet_Establishment_Year    -0.071996             -0.089216    -0.122304   \n",
       "Outlet_Size                   1.000000             -0.504295     0.039714   \n",
       "Outlet_Location_Type         -0.504295              1.000000     0.467219   \n",
       "Outlet_Type                   0.039714              0.467219     1.000000   \n",
       "Item_Outlet_Sales             0.009478              0.089367     0.401522   \n",
       "\n",
       "                           Item_Outlet_Sales  \n",
       "Item_Weight                         0.011550  \n",
       "Item_Fat_Content                    0.018719  \n",
       "Item_Visibility                    -0.128625  \n",
       "Item_Type                           0.017048  \n",
       "Item_MRP                            0.567574  \n",
       "Outlet_Establishment_Year          -0.049135  \n",
       "Outlet_Size                         0.009478  \n",
       "Outlet_Location_Type                0.089367  \n",
       "Outlet_Type                         0.401522  \n",
       "Item_Outlet_Sales                   1.000000  "
      ]
     },
     "execution_count": 53,
     "metadata": {},
     "output_type": "execute_result"
    }
   ],
   "source": [
    "train_df.corr()"
   ]
  },
  {
   "cell_type": "code",
   "execution_count": 54,
   "id": "69410163",
   "metadata": {},
   "outputs": [
    {
     "data": {
      "text/plain": [
       "<AxesSubplot:>"
      ]
     },
     "execution_count": 54,
     "metadata": {},
     "output_type": "execute_result"
    },
    {
     "data": {
      "image/png": "[encoded data removed]",
      "text/plain": [
       "<Figure size 1440x720 with 2 Axes>"
      ]
     },
     "metadata": {
      "needs_background": "light"
     },
     "output_type": "display_data"
    }
   ],
   "source": [
    "plt.figure(figsize=(20,10))\n",
    "sns.heatmap(train_df.corr(),annot=True)"
   ]
  },
  {
   "cell_type": "markdown",
   "id": "3ee406f5",
   "metadata": {},
   "source": [
    "Item_MRP is highly correlated with Sales.\n",
    "\n",
    "Outlet_Type is also correlated to Sales column.\n",
    "\n",
    "Outlet_establishment_year has no correlation with the sales.\n",
    "\n",
    "Outlet_Location_Type and Outlet_Type is correlated to each other. \n",
    "\n",
    "we will drop Outlet_establishment_year"
   ]
  },
  {
   "cell_type": "code",
   "execution_count": 55,
   "id": "16d73c37",
   "metadata": {},
   "outputs": [],
   "source": [
    "train_df.drop(columns='Outlet_Establishment_Year', axis=1, inplace=True)\n",
    "test_df.drop(columns='Outlet_Establishment_Year', axis=1, inplace=True)"
   ]
  },
  {
   "cell_type": "code",
   "execution_count": 56,
   "id": "ca74ea00",
   "metadata": {},
   "outputs": [
    {
     "data": {
      "image/png": "[encoded data removed]",
      "text/plain": [
       "<Figure size 432x288 with 1 Axes>"
      ]
     },
     "metadata": {
      "needs_background": "light"
     },
     "output_type": "display_data"
    }
   ],
   "source": [
    "sns.scatterplot(x='Item_MRP', y='Item_Outlet_Sales', data=train_df)\n",
    "plt.show()"
   ]
  },
  {
   "cell_type": "markdown",
   "id": "de101513",
   "metadata": {},
   "source": [
    "The Sales increases with increase in Item_MRP, which shows they are positively correlated."
   ]
  },
  {
   "cell_type": "code",
   "execution_count": 57,
   "id": "e1caf2b5",
   "metadata": {},
   "outputs": [
    {
     "data": {
      "image/png": "[encoded data removed]",
      "text/plain": [
       "<Figure size 432x288 with 1 Axes>"
      ]
     },
     "metadata": {
      "needs_background": "light"
     },
     "output_type": "display_data"
    }
   ],
   "source": [
    "sns.scatterplot(x='Outlet_Type', y='Item_Outlet_Sales', data=train_df)\n",
    "plt.show()"
   ]
  },
  {
   "cell_type": "markdown",
   "id": "9cb1c746",
   "metadata": {},
   "source": [
    "This shows that the sales is high with Supermarket type1 and supermarket type3."
   ]
  },
  {
   "cell_type": "markdown",
   "id": "2f8469bc",
   "metadata": {},
   "source": [
    "# Check For Collinearity - VIF"
   ]
  },
  {
   "cell_type": "code",
   "execution_count": 58,
   "id": "560372f6",
   "metadata": {},
   "outputs": [],
   "source": [
    "from statsmodels.stats.outliers_influence import variance_inflation_factor"
   ]
  },
  {
   "cell_type": "code",
   "execution_count": 59,
   "id": "e1bba02e",
   "metadata": {},
   "outputs": [
    {
     "data": {
      "text/html": [
       "<div>\n",
       "<style scoped>\n",
       "    .dataframe tbody tr th:only-of-type {\n",
       "        vertical-align: middle;\n",
       "    }\n",
       "\n",
       "    .dataframe tbody tr th {\n",
       "        vertical-align: top;\n",
       "    }\n",
       "\n",
       "    .dataframe thead th {\n",
       "        text-align: right;\n",
       "    }\n",
       "</style>\n",
       "<table border=\"1\" class=\"dataframe\">\n",
       "  <thead>\n",
       "    <tr style=\"text-align: right;\">\n",
       "      <th></th>\n",
       "      <th>Item_Weight</th>\n",
       "      <th>Item_Fat_Content</th>\n",
       "      <th>Item_Visibility</th>\n",
       "      <th>Item_Type</th>\n",
       "      <th>Item_MRP</th>\n",
       "      <th>Outlet_Size</th>\n",
       "      <th>Outlet_Location_Type</th>\n",
       "      <th>Outlet_Type</th>\n",
       "    </tr>\n",
       "  </thead>\n",
       "  <tbody>\n",
       "    <tr>\n",
       "      <th>0</th>\n",
       "      <td>9.300</td>\n",
       "      <td>0</td>\n",
       "      <td>0.016047</td>\n",
       "      <td>4</td>\n",
       "      <td>249.8092</td>\n",
       "      <td>1</td>\n",
       "      <td>0</td>\n",
       "      <td>1</td>\n",
       "    </tr>\n",
       "    <tr>\n",
       "      <th>1</th>\n",
       "      <td>5.920</td>\n",
       "      <td>1</td>\n",
       "      <td>0.019278</td>\n",
       "      <td>14</td>\n",
       "      <td>48.2692</td>\n",
       "      <td>1</td>\n",
       "      <td>2</td>\n",
       "      <td>2</td>\n",
       "    </tr>\n",
       "    <tr>\n",
       "      <th>2</th>\n",
       "      <td>17.500</td>\n",
       "      <td>0</td>\n",
       "      <td>0.016760</td>\n",
       "      <td>10</td>\n",
       "      <td>141.6180</td>\n",
       "      <td>1</td>\n",
       "      <td>0</td>\n",
       "      <td>1</td>\n",
       "    </tr>\n",
       "    <tr>\n",
       "      <th>3</th>\n",
       "      <td>19.200</td>\n",
       "      <td>1</td>\n",
       "      <td>0.000000</td>\n",
       "      <td>6</td>\n",
       "      <td>182.0950</td>\n",
       "      <td>0</td>\n",
       "      <td>2</td>\n",
       "      <td>0</td>\n",
       "    </tr>\n",
       "    <tr>\n",
       "      <th>4</th>\n",
       "      <td>8.930</td>\n",
       "      <td>0</td>\n",
       "      <td>0.000000</td>\n",
       "      <td>9</td>\n",
       "      <td>53.8614</td>\n",
       "      <td>0</td>\n",
       "      <td>2</td>\n",
       "      <td>1</td>\n",
       "    </tr>\n",
       "    <tr>\n",
       "      <th>...</th>\n",
       "      <td>...</td>\n",
       "      <td>...</td>\n",
       "      <td>...</td>\n",
       "      <td>...</td>\n",
       "      <td>...</td>\n",
       "      <td>...</td>\n",
       "      <td>...</td>\n",
       "      <td>...</td>\n",
       "    </tr>\n",
       "    <tr>\n",
       "      <th>8518</th>\n",
       "      <td>6.865</td>\n",
       "      <td>0</td>\n",
       "      <td>0.056783</td>\n",
       "      <td>13</td>\n",
       "      <td>214.5218</td>\n",
       "      <td>0</td>\n",
       "      <td>2</td>\n",
       "      <td>1</td>\n",
       "    </tr>\n",
       "    <tr>\n",
       "      <th>8519</th>\n",
       "      <td>8.380</td>\n",
       "      <td>1</td>\n",
       "      <td>0.046982</td>\n",
       "      <td>0</td>\n",
       "      <td>108.1570</td>\n",
       "      <td>0</td>\n",
       "      <td>1</td>\n",
       "      <td>1</td>\n",
       "    </tr>\n",
       "    <tr>\n",
       "      <th>8520</th>\n",
       "      <td>10.600</td>\n",
       "      <td>0</td>\n",
       "      <td>0.035186</td>\n",
       "      <td>8</td>\n",
       "      <td>85.1224</td>\n",
       "      <td>2</td>\n",
       "      <td>1</td>\n",
       "      <td>1</td>\n",
       "    </tr>\n",
       "    <tr>\n",
       "      <th>8521</th>\n",
       "      <td>7.210</td>\n",
       "      <td>1</td>\n",
       "      <td>0.145221</td>\n",
       "      <td>13</td>\n",
       "      <td>103.1332</td>\n",
       "      <td>1</td>\n",
       "      <td>2</td>\n",
       "      <td>2</td>\n",
       "    </tr>\n",
       "    <tr>\n",
       "      <th>8522</th>\n",
       "      <td>14.800</td>\n",
       "      <td>0</td>\n",
       "      <td>0.044878</td>\n",
       "      <td>14</td>\n",
       "      <td>75.4670</td>\n",
       "      <td>2</td>\n",
       "      <td>0</td>\n",
       "      <td>1</td>\n",
       "    </tr>\n",
       "  </tbody>\n",
       "</table>\n",
       "<p>8523 rows × 8 columns</p>\n",
       "</div>"
      ],
      "text/plain": [
       "      Item_Weight  Item_Fat_Content  Item_Visibility  Item_Type  Item_MRP  \\\n",
       "0           9.300                 0         0.016047          4  249.8092   \n",
       "1           5.920                 1         0.019278         14   48.2692   \n",
       "2          17.500                 0         0.016760         10  141.6180   \n",
       "3          19.200                 1         0.000000          6  182.0950   \n",
       "4           8.930                 0         0.000000          9   53.8614   \n",
       "...           ...               ...              ...        ...       ...   \n",
       "8518        6.865                 0         0.056783         13  214.5218   \n",
       "8519        8.380                 1         0.046982          0  108.1570   \n",
       "8520       10.600                 0         0.035186          8   85.1224   \n",
       "8521        7.210                 1         0.145221         13  103.1332   \n",
       "8522       14.800                 0         0.044878         14   75.4670   \n",
       "\n",
       "      Outlet_Size  Outlet_Location_Type  Outlet_Type  \n",
       "0               1                     0            1  \n",
       "1               1                     2            2  \n",
       "2               1                     0            1  \n",
       "3               0                     2            0  \n",
       "4               0                     2            1  \n",
       "...           ...                   ...          ...  \n",
       "8518            0                     2            1  \n",
       "8519            0                     1            1  \n",
       "8520            2                     1            1  \n",
       "8521            1                     2            2  \n",
       "8522            2                     0            1  \n",
       "\n",
       "[8523 rows x 8 columns]"
      ]
     },
     "execution_count": 59,
     "metadata": {},
     "output_type": "execute_result"
    }
   ],
   "source": [
    "df1=train_df.iloc[:,0:-1]\n",
    "df1"
   ]
  },
  {
   "cell_type": "code",
   "execution_count": 60,
   "id": "e1a867d1",
   "metadata": {},
   "outputs": [],
   "source": [
    "def vif_fun():\n",
    "    vif=pd.DataFrame()\n",
    "    vif['vif_factor']=[variance_inflation_factor(df1.values,i) for i in range(df1.shape[1])]\n",
    "    vif['features']=df1.columns\n",
    "    return(vif)"
   ]
  },
  {
   "cell_type": "code",
   "execution_count": 61,
   "id": "47d61cb0",
   "metadata": {},
   "outputs": [
    {
     "data": {
      "text/html": [
       "<div>\n",
       "<style scoped>\n",
       "    .dataframe tbody tr th:only-of-type {\n",
       "        vertical-align: middle;\n",
       "    }\n",
       "\n",
       "    .dataframe tbody tr th {\n",
       "        vertical-align: top;\n",
       "    }\n",
       "\n",
       "    .dataframe thead th {\n",
       "        text-align: right;\n",
       "    }\n",
       "</style>\n",
       "<table border=\"1\" class=\"dataframe\">\n",
       "  <thead>\n",
       "    <tr style=\"text-align: right;\">\n",
       "      <th></th>\n",
       "      <th>vif_factor</th>\n",
       "      <th>features</th>\n",
       "    </tr>\n",
       "  </thead>\n",
       "  <tbody>\n",
       "    <tr>\n",
       "      <th>0</th>\n",
       "      <td>6.882567</td>\n",
       "      <td>Item_Weight</td>\n",
       "    </tr>\n",
       "    <tr>\n",
       "      <th>1</th>\n",
       "      <td>1.525409</td>\n",
       "      <td>Item_Fat_Content</td>\n",
       "    </tr>\n",
       "    <tr>\n",
       "      <th>2</th>\n",
       "      <td>2.550053</td>\n",
       "      <td>Item_Visibility</td>\n",
       "    </tr>\n",
       "    <tr>\n",
       "      <th>3</th>\n",
       "      <td>3.583163</td>\n",
       "      <td>Item_Type</td>\n",
       "    </tr>\n",
       "    <tr>\n",
       "      <th>4</th>\n",
       "      <td>5.110747</td>\n",
       "      <td>Item_MRP</td>\n",
       "    </tr>\n",
       "    <tr>\n",
       "      <th>5</th>\n",
       "      <td>3.048898</td>\n",
       "      <td>Outlet_Size</td>\n",
       "    </tr>\n",
       "    <tr>\n",
       "      <th>6</th>\n",
       "      <td>5.228193</td>\n",
       "      <td>Outlet_Location_Type</td>\n",
       "    </tr>\n",
       "    <tr>\n",
       "      <th>7</th>\n",
       "      <td>4.957459</td>\n",
       "      <td>Outlet_Type</td>\n",
       "    </tr>\n",
       "  </tbody>\n",
       "</table>\n",
       "</div>"
      ],
      "text/plain": [
       "   vif_factor              features\n",
       "0    6.882567           Item_Weight\n",
       "1    1.525409      Item_Fat_Content\n",
       "2    2.550053       Item_Visibility\n",
       "3    3.583163             Item_Type\n",
       "4    5.110747              Item_MRP\n",
       "5    3.048898           Outlet_Size\n",
       "6    5.228193  Outlet_Location_Type\n",
       "7    4.957459           Outlet_Type"
      ]
     },
     "execution_count": 61,
     "metadata": {},
     "output_type": "execute_result"
    }
   ],
   "source": [
    "vif_fun() "
   ]
  },
  {
   "cell_type": "markdown",
   "id": "7b588538",
   "metadata": {},
   "source": [
    "Item _WEight and Outlet_Location_Type has collinearity, out of which Item_Weight contributes more to the target variable. So we will drop Outlet_Location_Type"
   ]
  },
  {
   "cell_type": "code",
   "execution_count": 137,
   "id": "645f71ef",
   "metadata": {},
   "outputs": [],
   "source": [
    "train_df.drop(columns='Outlet_Location_Type', axis=1, inplace=True)\n",
    "test_df.drop(columns='Outlet_Location_Type', axis=1, inplace=True)"
   ]
  },
  {
   "cell_type": "code",
   "execution_count": 139,
   "id": "6f29c89f",
   "metadata": {},
   "outputs": [
    {
     "data": {
      "text/html": [
       "<div>\n",
       "<style scoped>\n",
       "    .dataframe tbody tr th:only-of-type {\n",
       "        vertical-align: middle;\n",
       "    }\n",
       "\n",
       "    .dataframe tbody tr th {\n",
       "        vertical-align: top;\n",
       "    }\n",
       "\n",
       "    .dataframe thead th {\n",
       "        text-align: right;\n",
       "    }\n",
       "</style>\n",
       "<table border=\"1\" class=\"dataframe\">\n",
       "  <thead>\n",
       "    <tr style=\"text-align: right;\">\n",
       "      <th></th>\n",
       "      <th>Item_Weight</th>\n",
       "      <th>Item_Fat_Content</th>\n",
       "      <th>Item_Visibility</th>\n",
       "      <th>Item_Type</th>\n",
       "      <th>Item_MRP</th>\n",
       "      <th>Outlet_Size</th>\n",
       "      <th>Outlet_Type</th>\n",
       "      <th>Item_Outlet_Sales</th>\n",
       "    </tr>\n",
       "  </thead>\n",
       "  <tbody>\n",
       "    <tr>\n",
       "      <th>0</th>\n",
       "      <td>9.300</td>\n",
       "      <td>0</td>\n",
       "      <td>0.016047</td>\n",
       "      <td>4</td>\n",
       "      <td>249.8092</td>\n",
       "      <td>1</td>\n",
       "      <td>1</td>\n",
       "      <td>3735.1380</td>\n",
       "    </tr>\n",
       "    <tr>\n",
       "      <th>1</th>\n",
       "      <td>5.920</td>\n",
       "      <td>1</td>\n",
       "      <td>0.019278</td>\n",
       "      <td>14</td>\n",
       "      <td>48.2692</td>\n",
       "      <td>1</td>\n",
       "      <td>2</td>\n",
       "      <td>443.4228</td>\n",
       "    </tr>\n",
       "    <tr>\n",
       "      <th>2</th>\n",
       "      <td>17.500</td>\n",
       "      <td>0</td>\n",
       "      <td>0.016760</td>\n",
       "      <td>10</td>\n",
       "      <td>141.6180</td>\n",
       "      <td>1</td>\n",
       "      <td>1</td>\n",
       "      <td>2097.2700</td>\n",
       "    </tr>\n",
       "    <tr>\n",
       "      <th>3</th>\n",
       "      <td>19.200</td>\n",
       "      <td>1</td>\n",
       "      <td>0.000000</td>\n",
       "      <td>6</td>\n",
       "      <td>182.0950</td>\n",
       "      <td>0</td>\n",
       "      <td>0</td>\n",
       "      <td>732.3800</td>\n",
       "    </tr>\n",
       "    <tr>\n",
       "      <th>4</th>\n",
       "      <td>8.930</td>\n",
       "      <td>0</td>\n",
       "      <td>0.000000</td>\n",
       "      <td>9</td>\n",
       "      <td>53.8614</td>\n",
       "      <td>0</td>\n",
       "      <td>1</td>\n",
       "      <td>994.7052</td>\n",
       "    </tr>\n",
       "    <tr>\n",
       "      <th>...</th>\n",
       "      <td>...</td>\n",
       "      <td>...</td>\n",
       "      <td>...</td>\n",
       "      <td>...</td>\n",
       "      <td>...</td>\n",
       "      <td>...</td>\n",
       "      <td>...</td>\n",
       "      <td>...</td>\n",
       "    </tr>\n",
       "    <tr>\n",
       "      <th>8518</th>\n",
       "      <td>6.865</td>\n",
       "      <td>0</td>\n",
       "      <td>0.056783</td>\n",
       "      <td>13</td>\n",
       "      <td>214.5218</td>\n",
       "      <td>0</td>\n",
       "      <td>1</td>\n",
       "      <td>2778.3834</td>\n",
       "    </tr>\n",
       "    <tr>\n",
       "      <th>8519</th>\n",
       "      <td>8.380</td>\n",
       "      <td>1</td>\n",
       "      <td>0.046982</td>\n",
       "      <td>0</td>\n",
       "      <td>108.1570</td>\n",
       "      <td>0</td>\n",
       "      <td>1</td>\n",
       "      <td>549.2850</td>\n",
       "    </tr>\n",
       "    <tr>\n",
       "      <th>8520</th>\n",
       "      <td>10.600</td>\n",
       "      <td>0</td>\n",
       "      <td>0.035186</td>\n",
       "      <td>8</td>\n",
       "      <td>85.1224</td>\n",
       "      <td>2</td>\n",
       "      <td>1</td>\n",
       "      <td>1193.1136</td>\n",
       "    </tr>\n",
       "    <tr>\n",
       "      <th>8521</th>\n",
       "      <td>7.210</td>\n",
       "      <td>1</td>\n",
       "      <td>0.145221</td>\n",
       "      <td>13</td>\n",
       "      <td>103.1332</td>\n",
       "      <td>1</td>\n",
       "      <td>2</td>\n",
       "      <td>1845.5976</td>\n",
       "    </tr>\n",
       "    <tr>\n",
       "      <th>8522</th>\n",
       "      <td>14.800</td>\n",
       "      <td>0</td>\n",
       "      <td>0.044878</td>\n",
       "      <td>14</td>\n",
       "      <td>75.4670</td>\n",
       "      <td>2</td>\n",
       "      <td>1</td>\n",
       "      <td>765.6700</td>\n",
       "    </tr>\n",
       "  </tbody>\n",
       "</table>\n",
       "<p>8523 rows × 8 columns</p>\n",
       "</div>"
      ],
      "text/plain": [
       "      Item_Weight  Item_Fat_Content  Item_Visibility  Item_Type  Item_MRP  \\\n",
       "0           9.300                 0         0.016047          4  249.8092   \n",
       "1           5.920                 1         0.019278         14   48.2692   \n",
       "2          17.500                 0         0.016760         10  141.6180   \n",
       "3          19.200                 1         0.000000          6  182.0950   \n",
       "4           8.930                 0         0.000000          9   53.8614   \n",
       "...           ...               ...              ...        ...       ...   \n",
       "8518        6.865                 0         0.056783         13  214.5218   \n",
       "8519        8.380                 1         0.046982          0  108.1570   \n",
       "8520       10.600                 0         0.035186          8   85.1224   \n",
       "8521        7.210                 1         0.145221         13  103.1332   \n",
       "8522       14.800                 0         0.044878         14   75.4670   \n",
       "\n",
       "      Outlet_Size  Outlet_Type  Item_Outlet_Sales  \n",
       "0               1            1          3735.1380  \n",
       "1               1            2           443.4228  \n",
       "2               1            1          2097.2700  \n",
       "3               0            0           732.3800  \n",
       "4               0            1           994.7052  \n",
       "...           ...          ...                ...  \n",
       "8518            0            1          2778.3834  \n",
       "8519            0            1           549.2850  \n",
       "8520            2            1          1193.1136  \n",
       "8521            1            2          1845.5976  \n",
       "8522            2            1           765.6700  \n",
       "\n",
       "[8523 rows x 8 columns]"
      ]
     },
     "execution_count": 139,
     "metadata": {},
     "output_type": "execute_result"
    }
   ],
   "source": [
    "\n",
    "train_df"
   ]
  },
  {
   "cell_type": "code",
   "execution_count": 140,
   "id": "38db9cf2",
   "metadata": {},
   "outputs": [
    {
     "data": {
      "text/html": [
       "<div>\n",
       "<style scoped>\n",
       "    .dataframe tbody tr th:only-of-type {\n",
       "        vertical-align: middle;\n",
       "    }\n",
       "\n",
       "    .dataframe tbody tr th {\n",
       "        vertical-align: top;\n",
       "    }\n",
       "\n",
       "    .dataframe thead th {\n",
       "        text-align: right;\n",
       "    }\n",
       "</style>\n",
       "<table border=\"1\" class=\"dataframe\">\n",
       "  <thead>\n",
       "    <tr style=\"text-align: right;\">\n",
       "      <th></th>\n",
       "      <th>Item_Weight</th>\n",
       "      <th>Item_Fat_Content</th>\n",
       "      <th>Item_Visibility</th>\n",
       "      <th>Item_Type</th>\n",
       "      <th>Item_MRP</th>\n",
       "      <th>Outlet_Size</th>\n",
       "      <th>Outlet_Type</th>\n",
       "    </tr>\n",
       "  </thead>\n",
       "  <tbody>\n",
       "    <tr>\n",
       "      <th>0</th>\n",
       "      <td>9.300</td>\n",
       "      <td>0</td>\n",
       "      <td>0.016047</td>\n",
       "      <td>4</td>\n",
       "      <td>249.8092</td>\n",
       "      <td>1</td>\n",
       "      <td>1</td>\n",
       "    </tr>\n",
       "    <tr>\n",
       "      <th>1</th>\n",
       "      <td>5.920</td>\n",
       "      <td>1</td>\n",
       "      <td>0.019278</td>\n",
       "      <td>14</td>\n",
       "      <td>48.2692</td>\n",
       "      <td>1</td>\n",
       "      <td>2</td>\n",
       "    </tr>\n",
       "    <tr>\n",
       "      <th>2</th>\n",
       "      <td>17.500</td>\n",
       "      <td>0</td>\n",
       "      <td>0.016760</td>\n",
       "      <td>10</td>\n",
       "      <td>141.6180</td>\n",
       "      <td>1</td>\n",
       "      <td>1</td>\n",
       "    </tr>\n",
       "    <tr>\n",
       "      <th>3</th>\n",
       "      <td>19.200</td>\n",
       "      <td>1</td>\n",
       "      <td>0.000000</td>\n",
       "      <td>6</td>\n",
       "      <td>182.0950</td>\n",
       "      <td>0</td>\n",
       "      <td>0</td>\n",
       "    </tr>\n",
       "    <tr>\n",
       "      <th>4</th>\n",
       "      <td>8.930</td>\n",
       "      <td>0</td>\n",
       "      <td>0.000000</td>\n",
       "      <td>9</td>\n",
       "      <td>53.8614</td>\n",
       "      <td>0</td>\n",
       "      <td>1</td>\n",
       "    </tr>\n",
       "    <tr>\n",
       "      <th>...</th>\n",
       "      <td>...</td>\n",
       "      <td>...</td>\n",
       "      <td>...</td>\n",
       "      <td>...</td>\n",
       "      <td>...</td>\n",
       "      <td>...</td>\n",
       "      <td>...</td>\n",
       "    </tr>\n",
       "    <tr>\n",
       "      <th>8518</th>\n",
       "      <td>6.865</td>\n",
       "      <td>0</td>\n",
       "      <td>0.056783</td>\n",
       "      <td>13</td>\n",
       "      <td>214.5218</td>\n",
       "      <td>0</td>\n",
       "      <td>1</td>\n",
       "    </tr>\n",
       "    <tr>\n",
       "      <th>8519</th>\n",
       "      <td>8.380</td>\n",
       "      <td>1</td>\n",
       "      <td>0.046982</td>\n",
       "      <td>0</td>\n",
       "      <td>108.1570</td>\n",
       "      <td>0</td>\n",
       "      <td>1</td>\n",
       "    </tr>\n",
       "    <tr>\n",
       "      <th>8520</th>\n",
       "      <td>10.600</td>\n",
       "      <td>0</td>\n",
       "      <td>0.035186</td>\n",
       "      <td>8</td>\n",
       "      <td>85.1224</td>\n",
       "      <td>2</td>\n",
       "      <td>1</td>\n",
       "    </tr>\n",
       "    <tr>\n",
       "      <th>8521</th>\n",
       "      <td>7.210</td>\n",
       "      <td>1</td>\n",
       "      <td>0.145221</td>\n",
       "      <td>13</td>\n",
       "      <td>103.1332</td>\n",
       "      <td>1</td>\n",
       "      <td>2</td>\n",
       "    </tr>\n",
       "    <tr>\n",
       "      <th>8522</th>\n",
       "      <td>14.800</td>\n",
       "      <td>0</td>\n",
       "      <td>0.044878</td>\n",
       "      <td>14</td>\n",
       "      <td>75.4670</td>\n",
       "      <td>2</td>\n",
       "      <td>1</td>\n",
       "    </tr>\n",
       "  </tbody>\n",
       "</table>\n",
       "<p>8523 rows × 7 columns</p>\n",
       "</div>"
      ],
      "text/plain": [
       "      Item_Weight  Item_Fat_Content  Item_Visibility  Item_Type  Item_MRP  \\\n",
       "0           9.300                 0         0.016047          4  249.8092   \n",
       "1           5.920                 1         0.019278         14   48.2692   \n",
       "2          17.500                 0         0.016760         10  141.6180   \n",
       "3          19.200                 1         0.000000          6  182.0950   \n",
       "4           8.930                 0         0.000000          9   53.8614   \n",
       "...           ...               ...              ...        ...       ...   \n",
       "8518        6.865                 0         0.056783         13  214.5218   \n",
       "8519        8.380                 1         0.046982          0  108.1570   \n",
       "8520       10.600                 0         0.035186          8   85.1224   \n",
       "8521        7.210                 1         0.145221         13  103.1332   \n",
       "8522       14.800                 0         0.044878         14   75.4670   \n",
       "\n",
       "      Outlet_Size  Outlet_Type  \n",
       "0               1            1  \n",
       "1               1            2  \n",
       "2               1            1  \n",
       "3               0            0  \n",
       "4               0            1  \n",
       "...           ...          ...  \n",
       "8518            0            1  \n",
       "8519            0            1  \n",
       "8520            2            1  \n",
       "8521            1            2  \n",
       "8522            2            1  \n",
       "\n",
       "[8523 rows x 7 columns]"
      ]
     },
     "execution_count": 140,
     "metadata": {},
     "output_type": "execute_result"
    }
   ],
   "source": [
    "df1=train_df.iloc[:,0:-1]\n",
    "df1"
   ]
  },
  {
   "cell_type": "code",
   "execution_count": 141,
   "id": "7cf4b16a",
   "metadata": {},
   "outputs": [
    {
     "data": {
      "text/html": [
       "<div>\n",
       "<style scoped>\n",
       "    .dataframe tbody tr th:only-of-type {\n",
       "        vertical-align: middle;\n",
       "    }\n",
       "\n",
       "    .dataframe tbody tr th {\n",
       "        vertical-align: top;\n",
       "    }\n",
       "\n",
       "    .dataframe thead th {\n",
       "        text-align: right;\n",
       "    }\n",
       "</style>\n",
       "<table border=\"1\" class=\"dataframe\">\n",
       "  <thead>\n",
       "    <tr style=\"text-align: right;\">\n",
       "      <th></th>\n",
       "      <th>vif_factor</th>\n",
       "      <th>features</th>\n",
       "    </tr>\n",
       "  </thead>\n",
       "  <tbody>\n",
       "    <tr>\n",
       "      <th>0</th>\n",
       "      <td>6.535176</td>\n",
       "      <td>Item_Weight</td>\n",
       "    </tr>\n",
       "    <tr>\n",
       "      <th>1</th>\n",
       "      <td>1.521745</td>\n",
       "      <td>Item_Fat_Content</td>\n",
       "    </tr>\n",
       "    <tr>\n",
       "      <th>2</th>\n",
       "      <td>2.452485</td>\n",
       "      <td>Item_Visibility</td>\n",
       "    </tr>\n",
       "    <tr>\n",
       "      <th>3</th>\n",
       "      <td>3.538939</td>\n",
       "      <td>Item_Type</td>\n",
       "    </tr>\n",
       "    <tr>\n",
       "      <th>4</th>\n",
       "      <td>5.001934</td>\n",
       "      <td>Item_MRP</td>\n",
       "    </tr>\n",
       "    <tr>\n",
       "      <th>5</th>\n",
       "      <td>2.116390</td>\n",
       "      <td>Outlet_Size</td>\n",
       "    </tr>\n",
       "    <tr>\n",
       "      <th>6</th>\n",
       "      <td>2.972452</td>\n",
       "      <td>Outlet_Type</td>\n",
       "    </tr>\n",
       "  </tbody>\n",
       "</table>\n",
       "</div>"
      ],
      "text/plain": [
       "   vif_factor          features\n",
       "0    6.535176       Item_Weight\n",
       "1    1.521745  Item_Fat_Content\n",
       "2    2.452485   Item_Visibility\n",
       "3    3.538939         Item_Type\n",
       "4    5.001934          Item_MRP\n",
       "5    2.116390       Outlet_Size\n",
       "6    2.972452       Outlet_Type"
      ]
     },
     "execution_count": 141,
     "metadata": {},
     "output_type": "execute_result"
    }
   ],
   "source": [
    "vif_fun() "
   ]
  },
  {
   "cell_type": "code",
   "execution_count": 144,
   "id": "2576cffc",
   "metadata": {},
   "outputs": [],
   "source": [
    "df2=test_df"
   ]
  },
  {
   "cell_type": "code",
   "execution_count": 145,
   "id": "f0763af4",
   "metadata": {},
   "outputs": [],
   "source": [
    "def vif_fun():\n",
    "    vif=pd.DataFrame()\n",
    "    vif['vif_factor']=[variance_inflation_factor(df1.values,i) for i in range(df2.shape[1])]\n",
    "    vif['features']=df2.columns\n",
    "    return(vif)"
   ]
  },
  {
   "cell_type": "code",
   "execution_count": 146,
   "id": "f0dab42c",
   "metadata": {},
   "outputs": [
    {
     "data": {
      "text/html": [
       "<div>\n",
       "<style scoped>\n",
       "    .dataframe tbody tr th:only-of-type {\n",
       "        vertical-align: middle;\n",
       "    }\n",
       "\n",
       "    .dataframe tbody tr th {\n",
       "        vertical-align: top;\n",
       "    }\n",
       "\n",
       "    .dataframe thead th {\n",
       "        text-align: right;\n",
       "    }\n",
       "</style>\n",
       "<table border=\"1\" class=\"dataframe\">\n",
       "  <thead>\n",
       "    <tr style=\"text-align: right;\">\n",
       "      <th></th>\n",
       "      <th>vif_factor</th>\n",
       "      <th>features</th>\n",
       "    </tr>\n",
       "  </thead>\n",
       "  <tbody>\n",
       "    <tr>\n",
       "      <th>0</th>\n",
       "      <td>6.535176</td>\n",
       "      <td>Item_Weight</td>\n",
       "    </tr>\n",
       "    <tr>\n",
       "      <th>1</th>\n",
       "      <td>1.521745</td>\n",
       "      <td>Item_Fat_Content</td>\n",
       "    </tr>\n",
       "    <tr>\n",
       "      <th>2</th>\n",
       "      <td>2.452485</td>\n",
       "      <td>Item_Visibility</td>\n",
       "    </tr>\n",
       "    <tr>\n",
       "      <th>3</th>\n",
       "      <td>3.538939</td>\n",
       "      <td>Item_Type</td>\n",
       "    </tr>\n",
       "    <tr>\n",
       "      <th>4</th>\n",
       "      <td>5.001934</td>\n",
       "      <td>Item_MRP</td>\n",
       "    </tr>\n",
       "    <tr>\n",
       "      <th>5</th>\n",
       "      <td>2.116390</td>\n",
       "      <td>Outlet_Size</td>\n",
       "    </tr>\n",
       "    <tr>\n",
       "      <th>6</th>\n",
       "      <td>2.972452</td>\n",
       "      <td>Outlet_Type</td>\n",
       "    </tr>\n",
       "  </tbody>\n",
       "</table>\n",
       "</div>"
      ],
      "text/plain": [
       "   vif_factor          features\n",
       "0    6.535176       Item_Weight\n",
       "1    1.521745  Item_Fat_Content\n",
       "2    2.452485   Item_Visibility\n",
       "3    3.538939         Item_Type\n",
       "4    5.001934          Item_MRP\n",
       "5    2.116390       Outlet_Size\n",
       "6    2.972452       Outlet_Type"
      ]
     },
     "execution_count": 146,
     "metadata": {},
     "output_type": "execute_result"
    }
   ],
   "source": [
    "vif_fun() "
   ]
  },
  {
   "cell_type": "markdown",
   "id": "b0fab7ee",
   "metadata": {},
   "source": [
    "# Check For Skewness"
   ]
  },
  {
   "cell_type": "code",
   "execution_count": 147,
   "id": "07794e11",
   "metadata": {},
   "outputs": [
    {
     "data": {
      "text/plain": [
       "Item_Visibility     1.167091\n",
       "Outlet_Type         0.927438\n",
       "Item_Fat_Content    0.616705\n",
       "Outlet_Size         0.207197\n",
       "Item_MRP            0.127202\n",
       "Item_Type           0.101655\n",
       "Item_Weight         0.090561\n",
       "dtype: float64"
      ]
     },
     "execution_count": 147,
     "metadata": {},
     "output_type": "execute_result"
    }
   ],
   "source": [
    "#train Data\n",
    "df1.skew().sort_values(ascending=False)"
   ]
  },
  {
   "cell_type": "code",
   "execution_count": 148,
   "id": "c12282b8",
   "metadata": {},
   "outputs": [
    {
     "data": {
      "text/plain": [
       "Item_Visibility     1.238312\n",
       "Outlet_Type         0.927446\n",
       "Item_Fat_Content    0.609223\n",
       "Outlet_Size         0.206916\n",
       "Item_Weight         0.142813\n",
       "Item_MRP            0.136182\n",
       "Item_Type           0.096486\n",
       "dtype: float64"
      ]
     },
     "execution_count": 148,
     "metadata": {},
     "output_type": "execute_result"
    }
   ],
   "source": [
    "#test Data\n",
    "test_df.skew().sort_values(ascending=False)"
   ]
  },
  {
   "cell_type": "markdown",
   "id": "a2d4e17d",
   "metadata": {},
   "source": [
    "There is skewness present in Item_Visibility column. \n",
    "\n",
    "Threshold limit is set to be +/-0.5"
   ]
  },
  {
   "cell_type": "code",
   "execution_count": 149,
   "id": "5e8cb478",
   "metadata": {},
   "outputs": [],
   "source": [
    "from sklearn.preprocessing import power_transform\n",
    "df1_new= power_transform(df1)"
   ]
  },
  {
   "cell_type": "code",
   "execution_count": 150,
   "id": "5c9e26ed",
   "metadata": {},
   "outputs": [],
   "source": [
    "from sklearn.preprocessing import power_transform\n",
    "df2_new= power_transform(test_df)"
   ]
  },
  {
   "cell_type": "markdown",
   "id": "883ca8be",
   "metadata": {},
   "source": [
    "Scaling of data"
   ]
  },
  {
   "cell_type": "code",
   "execution_count": 151,
   "id": "84576479",
   "metadata": {},
   "outputs": [
    {
     "data": {
      "text/plain": [
       "array([[-0.82263635, -0.73814723, -1.14688621, ...,  1.62367023,\n",
       "         0.31106382, -0.12348771],\n",
       "       [-1.73380133,  1.35474328, -1.03709991, ..., -1.59501643,\n",
       "         0.31106382,  1.04059102],\n",
       "       [ 1.08636176, -0.73814723, -1.12237453, ...,  0.08123678,\n",
       "         0.31106382, -0.12348771],\n",
       "       ...,\n",
       "       [-0.49655592, -0.73814723, -0.54297932, ..., -0.86792986,\n",
       "         1.25673764, -0.12348771],\n",
       "       [-1.37344321,  1.35474328,  1.45998957, ..., -0.54899589,\n",
       "         0.31106382,  1.04059102],\n",
       "       [ 0.49178563, -0.73814723, -0.27619496, ..., -1.04722682,\n",
       "         1.25673764, -0.12348771]])"
      ]
     },
     "execution_count": 151,
     "metadata": {},
     "output_type": "execute_result"
    }
   ],
   "source": [
    "#train Data\n",
    "from sklearn.preprocessing import StandardScaler\n",
    "sc=StandardScaler()\n",
    "df1_new= sc.fit_transform(df1_new)\n",
    "df1_new"
   ]
  },
  {
   "cell_type": "code",
   "execution_count": 152,
   "id": "c6ccc142",
   "metadata": {},
   "outputs": [
    {
     "data": {
      "text/plain": [
       "array([[ 1.77007392, -0.74081066, -1.46206861, ..., -0.47201654,\n",
       "         0.31073165, -0.12353311],\n",
       "       [-1.03619283,  1.34987258, -0.44801894, ..., -0.83599752,\n",
       "        -1.15815005, -0.12353311],\n",
       "       [ 0.49167513, -0.74081066,  0.87134242, ...,  1.52537499,\n",
       "        -1.15815005, -1.91575348],\n",
       "       ...,\n",
       "       [-0.59355557, -0.74081066,  0.39786781, ..., -0.288074  ,\n",
       "        -1.15815005, -0.12353311],\n",
       "       [ 0.64562931,  1.34987258, -1.76023409, ...,  1.15680222,\n",
       "        -1.15815005, -0.12353311],\n",
       "       [-0.72091914,  1.34987258,  0.9524881 , ..., -0.97581463,\n",
       "        -1.15815005, -0.12353311]])"
      ]
     },
     "execution_count": 152,
     "metadata": {},
     "output_type": "execute_result"
    }
   ],
   "source": [
    "#test data\n",
    "sc=StandardScaler()\n",
    "df2_new= sc.fit_transform(df2_new)\n",
    "df2_new"
   ]
  },
  {
   "cell_type": "code",
   "execution_count": 153,
   "id": "0d5e24d4",
   "metadata": {},
   "outputs": [
    {
     "data": {
      "text/html": [
       "<div>\n",
       "<style scoped>\n",
       "    .dataframe tbody tr th:only-of-type {\n",
       "        vertical-align: middle;\n",
       "    }\n",
       "\n",
       "    .dataframe tbody tr th {\n",
       "        vertical-align: top;\n",
       "    }\n",
       "\n",
       "    .dataframe thead th {\n",
       "        text-align: right;\n",
       "    }\n",
       "</style>\n",
       "<table border=\"1\" class=\"dataframe\">\n",
       "  <thead>\n",
       "    <tr style=\"text-align: right;\">\n",
       "      <th></th>\n",
       "      <th>Item_Weight</th>\n",
       "      <th>Item_Fat_Content</th>\n",
       "      <th>Item_Visibility</th>\n",
       "      <th>Item_Type</th>\n",
       "      <th>Item_MRP</th>\n",
       "      <th>Outlet_Size</th>\n",
       "      <th>Outlet_Type</th>\n",
       "    </tr>\n",
       "  </thead>\n",
       "  <tbody>\n",
       "    <tr>\n",
       "      <th>0</th>\n",
       "      <td>-0.822636</td>\n",
       "      <td>-0.738147</td>\n",
       "      <td>-1.146886</td>\n",
       "      <td>-0.712347</td>\n",
       "      <td>1.623670</td>\n",
       "      <td>0.311064</td>\n",
       "      <td>-0.123488</td>\n",
       "    </tr>\n",
       "    <tr>\n",
       "      <th>1</th>\n",
       "      <td>-1.733801</td>\n",
       "      <td>1.354743</td>\n",
       "      <td>-1.037100</td>\n",
       "      <td>1.504660</td>\n",
       "      <td>-1.595016</td>\n",
       "      <td>0.311064</td>\n",
       "      <td>1.040591</td>\n",
       "    </tr>\n",
       "    <tr>\n",
       "      <th>2</th>\n",
       "      <td>1.086362</td>\n",
       "      <td>-0.738147</td>\n",
       "      <td>-1.122375</td>\n",
       "      <td>0.684390</td>\n",
       "      <td>0.081237</td>\n",
       "      <td>0.311064</td>\n",
       "      <td>-0.123488</td>\n",
       "    </tr>\n",
       "    <tr>\n",
       "      <th>3</th>\n",
       "      <td>1.447728</td>\n",
       "      <td>1.354743</td>\n",
       "      <td>-1.745551</td>\n",
       "      <td>-0.215420</td>\n",
       "      <td>0.689968</td>\n",
       "      <td>-1.157957</td>\n",
       "      <td>-1.915952</td>\n",
       "    </tr>\n",
       "    <tr>\n",
       "      <th>4</th>\n",
       "      <td>-0.917588</td>\n",
       "      <td>-0.738147</td>\n",
       "      <td>-1.745551</td>\n",
       "      <td>0.468410</td>\n",
       "      <td>-1.476078</td>\n",
       "      <td>-1.157957</td>\n",
       "      <td>-0.123488</td>\n",
       "    </tr>\n",
       "    <tr>\n",
       "      <th>...</th>\n",
       "      <td>...</td>\n",
       "      <td>...</td>\n",
       "      <td>...</td>\n",
       "      <td>...</td>\n",
       "      <td>...</td>\n",
       "      <td>...</td>\n",
       "      <td>...</td>\n",
       "    </tr>\n",
       "    <tr>\n",
       "      <th>8518</th>\n",
       "      <td>-1.468096</td>\n",
       "      <td>-0.738147</td>\n",
       "      <td>0.020310</td>\n",
       "      <td>1.305304</td>\n",
       "      <td>1.148258</td>\n",
       "      <td>-1.157957</td>\n",
       "      <td>-0.123488</td>\n",
       "    </tr>\n",
       "    <tr>\n",
       "      <th>8519</th>\n",
       "      <td>-1.060659</td>\n",
       "      <td>1.354743</td>\n",
       "      <td>-0.221388</td>\n",
       "      <td>-1.923750</td>\n",
       "      <td>-0.463127</td>\n",
       "      <td>-1.157957</td>\n",
       "      <td>-0.123488</td>\n",
       "    </tr>\n",
       "    <tr>\n",
       "      <th>8520</th>\n",
       "      <td>-0.496556</td>\n",
       "      <td>-0.738147</td>\n",
       "      <td>-0.542979</td>\n",
       "      <td>0.246996</td>\n",
       "      <td>-0.867930</td>\n",
       "      <td>1.256738</td>\n",
       "      <td>-0.123488</td>\n",
       "    </tr>\n",
       "    <tr>\n",
       "      <th>8521</th>\n",
       "      <td>-1.373443</td>\n",
       "      <td>1.354743</td>\n",
       "      <td>1.459990</td>\n",
       "      <td>1.305304</td>\n",
       "      <td>-0.548996</td>\n",
       "      <td>0.311064</td>\n",
       "      <td>1.040591</td>\n",
       "    </tr>\n",
       "    <tr>\n",
       "      <th>8522</th>\n",
       "      <td>0.491786</td>\n",
       "      <td>-0.738147</td>\n",
       "      <td>-0.276195</td>\n",
       "      <td>1.504660</td>\n",
       "      <td>-1.047227</td>\n",
       "      <td>1.256738</td>\n",
       "      <td>-0.123488</td>\n",
       "    </tr>\n",
       "  </tbody>\n",
       "</table>\n",
       "<p>8523 rows × 7 columns</p>\n",
       "</div>"
      ],
      "text/plain": [
       "      Item_Weight  Item_Fat_Content  Item_Visibility  Item_Type  Item_MRP  \\\n",
       "0       -0.822636         -0.738147        -1.146886  -0.712347  1.623670   \n",
       "1       -1.733801          1.354743        -1.037100   1.504660 -1.595016   \n",
       "2        1.086362         -0.738147        -1.122375   0.684390  0.081237   \n",
       "3        1.447728          1.354743        -1.745551  -0.215420  0.689968   \n",
       "4       -0.917588         -0.738147        -1.745551   0.468410 -1.476078   \n",
       "...           ...               ...              ...        ...       ...   \n",
       "8518    -1.468096         -0.738147         0.020310   1.305304  1.148258   \n",
       "8519    -1.060659          1.354743        -0.221388  -1.923750 -0.463127   \n",
       "8520    -0.496556         -0.738147        -0.542979   0.246996 -0.867930   \n",
       "8521    -1.373443          1.354743         1.459990   1.305304 -0.548996   \n",
       "8522     0.491786         -0.738147        -0.276195   1.504660 -1.047227   \n",
       "\n",
       "      Outlet_Size  Outlet_Type  \n",
       "0        0.311064    -0.123488  \n",
       "1        0.311064     1.040591  \n",
       "2        0.311064    -0.123488  \n",
       "3       -1.157957    -1.915952  \n",
       "4       -1.157957    -0.123488  \n",
       "...           ...          ...  \n",
       "8518    -1.157957    -0.123488  \n",
       "8519    -1.157957    -0.123488  \n",
       "8520     1.256738    -0.123488  \n",
       "8521     0.311064     1.040591  \n",
       "8522     1.256738    -0.123488  \n",
       "\n",
       "[8523 rows x 7 columns]"
      ]
     },
     "execution_count": 153,
     "metadata": {},
     "output_type": "execute_result"
    }
   ],
   "source": [
    "df1=pd.DataFrame(df1_new, columns= df1.columns)\n",
    "df1"
   ]
  },
  {
   "cell_type": "code",
   "execution_count": 154,
   "id": "a8998d30",
   "metadata": {},
   "outputs": [
    {
     "data": {
      "text/html": [
       "<div>\n",
       "<style scoped>\n",
       "    .dataframe tbody tr th:only-of-type {\n",
       "        vertical-align: middle;\n",
       "    }\n",
       "\n",
       "    .dataframe tbody tr th {\n",
       "        vertical-align: top;\n",
       "    }\n",
       "\n",
       "    .dataframe thead th {\n",
       "        text-align: right;\n",
       "    }\n",
       "</style>\n",
       "<table border=\"1\" class=\"dataframe\">\n",
       "  <thead>\n",
       "    <tr style=\"text-align: right;\">\n",
       "      <th></th>\n",
       "      <th>Item_Weight</th>\n",
       "      <th>Item_Fat_Content</th>\n",
       "      <th>Item_Visibility</th>\n",
       "      <th>Item_Type</th>\n",
       "      <th>Item_MRP</th>\n",
       "      <th>Outlet_Size</th>\n",
       "      <th>Outlet_Type</th>\n",
       "    </tr>\n",
       "  </thead>\n",
       "  <tbody>\n",
       "    <tr>\n",
       "      <th>0</th>\n",
       "      <td>1.770074</td>\n",
       "      <td>-0.740811</td>\n",
       "      <td>-1.462069</td>\n",
       "      <td>1.301686</td>\n",
       "      <td>-0.472017</td>\n",
       "      <td>0.310732</td>\n",
       "      <td>-0.123533</td>\n",
       "    </tr>\n",
       "    <tr>\n",
       "      <th>1</th>\n",
       "      <td>-1.036193</td>\n",
       "      <td>1.349873</td>\n",
       "      <td>-0.448019</td>\n",
       "      <td>-0.712433</td>\n",
       "      <td>-0.835998</td>\n",
       "      <td>-1.158150</td>\n",
       "      <td>-0.123533</td>\n",
       "    </tr>\n",
       "    <tr>\n",
       "      <th>2</th>\n",
       "      <td>0.491675</td>\n",
       "      <td>-0.740811</td>\n",
       "      <td>0.871342</td>\n",
       "      <td>0.892240</td>\n",
       "      <td>1.525375</td>\n",
       "      <td>-1.158150</td>\n",
       "      <td>-1.915753</td>\n",
       "    </tr>\n",
       "    <tr>\n",
       "      <th>3</th>\n",
       "      <td>-1.306479</td>\n",
       "      <td>-0.740811</td>\n",
       "      <td>-1.175927</td>\n",
       "      <td>1.301686</td>\n",
       "      <td>0.290835</td>\n",
       "      <td>-1.158150</td>\n",
       "      <td>-0.123533</td>\n",
       "    </tr>\n",
       "    <tr>\n",
       "      <th>4</th>\n",
       "      <td>0.059211</td>\n",
       "      <td>1.349873</td>\n",
       "      <td>1.153823</td>\n",
       "      <td>-0.712433</td>\n",
       "      <td>1.424528</td>\n",
       "      <td>0.310732</td>\n",
       "      <td>1.922271</td>\n",
       "    </tr>\n",
       "    <tr>\n",
       "      <th>...</th>\n",
       "      <td>...</td>\n",
       "      <td>...</td>\n",
       "      <td>...</td>\n",
       "      <td>...</td>\n",
       "      <td>...</td>\n",
       "      <td>...</td>\n",
       "      <td>...</td>\n",
       "    </tr>\n",
       "    <tr>\n",
       "      <th>5676</th>\n",
       "      <td>-0.468330</td>\n",
       "      <td>1.349873</td>\n",
       "      <td>-1.243150</td>\n",
       "      <td>1.301686</td>\n",
       "      <td>0.077563</td>\n",
       "      <td>1.256669</td>\n",
       "      <td>-0.123533</td>\n",
       "    </tr>\n",
       "    <tr>\n",
       "      <th>5677</th>\n",
       "      <td>-1.227105</td>\n",
       "      <td>1.349873</td>\n",
       "      <td>1.453584</td>\n",
       "      <td>1.696978</td>\n",
       "      <td>0.504137</td>\n",
       "      <td>0.310732</td>\n",
       "      <td>1.040210</td>\n",
       "    </tr>\n",
       "    <tr>\n",
       "      <th>5678</th>\n",
       "      <td>-0.593556</td>\n",
       "      <td>-0.740811</td>\n",
       "      <td>0.397868</td>\n",
       "      <td>0.244553</td>\n",
       "      <td>-0.288074</td>\n",
       "      <td>-1.158150</td>\n",
       "      <td>-0.123533</td>\n",
       "    </tr>\n",
       "    <tr>\n",
       "      <th>5679</th>\n",
       "      <td>0.645629</td>\n",
       "      <td>1.349873</td>\n",
       "      <td>-1.760234</td>\n",
       "      <td>-0.978099</td>\n",
       "      <td>1.156802</td>\n",
       "      <td>-1.158150</td>\n",
       "      <td>-0.123533</td>\n",
       "    </tr>\n",
       "    <tr>\n",
       "      <th>5680</th>\n",
       "      <td>-0.720919</td>\n",
       "      <td>1.349873</td>\n",
       "      <td>0.952488</td>\n",
       "      <td>-0.978099</td>\n",
       "      <td>-0.975815</td>\n",
       "      <td>-1.158150</td>\n",
       "      <td>-0.123533</td>\n",
       "    </tr>\n",
       "  </tbody>\n",
       "</table>\n",
       "<p>5681 rows × 7 columns</p>\n",
       "</div>"
      ],
      "text/plain": [
       "      Item_Weight  Item_Fat_Content  Item_Visibility  Item_Type  Item_MRP  \\\n",
       "0        1.770074         -0.740811        -1.462069   1.301686 -0.472017   \n",
       "1       -1.036193          1.349873        -0.448019  -0.712433 -0.835998   \n",
       "2        0.491675         -0.740811         0.871342   0.892240  1.525375   \n",
       "3       -1.306479         -0.740811        -1.175927   1.301686  0.290835   \n",
       "4        0.059211          1.349873         1.153823  -0.712433  1.424528   \n",
       "...           ...               ...              ...        ...       ...   \n",
       "5676    -0.468330          1.349873        -1.243150   1.301686  0.077563   \n",
       "5677    -1.227105          1.349873         1.453584   1.696978  0.504137   \n",
       "5678    -0.593556         -0.740811         0.397868   0.244553 -0.288074   \n",
       "5679     0.645629          1.349873        -1.760234  -0.978099  1.156802   \n",
       "5680    -0.720919          1.349873         0.952488  -0.978099 -0.975815   \n",
       "\n",
       "      Outlet_Size  Outlet_Type  \n",
       "0        0.310732    -0.123533  \n",
       "1       -1.158150    -0.123533  \n",
       "2       -1.158150    -1.915753  \n",
       "3       -1.158150    -0.123533  \n",
       "4        0.310732     1.922271  \n",
       "...           ...          ...  \n",
       "5676     1.256669    -0.123533  \n",
       "5677     0.310732     1.040210  \n",
       "5678    -1.158150    -0.123533  \n",
       "5679    -1.158150    -0.123533  \n",
       "5680    -1.158150    -0.123533  \n",
       "\n",
       "[5681 rows x 7 columns]"
      ]
     },
     "execution_count": 154,
     "metadata": {},
     "output_type": "execute_result"
    }
   ],
   "source": [
    "df2=pd.DataFrame(df2_new, columns= test_df.columns)\n",
    "df2"
   ]
  },
  {
   "cell_type": "markdown",
   "id": "efa4513a",
   "metadata": {},
   "source": [
    "df1----> train data\n",
    "\n",
    "df2----> test data"
   ]
  },
  {
   "cell_type": "code",
   "execution_count": 155,
   "id": "36c362c3",
   "metadata": {},
   "outputs": [
    {
     "data": {
      "text/plain": [
       "Item_Fat_Content    0.616705\n",
       "Item_Visibility     0.124279\n",
       "Outlet_Type         0.007863\n",
       "Outlet_Size        -0.042837\n",
       "Item_Weight        -0.068024\n",
       "Item_MRP           -0.115386\n",
       "Item_Type          -0.164574\n",
       "dtype: float64"
      ]
     },
     "execution_count": 155,
     "metadata": {},
     "output_type": "execute_result"
    }
   ],
   "source": [
    "df1.skew().sort_values(ascending=False)"
   ]
  },
  {
   "cell_type": "code",
   "execution_count": 156,
   "id": "deec6fea",
   "metadata": {},
   "outputs": [
    {
     "data": {
      "text/plain": [
       "Item_Fat_Content    0.609223\n",
       "Item_Visibility     0.116776\n",
       "Outlet_Type         0.007830\n",
       "Outlet_Size        -0.043003\n",
       "Item_Weight        -0.060915\n",
       "Item_MRP           -0.111040\n",
       "Item_Type          -0.167431\n",
       "dtype: float64"
      ]
     },
     "execution_count": 156,
     "metadata": {},
     "output_type": "execute_result"
    }
   ],
   "source": [
    "df2.skew().sort_values(ascending=False)"
   ]
  },
  {
   "cell_type": "code",
   "execution_count": 157,
   "id": "caf06017",
   "metadata": {},
   "outputs": [
    {
     "data": {
      "image/png": "[encoded data removed]",
      "text/plain": [
       "<Figure size 432x288 with 1 Axes>"
      ]
     },
     "metadata": {
      "needs_background": "light"
     },
     "output_type": "display_data"
    },
    {
     "data": {
      "image/png": "[encoded data removed]",
      "text/plain": [
       "<Figure size 432x288 with 1 Axes>"
      ]
     },
     "metadata": {
      "needs_background": "light"
     },
     "output_type": "display_data"
    },
    {
     "data": {
      "image/png": "[encoded data removed]",
      "text/plain": [
       "<Figure size 432x288 with 1 Axes>"
      ]
     },
     "metadata": {
      "needs_background": "light"
     },
     "output_type": "display_data"
    },
    {
     "data": {
      "image/png": "[encoded data removed]",
      "text/plain": [
       "<Figure size 432x288 with 1 Axes>"
      ]
     },
     "metadata": {
      "needs_background": "light"
     },
     "output_type": "display_data"
    },
    {
     "data": {
      "image/png": "[encoded data removed]",
      "text/plain": [
       "<Figure size 432x288 with 1 Axes>"
      ]
     },
     "metadata": {
      "needs_background": "light"
     },
     "output_type": "display_data"
    },
    {
     "data": {
      "image/png": "[encoded data removed]",
      "text/plain": [
       "<Figure size 432x288 with 1 Axes>"
      ]
     },
     "metadata": {
      "needs_background": "light"
     },
     "output_type": "display_data"
    },
    {
     "data": {
      "image/png": "[encoded data removed]",
      "text/plain": [
       "<Figure size 432x288 with 1 Axes>"
      ]
     },
     "metadata": {
      "needs_background": "light"
     },
     "output_type": "display_data"
    }
   ],
   "source": [
    "for i in df1.columns:\n",
    "    sns.distplot(df1[i])\n",
    "    plt.title(i)\n",
    "    plt.show()"
   ]
  },
  {
   "cell_type": "code",
   "execution_count": 158,
   "id": "80fb82dc",
   "metadata": {},
   "outputs": [],
   "source": [
    "#add target variable to df1\n",
    "df1['Item_Outlet_Sales']=train_df['Item_Outlet_Sales']"
   ]
  },
  {
   "cell_type": "code",
   "execution_count": 159,
   "id": "f0aa77fe",
   "metadata": {},
   "outputs": [
    {
     "data": {
      "text/plain": [
       "(8523, 8)"
      ]
     },
     "execution_count": 159,
     "metadata": {},
     "output_type": "execute_result"
    }
   ],
   "source": [
    "df1.shape"
   ]
  },
  {
   "cell_type": "code",
   "execution_count": 160,
   "id": "b0518051",
   "metadata": {},
   "outputs": [
    {
     "data": {
      "text/plain": [
       "(5681, 7)"
      ]
     },
     "execution_count": 160,
     "metadata": {},
     "output_type": "execute_result"
    }
   ],
   "source": [
    "df2.shape  #test"
   ]
  },
  {
   "cell_type": "markdown",
   "id": "d7253ca6",
   "metadata": {},
   "source": [
    "\n",
    "\n",
    "The columns cannot be normalized, but the skewness is reduced considerably. There are outliers present in Item_Weight, Item_Visibility and MRP columns"
   ]
  },
  {
   "cell_type": "markdown",
   "id": "51d397b9",
   "metadata": {},
   "source": [
    "# Checking For Outliers"
   ]
  },
  {
   "cell_type": "code",
   "execution_count": 161,
   "id": "b18c99b4",
   "metadata": {},
   "outputs": [
    {
     "data": {
      "image/png": "[encoded data removed]",
      "text/plain": [
       "<Figure size 1440x720 with 1 Axes>"
      ]
     },
     "metadata": {
      "needs_background": "light"
     },
     "output_type": "display_data"
    }
   ],
   "source": [
    "#train data\n",
    "df1.boxplot(figsize=(20,10))\n",
    "plt.subplots_adjust(bottom=0.25)\n",
    "plt.show()"
   ]
  },
  {
   "cell_type": "code",
   "execution_count": 162,
   "id": "a3db4020",
   "metadata": {},
   "outputs": [
    {
     "data": {
      "image/png": "[encoded data removed]",
      "text/plain": [
       "<Figure size 1440x720 with 1 Axes>"
      ]
     },
     "metadata": {
      "needs_background": "light"
     },
     "output_type": "display_data"
    }
   ],
   "source": [
    "#test data\n",
    "df2.boxplot(figsize=(20,10))\n",
    "plt.subplots_adjust(bottom=0.25)\n",
    "plt.show()"
   ]
  },
  {
   "cell_type": "markdown",
   "id": "9ba0a2e8",
   "metadata": {},
   "source": [
    "Outliers are present in both the datasets in outlet type and sales columns"
   ]
  },
  {
   "cell_type": "code",
   "execution_count": 163,
   "id": "9b847062",
   "metadata": {},
   "outputs": [
    {
     "data": {
      "text/plain": [
       "array([[0.82263635, 0.73814723, 1.14688621, ..., 0.31106382, 0.12348771,\n",
       "        0.910601  ],\n",
       "       [1.73380133, 1.35474328, 1.03709991, ..., 0.31106382, 1.04059102,\n",
       "        1.01844035],\n",
       "       [1.08636176, 0.73814723, 1.12237453, ..., 0.31106382, 0.12348771,\n",
       "        0.04923754],\n",
       "       ...,\n",
       "       [0.49655592, 0.73814723, 0.54297932, ..., 1.25673764, 0.12348771,\n",
       "        0.57909963],\n",
       "       [1.37344321, 1.35474328, 1.45998957, ..., 0.31106382, 1.04059102,\n",
       "        0.19672492],\n",
       "       [0.49178563, 0.73814723, 0.27619496, ..., 1.25673764, 0.12348771,\n",
       "        0.82959407]])"
      ]
     },
     "execution_count": 163,
     "metadata": {},
     "output_type": "execute_result"
    }
   ],
   "source": [
    "from scipy.stats import zscore\n",
    "z=np.abs(zscore(df1))  #train data\n",
    "z"
   ]
  },
  {
   "cell_type": "code",
   "execution_count": 164,
   "id": "eddf344d",
   "metadata": {},
   "outputs": [
    {
     "name": "stdout",
     "output_type": "stream",
     "text": [
      "(array([ 130,  145,  276,  304,  333,  373,  456,  472,  661,  694,  753,\n",
      "        809,  935,  991,  997, 1009, 1138, 1254, 1450, 1506, 1859, 1998,\n",
      "       2109, 2216, 2238, 2293, 2516, 2535, 2776, 3083, 3087, 3098, 3154,\n",
      "       3234, 3286, 3407, 3667, 3709, 3720, 3757, 4289, 4346, 4349, 4676,\n",
      "       4681, 4772, 4888, 4961, 4991, 5065, 5177, 5185, 5223, 5315, 5500,\n",
      "       5550, 5619, 5752, 5799, 5812, 5977, 6000, 6134, 6334, 6409, 6537,\n",
      "       6541, 6606, 6886, 6993, 7016, 7076, 7188, 7191, 7236, 7256, 7302,\n",
      "       7343, 7560, 7562, 7609, 7690, 7752, 7816, 7826, 7930, 8039, 8201,\n",
      "       8245, 8447], dtype=int64), array([7, 7, 7, 7, 7, 7, 7, 7, 7, 7, 7, 7, 7, 7, 7, 7, 7, 7, 7, 7, 7, 7,\n",
      "       7, 7, 7, 7, 7, 7, 7, 7, 7, 7, 7, 7, 7, 7, 7, 7, 7, 7, 7, 7, 7, 7,\n",
      "       7, 7, 7, 7, 7, 7, 7, 7, 7, 7, 7, 7, 7, 7, 7, 7, 7, 7, 7, 7, 7, 7,\n",
      "       7, 7, 7, 7, 7, 7, 7, 7, 7, 7, 7, 7, 7, 7, 7, 7, 7, 7, 7, 7, 7, 7,\n",
      "       7, 7], dtype=int64))\n"
     ]
    }
   ],
   "source": [
    "# threshold for zscore is 3........., zscore greater than 3 is outliers\n",
    "threshold =3\n",
    "print(np.where(z>3))"
   ]
  },
  {
   "cell_type": "code",
   "execution_count": 165,
   "id": "255b95b5",
   "metadata": {},
   "outputs": [
    {
     "data": {
      "text/html": [
       "<div>\n",
       "<style scoped>\n",
       "    .dataframe tbody tr th:only-of-type {\n",
       "        vertical-align: middle;\n",
       "    }\n",
       "\n",
       "    .dataframe tbody tr th {\n",
       "        vertical-align: top;\n",
       "    }\n",
       "\n",
       "    .dataframe thead th {\n",
       "        text-align: right;\n",
       "    }\n",
       "</style>\n",
       "<table border=\"1\" class=\"dataframe\">\n",
       "  <thead>\n",
       "    <tr style=\"text-align: right;\">\n",
       "      <th></th>\n",
       "      <th>Item_Weight</th>\n",
       "      <th>Item_Fat_Content</th>\n",
       "      <th>Item_Visibility</th>\n",
       "      <th>Item_Type</th>\n",
       "      <th>Item_MRP</th>\n",
       "      <th>Outlet_Size</th>\n",
       "      <th>Outlet_Type</th>\n",
       "      <th>Item_Outlet_Sales</th>\n",
       "    </tr>\n",
       "  </thead>\n",
       "  <tbody>\n",
       "    <tr>\n",
       "      <th>0</th>\n",
       "      <td>-0.822636</td>\n",
       "      <td>-0.738147</td>\n",
       "      <td>-1.146886</td>\n",
       "      <td>-0.712347</td>\n",
       "      <td>1.623670</td>\n",
       "      <td>0.311064</td>\n",
       "      <td>-0.123488</td>\n",
       "      <td>3735.1380</td>\n",
       "    </tr>\n",
       "    <tr>\n",
       "      <th>1</th>\n",
       "      <td>-1.733801</td>\n",
       "      <td>1.354743</td>\n",
       "      <td>-1.037100</td>\n",
       "      <td>1.504660</td>\n",
       "      <td>-1.595016</td>\n",
       "      <td>0.311064</td>\n",
       "      <td>1.040591</td>\n",
       "      <td>443.4228</td>\n",
       "    </tr>\n",
       "    <tr>\n",
       "      <th>2</th>\n",
       "      <td>1.086362</td>\n",
       "      <td>-0.738147</td>\n",
       "      <td>-1.122375</td>\n",
       "      <td>0.684390</td>\n",
       "      <td>0.081237</td>\n",
       "      <td>0.311064</td>\n",
       "      <td>-0.123488</td>\n",
       "      <td>2097.2700</td>\n",
       "    </tr>\n",
       "    <tr>\n",
       "      <th>3</th>\n",
       "      <td>1.447728</td>\n",
       "      <td>1.354743</td>\n",
       "      <td>-1.745551</td>\n",
       "      <td>-0.215420</td>\n",
       "      <td>0.689968</td>\n",
       "      <td>-1.157957</td>\n",
       "      <td>-1.915952</td>\n",
       "      <td>732.3800</td>\n",
       "    </tr>\n",
       "    <tr>\n",
       "      <th>4</th>\n",
       "      <td>-0.917588</td>\n",
       "      <td>-0.738147</td>\n",
       "      <td>-1.745551</td>\n",
       "      <td>0.468410</td>\n",
       "      <td>-1.476078</td>\n",
       "      <td>-1.157957</td>\n",
       "      <td>-0.123488</td>\n",
       "      <td>994.7052</td>\n",
       "    </tr>\n",
       "    <tr>\n",
       "      <th>...</th>\n",
       "      <td>...</td>\n",
       "      <td>...</td>\n",
       "      <td>...</td>\n",
       "      <td>...</td>\n",
       "      <td>...</td>\n",
       "      <td>...</td>\n",
       "      <td>...</td>\n",
       "      <td>...</td>\n",
       "    </tr>\n",
       "    <tr>\n",
       "      <th>8518</th>\n",
       "      <td>-1.468096</td>\n",
       "      <td>-0.738147</td>\n",
       "      <td>0.020310</td>\n",
       "      <td>1.305304</td>\n",
       "      <td>1.148258</td>\n",
       "      <td>-1.157957</td>\n",
       "      <td>-0.123488</td>\n",
       "      <td>2778.3834</td>\n",
       "    </tr>\n",
       "    <tr>\n",
       "      <th>8519</th>\n",
       "      <td>-1.060659</td>\n",
       "      <td>1.354743</td>\n",
       "      <td>-0.221388</td>\n",
       "      <td>-1.923750</td>\n",
       "      <td>-0.463127</td>\n",
       "      <td>-1.157957</td>\n",
       "      <td>-0.123488</td>\n",
       "      <td>549.2850</td>\n",
       "    </tr>\n",
       "    <tr>\n",
       "      <th>8520</th>\n",
       "      <td>-0.496556</td>\n",
       "      <td>-0.738147</td>\n",
       "      <td>-0.542979</td>\n",
       "      <td>0.246996</td>\n",
       "      <td>-0.867930</td>\n",
       "      <td>1.256738</td>\n",
       "      <td>-0.123488</td>\n",
       "      <td>1193.1136</td>\n",
       "    </tr>\n",
       "    <tr>\n",
       "      <th>8521</th>\n",
       "      <td>-1.373443</td>\n",
       "      <td>1.354743</td>\n",
       "      <td>1.459990</td>\n",
       "      <td>1.305304</td>\n",
       "      <td>-0.548996</td>\n",
       "      <td>0.311064</td>\n",
       "      <td>1.040591</td>\n",
       "      <td>1845.5976</td>\n",
       "    </tr>\n",
       "    <tr>\n",
       "      <th>8522</th>\n",
       "      <td>0.491786</td>\n",
       "      <td>-0.738147</td>\n",
       "      <td>-0.276195</td>\n",
       "      <td>1.504660</td>\n",
       "      <td>-1.047227</td>\n",
       "      <td>1.256738</td>\n",
       "      <td>-0.123488</td>\n",
       "      <td>765.6700</td>\n",
       "    </tr>\n",
       "  </tbody>\n",
       "</table>\n",
       "<p>8433 rows × 8 columns</p>\n",
       "</div>"
      ],
      "text/plain": [
       "      Item_Weight  Item_Fat_Content  Item_Visibility  Item_Type  Item_MRP  \\\n",
       "0       -0.822636         -0.738147        -1.146886  -0.712347  1.623670   \n",
       "1       -1.733801          1.354743        -1.037100   1.504660 -1.595016   \n",
       "2        1.086362         -0.738147        -1.122375   0.684390  0.081237   \n",
       "3        1.447728          1.354743        -1.745551  -0.215420  0.689968   \n",
       "4       -0.917588         -0.738147        -1.745551   0.468410 -1.476078   \n",
       "...           ...               ...              ...        ...       ...   \n",
       "8518    -1.468096         -0.738147         0.020310   1.305304  1.148258   \n",
       "8519    -1.060659          1.354743        -0.221388  -1.923750 -0.463127   \n",
       "8520    -0.496556         -0.738147        -0.542979   0.246996 -0.867930   \n",
       "8521    -1.373443          1.354743         1.459990   1.305304 -0.548996   \n",
       "8522     0.491786         -0.738147        -0.276195   1.504660 -1.047227   \n",
       "\n",
       "      Outlet_Size  Outlet_Type  Item_Outlet_Sales  \n",
       "0        0.311064    -0.123488          3735.1380  \n",
       "1        0.311064     1.040591           443.4228  \n",
       "2        0.311064    -0.123488          2097.2700  \n",
       "3       -1.157957    -1.915952           732.3800  \n",
       "4       -1.157957    -0.123488           994.7052  \n",
       "...           ...          ...                ...  \n",
       "8518    -1.157957    -0.123488          2778.3834  \n",
       "8519    -1.157957    -0.123488           549.2850  \n",
       "8520     1.256738    -0.123488          1193.1136  \n",
       "8521     0.311064     1.040591          1845.5976  \n",
       "8522     1.256738    -0.123488           765.6700  \n",
       "\n",
       "[8433 rows x 8 columns]"
      ]
     },
     "execution_count": 165,
     "metadata": {},
     "output_type": "execute_result"
    }
   ],
   "source": [
    "df1_new= df1[(z<3).all(axis=1)]\n",
    "df1_new"
   ]
  },
  {
   "cell_type": "code",
   "execution_count": 166,
   "id": "a633ce90",
   "metadata": {},
   "outputs": [
    {
     "data": {
      "text/plain": [
       "(8433, 8)"
      ]
     },
     "execution_count": 166,
     "metadata": {},
     "output_type": "execute_result"
    }
   ],
   "source": [
    "df1_new.shape"
   ]
  },
  {
   "cell_type": "code",
   "execution_count": 167,
   "id": "ff129f82",
   "metadata": {},
   "outputs": [
    {
     "data": {
      "text/plain": [
       "(8523, 8)"
      ]
     },
     "execution_count": 167,
     "metadata": {},
     "output_type": "execute_result"
    }
   ],
   "source": [
    "train_df.shape"
   ]
  },
  {
   "cell_type": "code",
   "execution_count": 168,
   "id": "81288244",
   "metadata": {},
   "outputs": [
    {
     "data": {
      "text/plain": [
       "0.00010559662090813094"
      ]
     },
     "execution_count": 168,
     "metadata": {},
     "output_type": "execute_result"
    }
   ],
   "source": [
    "#Perccentase data Lost\n",
    "loss_percent= (8523-8433)/(8523*100)\n",
    "loss_percent"
   ]
  },
  {
   "cell_type": "markdown",
   "id": "957fbcdf",
   "metadata": {},
   "source": [
    "In train data, only very little amount of data is lost, due to outliers present."
   ]
  },
  {
   "cell_type": "code",
   "execution_count": 169,
   "id": "49d51272",
   "metadata": {},
   "outputs": [
    {
     "data": {
      "text/plain": [
       "array([[1.77007392, 0.74081066, 1.46206861, ..., 0.47201654, 0.31073165,\n",
       "        0.12353311],\n",
       "       [1.03619283, 1.34987258, 0.44801894, ..., 0.83599752, 1.15815005,\n",
       "        0.12353311],\n",
       "       [0.49167513, 0.74081066, 0.87134242, ..., 1.52537499, 1.15815005,\n",
       "        1.91575348],\n",
       "       ...,\n",
       "       [0.59355557, 0.74081066, 0.39786781, ..., 0.288074  , 1.15815005,\n",
       "        0.12353311],\n",
       "       [0.64562931, 1.34987258, 1.76023409, ..., 1.15680222, 1.15815005,\n",
       "        0.12353311],\n",
       "       [0.72091914, 1.34987258, 0.9524881 , ..., 0.97581463, 1.15815005,\n",
       "        0.12353311]])"
      ]
     },
     "execution_count": 169,
     "metadata": {},
     "output_type": "execute_result"
    }
   ],
   "source": [
    "z1=np.abs(zscore(df2))  #test data\n",
    "z1"
   ]
  },
  {
   "cell_type": "code",
   "execution_count": 170,
   "id": "5cd55b66",
   "metadata": {},
   "outputs": [
    {
     "name": "stdout",
     "output_type": "stream",
     "text": [
      "(array([], dtype=int64), array([], dtype=int64))\n"
     ]
    }
   ],
   "source": [
    "# threshold for zscore is 3........., zscore greater than 3 is outliers\n",
    "threshold =3\n",
    "print(np.where(z1>3))"
   ]
  },
  {
   "cell_type": "code",
   "execution_count": 171,
   "id": "6e42028d",
   "metadata": {},
   "outputs": [
    {
     "data": {
      "text/html": [
       "<div>\n",
       "<style scoped>\n",
       "    .dataframe tbody tr th:only-of-type {\n",
       "        vertical-align: middle;\n",
       "    }\n",
       "\n",
       "    .dataframe tbody tr th {\n",
       "        vertical-align: top;\n",
       "    }\n",
       "\n",
       "    .dataframe thead th {\n",
       "        text-align: right;\n",
       "    }\n",
       "</style>\n",
       "<table border=\"1\" class=\"dataframe\">\n",
       "  <thead>\n",
       "    <tr style=\"text-align: right;\">\n",
       "      <th></th>\n",
       "      <th>Item_Weight</th>\n",
       "      <th>Item_Fat_Content</th>\n",
       "      <th>Item_Visibility</th>\n",
       "      <th>Item_Type</th>\n",
       "      <th>Item_MRP</th>\n",
       "      <th>Outlet_Size</th>\n",
       "      <th>Outlet_Type</th>\n",
       "    </tr>\n",
       "  </thead>\n",
       "  <tbody>\n",
       "    <tr>\n",
       "      <th>0</th>\n",
       "      <td>1.770074</td>\n",
       "      <td>-0.740811</td>\n",
       "      <td>-1.462069</td>\n",
       "      <td>1.301686</td>\n",
       "      <td>-0.472017</td>\n",
       "      <td>0.310732</td>\n",
       "      <td>-0.123533</td>\n",
       "    </tr>\n",
       "    <tr>\n",
       "      <th>1</th>\n",
       "      <td>-1.036193</td>\n",
       "      <td>1.349873</td>\n",
       "      <td>-0.448019</td>\n",
       "      <td>-0.712433</td>\n",
       "      <td>-0.835998</td>\n",
       "      <td>-1.158150</td>\n",
       "      <td>-0.123533</td>\n",
       "    </tr>\n",
       "    <tr>\n",
       "      <th>2</th>\n",
       "      <td>0.491675</td>\n",
       "      <td>-0.740811</td>\n",
       "      <td>0.871342</td>\n",
       "      <td>0.892240</td>\n",
       "      <td>1.525375</td>\n",
       "      <td>-1.158150</td>\n",
       "      <td>-1.915753</td>\n",
       "    </tr>\n",
       "    <tr>\n",
       "      <th>3</th>\n",
       "      <td>-1.306479</td>\n",
       "      <td>-0.740811</td>\n",
       "      <td>-1.175927</td>\n",
       "      <td>1.301686</td>\n",
       "      <td>0.290835</td>\n",
       "      <td>-1.158150</td>\n",
       "      <td>-0.123533</td>\n",
       "    </tr>\n",
       "    <tr>\n",
       "      <th>4</th>\n",
       "      <td>0.059211</td>\n",
       "      <td>1.349873</td>\n",
       "      <td>1.153823</td>\n",
       "      <td>-0.712433</td>\n",
       "      <td>1.424528</td>\n",
       "      <td>0.310732</td>\n",
       "      <td>1.922271</td>\n",
       "    </tr>\n",
       "    <tr>\n",
       "      <th>...</th>\n",
       "      <td>...</td>\n",
       "      <td>...</td>\n",
       "      <td>...</td>\n",
       "      <td>...</td>\n",
       "      <td>...</td>\n",
       "      <td>...</td>\n",
       "      <td>...</td>\n",
       "    </tr>\n",
       "    <tr>\n",
       "      <th>5676</th>\n",
       "      <td>-0.468330</td>\n",
       "      <td>1.349873</td>\n",
       "      <td>-1.243150</td>\n",
       "      <td>1.301686</td>\n",
       "      <td>0.077563</td>\n",
       "      <td>1.256669</td>\n",
       "      <td>-0.123533</td>\n",
       "    </tr>\n",
       "    <tr>\n",
       "      <th>5677</th>\n",
       "      <td>-1.227105</td>\n",
       "      <td>1.349873</td>\n",
       "      <td>1.453584</td>\n",
       "      <td>1.696978</td>\n",
       "      <td>0.504137</td>\n",
       "      <td>0.310732</td>\n",
       "      <td>1.040210</td>\n",
       "    </tr>\n",
       "    <tr>\n",
       "      <th>5678</th>\n",
       "      <td>-0.593556</td>\n",
       "      <td>-0.740811</td>\n",
       "      <td>0.397868</td>\n",
       "      <td>0.244553</td>\n",
       "      <td>-0.288074</td>\n",
       "      <td>-1.158150</td>\n",
       "      <td>-0.123533</td>\n",
       "    </tr>\n",
       "    <tr>\n",
       "      <th>5679</th>\n",
       "      <td>0.645629</td>\n",
       "      <td>1.349873</td>\n",
       "      <td>-1.760234</td>\n",
       "      <td>-0.978099</td>\n",
       "      <td>1.156802</td>\n",
       "      <td>-1.158150</td>\n",
       "      <td>-0.123533</td>\n",
       "    </tr>\n",
       "    <tr>\n",
       "      <th>5680</th>\n",
       "      <td>-0.720919</td>\n",
       "      <td>1.349873</td>\n",
       "      <td>0.952488</td>\n",
       "      <td>-0.978099</td>\n",
       "      <td>-0.975815</td>\n",
       "      <td>-1.158150</td>\n",
       "      <td>-0.123533</td>\n",
       "    </tr>\n",
       "  </tbody>\n",
       "</table>\n",
       "<p>5681 rows × 7 columns</p>\n",
       "</div>"
      ],
      "text/plain": [
       "      Item_Weight  Item_Fat_Content  Item_Visibility  Item_Type  Item_MRP  \\\n",
       "0        1.770074         -0.740811        -1.462069   1.301686 -0.472017   \n",
       "1       -1.036193          1.349873        -0.448019  -0.712433 -0.835998   \n",
       "2        0.491675         -0.740811         0.871342   0.892240  1.525375   \n",
       "3       -1.306479         -0.740811        -1.175927   1.301686  0.290835   \n",
       "4        0.059211          1.349873         1.153823  -0.712433  1.424528   \n",
       "...           ...               ...              ...        ...       ...   \n",
       "5676    -0.468330          1.349873        -1.243150   1.301686  0.077563   \n",
       "5677    -1.227105          1.349873         1.453584   1.696978  0.504137   \n",
       "5678    -0.593556         -0.740811         0.397868   0.244553 -0.288074   \n",
       "5679     0.645629          1.349873        -1.760234  -0.978099  1.156802   \n",
       "5680    -0.720919          1.349873         0.952488  -0.978099 -0.975815   \n",
       "\n",
       "      Outlet_Size  Outlet_Type  \n",
       "0        0.310732    -0.123533  \n",
       "1       -1.158150    -0.123533  \n",
       "2       -1.158150    -1.915753  \n",
       "3       -1.158150    -0.123533  \n",
       "4        0.310732     1.922271  \n",
       "...           ...          ...  \n",
       "5676     1.256669    -0.123533  \n",
       "5677     0.310732     1.040210  \n",
       "5678    -1.158150    -0.123533  \n",
       "5679    -1.158150    -0.123533  \n",
       "5680    -1.158150    -0.123533  \n",
       "\n",
       "[5681 rows x 7 columns]"
      ]
     },
     "execution_count": 171,
     "metadata": {},
     "output_type": "execute_result"
    }
   ],
   "source": [
    "df2_new= df2[(z1<3).all(axis=1)]\n",
    "df2_new"
   ]
  },
  {
   "cell_type": "code",
   "execution_count": 172,
   "id": "7dfe0ed4",
   "metadata": {},
   "outputs": [
    {
     "data": {
      "text/plain": [
       "(5681, 7)"
      ]
     },
     "execution_count": 172,
     "metadata": {},
     "output_type": "execute_result"
    }
   ],
   "source": [
    "df2_new.shape"
   ]
  },
  {
   "cell_type": "code",
   "execution_count": 173,
   "id": "c78cf2f4",
   "metadata": {},
   "outputs": [
    {
     "data": {
      "text/plain": [
       "(5681, 7)"
      ]
     },
     "execution_count": 173,
     "metadata": {},
     "output_type": "execute_result"
    }
   ],
   "source": [
    "test_df.shape"
   ]
  },
  {
   "cell_type": "markdown",
   "id": "61878a2e",
   "metadata": {},
   "source": [
    "In test data no outliers are present "
   ]
  },
  {
   "cell_type": "markdown",
   "id": "263172c9",
   "metadata": {},
   "source": [
    "Very mere data is lost in train dataset, no outliers are present in test data. we will proceed with model building"
   ]
  },
  {
   "cell_type": "markdown",
   "id": "2a3f986f",
   "metadata": {},
   "source": [
    "# Spliting the data and Balancing "
   ]
  },
  {
   "cell_type": "code",
   "execution_count": 269,
   "id": "4c1aaddd",
   "metadata": {},
   "outputs": [],
   "source": [
    "x= df1_new.iloc[:,0:-1]\n",
    "y=df1_new.iloc[:,-1]"
   ]
  },
  {
   "cell_type": "code",
   "execution_count": 270,
   "id": "16343d7d",
   "metadata": {},
   "outputs": [],
   "source": [
    "xtest=df2"
   ]
  },
  {
   "cell_type": "markdown",
   "id": "feb3058b",
   "metadata": {},
   "source": [
    "The target values are continous. So we will use linearRegression "
   ]
  },
  {
   "cell_type": "markdown",
   "id": "64761422",
   "metadata": {},
   "source": [
    "# Train the Model"
   ]
  },
  {
   "cell_type": "code",
   "execution_count": 271,
   "id": "73ae7b39",
   "metadata": {},
   "outputs": [],
   "source": [
    "from sklearn.linear_model import LinearRegression\n",
    "from sklearn.tree import DecisionTreeRegressor\n",
    "from sklearn.ensemble import RandomForestRegressor\n",
    "from sklearn.svm import SVR\n",
    "from sklearn.metrics import accuracy_score,r2_score,mean_squared_error,mean_absolute_error\n",
    "from sklearn.model_selection import train_test_split"
   ]
  },
  {
   "cell_type": "markdown",
   "id": "922a4765",
   "metadata": {},
   "source": [
    "# Check the best Random State"
   ]
  },
  {
   "cell_type": "markdown",
   "id": "e94bab10",
   "metadata": {},
   "source": [
    "# Linear Regression"
   ]
  },
  {
   "cell_type": "code",
   "execution_count": 272,
   "id": "3f32463c",
   "metadata": {},
   "outputs": [
    {
     "name": "stdout",
     "output_type": "stream",
     "text": [
      "Best R2_score is 0.7720099044648068 on Random_state 26\n"
     ]
    }
   ],
   "source": [
    "maxr2=0\n",
    "maxRS=0\n",
    "\n",
    "for i in range(1,100):\n",
    "    xtrain,xtest,ytrain,ytest= train_test_split(x,y,test_size=20,random_state=i)\n",
    "    lr=LinearRegression()\n",
    "    lr.fit(xtrain,ytrain)\n",
    "    predlr= lr.predict(xtest)\n",
    "    R2=r2_score(ytest,predlr)\n",
    "    if R2>maxr2:\n",
    "        maxr2=R2\n",
    "        maxRS=i\n",
    "print(\"Best R2_score is\", maxr2, 'on Random_state',maxRS)"
   ]
  },
  {
   "cell_type": "markdown",
   "id": "28e07304",
   "metadata": {},
   "source": [
    "# To Find the Best Cross Validation Score "
   ]
  },
  {
   "cell_type": "code",
   "execution_count": 273,
   "id": "3e3fc393",
   "metadata": {},
   "outputs": [],
   "source": [
    "pred_tr= lr.predict(xtrain)\n",
    "pred_ts= lr.predict(xtest)"
   ]
  },
  {
   "cell_type": "code",
   "execution_count": 274,
   "id": "fb4b6729",
   "metadata": {},
   "outputs": [],
   "source": [
    "train_score= r2_score(ytrain,pred_tr)\n",
    "test_score= r2_score(ytest,pred_ts)"
   ]
  },
  {
   "cell_type": "code",
   "execution_count": 275,
   "id": "a1745200",
   "metadata": {},
   "outputs": [
    {
     "name": "stdout",
     "output_type": "stream",
     "text": [
      "At cross fold 2 the cv score is 0.5025281742161529 and accuracy score for training is 0.5028037026153919 and the accuracy for testing is 0.6530118808940737\n",
      "\n",
      "\n",
      "At cross fold 3 the cv score is 0.5021228917315157 and accuracy score for training is 0.5028037026153919 and the accuracy for testing is 0.6530118808940737\n",
      "\n",
      "\n",
      "At cross fold 4 the cv score is 0.5016845922638151 and accuracy score for training is 0.5028037026153919 and the accuracy for testing is 0.6530118808940737\n",
      "\n",
      "\n",
      "At cross fold 5 the cv score is 0.5018647410705788 and accuracy score for training is 0.5028037026153919 and the accuracy for testing is 0.6530118808940737\n",
      "\n",
      "\n",
      "At cross fold 6 the cv score is 0.5019438425726424 and accuracy score for training is 0.5028037026153919 and the accuracy for testing is 0.6530118808940737\n",
      "\n",
      "\n",
      "At cross fold 7 the cv score is 0.5021564319184846 and accuracy score for training is 0.5028037026153919 and the accuracy for testing is 0.6530118808940737\n",
      "\n",
      "\n",
      "At cross fold 8 the cv score is 0.5019400352851757 and accuracy score for training is 0.5028037026153919 and the accuracy for testing is 0.6530118808940737\n",
      "\n",
      "\n",
      "At cross fold 9 the cv score is 0.5017772520101698 and accuracy score for training is 0.5028037026153919 and the accuracy for testing is 0.6530118808940737\n",
      "\n",
      "\n"
     ]
    }
   ],
   "source": [
    "from sklearn.model_selection import cross_val_score\n",
    "for j in range(2,10):\n",
    "    cv_score= cross_val_score(lr,x,y,cv=j)\n",
    "    cv_mean=cv_score.mean()\n",
    "    print(f\"At cross fold {j} the cv score is {cv_mean} and accuracy score for training is {train_score} and the accuracy for testing is {test_score}\")\n",
    "    print(\"\\n\")"
   ]
  },
  {
   "cell_type": "markdown",
   "id": "d6660539",
   "metadata": {},
   "source": [
    "From the above results, Random_state is set to be 26, \n",
    "\n",
    "Cv_score is set to be 2 to train and test the models"
   ]
  },
  {
   "cell_type": "code",
   "execution_count": 276,
   "id": "1158a68f",
   "metadata": {},
   "outputs": [],
   "source": [
    "xtrain,xtest,ytrain,ytest= train_test_split(x,y,test_size=20,random_state=26)"
   ]
  },
  {
   "cell_type": "markdown",
   "id": "b4f3c444",
   "metadata": {},
   "source": [
    "# Linear Regression"
   ]
  },
  {
   "cell_type": "code",
   "execution_count": 277,
   "id": "f12a10d6",
   "metadata": {},
   "outputs": [
    {
     "name": "stdout",
     "output_type": "stream",
     "text": [
      "Score: 0.5026916501363252\n",
      "root_mean_squared_error 666.2161820916645\n",
      "mean_absolute_error: 510.3468786935613\n",
      "r2_score: 0.68854319567131\n"
     ]
    }
   ],
   "source": [
    "lr=LinearRegression()\n",
    "lr.fit(xtrain,ytrain)\n",
    "predlr= lr.predict(xtest)\n",
    "print('Score:',lr.score(xtrain,ytrain))\n",
    "print('root_mean_squared_error', np.sqrt(mean_squared_error(ytest,predlr)))\n",
    "print('mean_absolute_error:', mean_absolute_error(predlr,ytest))\n",
    "print('r2_score:', r2_score(predlr,ytest))"
   ]
  },
  {
   "cell_type": "code",
   "execution_count": 278,
   "id": "e03b0a3f",
   "metadata": {},
   "outputs": [
    {
     "name": "stdout",
     "output_type": "stream",
     "text": [
      "Cross Validation Score of LinearRegression is: 0.5025281742161529\n"
     ]
    }
   ],
   "source": [
    "cr_lr=cross_val_score(lr,x,y, cv=2)\n",
    "print('Cross Validation Score of LinearRegression is:', cr_lr.mean())"
   ]
  },
  {
   "cell_type": "markdown",
   "id": "17061ead",
   "metadata": {},
   "source": [
    "The r2_score is not near to the Cv Score, which means the model may be either underfitted or overfitted. So we will tune the hyper parameters and check the accuracy of the model"
   ]
  },
  {
   "cell_type": "markdown",
   "id": "eac6e199",
   "metadata": {},
   "source": [
    "# Decision Tree Regressor"
   ]
  },
  {
   "cell_type": "code",
   "execution_count": 279,
   "id": "b04c6015",
   "metadata": {},
   "outputs": [
    {
     "name": "stdout",
     "output_type": "stream",
     "text": [
      "Score: 1.0\n",
      "root_mean_squared_error 1234.5678883161822\n",
      "mean_absolute_error: 999.66541\n",
      "r2_score: 0.07800025399655519\n"
     ]
    }
   ],
   "source": [
    "dtc=DecisionTreeRegressor()\n",
    "dtc.fit(xtrain,ytrain)\n",
    "preddtc= dtc.predict(xtest)\n",
    "print('Score:',dtc.score(xtrain,ytrain))\n",
    "print('root_mean_squared_error', np.sqrt(mean_squared_error(ytest,preddtc)))\n",
    "print('mean_absolute_error:', mean_absolute_error(preddtc,ytest))\n",
    "print('r2_score:', r2_score(preddtc,ytest))"
   ]
  },
  {
   "cell_type": "code",
   "execution_count": 280,
   "id": "c7bf98e6",
   "metadata": {},
   "outputs": [
    {
     "name": "stdout",
     "output_type": "stream",
     "text": [
      "Cross Validation Score of DecisionTreeRegressor is: 0.17680457936025745\n"
     ]
    }
   ],
   "source": [
    "cr_dtc=cross_val_score(dtc,x,y,cv=2)\n",
    "print('Cross Validation Score of DecisionTreeRegressor is:', cr_dtc.mean())"
   ]
  },
  {
   "cell_type": "markdown",
   "id": "2dfc283f",
   "metadata": {},
   "source": [
    "r2 score and cv score are very less here. So we will prceed with RandomForestRegressor"
   ]
  },
  {
   "cell_type": "markdown",
   "id": "497c7a46",
   "metadata": {},
   "source": [
    "# RandomForestRegressor"
   ]
  },
  {
   "cell_type": "code",
   "execution_count": 281,
   "id": "bf7e809b",
   "metadata": {},
   "outputs": [
    {
     "name": "stdout",
     "output_type": "stream",
     "text": [
      "root_mean_squared_error 874.0144658758336\n",
      "mean_absolute_error: 649.0990728\n",
      "Rf Score 0.9345595359190239\n",
      "r2_score: 0.5241486585587392\n"
     ]
    }
   ],
   "source": [
    "rf=RandomForestRegressor()\n",
    "rf.fit(xtrain,ytrain)\n",
    "predrf= rf.predict(xtest)\n",
    "print('root_mean_squared_error', np.sqrt(mean_squared_error(ytest,predrf)))\n",
    "print('mean_absolute_error:', mean_absolute_error(predrf,ytest))\n",
    "print('Rf Score', rf.score(xtrain,ytrain))\n",
    "print('r2_score:', r2_score(predrf,ytest))"
   ]
  },
  {
   "cell_type": "code",
   "execution_count": 282,
   "id": "9a7e51df",
   "metadata": {},
   "outputs": [
    {
     "name": "stdout",
     "output_type": "stream",
     "text": [
      "Cross Validation Score of RandomForestRegressor is: 0.5239342382078018\n"
     ]
    }
   ],
   "source": [
    "cr_rf=cross_val_score(rf, x,y, cv=2)\n",
    "print('Cross Validation Score of RandomForestRegressor is:', cr_rf.mean())"
   ]
  },
  {
   "cell_type": "markdown",
   "id": "c84fb03e",
   "metadata": {},
   "source": [
    "r2 score and cv score are nearly equal, the model is performing well. we shall improve the performance by tuning the parameters"
   ]
  },
  {
   "cell_type": "markdown",
   "id": "4c0579ca",
   "metadata": {},
   "source": [
    "# SVR"
   ]
  },
  {
   "cell_type": "code",
   "execution_count": 283,
   "id": "ea700f81",
   "metadata": {},
   "outputs": [
    {
     "name": "stdout",
     "output_type": "stream",
     "text": [
      "root_mean_squared_error 715.876648266013\n",
      "mean_absolute_error: 544.2003830779488\n",
      "Score: 0.47240541435370886\n",
      "r2_score: 0.4514525246285367\n"
     ]
    }
   ],
   "source": [
    "svc=SVR(kernel='linear')\n",
    "svc.fit(xtrain,ytrain)\n",
    "predsvc= svc.predict(xtest)\n",
    "print('root_mean_squared_error', np.sqrt(mean_squared_error(ytest,predsvc)))\n",
    "print('mean_absolute_error:', mean_absolute_error(predsvc,ytest))\n",
    "print('Score:', svc.score(xtrain,ytrain))\n",
    "print('r2_score:', r2_score(predsvc,ytest))"
   ]
  },
  {
   "cell_type": "code",
   "execution_count": 284,
   "id": "0a455440",
   "metadata": {},
   "outputs": [
    {
     "name": "stdout",
     "output_type": "stream",
     "text": [
      "Cross Validation Score of SVR is: 0.4447625624659035\n"
     ]
    }
   ],
   "source": [
    "cv_svc=cross_val_score(svc, x,y, cv=2)\n",
    "print('Cross Validation Score of SVR is:', cv_svc.mean())"
   ]
  },
  {
   "cell_type": "markdown",
   "id": "21e3eea2",
   "metadata": {},
   "source": [
    "# HyperParameter Tuning With GridSearchCV"
   ]
  },
  {
   "cell_type": "code",
   "execution_count": 285,
   "id": "1ee41df6",
   "metadata": {},
   "outputs": [],
   "source": [
    "from sklearn.model_selection import GridSearchCV"
   ]
  },
  {
   "cell_type": "markdown",
   "id": "46a041b4",
   "metadata": {},
   "source": [
    "# RandomForestRegressor"
   ]
  },
  {
   "cell_type": "code",
   "execution_count": 286,
   "id": "9a234f48",
   "metadata": {},
   "outputs": [
    {
     "data": {
      "text/plain": [
       "RandomForestRegressor()"
      ]
     },
     "execution_count": 286,
     "metadata": {},
     "output_type": "execute_result"
    }
   ],
   "source": [
    "RandomForestRegressor()"
   ]
  },
  {
   "cell_type": "code",
   "execution_count": 287,
   "id": "bdc8d255",
   "metadata": {},
   "outputs": [],
   "source": [
    "parameters={'max_features': [\"auto\", \"sqrt\", \"log2\"]}"
   ]
  },
  {
   "cell_type": "code",
   "execution_count": 288,
   "id": "7d139a64",
   "metadata": {},
   "outputs": [
    {
     "data": {
      "text/plain": [
       "{'max_features': 'sqrt'}"
      ]
     },
     "execution_count": 288,
     "metadata": {},
     "output_type": "execute_result"
    }
   ],
   "source": [
    "GCV=GridSearchCV(RandomForestRegressor(), parameters, cv=2, scoring='r2')\n",
    "GCV.fit(xtrain,ytrain)\n",
    "GCV.best_params_"
   ]
  },
  {
   "cell_type": "code",
   "execution_count": 289,
   "id": "5b161398",
   "metadata": {},
   "outputs": [],
   "source": [
    "parameters={'max_depth': [4,5,6,7,8]}"
   ]
  },
  {
   "cell_type": "code",
   "execution_count": 290,
   "id": "8589f2f2",
   "metadata": {},
   "outputs": [
    {
     "data": {
      "text/plain": [
       "{'max_depth': 5}"
      ]
     },
     "execution_count": 290,
     "metadata": {},
     "output_type": "execute_result"
    }
   ],
   "source": [
    "GCV=GridSearchCV(RandomForestRegressor(), parameters, cv=2, scoring='r2')\n",
    "GCV.fit(xtrain,ytrain)\n",
    "GCV.best_params_"
   ]
  },
  {
   "cell_type": "code",
   "execution_count": 291,
   "id": "ce72abde",
   "metadata": {},
   "outputs": [],
   "source": [
    "parameters={'min_samples_leaf': [1,2,3]}"
   ]
  },
  {
   "cell_type": "code",
   "execution_count": 292,
   "id": "00406a30",
   "metadata": {},
   "outputs": [
    {
     "data": {
      "text/plain": [
       "{'min_samples_leaf': 3}"
      ]
     },
     "execution_count": 292,
     "metadata": {},
     "output_type": "execute_result"
    }
   ],
   "source": [
    "GCV=GridSearchCV(RandomForestRegressor(), parameters, cv=2, scoring='r2')\n",
    "GCV.fit(xtrain,ytrain)\n",
    "GCV.best_params_"
   ]
  },
  {
   "cell_type": "code",
   "execution_count": 293,
   "id": "c468ce10",
   "metadata": {},
   "outputs": [
    {
     "data": {
      "text/plain": [
       "RandomForestRegressor(min_samples_leaf=3)"
      ]
     },
     "execution_count": 293,
     "metadata": {},
     "output_type": "execute_result"
    }
   ],
   "source": [
    "GCV.best_estimator_"
   ]
  },
  {
   "cell_type": "code",
   "execution_count": 294,
   "id": "9b7b26fa",
   "metadata": {},
   "outputs": [
    {
     "data": {
      "text/plain": [
       "0.6251880416330059"
      ]
     },
     "execution_count": 294,
     "metadata": {},
     "output_type": "execute_result"
    }
   ],
   "source": [
    "GCV_pred=GCV.best_estimator_.predict(xtest)\n",
    "r2_score(ytest,GCV_pred)"
   ]
  },
  {
   "cell_type": "markdown",
   "id": "fb11ffe2",
   "metadata": {},
   "source": [
    "# RandomForestRegressor"
   ]
  },
  {
   "cell_type": "code",
   "execution_count": 295,
   "id": "77e5a86a",
   "metadata": {},
   "outputs": [
    {
     "name": "stdout",
     "output_type": "stream",
     "text": [
      "root_mean_squared_error 703.4977912259338\n",
      "mean_absolute_error: 540.8686253689793\n",
      "Rf Score 0.6120682947394207\n",
      "r2_score: 0.6638285340298655\n"
     ]
    }
   ],
   "source": [
    "rf=RandomForestRegressor(min_samples_leaf=3, max_depth=6, criterion='squared_error')\n",
    "rf.fit(xtrain,ytrain)\n",
    "predrf= rf.predict(xtest)\n",
    "print('root_mean_squared_error', np.sqrt(mean_squared_error(ytest,predrf)))\n",
    "print('mean_absolute_error:', mean_absolute_error(predrf,ytest))\n",
    "print('Rf Score', rf.score(xtrain,ytrain))\n",
    "print('r2_score:', r2_score(predrf,ytest))"
   ]
  },
  {
   "cell_type": "markdown",
   "id": "9986a186",
   "metadata": {},
   "source": [
    "The accuracy of the model is improved from 54% to 66% after tuning the parameters. "
   ]
  },
  {
   "cell_type": "markdown",
   "id": "639fd1f9",
   "metadata": {},
   "source": [
    "# Linear Regression- Parameter tuning"
   ]
  },
  {
   "cell_type": "code",
   "execution_count": 205,
   "id": "cbdcf1f7",
   "metadata": {},
   "outputs": [
    {
     "data": {
      "text/plain": [
       "LinearRegression()"
      ]
     },
     "execution_count": 205,
     "metadata": {},
     "output_type": "execute_result"
    }
   ],
   "source": [
    "LinearRegression()"
   ]
  },
  {
   "cell_type": "code",
   "execution_count": 255,
   "id": "75e23208",
   "metadata": {},
   "outputs": [],
   "source": [
    "parameters={'normalize': [True], 'n_jobs':[-1,0,1],'copy_X':[False]}"
   ]
  },
  {
   "cell_type": "code",
   "execution_count": 256,
   "id": "a787d105",
   "metadata": {},
   "outputs": [
    {
     "data": {
      "text/plain": [
       "{'copy_X': False, 'n_jobs': -1, 'normalize': True}"
      ]
     },
     "execution_count": 256,
     "metadata": {},
     "output_type": "execute_result"
    }
   ],
   "source": [
    "GCV=GridSearchCV(LinearRegression(), parameters, cv=2, scoring='r2',n_jobs=-1)\n",
    "GCV.fit(xtrain,ytrain)\n",
    "GCV.best_params_"
   ]
  },
  {
   "cell_type": "code",
   "execution_count": 257,
   "id": "864e270e",
   "metadata": {},
   "outputs": [
    {
     "data": {
      "text/plain": [
       "LinearRegression(copy_X=False, n_jobs=-1, normalize=True)"
      ]
     },
     "execution_count": 257,
     "metadata": {},
     "output_type": "execute_result"
    }
   ],
   "source": [
    "GCV.best_estimator_"
   ]
  },
  {
   "cell_type": "code",
   "execution_count": 258,
   "id": "3c1293d1",
   "metadata": {},
   "outputs": [
    {
     "data": {
      "text/plain": [
       "0.7720099044648066"
      ]
     },
     "execution_count": 258,
     "metadata": {},
     "output_type": "execute_result"
    }
   ],
   "source": [
    "GCV_pred=GCV.best_estimator_.predict(xtest)\n",
    "r2_score(ytest,GCV_pred)"
   ]
  },
  {
   "cell_type": "code",
   "execution_count": 259,
   "id": "1e97b1b3",
   "metadata": {},
   "outputs": [
    {
     "name": "stdout",
     "output_type": "stream",
     "text": [
      "Score: 0.5026916501363253\n",
      "root_mean_squared_error 666.2161820916648\n",
      "mean_absolute_error: 510.3468786935617\n",
      "r2_score: 0.6885431956713091\n"
     ]
    }
   ],
   "source": [
    "lr=LinearRegression(n_jobs=-1)\n",
    "lr.fit(xtrain,ytrain)\n",
    "predlr= GCV.best_estimator_.predict(xtest)\n",
    "print('Score:',lr.score(xtrain,ytrain))\n",
    "print('root_mean_squared_error', np.sqrt(mean_squared_error(ytest,predlr)))\n",
    "print('mean_absolute_error:', mean_absolute_error(predlr,ytest))\n",
    "print('r2_score:', r2_score(predlr,ytest))"
   ]
  },
  {
   "cell_type": "markdown",
   "id": "e6ede00f",
   "metadata": {},
   "source": [
    "After tuning the parameters in this model, the accuracy remains same. But the overall accuracy is high with this model so we will save this model. The LinearRegression Model performs 69% well with the dataset"
   ]
  },
  {
   "cell_type": "markdown",
   "id": "bcba3d38",
   "metadata": {},
   "source": [
    "# Save The Model"
   ]
  },
  {
   "cell_type": "code",
   "execution_count": 262,
   "id": "125d44c2",
   "metadata": {},
   "outputs": [],
   "source": [
    "import pickle\n",
    "filename= 'Bigmart.pkl'\n",
    "pickle.dump(lr,open(filename, 'wb'))"
   ]
  },
  {
   "cell_type": "markdown",
   "id": "50958a5b",
   "metadata": {},
   "source": [
    "# Compare Original results with the Predicted Results"
   ]
  },
  {
   "cell_type": "code",
   "execution_count": 263,
   "id": "fe235b8f",
   "metadata": {},
   "outputs": [
    {
     "data": {
      "text/html": [
       "<div>\n",
       "<style scoped>\n",
       "    .dataframe tbody tr th:only-of-type {\n",
       "        vertical-align: middle;\n",
       "    }\n",
       "\n",
       "    .dataframe tbody tr th {\n",
       "        vertical-align: top;\n",
       "    }\n",
       "\n",
       "    .dataframe thead th {\n",
       "        text-align: right;\n",
       "    }\n",
       "</style>\n",
       "<table border=\"1\" class=\"dataframe\">\n",
       "  <thead>\n",
       "    <tr style=\"text-align: right;\">\n",
       "      <th></th>\n",
       "      <th>original</th>\n",
       "      <th>Predicted</th>\n",
       "    </tr>\n",
       "  </thead>\n",
       "  <tbody>\n",
       "    <tr>\n",
       "      <th>0</th>\n",
       "      <td>2993.4368</td>\n",
       "      <td>3058.121294</td>\n",
       "    </tr>\n",
       "    <tr>\n",
       "      <th>1</th>\n",
       "      <td>852.2240</td>\n",
       "      <td>1375.963844</td>\n",
       "    </tr>\n",
       "    <tr>\n",
       "      <th>2</th>\n",
       "      <td>974.0654</td>\n",
       "      <td>1384.767232</td>\n",
       "    </tr>\n",
       "    <tr>\n",
       "      <th>3</th>\n",
       "      <td>2390.8878</td>\n",
       "      <td>1948.680810</td>\n",
       "    </tr>\n",
       "    <tr>\n",
       "      <th>4</th>\n",
       "      <td>1494.0552</td>\n",
       "      <td>1364.164733</td>\n",
       "    </tr>\n",
       "    <tr>\n",
       "      <th>5</th>\n",
       "      <td>1062.6168</td>\n",
       "      <td>1367.230242</td>\n",
       "    </tr>\n",
       "    <tr>\n",
       "      <th>6</th>\n",
       "      <td>809.6128</td>\n",
       "      <td>822.351770</td>\n",
       "    </tr>\n",
       "    <tr>\n",
       "      <th>7</th>\n",
       "      <td>575.2512</td>\n",
       "      <td>2126.459751</td>\n",
       "    </tr>\n",
       "    <tr>\n",
       "      <th>8</th>\n",
       "      <td>89.8830</td>\n",
       "      <td>211.467521</td>\n",
       "    </tr>\n",
       "    <tr>\n",
       "      <th>9</th>\n",
       "      <td>1015.3450</td>\n",
       "      <td>619.860893</td>\n",
       "    </tr>\n",
       "    <tr>\n",
       "      <th>10</th>\n",
       "      <td>2432.1674</td>\n",
       "      <td>3063.321935</td>\n",
       "    </tr>\n",
       "    <tr>\n",
       "      <th>11</th>\n",
       "      <td>341.5554</td>\n",
       "      <td>619.860893</td>\n",
       "    </tr>\n",
       "    <tr>\n",
       "      <th>12</th>\n",
       "      <td>1685.8056</td>\n",
       "      <td>2096.289594</td>\n",
       "    </tr>\n",
       "    <tr>\n",
       "      <th>13</th>\n",
       "      <td>2283.0282</td>\n",
       "      <td>3905.401814</td>\n",
       "    </tr>\n",
       "    <tr>\n",
       "      <th>14</th>\n",
       "      <td>2678.5134</td>\n",
       "      <td>1518.779235</td>\n",
       "    </tr>\n",
       "    <tr>\n",
       "      <th>15</th>\n",
       "      <td>1342.2528</td>\n",
       "      <td>1506.148241</td>\n",
       "    </tr>\n",
       "    <tr>\n",
       "      <th>16</th>\n",
       "      <td>1948.1308</td>\n",
       "      <td>1639.477742</td>\n",
       "    </tr>\n",
       "    <tr>\n",
       "      <th>17</th>\n",
       "      <td>2862.9400</td>\n",
       "      <td>1936.276858</td>\n",
       "    </tr>\n",
       "    <tr>\n",
       "      <th>18</th>\n",
       "      <td>5031.4506</td>\n",
       "      <td>4015.345144</td>\n",
       "    </tr>\n",
       "    <tr>\n",
       "      <th>19</th>\n",
       "      <td>5522.8110</td>\n",
       "      <td>5101.683656</td>\n",
       "    </tr>\n",
       "  </tbody>\n",
       "</table>\n",
       "</div>"
      ],
      "text/plain": [
       "     original    Predicted\n",
       "0   2993.4368  3058.121294\n",
       "1    852.2240  1375.963844\n",
       "2    974.0654  1384.767232\n",
       "3   2390.8878  1948.680810\n",
       "4   1494.0552  1364.164733\n",
       "5   1062.6168  1367.230242\n",
       "6    809.6128   822.351770\n",
       "7    575.2512  2126.459751\n",
       "8     89.8830   211.467521\n",
       "9   1015.3450   619.860893\n",
       "10  2432.1674  3063.321935\n",
       "11   341.5554   619.860893\n",
       "12  1685.8056  2096.289594\n",
       "13  2283.0282  3905.401814\n",
       "14  2678.5134  1518.779235\n",
       "15  1342.2528  1506.148241\n",
       "16  1948.1308  1639.477742\n",
       "17  2862.9400  1936.276858\n",
       "18  5031.4506  4015.345144\n",
       "19  5522.8110  5101.683656"
      ]
     },
     "execution_count": 263,
     "metadata": {},
     "output_type": "execute_result"
    }
   ],
   "source": [
    "x=np.array(ytest)\n",
    "predicted= np.array(rf.predict(xtest))\n",
    "df_con= pd.DataFrame({'original': x, 'Predicted': predicted}, index= range(len(x)))\n",
    "df_con"
   ]
  },
  {
   "cell_type": "markdown",
   "id": "a0768212",
   "metadata": {},
   "source": [
    "If we compare the results with the original data, the model has wodked nearly 70% well with the data."
   ]
  },
  {
   "cell_type": "code",
   "execution_count": null,
   "id": "026f9510",
   "metadata": {},
   "outputs": [],
   "source": []
  }
 ],
 "metadata": {
  "kernelspec": {
   "display_name": "Python 3",
   "language": "python",
   "name": "python3"
  },
  "language_info": {
   "codemirror_mode": {
    "name": "ipython",
    "version": 3
   },
   "file_extension": ".py",
   "mimetype": "text/x-python",
   "name": "python",
   "nbconvert_exporter": "python",
   "pygments_lexer": "ipython3",
   "version": "3.8.8"
  }
 },
 "nbformat": 4,
 "nbformat_minor": 5
}
