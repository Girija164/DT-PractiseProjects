{
 "cells": [
  {
   "cell_type": "markdown",
   "id": "282f5a57",
   "metadata": {},
   "source": [
    "# Sales Channel Data Analysis"
   ]
  },
  {
   "cell_type": "markdown",
   "id": "1ac04e78",
   "metadata": {},
   "source": [
    "When a company enters a market, the distribution strategy and channel it uses are keys to its success in the market, as well as market know-how and customer knowledge and understanding. Because an effective distribution strategy under efficient supply-chain management opens doors for attaining competitive advantage and strong brand equity in the market, it is a component of the marketing mix that cannot be ignored . \n",
    "\n",
    "The distribution strategy and the channel design have to be right the first time. The case study of Sales channel includes the detailed study of TV, radio and newspaper channel."
   ]
  },
  {
   "cell_type": "markdown",
   "id": "2d809713",
   "metadata": {},
   "source": [
    "# Problem Statement"
   ]
  },
  {
   "cell_type": "markdown",
   "id": "f8df98f9",
   "metadata": {},
   "source": [
    "Build a model which can predict the sales based on the money spent on different marketing platforms."
   ]
  },
  {
   "cell_type": "markdown",
   "id": "dd7e44b8",
   "metadata": {},
   "source": [
    "# Target Variable"
   ]
  },
  {
   "cell_type": "markdown",
   "id": "9ad3f476",
   "metadata": {},
   "source": [
    " The target variable is Sales. It is a continous data. So we are supposed to use Linear Regression"
   ]
  },
  {
   "cell_type": "markdown",
   "id": "a9a18638",
   "metadata": {},
   "source": [
    "# Import Libraries"
   ]
  },
  {
   "cell_type": "code",
   "execution_count": 2,
   "id": "f270c721",
   "metadata": {},
   "outputs": [],
   "source": [
    "import numpy as np\n",
    "import pandas as pd\n",
    "import matplotlib.pyplot as plt\n",
    "import seaborn as sns\n",
    "import sklearn\n",
    "\n",
    "from sklearn.preprocessing import LabelEncoder\n",
    "from sklearn.preprocessing import StandardScaler\n",
    "\n",
    "import warnings\n",
    "warnings.filterwarnings('ignore')"
   ]
  },
  {
   "cell_type": "markdown",
   "id": "722a8687",
   "metadata": {},
   "source": [
    "# Load Dataset"
   ]
  },
  {
   "cell_type": "code",
   "execution_count": 3,
   "id": "e10c8402",
   "metadata": {},
   "outputs": [
    {
     "data": {
      "text/html": [
       "<div>\n",
       "<style scoped>\n",
       "    .dataframe tbody tr th:only-of-type {\n",
       "        vertical-align: middle;\n",
       "    }\n",
       "\n",
       "    .dataframe tbody tr th {\n",
       "        vertical-align: top;\n",
       "    }\n",
       "\n",
       "    .dataframe thead th {\n",
       "        text-align: right;\n",
       "    }\n",
       "</style>\n",
       "<table border=\"1\" class=\"dataframe\">\n",
       "  <thead>\n",
       "    <tr style=\"text-align: right;\">\n",
       "      <th></th>\n",
       "      <th>Unnamed: 0</th>\n",
       "      <th>TV</th>\n",
       "      <th>radio</th>\n",
       "      <th>newspaper</th>\n",
       "      <th>sales</th>\n",
       "    </tr>\n",
       "  </thead>\n",
       "  <tbody>\n",
       "    <tr>\n",
       "      <th>0</th>\n",
       "      <td>1</td>\n",
       "      <td>230.1</td>\n",
       "      <td>37.8</td>\n",
       "      <td>69.2</td>\n",
       "      <td>22.1</td>\n",
       "    </tr>\n",
       "    <tr>\n",
       "      <th>1</th>\n",
       "      <td>2</td>\n",
       "      <td>44.5</td>\n",
       "      <td>39.3</td>\n",
       "      <td>45.1</td>\n",
       "      <td>10.4</td>\n",
       "    </tr>\n",
       "    <tr>\n",
       "      <th>2</th>\n",
       "      <td>3</td>\n",
       "      <td>17.2</td>\n",
       "      <td>45.9</td>\n",
       "      <td>69.3</td>\n",
       "      <td>9.3</td>\n",
       "    </tr>\n",
       "    <tr>\n",
       "      <th>3</th>\n",
       "      <td>4</td>\n",
       "      <td>151.5</td>\n",
       "      <td>41.3</td>\n",
       "      <td>58.5</td>\n",
       "      <td>18.5</td>\n",
       "    </tr>\n",
       "    <tr>\n",
       "      <th>4</th>\n",
       "      <td>5</td>\n",
       "      <td>180.8</td>\n",
       "      <td>10.8</td>\n",
       "      <td>58.4</td>\n",
       "      <td>12.9</td>\n",
       "    </tr>\n",
       "  </tbody>\n",
       "</table>\n",
       "</div>"
      ],
      "text/plain": [
       "   Unnamed: 0     TV  radio  newspaper  sales\n",
       "0           1  230.1   37.8       69.2   22.1\n",
       "1           2   44.5   39.3       45.1   10.4\n",
       "2           3   17.2   45.9       69.3    9.3\n",
       "3           4  151.5   41.3       58.5   18.5\n",
       "4           5  180.8   10.8       58.4   12.9"
      ]
     },
     "execution_count": 3,
     "metadata": {},
     "output_type": "execute_result"
    }
   ],
   "source": [
    "chl_df=pd.read_csv('advertising.csv')\n",
    "chl_df.head()"
   ]
  },
  {
   "cell_type": "code",
   "execution_count": 4,
   "id": "cf58acbd",
   "metadata": {},
   "outputs": [
    {
     "data": {
      "text/html": [
       "<div>\n",
       "<style scoped>\n",
       "    .dataframe tbody tr th:only-of-type {\n",
       "        vertical-align: middle;\n",
       "    }\n",
       "\n",
       "    .dataframe tbody tr th {\n",
       "        vertical-align: top;\n",
       "    }\n",
       "\n",
       "    .dataframe thead th {\n",
       "        text-align: right;\n",
       "    }\n",
       "</style>\n",
       "<table border=\"1\" class=\"dataframe\">\n",
       "  <thead>\n",
       "    <tr style=\"text-align: right;\">\n",
       "      <th></th>\n",
       "      <th>Unnamed: 0</th>\n",
       "      <th>TV</th>\n",
       "      <th>radio</th>\n",
       "      <th>newspaper</th>\n",
       "      <th>sales</th>\n",
       "    </tr>\n",
       "  </thead>\n",
       "  <tbody>\n",
       "    <tr>\n",
       "      <th>195</th>\n",
       "      <td>196</td>\n",
       "      <td>38.2</td>\n",
       "      <td>3.7</td>\n",
       "      <td>13.8</td>\n",
       "      <td>7.6</td>\n",
       "    </tr>\n",
       "    <tr>\n",
       "      <th>196</th>\n",
       "      <td>197</td>\n",
       "      <td>94.2</td>\n",
       "      <td>4.9</td>\n",
       "      <td>8.1</td>\n",
       "      <td>9.7</td>\n",
       "    </tr>\n",
       "    <tr>\n",
       "      <th>197</th>\n",
       "      <td>198</td>\n",
       "      <td>177.0</td>\n",
       "      <td>9.3</td>\n",
       "      <td>6.4</td>\n",
       "      <td>12.8</td>\n",
       "    </tr>\n",
       "    <tr>\n",
       "      <th>198</th>\n",
       "      <td>199</td>\n",
       "      <td>283.6</td>\n",
       "      <td>42.0</td>\n",
       "      <td>66.2</td>\n",
       "      <td>25.5</td>\n",
       "    </tr>\n",
       "    <tr>\n",
       "      <th>199</th>\n",
       "      <td>200</td>\n",
       "      <td>232.1</td>\n",
       "      <td>8.6</td>\n",
       "      <td>8.7</td>\n",
       "      <td>13.4</td>\n",
       "    </tr>\n",
       "  </tbody>\n",
       "</table>\n",
       "</div>"
      ],
      "text/plain": [
       "     Unnamed: 0     TV  radio  newspaper  sales\n",
       "195         196   38.2    3.7       13.8    7.6\n",
       "196         197   94.2    4.9        8.1    9.7\n",
       "197         198  177.0    9.3        6.4   12.8\n",
       "198         199  283.6   42.0       66.2   25.5\n",
       "199         200  232.1    8.6        8.7   13.4"
      ]
     },
     "execution_count": 4,
     "metadata": {},
     "output_type": "execute_result"
    }
   ],
   "source": [
    "chl_df.tail()"
   ]
  },
  {
   "cell_type": "markdown",
   "id": "da2dcff3",
   "metadata": {},
   "source": [
    "About The Columns"
   ]
  },
  {
   "cell_type": "markdown",
   "id": "9de69ea5",
   "metadata": {},
   "source": [
    "TV, radio, newspaper:\n",
    "    \n",
    "    These columns represents the money spent on each platform for \n",
    "    advertising."
   ]
  },
  {
   "cell_type": "code",
   "execution_count": 5,
   "id": "d66bd089",
   "metadata": {},
   "outputs": [
    {
     "data": {
      "text/plain": [
       "(200, 5)"
      ]
     },
     "execution_count": 5,
     "metadata": {},
     "output_type": "execute_result"
    }
   ],
   "source": [
    "chl_df.shape"
   ]
  },
  {
   "cell_type": "code",
   "execution_count": 6,
   "id": "b7edb92f",
   "metadata": {},
   "outputs": [
    {
     "data": {
      "text/plain": [
       "Index(['Unnamed: 0', 'TV', 'radio', 'newspaper', 'sales'], dtype='object')"
      ]
     },
     "execution_count": 6,
     "metadata": {},
     "output_type": "execute_result"
    }
   ],
   "source": [
    "chl_df.columns"
   ]
  },
  {
   "cell_type": "markdown",
   "id": "00f243ef",
   "metadata": {},
   "source": [
    "# Data Exploration"
   ]
  },
  {
   "cell_type": "code",
   "execution_count": 7,
   "id": "a754cb0a",
   "metadata": {},
   "outputs": [
    {
     "name": "stdout",
     "output_type": "stream",
     "text": [
      "<class 'pandas.core.frame.DataFrame'>\n",
      "RangeIndex: 200 entries, 0 to 199\n",
      "Data columns (total 5 columns):\n",
      " #   Column      Non-Null Count  Dtype  \n",
      "---  ------      --------------  -----  \n",
      " 0   Unnamed: 0  200 non-null    int64  \n",
      " 1   TV          200 non-null    float64\n",
      " 2   radio       200 non-null    float64\n",
      " 3   newspaper   200 non-null    float64\n",
      " 4   sales       200 non-null    float64\n",
      "dtypes: float64(4), int64(1)\n",
      "memory usage: 7.9 KB\n"
     ]
    }
   ],
   "source": [
    "chl_df.info()"
   ]
  },
  {
   "cell_type": "markdown",
   "id": "d1d12d11",
   "metadata": {},
   "source": [
    "# Check For Null values"
   ]
  },
  {
   "cell_type": "code",
   "execution_count": 8,
   "id": "25e2d98d",
   "metadata": {},
   "outputs": [
    {
     "data": {
      "text/plain": [
       "Unnamed: 0    0\n",
       "TV            0\n",
       "radio         0\n",
       "newspaper     0\n",
       "sales         0\n",
       "dtype: int64"
      ]
     },
     "execution_count": 8,
     "metadata": {},
     "output_type": "execute_result"
    }
   ],
   "source": [
    "chl_df.isnull().sum()"
   ]
  },
  {
   "cell_type": "code",
   "execution_count": 9,
   "id": "e0c49f7f",
   "metadata": {},
   "outputs": [
    {
     "data": {
      "text/plain": [
       "<AxesSubplot:>"
      ]
     },
     "execution_count": 9,
     "metadata": {},
     "output_type": "execute_result"
    },
    {
     "data": {
      "image/png": "[encoded data removed]",
      "text/plain": [
       "<Figure size 432x288 with 2 Axes>"
      ]
     },
     "metadata": {
      "needs_background": "light"
     },
     "output_type": "display_data"
    }
   ],
   "source": [
    "sns.heatmap(chl_df.isnull())"
   ]
  },
  {
   "cell_type": "markdown",
   "id": "d95706c4",
   "metadata": {},
   "source": [
    "The dataset is clean with no null values, so we shall proceed with data analysis."
   ]
  },
  {
   "cell_type": "markdown",
   "id": "e8a14026",
   "metadata": {},
   "source": [
    "# Drop The Column"
   ]
  },
  {
   "cell_type": "code",
   "execution_count": 12,
   "id": "e168c695",
   "metadata": {},
   "outputs": [],
   "source": [
    "chl_df=chl_df.drop(columns='Unnamed: 0', axis=1)"
   ]
  },
  {
   "cell_type": "code",
   "execution_count": 13,
   "id": "c1979a4c",
   "metadata": {},
   "outputs": [
    {
     "data": {
      "text/html": [
       "<div>\n",
       "<style scoped>\n",
       "    .dataframe tbody tr th:only-of-type {\n",
       "        vertical-align: middle;\n",
       "    }\n",
       "\n",
       "    .dataframe tbody tr th {\n",
       "        vertical-align: top;\n",
       "    }\n",
       "\n",
       "    .dataframe thead th {\n",
       "        text-align: right;\n",
       "    }\n",
       "</style>\n",
       "<table border=\"1\" class=\"dataframe\">\n",
       "  <thead>\n",
       "    <tr style=\"text-align: right;\">\n",
       "      <th></th>\n",
       "      <th>TV</th>\n",
       "      <th>radio</th>\n",
       "      <th>newspaper</th>\n",
       "      <th>sales</th>\n",
       "    </tr>\n",
       "  </thead>\n",
       "  <tbody>\n",
       "    <tr>\n",
       "      <th>0</th>\n",
       "      <td>230.1</td>\n",
       "      <td>37.8</td>\n",
       "      <td>69.2</td>\n",
       "      <td>22.1</td>\n",
       "    </tr>\n",
       "    <tr>\n",
       "      <th>1</th>\n",
       "      <td>44.5</td>\n",
       "      <td>39.3</td>\n",
       "      <td>45.1</td>\n",
       "      <td>10.4</td>\n",
       "    </tr>\n",
       "    <tr>\n",
       "      <th>2</th>\n",
       "      <td>17.2</td>\n",
       "      <td>45.9</td>\n",
       "      <td>69.3</td>\n",
       "      <td>9.3</td>\n",
       "    </tr>\n",
       "    <tr>\n",
       "      <th>3</th>\n",
       "      <td>151.5</td>\n",
       "      <td>41.3</td>\n",
       "      <td>58.5</td>\n",
       "      <td>18.5</td>\n",
       "    </tr>\n",
       "    <tr>\n",
       "      <th>4</th>\n",
       "      <td>180.8</td>\n",
       "      <td>10.8</td>\n",
       "      <td>58.4</td>\n",
       "      <td>12.9</td>\n",
       "    </tr>\n",
       "    <tr>\n",
       "      <th>...</th>\n",
       "      <td>...</td>\n",
       "      <td>...</td>\n",
       "      <td>...</td>\n",
       "      <td>...</td>\n",
       "    </tr>\n",
       "    <tr>\n",
       "      <th>195</th>\n",
       "      <td>38.2</td>\n",
       "      <td>3.7</td>\n",
       "      <td>13.8</td>\n",
       "      <td>7.6</td>\n",
       "    </tr>\n",
       "    <tr>\n",
       "      <th>196</th>\n",
       "      <td>94.2</td>\n",
       "      <td>4.9</td>\n",
       "      <td>8.1</td>\n",
       "      <td>9.7</td>\n",
       "    </tr>\n",
       "    <tr>\n",
       "      <th>197</th>\n",
       "      <td>177.0</td>\n",
       "      <td>9.3</td>\n",
       "      <td>6.4</td>\n",
       "      <td>12.8</td>\n",
       "    </tr>\n",
       "    <tr>\n",
       "      <th>198</th>\n",
       "      <td>283.6</td>\n",
       "      <td>42.0</td>\n",
       "      <td>66.2</td>\n",
       "      <td>25.5</td>\n",
       "    </tr>\n",
       "    <tr>\n",
       "      <th>199</th>\n",
       "      <td>232.1</td>\n",
       "      <td>8.6</td>\n",
       "      <td>8.7</td>\n",
       "      <td>13.4</td>\n",
       "    </tr>\n",
       "  </tbody>\n",
       "</table>\n",
       "<p>200 rows × 4 columns</p>\n",
       "</div>"
      ],
      "text/plain": [
       "        TV  radio  newspaper  sales\n",
       "0    230.1   37.8       69.2   22.1\n",
       "1     44.5   39.3       45.1   10.4\n",
       "2     17.2   45.9       69.3    9.3\n",
       "3    151.5   41.3       58.5   18.5\n",
       "4    180.8   10.8       58.4   12.9\n",
       "..     ...    ...        ...    ...\n",
       "195   38.2    3.7       13.8    7.6\n",
       "196   94.2    4.9        8.1    9.7\n",
       "197  177.0    9.3        6.4   12.8\n",
       "198  283.6   42.0       66.2   25.5\n",
       "199  232.1    8.6        8.7   13.4\n",
       "\n",
       "[200 rows x 4 columns]"
      ]
     },
     "execution_count": 13,
     "metadata": {},
     "output_type": "execute_result"
    }
   ],
   "source": [
    "chl_df"
   ]
  },
  {
   "cell_type": "markdown",
   "id": "ef93a8c9",
   "metadata": {},
   "source": [
    "The column 'Unnamed: 0' has no impact with the sales, so this column is deleted."
   ]
  },
  {
   "cell_type": "markdown",
   "id": "be5b95eb",
   "metadata": {},
   "source": [
    "# Data Visualization"
   ]
  },
  {
   "cell_type": "code",
   "execution_count": 19,
   "id": "6dbe186a",
   "metadata": {},
   "outputs": [],
   "source": [
    "k= chl_df.columns[0:3]"
   ]
  },
  {
   "cell_type": "code",
   "execution_count": 20,
   "id": "9b8619e0",
   "metadata": {},
   "outputs": [
    {
     "data": {
      "image/png": "[encoded data removed]",
      "text/plain": [
       "<Figure size 432x288 with 1 Axes>"
      ]
     },
     "metadata": {
      "needs_background": "light"
     },
     "output_type": "display_data"
    },
    {
     "data": {
      "image/png": "[encoded data removed]",
      "text/plain": [
       "<Figure size 432x288 with 1 Axes>"
      ]
     },
     "metadata": {
      "needs_background": "light"
     },
     "output_type": "display_data"
    },
    {
     "data": {
      "image/png": "[encoded data removed]",
      "text/plain": [
       "<Figure size 432x288 with 1 Axes>"
      ]
     },
     "metadata": {
      "needs_background": "light"
     },
     "output_type": "display_data"
    }
   ],
   "source": [
    "for i in k:\n",
    "    sns.histplot(chl_df[i])\n",
    "    plt.title(i)\n",
    "    plt.show()"
   ]
  },
  {
   "cell_type": "markdown",
   "id": "0d7f566f",
   "metadata": {},
   "source": [
    "TV: The amount spend on advertising in TV is found to be all ranges.\n",
    "    \n",
    "Radio: The amount spent on radio for advertising is also found in all ranges but is less compared to TV.\n",
    "    \n",
    "NewsPaper: The amount spen on newspaper advertisements seems to be very low and the range is also between 1 to 20 thousands."
   ]
  },
  {
   "cell_type": "code",
   "execution_count": 22,
   "id": "a22efd2a",
   "metadata": {},
   "outputs": [
    {
     "data": {
      "text/plain": [
       "<AxesSubplot:xlabel='TV', ylabel='sales'>"
      ]
     },
     "execution_count": 22,
     "metadata": {},
     "output_type": "execute_result"
    },
    {
     "data": {
      "image/png": "[encoded data removed]",
      "text/plain": [
       "<Figure size 432x288 with 1 Axes>"
      ]
     },
     "metadata": {
      "needs_background": "light"
     },
     "output_type": "display_data"
    }
   ],
   "source": [
    "sns.scatterplot(x='TV', y='sales', data=chl_df)"
   ]
  },
  {
   "cell_type": "markdown",
   "id": "d37db0c7",
   "metadata": {},
   "source": [
    "With increase in the amount spent on advertising, total sales also has considerable increase."
   ]
  },
  {
   "cell_type": "code",
   "execution_count": 23,
   "id": "29b8d7f5",
   "metadata": {},
   "outputs": [
    {
     "data": {
      "text/plain": [
       "<AxesSubplot:xlabel='radio', ylabel='sales'>"
      ]
     },
     "execution_count": 23,
     "metadata": {},
     "output_type": "execute_result"
    },
    {
     "data": {
      "image/png": "[encoded data removed]",
      "text/plain": [
       "<Figure size 432x288 with 1 Axes>"
      ]
     },
     "metadata": {
      "needs_background": "light"
     },
     "output_type": "display_data"
    }
   ],
   "source": [
    "sns.scatterplot(x='radio', y='sales', data=chl_df)"
   ]
  },
  {
   "cell_type": "markdown",
   "id": "698fafe8",
   "metadata": {},
   "source": [
    "Investing money on radio advertisements also has some contribution towards total sales."
   ]
  },
  {
   "cell_type": "code",
   "execution_count": 24,
   "id": "418d60c6",
   "metadata": {},
   "outputs": [
    {
     "data": {
      "text/plain": [
       "<AxesSubplot:xlabel='newspaper', ylabel='sales'>"
      ]
     },
     "execution_count": 24,
     "metadata": {},
     "output_type": "execute_result"
    },
    {
     "data": {
      "image/png": "[encoded data removed]",
      "text/plain": [
       "<Figure size 432x288 with 1 Axes>"
      ]
     },
     "metadata": {
      "needs_background": "light"
     },
     "output_type": "display_data"
    }
   ],
   "source": [
    "sns.scatterplot(x='newspaper', y='sales', data=chl_df)"
   ]
  },
  {
   "cell_type": "markdown",
   "id": "2823e584",
   "metadata": {},
   "source": [
    "In Newspaper, Less amount is spent for advertising."
   ]
  },
  {
   "cell_type": "code",
   "execution_count": 25,
   "id": "9cf9b0eb",
   "metadata": {},
   "outputs": [
    {
     "data": {
      "text/plain": [
       "<seaborn.axisgrid.PairGrid at 0xba34970>"
      ]
     },
     "execution_count": 25,
     "metadata": {},
     "output_type": "execute_result"
    },
    {
     "data": {
      "image/png": "[encoded data removed]",
      "text/plain": [
       "<Figure size 720x720 with 20 Axes>"
      ]
     },
     "metadata": {
      "needs_background": "light"
     },
     "output_type": "display_data"
    }
   ],
   "source": [
    "sns.pairplot(chl_df)"
   ]
  },
  {
   "cell_type": "markdown",
   "id": "c318acb2",
   "metadata": {},
   "source": [
    "Total Sales(target) seems to be highly correlated with TV. \n",
    "\n",
    "Little correlation is found with radio but newspaper has no correlation with sales or any other columns"
   ]
  },
  {
   "cell_type": "markdown",
   "id": "c24372b8",
   "metadata": {},
   "source": [
    "Find Description of data"
   ]
  },
  {
   "cell_type": "code",
   "execution_count": 26,
   "id": "2eddcbc1",
   "metadata": {},
   "outputs": [
    {
     "data": {
      "text/html": [
       "<div>\n",
       "<style scoped>\n",
       "    .dataframe tbody tr th:only-of-type {\n",
       "        vertical-align: middle;\n",
       "    }\n",
       "\n",
       "    .dataframe tbody tr th {\n",
       "        vertical-align: top;\n",
       "    }\n",
       "\n",
       "    .dataframe thead th {\n",
       "        text-align: right;\n",
       "    }\n",
       "</style>\n",
       "<table border=\"1\" class=\"dataframe\">\n",
       "  <thead>\n",
       "    <tr style=\"text-align: right;\">\n",
       "      <th></th>\n",
       "      <th>TV</th>\n",
       "      <th>radio</th>\n",
       "      <th>newspaper</th>\n",
       "      <th>sales</th>\n",
       "    </tr>\n",
       "  </thead>\n",
       "  <tbody>\n",
       "    <tr>\n",
       "      <th>count</th>\n",
       "      <td>200.000000</td>\n",
       "      <td>200.000000</td>\n",
       "      <td>200.000000</td>\n",
       "      <td>200.000000</td>\n",
       "    </tr>\n",
       "    <tr>\n",
       "      <th>mean</th>\n",
       "      <td>147.042500</td>\n",
       "      <td>23.264000</td>\n",
       "      <td>30.554000</td>\n",
       "      <td>14.022500</td>\n",
       "    </tr>\n",
       "    <tr>\n",
       "      <th>std</th>\n",
       "      <td>85.854236</td>\n",
       "      <td>14.846809</td>\n",
       "      <td>21.778621</td>\n",
       "      <td>5.217457</td>\n",
       "    </tr>\n",
       "    <tr>\n",
       "      <th>min</th>\n",
       "      <td>0.700000</td>\n",
       "      <td>0.000000</td>\n",
       "      <td>0.300000</td>\n",
       "      <td>1.600000</td>\n",
       "    </tr>\n",
       "    <tr>\n",
       "      <th>25%</th>\n",
       "      <td>74.375000</td>\n",
       "      <td>9.975000</td>\n",
       "      <td>12.750000</td>\n",
       "      <td>10.375000</td>\n",
       "    </tr>\n",
       "    <tr>\n",
       "      <th>50%</th>\n",
       "      <td>149.750000</td>\n",
       "      <td>22.900000</td>\n",
       "      <td>25.750000</td>\n",
       "      <td>12.900000</td>\n",
       "    </tr>\n",
       "    <tr>\n",
       "      <th>75%</th>\n",
       "      <td>218.825000</td>\n",
       "      <td>36.525000</td>\n",
       "      <td>45.100000</td>\n",
       "      <td>17.400000</td>\n",
       "    </tr>\n",
       "    <tr>\n",
       "      <th>max</th>\n",
       "      <td>296.400000</td>\n",
       "      <td>49.600000</td>\n",
       "      <td>114.000000</td>\n",
       "      <td>27.000000</td>\n",
       "    </tr>\n",
       "  </tbody>\n",
       "</table>\n",
       "</div>"
      ],
      "text/plain": [
       "               TV       radio   newspaper       sales\n",
       "count  200.000000  200.000000  200.000000  200.000000\n",
       "mean   147.042500   23.264000   30.554000   14.022500\n",
       "std     85.854236   14.846809   21.778621    5.217457\n",
       "min      0.700000    0.000000    0.300000    1.600000\n",
       "25%     74.375000    9.975000   12.750000   10.375000\n",
       "50%    149.750000   22.900000   25.750000   12.900000\n",
       "75%    218.825000   36.525000   45.100000   17.400000\n",
       "max    296.400000   49.600000  114.000000   27.000000"
      ]
     },
     "execution_count": 26,
     "metadata": {},
     "output_type": "execute_result"
    }
   ],
   "source": [
    "chl_df.describe()"
   ]
  },
  {
   "cell_type": "markdown",
   "id": "994d385b",
   "metadata": {},
   "source": [
    "In newspaper column mean is higher than the median, so there may be high skewness.\n",
    "\n",
    "There seems to be large gap between 75th percentile and maximum values, so there are outliers in all columns"
   ]
  },
  {
   "cell_type": "markdown",
   "id": "b01d6505",
   "metadata": {},
   "source": [
    "# To Find Correlation"
   ]
  },
  {
   "cell_type": "code",
   "execution_count": 27,
   "id": "73347cf8",
   "metadata": {},
   "outputs": [
    {
     "data": {
      "text/html": [
       "<div>\n",
       "<style scoped>\n",
       "    .dataframe tbody tr th:only-of-type {\n",
       "        vertical-align: middle;\n",
       "    }\n",
       "\n",
       "    .dataframe tbody tr th {\n",
       "        vertical-align: top;\n",
       "    }\n",
       "\n",
       "    .dataframe thead th {\n",
       "        text-align: right;\n",
       "    }\n",
       "</style>\n",
       "<table border=\"1\" class=\"dataframe\">\n",
       "  <thead>\n",
       "    <tr style=\"text-align: right;\">\n",
       "      <th></th>\n",
       "      <th>TV</th>\n",
       "      <th>radio</th>\n",
       "      <th>newspaper</th>\n",
       "      <th>sales</th>\n",
       "    </tr>\n",
       "  </thead>\n",
       "  <tbody>\n",
       "    <tr>\n",
       "      <th>TV</th>\n",
       "      <td>1.000000</td>\n",
       "      <td>0.054809</td>\n",
       "      <td>0.056648</td>\n",
       "      <td>0.782224</td>\n",
       "    </tr>\n",
       "    <tr>\n",
       "      <th>radio</th>\n",
       "      <td>0.054809</td>\n",
       "      <td>1.000000</td>\n",
       "      <td>0.354104</td>\n",
       "      <td>0.576223</td>\n",
       "    </tr>\n",
       "    <tr>\n",
       "      <th>newspaper</th>\n",
       "      <td>0.056648</td>\n",
       "      <td>0.354104</td>\n",
       "      <td>1.000000</td>\n",
       "      <td>0.228299</td>\n",
       "    </tr>\n",
       "    <tr>\n",
       "      <th>sales</th>\n",
       "      <td>0.782224</td>\n",
       "      <td>0.576223</td>\n",
       "      <td>0.228299</td>\n",
       "      <td>1.000000</td>\n",
       "    </tr>\n",
       "  </tbody>\n",
       "</table>\n",
       "</div>"
      ],
      "text/plain": [
       "                 TV     radio  newspaper     sales\n",
       "TV         1.000000  0.054809   0.056648  0.782224\n",
       "radio      0.054809  1.000000   0.354104  0.576223\n",
       "newspaper  0.056648  0.354104   1.000000  0.228299\n",
       "sales      0.782224  0.576223   0.228299  1.000000"
      ]
     },
     "execution_count": 27,
     "metadata": {},
     "output_type": "execute_result"
    }
   ],
   "source": [
    "chl_df.corr()"
   ]
  },
  {
   "cell_type": "code",
   "execution_count": 29,
   "id": "2432fcd5",
   "metadata": {},
   "outputs": [
    {
     "data": {
      "text/plain": [
       "<AxesSubplot:>"
      ]
     },
     "execution_count": 29,
     "metadata": {},
     "output_type": "execute_result"
    },
    {
     "data": {
      "image/png": "[encoded data removed]",
      "text/plain": [
       "<Figure size 432x288 with 2 Axes>"
      ]
     },
     "metadata": {
      "needs_background": "light"
     },
     "output_type": "display_data"
    }
   ],
   "source": [
    "sns.heatmap(chl_df.corr(),annot=True)"
   ]
  },
  {
   "cell_type": "markdown",
   "id": "6f3ac155",
   "metadata": {},
   "source": [
    "TV seems to be highly correlated with sales. \n",
    "\n",
    "Radio has mild collinearity with sales.\n",
    "\n",
    "Newspaper has less collinearity with sales.\n",
    "\n",
    "No columns are highly correlated to each other. So, there is no problem of multicollinearity."
   ]
  },
  {
   "cell_type": "markdown",
   "id": "4fcff11d",
   "metadata": {},
   "source": [
    "# Check For Skewness"
   ]
  },
  {
   "cell_type": "code",
   "execution_count": 35,
   "id": "9499428e",
   "metadata": {},
   "outputs": [
    {
     "data": {
      "text/html": [
       "<div>\n",
       "<style scoped>\n",
       "    .dataframe tbody tr th:only-of-type {\n",
       "        vertical-align: middle;\n",
       "    }\n",
       "\n",
       "    .dataframe tbody tr th {\n",
       "        vertical-align: top;\n",
       "    }\n",
       "\n",
       "    .dataframe thead th {\n",
       "        text-align: right;\n",
       "    }\n",
       "</style>\n",
       "<table border=\"1\" class=\"dataframe\">\n",
       "  <thead>\n",
       "    <tr style=\"text-align: right;\">\n",
       "      <th></th>\n",
       "      <th>TV</th>\n",
       "      <th>radio</th>\n",
       "      <th>newspaper</th>\n",
       "    </tr>\n",
       "  </thead>\n",
       "  <tbody>\n",
       "    <tr>\n",
       "      <th>0</th>\n",
       "      <td>230.1</td>\n",
       "      <td>37.8</td>\n",
       "      <td>69.2</td>\n",
       "    </tr>\n",
       "    <tr>\n",
       "      <th>1</th>\n",
       "      <td>44.5</td>\n",
       "      <td>39.3</td>\n",
       "      <td>45.1</td>\n",
       "    </tr>\n",
       "    <tr>\n",
       "      <th>2</th>\n",
       "      <td>17.2</td>\n",
       "      <td>45.9</td>\n",
       "      <td>69.3</td>\n",
       "    </tr>\n",
       "    <tr>\n",
       "      <th>3</th>\n",
       "      <td>151.5</td>\n",
       "      <td>41.3</td>\n",
       "      <td>58.5</td>\n",
       "    </tr>\n",
       "    <tr>\n",
       "      <th>4</th>\n",
       "      <td>180.8</td>\n",
       "      <td>10.8</td>\n",
       "      <td>58.4</td>\n",
       "    </tr>\n",
       "    <tr>\n",
       "      <th>...</th>\n",
       "      <td>...</td>\n",
       "      <td>...</td>\n",
       "      <td>...</td>\n",
       "    </tr>\n",
       "    <tr>\n",
       "      <th>195</th>\n",
       "      <td>38.2</td>\n",
       "      <td>3.7</td>\n",
       "      <td>13.8</td>\n",
       "    </tr>\n",
       "    <tr>\n",
       "      <th>196</th>\n",
       "      <td>94.2</td>\n",
       "      <td>4.9</td>\n",
       "      <td>8.1</td>\n",
       "    </tr>\n",
       "    <tr>\n",
       "      <th>197</th>\n",
       "      <td>177.0</td>\n",
       "      <td>9.3</td>\n",
       "      <td>6.4</td>\n",
       "    </tr>\n",
       "    <tr>\n",
       "      <th>198</th>\n",
       "      <td>283.6</td>\n",
       "      <td>42.0</td>\n",
       "      <td>66.2</td>\n",
       "    </tr>\n",
       "    <tr>\n",
       "      <th>199</th>\n",
       "      <td>232.1</td>\n",
       "      <td>8.6</td>\n",
       "      <td>8.7</td>\n",
       "    </tr>\n",
       "  </tbody>\n",
       "</table>\n",
       "<p>200 rows × 3 columns</p>\n",
       "</div>"
      ],
      "text/plain": [
       "        TV  radio  newspaper\n",
       "0    230.1   37.8       69.2\n",
       "1     44.5   39.3       45.1\n",
       "2     17.2   45.9       69.3\n",
       "3    151.5   41.3       58.5\n",
       "4    180.8   10.8       58.4\n",
       "..     ...    ...        ...\n",
       "195   38.2    3.7       13.8\n",
       "196   94.2    4.9        8.1\n",
       "197  177.0    9.3        6.4\n",
       "198  283.6   42.0       66.2\n",
       "199  232.1    8.6        8.7\n",
       "\n",
       "[200 rows x 3 columns]"
      ]
     },
     "execution_count": 35,
     "metadata": {},
     "output_type": "execute_result"
    }
   ],
   "source": [
    "df1=chl_df.iloc[:,0:-1]\n",
    "df1"
   ]
  },
  {
   "cell_type": "code",
   "execution_count": 36,
   "id": "8513f144",
   "metadata": {},
   "outputs": [
    {
     "data": {
      "text/plain": [
       "newspaper    0.894720\n",
       "radio        0.094175\n",
       "TV          -0.069853\n",
       "dtype: float64"
      ]
     },
     "execution_count": 36,
     "metadata": {},
     "output_type": "execute_result"
    }
   ],
   "source": [
    "df1.skew().sort_values(ascending=False)"
   ]
  },
  {
   "cell_type": "code",
   "execution_count": 37,
   "id": "02daa7b5",
   "metadata": {},
   "outputs": [],
   "source": [
    "k= df1.columns"
   ]
  },
  {
   "cell_type": "code",
   "execution_count": 38,
   "id": "7ccd9f46",
   "metadata": {},
   "outputs": [
    {
     "data": {
      "image/png": "[encoded data removed]",
      "text/plain": [
       "<Figure size 432x288 with 1 Axes>"
      ]
     },
     "metadata": {
      "needs_background": "light"
     },
     "output_type": "display_data"
    },
    {
     "data": {
      "image/png": "[encoded data removed]",
      "text/plain": [
       "<Figure size 432x288 with 1 Axes>"
      ]
     },
     "metadata": {
      "needs_background": "light"
     },
     "output_type": "display_data"
    },
    {
     "data": {
      "image/png": "[encoded data removed]",
      "text/plain": [
       "<Figure size 432x288 with 1 Axes>"
      ]
     },
     "metadata": {
      "needs_background": "light"
     },
     "output_type": "display_data"
    }
   ],
   "source": [
    "for i in k:\n",
    "    sns.distplot(df1[i])\n",
    "    plt.title(i)\n",
    "    plt.show()"
   ]
  },
  {
   "cell_type": "markdown",
   "id": "978c8dda",
   "metadata": {},
   "source": [
    "The data contains skewness in all columns. \n",
    "\n",
    "The threshold limit is set to be -0.5 to 0.5"
   ]
  },
  {
   "cell_type": "code",
   "execution_count": 40,
   "id": "935ff655",
   "metadata": {},
   "outputs": [],
   "source": [
    "from sklearn.preprocessing import power_transform\n",
    "df1_new= power_transform(df1)"
   ]
  },
  {
   "cell_type": "code",
   "execution_count": 41,
   "id": "3caf6ae5",
   "metadata": {
    "scrolled": true
   },
   "outputs": [
    {
     "data": {
      "text/plain": [
       "array([[ 0.94867429,  0.96224689,  1.51433531],\n",
       "       [-1.19131426,  1.0401788 ,  0.78768252],\n",
       "       [-1.6477566 ,  1.37070964,  1.51699753],\n",
       "       [ 0.14102023,  1.14238689,  1.21465643],\n",
       "       [ 0.45271493, -0.74865064,  1.21170398],\n",
       "       [-1.82382233,  1.51501853,  1.66502354],\n",
       "       [-1.00249116,  0.69372704, -0.1077535 ],\n",
       "       [-0.210275  , -0.10158544, -0.84409341],\n",
       "       [-1.82609501, -1.63345378, -2.13259669],\n",
       "       [ 0.64764492, -1.56676988, -0.22900395],\n",
       "       [-0.88377378, -1.20298758, -0.07226156],\n",
       "       [ 0.79708355,  0.18072579, -1.60261898],\n",
       "       [-1.52641627,  0.81900563,  1.42512925],\n",
       "       [-0.48036844, -1.02813642, -1.22982506],\n",
       "       [ 0.69106577,  0.6992403 ,  0.81860579],\n",
       "       [ 0.60295713,  1.45770359,  1.04432344],\n",
       "       [-0.86079972,  0.89906999,  2.52943514],\n",
       "       [ 1.4355201 ,  1.05563142,  1.13383286],\n",
       "       [-0.84199328, -0.04209908, -0.39356015],\n",
       "       [ 0.09508551,  0.17453165, -0.34671544],\n",
       "       [ 0.8337607 ,  0.40367061,  1.05996548],\n",
       "       [ 1.01958629, -1.27567304, -0.1077535 ],\n",
       "       [-1.72701642, -0.35739289,  0.93875739],\n",
       "       [ 0.93109798, -0.28631129,  0.02589311],\n",
       "       [-0.93569772, -0.60431061, -0.39356015],\n",
       "       [ 1.26290943, -1.4550585 , -0.3237259 ],\n",
       "       [ 0.04659013,  0.49664406, -0.76867281],\n",
       "       [ 1.0456669 , -0.30040383, -0.1386789 ],\n",
       "       [ 1.12918152,  0.3682981 , -0.1386789 ],\n",
       "       [-0.82328646, -0.35021379,  0.63452018],\n",
       "       [ 1.54129731,  0.43876195,  0.72114861],\n",
       "       [-0.29553337, -0.25134036,  0.55235877],\n",
       "       [-0.48404243, -1.71918898,  0.20071936],\n",
       "       [ 1.28829734, -0.07502706, -2.32472495],\n",
       "       [-0.50245749, -1.7342107 , -1.20981332],\n",
       "       [ 1.52114819, -1.3853128 , -1.10471076],\n",
       "       [ 1.3004967 ,  1.2675887 , -1.47330873],\n",
       "       [-0.76905257,  1.53874417,  0.80833914],\n",
       "       [-1.21245403,  0.34455612,  0.4155984 ],\n",
       "       [ 0.92816503,  0.95701091,  0.28742321],\n",
       "       [ 0.67493776,  0.07409584,  0.27034854],\n",
       "       [ 0.41309098,  0.72671408,  0.55615392],\n",
       "       [ 1.54769995,  0.40367061, -1.95904851],\n",
       "       [ 0.71920943, -0.95499286,  0.03545918],\n",
       "       [-1.50359538,  0.28462118,  0.72469411],\n",
       "       [ 0.39319467,  0.08679116,  0.26605961],\n",
       "       [-0.57689562, -0.82396106,  0.43960934],\n",
       "       [ 1.04373768,  1.15250515, -0.3817378 ],\n",
       "       [ 0.92033882, -0.36458821,  0.94852755],\n",
       "       [-0.87294338, -0.67550361,  0.48300508],\n",
       "       [ 0.64764492, -1.50354208,  0.3953996 ],\n",
       "       [-0.44500506, -0.84958728, -1.65883577],\n",
       "       [ 0.81395585,  1.16260524,  0.59004665],\n",
       "       [ 0.47140703,  1.38529598,  1.22055211],\n",
       "       [ 1.2610261 ,  0.46779569, -0.54176985],\n",
       "       [ 0.63852563,  1.53874417,  1.25857888],\n",
       "       [-1.85624738,  0.42709558,  0.65646046],\n",
       "       [-0.02802214, -0.12834141, -0.49726342],\n",
       "       [ 0.75824197,  1.54820925,  0.51793191],\n",
       "       [ 0.75724354,  0.50813245, -1.03293213],\n",
       "       [-1.05927427, -1.64727037, -0.21815975],\n",
       "       [ 1.24783212,  1.21283741,  1.10022212],\n",
       "       [ 1.03794746, -0.38627294,  0.07797929],\n",
       "       [-0.41714955,  0.51386586, -1.11394312],\n",
       "       [-0.08546826,  1.21783637,  0.15154706],\n",
       "       [-0.84467375, -0.87549189, -2.1571572 ],\n",
       "       [-1.39531449,  0.21769395, -1.88378271],\n",
       "       [ 0.0066178 , -0.45966823, -0.95619942],\n",
       "       [ 1.01958629,  0.39191142, -0.8911416 ],\n",
       "       [ 0.81792069,  1.2725405 ,  0.07329661],\n",
       "       [ 0.64055308,  0.5708121 ,  0.55615392],\n",
       "       [-0.3321763 , -0.4745618 ,  0.27462933],\n",
       "       [-1.47420382,  0.70474737, -0.33518557],\n",
       "       [-0.10474749, -1.21318999,  0.25745713],\n",
       "       [ 0.7841573 ,  0.21769395, -0.73224866],\n",
       "       [-1.65352738,  1.26263268,  2.01064695],\n",
       "       [-1.46224158, -1.70439494, -0.25638211],\n",
       "       [-0.20680098,  0.45039797, -0.65484297],\n",
       "       [-1.90271957,  0.53102334, -1.02420602],\n",
       "       [-0.25915513, -1.01885558, -0.1283175 ],\n",
       "       [-0.74679627,  0.34455612, -0.17008941],\n",
       "       [ 1.04277291, -1.3853128 ,  0.48691113],\n",
       "       [-0.76118235, -0.05523482,  0.30858709],\n",
       "       [-0.85272745,  1.30216339,  0.43562451],\n",
       "       [ 0.78515237,  1.22782124,  0.36271243],\n",
       "       [ 0.58051341, -0.1824681 ,  1.41963599],\n",
       "       [-0.74810183,  0.39191142, -0.53534269],\n",
       "       [-0.32151022,  1.10682827,  1.35009138],\n",
       "       [-0.59445094,  0.27253204,  1.62418784],\n",
       "       [-0.3321763 ,  1.46250027,  0.99685054],\n",
       "       [-0.04935604, -1.29701657, -1.03293213],\n",
       "       [-1.44360046, -1.71918898,  0.32955606],\n",
       "       [ 0.8268345 ,  0.7321905 ,  1.22937273],\n",
       "       [ 1.14922339,  0.89377076,  1.59579653],\n",
       "       [-0.36073275, -0.49704225, -0.89912378],\n",
       "       [ 0.26831445,  0.62707446,  1.04432344],\n",
       "       [ 0.62533398, -1.4550585 , -1.3679351 ],\n",
       "       [ 0.49522053, -0.00946213, -0.18598289],\n",
       "       [ 1.51197614,  1.19279775,  0.99045745],\n",
       "       [-0.03924063,  1.16260524,  0.8151881 ],\n",
       "       [ 0.87322688, -1.36277082,  0.94527481],\n",
       "       [ 1.57327016,  0.88315609,  2.2628248 ],\n",
       "       [ 1.42441703, -0.80702634, -0.21815975],\n",
       "       [ 0.52616407, -0.26528466, -0.41743473],\n",
       "       [ 1.02732204,  0.77578583, -1.4371576 ],\n",
       "       [-0.00900053,  1.39500055,  1.22937273],\n",
       "       [-1.50533991, -0.73221674,  0.18741746],\n",
       "       [-0.56814506, -1.91962741, -0.12315678],\n",
       "       [-1.72906885, -1.90076688, -0.00306944],\n",
       "       [ 1.19202117,  0.35644335, -1.41364623],\n",
       "       [ 0.90662534, -0.97304835,  1.15501188],\n",
       "       [ 1.06108536,  0.97270342, -0.12315678],\n",
       "       [ 0.39948386, -0.39353456, -1.84832983],\n",
       "       [ 0.74625251, -0.0355487 , -0.91521378],\n",
       "       [-0.72337219,  1.41436293,  0.39133878],\n",
       "       [-0.76380392,  0.81362329,  1.03804144],\n",
       "       [ 0.00550359, -0.4745618 , -0.00306944],\n",
       "       [-0.74679627, -1.82997283, -0.6140794 ],\n",
       "       [-0.1469415 ,  0.91493549,  1.76974284],\n",
       "       [-1.60617806, -0.35021379, -0.17008941],\n",
       "       [ 0.02885793,  0.35050382,  0.82542768],\n",
       "       [-1.61739376,  0.0357579 ,  0.96473213],\n",
       "       [ 0.88896054, -1.59299019, -0.56119394],\n",
       "       [-0.17678774,  0.79203663, -0.78347482],\n",
       "       [ 0.94281959,  0.66606674,  1.64467302],\n",
       "       [-0.60829585, -0.66750027,  0.01146189],\n",
       "       [-1.84451116,  1.01950683,  0.9711866 ],\n",
       "       [-0.69751107, -1.9798635 , -1.04171092],\n",
       "       [ 0.85253082,  1.51977089, -1.71817136],\n",
       "       [-0.9730961 , -0.65156482,  0.71759813],\n",
       "       [-2.04026249,  1.05563142, -1.08642518],\n",
       "       [ 1.2845405 , -1.52845902,  0.71404265],\n",
       "       [-1.83065941,  0.37421339, -1.90202575],\n",
       "       [ 0.84759549,  0.7321905 ,  0.78768252],\n",
       "       [-1.30833884,  1.0039509 ,  1.41688552],\n",
       "       [-1.1347862 ,  1.42402092, -1.10471076],\n",
       "       [-1.49489926,  1.02468221, -1.03293213],\n",
       "       [ 1.36405418,  0.47358005,  1.2498484 ],\n",
       "       [-1.2139708 ,  0.2966758 , -0.26744284],\n",
       "       [ 0.49522053,  1.2725405 , -1.97889407],\n",
       "       [-0.78616198, -0.27928757, -0.74672069],\n",
       "       [ 0.58562018,  0.83511859,  1.68019945],\n",
       "       [ 0.85450412,  0.71574298,  0.52562487],\n",
       "       [-0.39426242, -1.21318999,  0.38727085],\n",
       "       [-0.49631074, -0.43746469,  0.56372647],\n",
       "       [ 0.01774834, -1.66126392, -1.05942991],\n",
       "       [ 1.0456669 , -1.05622936, -1.08642518],\n",
       "       [ 1.07551559,  1.51977089,  0.75987942],\n",
       "       [-1.29103896,  1.09151903, -0.82108927],\n",
       "       [-1.18830853,  0.29065278, -0.26190454],\n",
       "       [ 1.42904484, -0.50457379,  0.49081078],\n",
       "       [-0.20101603, -0.95499286,  0.90922967],\n",
       "       [ 0.62533398,  0.13716541, -0.65484297],\n",
       "       [ 0.35322947,  1.0607726 ,  0.51793191],\n",
       "       [ 0.52513474, -0.00296885, -1.01553176],\n",
       "       [-1.93665721, -0.68353104, -1.39057916],\n",
       "       [-0.52465633,  1.25270792,  0.96796131],\n",
       "       [ 0.12246872, -1.74947332, -0.06724139],\n",
       "       [-1.75822712,  0.91493549,  0.79113681],\n",
       "       [-0.07867963, -0.1824681 ,  0.3953996 ],\n",
       "       [ 0.36587519, -0.20298441,  0.23144984],\n",
       "       [-0.62724967,  0.85652391,  0.92895126],\n",
       "       [ 0.53130856, -0.20298441, -0.00306944],\n",
       "       [ 0.27045056,  0.90965233, -1.20981332],\n",
       "       [-0.24514238, -0.44484785, -1.42534498],\n",
       "       [ 0.99148599, -1.46701964,  1.90420913],\n",
       "       [-1.63438885,  0.95176976, -0.20737541],\n",
       "       [ 0.71820605, -1.26510158, -0.32944703],\n",
       "       [ 0.80403524,  0.15589202,  1.18797267],\n",
       "       [ 1.46230082, -0.76519122, -1.31304986],\n",
       "       [-1.10987617, -0.68353104, -0.38763953],\n",
       "       [ 0.28112073, -0.01596668,  0.86598739],\n",
       "       [-1.60245911, -0.06841773, -0.47232241],\n",
       "       [ 0.32257166, -1.07517365, -0.75400514],\n",
       "       [ 0.87322688, -1.46701964, -0.73224866],\n",
       "       [ 1.39381826,  1.51501853,  0.67098058],\n",
       "       [ 1.12535894,  0.54811736, -0.27856754],\n",
       "       [ 0.34161695, -1.00961537,  0.41961731],\n",
       "       [ 1.39196069, -1.60632069, -0.09754949],\n",
       "       [ 0.29283811, -0.81547901, -0.43554699],\n",
       "       [ 0.19634785, -1.56676988, -1.12323656],\n",
       "       [ 0.83474968, -1.2441519 ,  0.08265171],\n",
       "       [-1.02082882, -1.21318999,  0.18741746],\n",
       "       [ 1.49268741,  1.22782124,  1.58280405],\n",
       "       [ 1.17682728,  0.00998415,  0.20071936],\n",
       "       [ 0.70012304,  1.33163754, -0.31802204],\n",
       "       [ 0.0088456 , -1.63345378,  0.04498207],\n",
       "       [ 0.55902662,  0.46200391, -0.39949982],\n",
       "       [ 1.47796614, -0.50457379, -1.64450612],\n",
       "       [-1.61927178, -0.64363221, -0.11287487],\n",
       "       [-1.267656  ,  1.13225036, -1.37920552],\n",
       "       [-0.75856261, -0.74865064, -1.35676548],\n",
       "       [-1.6477566 , -1.3853128 ,  0.27034854],\n",
       "       [ 0.30559723,  1.1777216 , -1.65883577],\n",
       "       [ 0.12137572,  0.84583242, -1.35676548],\n",
       "       [-1.28790757, -1.43143631, -0.68257581],\n",
       "       [-0.52094879, -1.29701657, -1.14201102],\n",
       "       [ 0.41309098, -0.87549189, -1.31304986],\n",
       "       [ 1.45584317,  1.1777216 ,  1.43335009],\n",
       "       [ 0.96816082, -0.93708342, -1.08642518]])"
      ]
     },
     "execution_count": 41,
     "metadata": {},
     "output_type": "execute_result"
    }
   ],
   "source": [
    "from sklearn.preprocessing import StandardScaler\n",
    "sc=StandardScaler()\n",
    "df1_new= sc.fit_transform(df1_new)\n",
    "df1_new"
   ]
  },
  {
   "cell_type": "code",
   "execution_count": 42,
   "id": "d410415d",
   "metadata": {},
   "outputs": [
    {
     "data": {
      "text/html": [
       "<div>\n",
       "<style scoped>\n",
       "    .dataframe tbody tr th:only-of-type {\n",
       "        vertical-align: middle;\n",
       "    }\n",
       "\n",
       "    .dataframe tbody tr th {\n",
       "        vertical-align: top;\n",
       "    }\n",
       "\n",
       "    .dataframe thead th {\n",
       "        text-align: right;\n",
       "    }\n",
       "</style>\n",
       "<table border=\"1\" class=\"dataframe\">\n",
       "  <thead>\n",
       "    <tr style=\"text-align: right;\">\n",
       "      <th></th>\n",
       "      <th>TV</th>\n",
       "      <th>radio</th>\n",
       "      <th>newspaper</th>\n",
       "    </tr>\n",
       "  </thead>\n",
       "  <tbody>\n",
       "    <tr>\n",
       "      <th>0</th>\n",
       "      <td>0.948674</td>\n",
       "      <td>0.962247</td>\n",
       "      <td>1.514335</td>\n",
       "    </tr>\n",
       "    <tr>\n",
       "      <th>1</th>\n",
       "      <td>-1.191314</td>\n",
       "      <td>1.040179</td>\n",
       "      <td>0.787683</td>\n",
       "    </tr>\n",
       "    <tr>\n",
       "      <th>2</th>\n",
       "      <td>-1.647757</td>\n",
       "      <td>1.370710</td>\n",
       "      <td>1.516998</td>\n",
       "    </tr>\n",
       "    <tr>\n",
       "      <th>3</th>\n",
       "      <td>0.141020</td>\n",
       "      <td>1.142387</td>\n",
       "      <td>1.214656</td>\n",
       "    </tr>\n",
       "    <tr>\n",
       "      <th>4</th>\n",
       "      <td>0.452715</td>\n",
       "      <td>-0.748651</td>\n",
       "      <td>1.211704</td>\n",
       "    </tr>\n",
       "    <tr>\n",
       "      <th>...</th>\n",
       "      <td>...</td>\n",
       "      <td>...</td>\n",
       "      <td>...</td>\n",
       "    </tr>\n",
       "    <tr>\n",
       "      <th>195</th>\n",
       "      <td>-1.287908</td>\n",
       "      <td>-1.431436</td>\n",
       "      <td>-0.682576</td>\n",
       "    </tr>\n",
       "    <tr>\n",
       "      <th>196</th>\n",
       "      <td>-0.520949</td>\n",
       "      <td>-1.297017</td>\n",
       "      <td>-1.142011</td>\n",
       "    </tr>\n",
       "    <tr>\n",
       "      <th>197</th>\n",
       "      <td>0.413091</td>\n",
       "      <td>-0.875492</td>\n",
       "      <td>-1.313050</td>\n",
       "    </tr>\n",
       "    <tr>\n",
       "      <th>198</th>\n",
       "      <td>1.455843</td>\n",
       "      <td>1.177722</td>\n",
       "      <td>1.433350</td>\n",
       "    </tr>\n",
       "    <tr>\n",
       "      <th>199</th>\n",
       "      <td>0.968161</td>\n",
       "      <td>-0.937083</td>\n",
       "      <td>-1.086425</td>\n",
       "    </tr>\n",
       "  </tbody>\n",
       "</table>\n",
       "<p>200 rows × 3 columns</p>\n",
       "</div>"
      ],
      "text/plain": [
       "           TV     radio  newspaper\n",
       "0    0.948674  0.962247   1.514335\n",
       "1   -1.191314  1.040179   0.787683\n",
       "2   -1.647757  1.370710   1.516998\n",
       "3    0.141020  1.142387   1.214656\n",
       "4    0.452715 -0.748651   1.211704\n",
       "..        ...       ...        ...\n",
       "195 -1.287908 -1.431436  -0.682576\n",
       "196 -0.520949 -1.297017  -1.142011\n",
       "197  0.413091 -0.875492  -1.313050\n",
       "198  1.455843  1.177722   1.433350\n",
       "199  0.968161 -0.937083  -1.086425\n",
       "\n",
       "[200 rows x 3 columns]"
      ]
     },
     "execution_count": 42,
     "metadata": {},
     "output_type": "execute_result"
    }
   ],
   "source": [
    "df1=pd.DataFrame(df1_new, columns= df1.columns)\n",
    "df1"
   ]
  },
  {
   "cell_type": "code",
   "execution_count": 43,
   "id": "5ae7971f",
   "metadata": {},
   "outputs": [
    {
     "data": {
      "text/plain": [
       "newspaper   -0.077942\n",
       "radio       -0.242968\n",
       "TV          -0.315199\n",
       "dtype: float64"
      ]
     },
     "execution_count": 43,
     "metadata": {},
     "output_type": "execute_result"
    }
   ],
   "source": [
    "df1.skew().sort_values(ascending=False)"
   ]
  },
  {
   "cell_type": "code",
   "execution_count": 44,
   "id": "e9670e57",
   "metadata": {},
   "outputs": [
    {
     "data": {
      "text/plain": [
       "True"
      ]
     },
     "execution_count": 44,
     "metadata": {},
     "output_type": "execute_result"
    }
   ],
   "source": [
    "df1.skew()[np.abs(df1.skew())<0.25].all()"
   ]
  },
  {
   "cell_type": "code",
   "execution_count": 45,
   "id": "2c67c66b",
   "metadata": {},
   "outputs": [
    {
     "data": {
      "text/plain": [
       "TV          -0.315199\n",
       "radio       -0.242968\n",
       "newspaper   -0.077942\n",
       "dtype: float64"
      ]
     },
     "execution_count": 45,
     "metadata": {},
     "output_type": "execute_result"
    }
   ],
   "source": [
    "skewed_data=df1.skew()\n",
    "skewed_data"
   ]
  },
  {
   "cell_type": "code",
   "execution_count": 47,
   "id": "6bd5f0c3",
   "metadata": {},
   "outputs": [
    {
     "data": {
      "image/png": "[encoded data removed]",
      "text/plain": [
       "<Figure size 432x288 with 1 Axes>"
      ]
     },
     "metadata": {
      "needs_background": "light"
     },
     "output_type": "display_data"
    },
    {
     "data": {
      "image/png": "[encoded data removed]",
      "text/plain": [
       "<Figure size 432x288 with 1 Axes>"
      ]
     },
     "metadata": {
      "needs_background": "light"
     },
     "output_type": "display_data"
    },
    {
     "data": {
      "image/png": "[encoded data removed]",
      "text/plain": [
       "<Figure size 432x288 with 1 Axes>"
      ]
     },
     "metadata": {
      "needs_background": "light"
     },
     "output_type": "display_data"
    }
   ],
   "source": [
    "for i in df1.columns:\n",
    "    sns.distplot(df1[i])\n",
    "    plt.title(i)\n",
    "    plt.show()"
   ]
  },
  {
   "cell_type": "markdown",
   "id": "4e71f95d",
   "metadata": {},
   "source": [
    "Now after removal of skewness, the curves cannot be normalized, but the skewness is reduced considerably in each columns"
   ]
  },
  {
   "cell_type": "code",
   "execution_count": 48,
   "id": "74f9c4ed",
   "metadata": {},
   "outputs": [],
   "source": [
    "df1['sales']=chl_df['sales']"
   ]
  },
  {
   "cell_type": "code",
   "execution_count": 49,
   "id": "cfc95cf9",
   "metadata": {},
   "outputs": [
    {
     "data": {
      "text/html": [
       "<div>\n",
       "<style scoped>\n",
       "    .dataframe tbody tr th:only-of-type {\n",
       "        vertical-align: middle;\n",
       "    }\n",
       "\n",
       "    .dataframe tbody tr th {\n",
       "        vertical-align: top;\n",
       "    }\n",
       "\n",
       "    .dataframe thead th {\n",
       "        text-align: right;\n",
       "    }\n",
       "</style>\n",
       "<table border=\"1\" class=\"dataframe\">\n",
       "  <thead>\n",
       "    <tr style=\"text-align: right;\">\n",
       "      <th></th>\n",
       "      <th>TV</th>\n",
       "      <th>radio</th>\n",
       "      <th>newspaper</th>\n",
       "      <th>sales</th>\n",
       "    </tr>\n",
       "  </thead>\n",
       "  <tbody>\n",
       "    <tr>\n",
       "      <th>0</th>\n",
       "      <td>0.948674</td>\n",
       "      <td>0.962247</td>\n",
       "      <td>1.514335</td>\n",
       "      <td>22.1</td>\n",
       "    </tr>\n",
       "    <tr>\n",
       "      <th>1</th>\n",
       "      <td>-1.191314</td>\n",
       "      <td>1.040179</td>\n",
       "      <td>0.787683</td>\n",
       "      <td>10.4</td>\n",
       "    </tr>\n",
       "    <tr>\n",
       "      <th>2</th>\n",
       "      <td>-1.647757</td>\n",
       "      <td>1.370710</td>\n",
       "      <td>1.516998</td>\n",
       "      <td>9.3</td>\n",
       "    </tr>\n",
       "    <tr>\n",
       "      <th>3</th>\n",
       "      <td>0.141020</td>\n",
       "      <td>1.142387</td>\n",
       "      <td>1.214656</td>\n",
       "      <td>18.5</td>\n",
       "    </tr>\n",
       "    <tr>\n",
       "      <th>4</th>\n",
       "      <td>0.452715</td>\n",
       "      <td>-0.748651</td>\n",
       "      <td>1.211704</td>\n",
       "      <td>12.9</td>\n",
       "    </tr>\n",
       "    <tr>\n",
       "      <th>...</th>\n",
       "      <td>...</td>\n",
       "      <td>...</td>\n",
       "      <td>...</td>\n",
       "      <td>...</td>\n",
       "    </tr>\n",
       "    <tr>\n",
       "      <th>195</th>\n",
       "      <td>-1.287908</td>\n",
       "      <td>-1.431436</td>\n",
       "      <td>-0.682576</td>\n",
       "      <td>7.6</td>\n",
       "    </tr>\n",
       "    <tr>\n",
       "      <th>196</th>\n",
       "      <td>-0.520949</td>\n",
       "      <td>-1.297017</td>\n",
       "      <td>-1.142011</td>\n",
       "      <td>9.7</td>\n",
       "    </tr>\n",
       "    <tr>\n",
       "      <th>197</th>\n",
       "      <td>0.413091</td>\n",
       "      <td>-0.875492</td>\n",
       "      <td>-1.313050</td>\n",
       "      <td>12.8</td>\n",
       "    </tr>\n",
       "    <tr>\n",
       "      <th>198</th>\n",
       "      <td>1.455843</td>\n",
       "      <td>1.177722</td>\n",
       "      <td>1.433350</td>\n",
       "      <td>25.5</td>\n",
       "    </tr>\n",
       "    <tr>\n",
       "      <th>199</th>\n",
       "      <td>0.968161</td>\n",
       "      <td>-0.937083</td>\n",
       "      <td>-1.086425</td>\n",
       "      <td>13.4</td>\n",
       "    </tr>\n",
       "  </tbody>\n",
       "</table>\n",
       "<p>200 rows × 4 columns</p>\n",
       "</div>"
      ],
      "text/plain": [
       "           TV     radio  newspaper  sales\n",
       "0    0.948674  0.962247   1.514335   22.1\n",
       "1   -1.191314  1.040179   0.787683   10.4\n",
       "2   -1.647757  1.370710   1.516998    9.3\n",
       "3    0.141020  1.142387   1.214656   18.5\n",
       "4    0.452715 -0.748651   1.211704   12.9\n",
       "..        ...       ...        ...    ...\n",
       "195 -1.287908 -1.431436  -0.682576    7.6\n",
       "196 -0.520949 -1.297017  -1.142011    9.7\n",
       "197  0.413091 -0.875492  -1.313050   12.8\n",
       "198  1.455843  1.177722   1.433350   25.5\n",
       "199  0.968161 -0.937083  -1.086425   13.4\n",
       "\n",
       "[200 rows x 4 columns]"
      ]
     },
     "execution_count": 49,
     "metadata": {},
     "output_type": "execute_result"
    }
   ],
   "source": [
    "df1"
   ]
  },
  {
   "cell_type": "code",
   "execution_count": 50,
   "id": "b8bf7f36",
   "metadata": {},
   "outputs": [
    {
     "data": {
      "text/plain": [
       "(200, 4)"
      ]
     },
     "execution_count": 50,
     "metadata": {},
     "output_type": "execute_result"
    }
   ],
   "source": [
    "df1.shape"
   ]
  },
  {
   "cell_type": "markdown",
   "id": "5d4ed27a",
   "metadata": {},
   "source": [
    "# Check For Outliers"
   ]
  },
  {
   "cell_type": "code",
   "execution_count": 59,
   "id": "65a61600",
   "metadata": {},
   "outputs": [
    {
     "data": {
      "image/png": "[encoded data removed]",
      "text/plain": [
       "<Figure size 360x360 with 1 Axes>"
      ]
     },
     "metadata": {
      "needs_background": "light"
     },
     "output_type": "display_data"
    }
   ],
   "source": [
    "df1.boxplot(figsize=(5,5))\n",
    "#plt.subplots_adjust(bottom=0.25)\n",
    "plt.show()"
   ]
  },
  {
   "cell_type": "code",
   "execution_count": 54,
   "id": "1c416dfb",
   "metadata": {},
   "outputs": [
    {
     "data": {
      "text/plain": [
       "<AxesSubplot:xlabel='TV'>"
      ]
     },
     "execution_count": 54,
     "metadata": {},
     "output_type": "execute_result"
    },
    {
     "data": {
      "image/png": "[encoded data removed]",
      "text/plain": [
       "<Figure size 432x288 with 1 Axes>"
      ]
     },
     "metadata": {
      "needs_background": "light"
     },
     "output_type": "display_data"
    }
   ],
   "source": [
    "sns.boxplot(df1['TV'])"
   ]
  },
  {
   "cell_type": "code",
   "execution_count": 60,
   "id": "8a171e78",
   "metadata": {},
   "outputs": [
    {
     "data": {
      "text/plain": [
       "array([[0.94867429, 0.96224689, 1.51433531, 1.55205313],\n",
       "       [1.19131426, 1.0401788 , 0.78768252, 0.69604611],\n",
       "       [1.6477566 , 1.37070964, 1.51699753, 0.90740587],\n",
       "       [0.14102023, 1.14238689, 1.21465643, 0.86033029],\n",
       "       [0.45271493, 0.74865064, 1.21170398, 0.21568303],\n",
       "       [1.82382233, 1.51501853, 1.66502354, 1.31091086],\n",
       "       [1.00249116, 0.69372704, 0.1077535 , 0.42704278],\n",
       "       [0.210275  , 0.10158544, 0.84409341, 0.15803946],\n",
       "       [1.82609501, 1.63345378, 2.13259669, 1.77205942],\n",
       "       [0.64764492, 1.56676988, 0.22900395, 0.65761706],\n",
       "       [0.88377378, 1.20298758, 0.07226156, 1.04190753],\n",
       "       [0.79708355, 0.18072579, 1.60261898, 0.64897053],\n",
       "       [1.52641627, 0.81900563, 1.42512925, 0.92662039],\n",
       "       [0.48036844, 1.02813642, 1.22982506, 0.83054778],\n",
       "       [0.69106577, 0.6992403 , 0.81860579, 0.9564029 ],\n",
       "       [0.60295713, 1.45770359, 1.04432344, 1.6096967 ],\n",
       "       [0.86079972, 0.89906999, 2.52943514, 0.29254112],\n",
       "       [1.4355201 , 1.05563142, 1.13383286, 1.99398717],\n",
       "       [0.84199328, 0.04209908, 0.39356015, 0.5231154 ],\n",
       "       [0.09508551, 0.17453165, 0.34671544, 0.11096387],\n",
       "       [0.8337607 , 0.40367061, 1.05996548, 0.76425767],\n",
       "       [1.01958629, 1.27567304, 0.1077535 , 0.29254112],\n",
       "       [1.72701642, 0.35739289, 0.93875739, 1.61834324],\n",
       "       [0.93109798, 0.28631129, 0.02589311, 0.28389458],\n",
       "       [0.93569772, 0.60431061, 0.39356015, 0.83054778],\n",
       "       [1.26290943, 1.4550585 , 0.3237259 , 0.38861374],\n",
       "       [0.04659013, 0.49664406, 0.76867281, 0.18782197],\n",
       "       [1.0456669 , 0.30040383, 0.1386789 , 0.36075268],\n",
       "       [1.12918152, 0.3682981 , 0.1386789 , 0.93718838],\n",
       "       [0.82328646, 0.35021379, 0.63452018, 0.67683159],\n",
       "       [1.54129731, 0.43876195, 0.72114861, 1.41755147],\n",
       "       [0.29553337, 0.25134036, 0.55235877, 0.40782826],\n",
       "       [0.48404243, 1.71918898, 0.20071936, 0.8497623 ],\n",
       "       [1.28829734, 0.07502706, 2.32472495, 0.64897053],\n",
       "       [0.50245749, 1.7342107 , 1.20981332, 0.86897682],\n",
       "       [1.52114819, 1.3853128 , 1.10471076, 0.23489755],\n",
       "       [1.3004967 , 1.2675887 , 1.47330873, 2.1861324 ],\n",
       "       [0.76905257, 1.53874417, 0.80833914, 0.1301784 ],\n",
       "       [1.21245403, 0.34455612, 0.4155984 , 0.75368968],\n",
       "       [0.92816503, 0.95701091, 0.28742321, 1.43676599],\n",
       "       [0.67493776, 0.07409584, 0.27034854, 0.49525434],\n",
       "       [0.41309098, 0.72671408, 0.55615392, 0.59132696],\n",
       "       [1.54769995, 0.40367061, 1.95904851, 1.2830498 ],\n",
       "       [0.71920943, 0.95499286, 0.03545918, 0.21568303],\n",
       "       [1.50359538, 0.28462118, 0.72469411, 1.06112206],\n",
       "       [0.39319467, 0.08679116, 0.26605961, 0.16860744],\n",
       "       [0.57689562, 0.82396106, 0.43960934, 0.65761706],\n",
       "       [1.04373768, 1.15250515, 0.3817378 , 1.76341289],\n",
       "       [0.92033882, 0.36458821, 0.94852755, 0.14939292],\n",
       "       [0.87294338, 0.67550361, 0.48300508, 0.83054778],\n",
       "       [0.64764492, 1.50354208, 0.3953996 , 0.50390088],\n",
       "       [0.44500506, 0.84958728, 1.65883577, 0.63840254],\n",
       "       [0.81395585, 1.16260524, 0.59004665, 1.64812575],\n",
       "       [0.47140703, 1.38529598, 1.22055211, 1.37912242],\n",
       "       [1.2610261 , 0.46779569, 0.54176985, 1.18697718],\n",
       "       [0.63852563, 1.53874417, 1.25857888, 1.8594855 ],\n",
       "       [1.85624738, 0.42709558, 0.65646046, 1.63755776],\n",
       "       [0.02802214, 0.12834141, 0.49726342, 0.15803946],\n",
       "       [0.75824197, 1.54820925, 0.51793191, 1.87870003],\n",
       "       [0.75724354, 0.50813245, 1.03293213, 0.84111576],\n",
       "       [1.05927427, 1.64727037, 0.21815975, 1.13798015],\n",
       "       [1.24783212, 1.21283741, 1.10022212, 1.95555812],\n",
       "       [1.03794746, 0.38627294, 0.07797929, 0.32232363],\n",
       "       [0.41714955, 0.51386586, 1.11394312, 0.00432327],\n",
       "       [0.08546826, 1.21783637, 0.15154706, 0.76425767],\n",
       "       [0.84467375, 0.87549189, 2.1571572 , 0.90740587],\n",
       "       [1.39531449, 0.21769395, 1.88378271, 0.86897682],\n",
       "       [0.0066178 , 0.45966823, 0.95619942, 0.11961041],\n",
       "       [1.01958629, 0.39191142, 0.8911416 , 0.93718838],\n",
       "       [0.81792069, 1.2725405 , 0.07329661, 1.59048218],\n",
       "       [0.64055308, 0.5708121 , 0.55615392, 0.82190124],\n",
       "       [0.3321763 , 0.4745618 , 0.27462933, 0.31175564],\n",
       "       [1.47420382, 0.70474737, 0.33518557, 1.00347849],\n",
       "       [0.10474749, 1.21318999, 0.25745713, 0.58075897],\n",
       "       [0.7841573 , 0.21769395, 0.73224866, 0.57211244],\n",
       "       [1.65352738, 1.26263268, 2.01064695, 1.02269301],\n",
       "       [1.46224158, 1.70439494, 0.25638211, 1.36855443],\n",
       "       [0.20680098, 0.45039797, 0.65484297, 0.03410578],\n",
       "       [1.90271957, 0.53102334, 1.02420602, 1.67598681],\n",
       "       [0.25915513, 1.01885558, 0.1283175 , 0.58075897],\n",
       "       [0.74679627, 0.34455612, 0.17008941, 0.42704278],\n",
       "       [1.04277291, 1.3853128 , 0.48691113, 0.33097017],\n",
       "       [0.76118235, 0.05523482, 0.30858709, 0.5231154 ],\n",
       "       [0.85272745, 1.30216339, 0.43562451, 0.08118136],\n",
       "       [0.78515237, 1.22782124, 0.36271243, 1.47519504],\n",
       "       [0.58051341, 0.1824681 , 1.41963599, 0.22625101],\n",
       "       [0.74810183, 0.39191142, 0.53534269, 0.38861374],\n",
       "       [0.32151022, 1.10682827, 1.35009138, 0.3799672 ],\n",
       "       [0.59445094, 0.27253204, 1.62418784, 0.21568303],\n",
       "       [0.3321763 , 1.46250027, 0.99685054, 0.51446886],\n",
       "       [0.04935604, 1.29701657, 1.03293213, 0.54232992],\n",
       "       [1.44360046, 1.71918898, 0.32955606, 1.29169634],\n",
       "       [0.8268345 , 0.7321905 , 1.22937273, 1.033261  ],\n",
       "       [1.14922339, 0.89377076, 1.59579653, 1.57126765],\n",
       "       [0.36073275, 0.49704225, 0.89912378, 0.48468635],\n",
       "       [0.26831445, 0.62707446, 1.04432344, 0.55289791],\n",
       "       [0.62533398, 1.4550585 , 1.3679351 , 0.44625731],\n",
       "       [0.49522053, 0.00946213, 0.18598289, 0.28389458],\n",
       "       [1.51197614, 1.19279775, 0.99045745, 2.1861324 ],\n",
       "       [0.03924063, 1.16260524, 0.8151881 , 0.61054148],\n",
       "       [0.87322688, 1.36277082, 0.94527481, 0.44625731],\n",
       "       [1.57327016, 0.88315609, 2.2628248 , 1.87870003],\n",
       "       [1.42441703, 0.80702634, 0.21815975, 0.14939292],\n",
       "       [0.52616407, 0.26528466, 0.41743473, 0.1301784 ],\n",
       "       [1.02732204, 0.77578583, 1.4371576 , 1.2830498 ],\n",
       "       [0.00900053, 1.39500055, 1.22937273, 0.99483195],\n",
       "       [1.50533991, 0.73221674, 0.18741746, 1.31091086],\n",
       "       [0.56814506, 1.91962741, 0.12315678, 1.02269301],\n",
       "       [1.72906885, 1.90076688, 0.00306944, 1.67598681],\n",
       "       [1.19202117, 0.35644335, 1.41364623, 1.11011909],\n",
       "       [0.90662534, 0.97304835, 1.15501188, 0.11961041],\n",
       "       [1.06108536, 0.97270342, 0.12315678, 1.49440956],\n",
       "       [0.39948386, 0.39353456, 1.84832983, 0.01489126],\n",
       "       [0.74625251, 0.0355487 , 0.91521378, 0.36075268],\n",
       "       [0.72337219, 1.41436293, 0.39133878, 0.11096387],\n",
       "       [0.76380392, 0.81362329, 1.03804144, 0.2733266 ],\n",
       "       [0.00550359, 0.4745618 , 0.00306944, 0.35018469],\n",
       "       [0.74679627, 1.82997283, 0.6140794 , 0.88819135],\n",
       "       [0.1469415 , 0.91493549, 1.76974284, 0.36075268],\n",
       "       [1.60617806, 0.35021379, 0.17008941, 1.426198  ],\n",
       "       [0.02885793, 0.35050382, 0.82542768, 0.28389458],\n",
       "       [1.61739376, 0.0357579 , 0.96473213, 1.34933991],\n",
       "       [0.88896054, 1.59299019, 0.56119394, 0.46547183],\n",
       "       [0.17678774, 0.79203663, 0.78347482, 0.22625101],\n",
       "       [0.94281959, 0.66606674, 1.64467302, 1.09090457],\n",
       "       [0.60829585, 0.66750027, 0.01146189, 0.65761706],\n",
       "       [1.84451116, 1.01950683, 0.9711866 , 1.426198  ],\n",
       "       [0.69751107, 1.9798635 , 1.04171092, 1.00347849],\n",
       "       [0.85253082, 1.51977089, 1.71817136, 2.05163074],\n",
       "       [0.9730961 , 0.65156482, 0.71759813, 0.83054778],\n",
       "       [2.04026249, 1.05563142, 1.08642518, 2.38692417],\n",
       "       [1.2845405 , 1.52845902, 0.71404265, 0.25411207],\n",
       "       [1.83065941, 0.37421339, 1.90202575, 1.59912871],\n",
       "       [0.84759549, 0.7321905 , 0.78768252, 1.07169004],\n",
       "       [1.30833884, 1.0039509 , 1.41688552, 0.61918802],\n",
       "       [1.1347862 , 1.42402092, 1.10471076, 0.46547183],\n",
       "       [1.49489926, 1.02468221, 1.03293213, 0.86897682],\n",
       "       [1.36405418, 0.47358005, 1.2498484 , 1.30226433],\n",
       "       [1.2139708 , 0.2966758 , 0.26744284, 0.8497623 ],\n",
       "       [0.49522053, 1.2725405 , 1.97889407, 1.2830498 ],\n",
       "       [0.78616198, 0.27928757, 0.74672069, 0.59997349],\n",
       "       [0.58562018, 0.83511859, 1.68019945, 0.99483195],\n",
       "       [0.85450412, 0.71574298, 0.52562487, 1.16776266],\n",
       "       [0.39426242, 1.21318999, 0.38727085, 0.69604611],\n",
       "       [0.49631074, 0.43746469, 0.56372647, 0.50390088],\n",
       "       [0.01774834, 1.66126392, 1.05942991, 0.71526063],\n",
       "       [1.0456669 , 1.05622936, 1.08642518, 0.15803946],\n",
       "       [1.07551559, 1.51977089, 0.75987942, 2.1861324 ],\n",
       "       [1.29103896, 1.09151903, 0.82108927, 0.59997349],\n",
       "       [1.18830853, 0.29065278, 0.26190454, 0.75368968],\n",
       "       [1.42904484, 0.50457379, 0.49081078, 0.39918172],\n",
       "       [0.20101603, 0.95499286, 0.90922967, 0.46547183],\n",
       "       [0.62533398, 0.13716541, 0.65484297, 0.49525434],\n",
       "       [0.35322947, 1.0607726 , 0.51793191, 0.9564029 ],\n",
       "       [0.52513474, 0.00296885, 1.01553176, 0.30310911],\n",
       "       [1.93665721, 0.68353104, 1.39057916, 2.0794918 ],\n",
       "       [0.52465633, 1.25270792, 0.96796131, 0.24546554],\n",
       "       [0.12246872, 1.74947332, 0.06724139, 0.75368968],\n",
       "       [1.75822712, 0.91493549, 0.79113681, 1.29169634],\n",
       "       [0.07867963, 0.1824681 , 0.3953996 , 0.21568303],\n",
       "       [0.36587519, 0.20298441, 0.23144984, 0.07253483],\n",
       "       [0.62724967, 0.85652391, 0.92895126, 0.13882493],\n",
       "       [0.53130856, 0.20298441, 0.00306944, 0.16860744],\n",
       "       [0.27045056, 0.90965233, 1.20981332, 0.76425767],\n",
       "       [0.24514238, 0.44484785, 1.42534498, 0.40782826],\n",
       "       [0.99148599, 1.46701964, 1.90420913, 0.40782826],\n",
       "       [1.63438885, 0.95176976, 0.20737541, 1.15719467],\n",
       "       [0.71820605, 1.26510158, 0.32944703, 0.35018469],\n",
       "       [0.80403524, 0.15589202, 1.18797267, 0.59132696],\n",
       "       [1.46230082, 0.76519122, 1.31304986, 0.18782197],\n",
       "       [1.10987617, 0.68353104, 0.38763953, 1.08033658],\n",
       "       [0.28112073, 0.01596668, 0.86598739, 0.09174935],\n",
       "       [1.60245911, 0.06841773, 0.47232241, 1.23405277],\n",
       "       [0.32257166, 1.07517365, 0.75400514, 0.44625731],\n",
       "       [0.87322688, 1.46701964, 0.73224866, 0.48468635],\n",
       "       [1.39381826, 1.51501853, 0.67098058, 2.49356478],\n",
       "       [1.12535894, 0.54811736, 0.27856754, 1.18697718],\n",
       "       [0.34161695, 1.00961537, 0.41961731, 0.44625731],\n",
       "       [1.39196069, 1.60632069, 0.09754949, 0.42704278],\n",
       "       [0.29283811, 0.81547901, 0.43554699, 0.2733266 ],\n",
       "       [0.19634785, 1.56676988, 1.12323656, 0.67683159],\n",
       "       [0.83474968, 1.2441519 , 0.08265171, 0.35018469],\n",
       "       [1.02082882, 1.21318999, 0.18741746, 1.02269301],\n",
       "       [1.49268741, 1.22782124, 1.58280405, 2.33984859],\n",
       "       [1.17682728, 0.00998415, 0.20071936, 0.68739958],\n",
       "       [0.70012304, 1.33163754, 0.31802204, 1.64812575],\n",
       "       [0.0088456 , 1.63345378, 0.04498207, 0.71526063],\n",
       "       [0.55902662, 0.46200391, 0.39949982, 0.62975601],\n",
       "       [1.47796614, 0.50457379, 1.64450612, 0.36075268],\n",
       "       [1.61927178, 0.64363221, 0.11287487, 1.40698348],\n",
       "       [1.267656  , 1.13225036, 1.37920552, 0.61918802],\n",
       "       [0.75856261, 0.74865064, 1.35676548, 0.79211873],\n",
       "       [1.6477566 , 1.3853128 , 0.27034854, 1.56069967],\n",
       "       [0.30559723, 1.1777216 , 1.65883577, 1.07169004],\n",
       "       [0.12137572, 0.84583242, 1.35676548, 0.62975601],\n",
       "       [1.28790757, 1.43143631, 0.68257581, 1.23405277],\n",
       "       [0.52094879, 1.29701657, 1.14201102, 0.83054778],\n",
       "       [0.41309098, 0.87549189, 1.31304986, 0.23489755],\n",
       "       [1.45584317, 1.1777216 , 1.43335009, 2.20534693],\n",
       "       [0.96816082, 0.93708342, 1.08642518, 0.11961041]])"
      ]
     },
     "execution_count": 60,
     "metadata": {},
     "output_type": "execute_result"
    }
   ],
   "source": [
    "from scipy.stats import zscore\n",
    "z=np.abs(zscore(df1))\n",
    "z"
   ]
  },
  {
   "cell_type": "code",
   "execution_count": 65,
   "id": "d822ea02",
   "metadata": {},
   "outputs": [
    {
     "name": "stdout",
     "output_type": "stream",
     "text": [
      "(array([], dtype=int64), array([], dtype=int64))\n"
     ]
    }
   ],
   "source": [
    "# threshold for zscore is 3........., zscore greater than 3 is outliers\n",
    "threshold =3\n",
    "print(np.where(z>3))"
   ]
  },
  {
   "cell_type": "markdown",
   "id": "96e1aba5",
   "metadata": {},
   "source": [
    "There are no outliers present in the dataset."
   ]
  },
  {
   "cell_type": "markdown",
   "id": "80fe4028",
   "metadata": {},
   "source": [
    "# Spliting the data and Balancing "
   ]
  },
  {
   "cell_type": "code",
   "execution_count": 67,
   "id": "bbaff356",
   "metadata": {},
   "outputs": [],
   "source": [
    "x= df_new.iloc[:,0:-1]\n",
    "y=df_new.iloc[:,-1]"
   ]
  },
  {
   "cell_type": "markdown",
   "id": "e6879abd",
   "metadata": {},
   "source": [
    "The target variable is a continous type of data. So we shall use Linear Regression"
   ]
  },
  {
   "cell_type": "markdown",
   "id": "ed203356",
   "metadata": {},
   "source": [
    "# Train The Model"
   ]
  },
  {
   "cell_type": "code",
   "execution_count": 68,
   "id": "60864487",
   "metadata": {},
   "outputs": [],
   "source": [
    "from sklearn.linear_model import LinearRegression\n",
    "from sklearn.tree import DecisionTreeRegressor\n",
    "from sklearn.ensemble import RandomForestRegressor\n",
    "from sklearn.svm import SVR\n",
    "from sklearn.metrics import accuracy_score,r2_score,mean_squared_error,mean_absolute_error\n",
    "from sklearn.model_selection import train_test_split"
   ]
  },
  {
   "cell_type": "markdown",
   "id": "e5cb49e6",
   "metadata": {},
   "source": [
    "# Check the best Random State"
   ]
  },
  {
   "cell_type": "markdown",
   "id": "259f76c1",
   "metadata": {},
   "source": [
    "# Linear Regression"
   ]
  },
  {
   "cell_type": "code",
   "execution_count": 72,
   "id": "cd09e3f1",
   "metadata": {},
   "outputs": [
    {
     "name": "stdout",
     "output_type": "stream",
     "text": [
      "Best R2_score is 0.9440103296887814 on Random_state 98\n"
     ]
    }
   ],
   "source": [
    "maxr2=0\n",
    "maxRS=0\n",
    "\n",
    "for i in range(1,100):\n",
    "    xtrain,xtest,ytrain,ytest= train_test_split(x,y,test_size=20,random_state=i)\n",
    "    lr=LinearRegression()\n",
    "    lr.fit(xtrain,ytrain)\n",
    "    predlr= lr.predict(xtest)\n",
    "    R2=r2_score(ytest,predlr)\n",
    "    if R2>maxr2:\n",
    "        maxr2=R2\n",
    "        maxRS=i\n",
    "print(\"Best R2_score is\", maxr2, 'on Random_state',maxRS)"
   ]
  },
  {
   "cell_type": "markdown",
   "id": "c68ce5b2",
   "metadata": {},
   "source": [
    "# To Find the Best Cross Validation Score "
   ]
  },
  {
   "cell_type": "code",
   "execution_count": 74,
   "id": "00722bc8",
   "metadata": {},
   "outputs": [],
   "source": [
    "pred_tr= lr.predict(xtrain)\n",
    "pred_ts= lr.predict(xtest)"
   ]
  },
  {
   "cell_type": "code",
   "execution_count": 78,
   "id": "6cec6fb5",
   "metadata": {},
   "outputs": [],
   "source": [
    "train_score= r2_score(ytrain,pred_tr)\n",
    "test_score= r2_score(ytest,pred_ts)"
   ]
  },
  {
   "cell_type": "code",
   "execution_count": 79,
   "id": "aef95a16",
   "metadata": {},
   "outputs": [
    {
     "name": "stdout",
     "output_type": "stream",
     "text": [
      "At cross fold 2 the cv score is 0.9042245206305917 and accuracy score for training is 0.905611595694469 and the accuracy for testing is 0.9032128200001172\n",
      "\n",
      "\n",
      "At cross fold 3 the cv score is 0.9005133366024932 and accuracy score for training is 0.905611595694469 and the accuracy for testing is 0.9032128200001172\n",
      "\n",
      "\n",
      "At cross fold 4 the cv score is 0.9010704953541406 and accuracy score for training is 0.905611595694469 and the accuracy for testing is 0.9032128200001172\n",
      "\n",
      "\n",
      "At cross fold 5 the cv score is 0.8978060430607071 and accuracy score for training is 0.905611595694469 and the accuracy for testing is 0.9032128200001172\n",
      "\n",
      "\n",
      "At cross fold 6 the cv score is 0.9020141622653224 and accuracy score for training is 0.905611595694469 and the accuracy for testing is 0.9032128200001172\n",
      "\n",
      "\n",
      "At cross fold 7 the cv score is 0.8982025458270028 and accuracy score for training is 0.905611595694469 and the accuracy for testing is 0.9032128200001172\n",
      "\n",
      "\n",
      "At cross fold 8 the cv score is 0.8958223041714928 and accuracy score for training is 0.905611595694469 and the accuracy for testing is 0.9032128200001172\n",
      "\n",
      "\n",
      "At cross fold 9 the cv score is 0.895873178203007 and accuracy score for training is 0.905611595694469 and the accuracy for testing is 0.9032128200001172\n",
      "\n",
      "\n"
     ]
    }
   ],
   "source": [
    "from sklearn.model_selection import cross_val_score\n",
    "for j in range(2,10):\n",
    "    cv_score= cross_val_score(lr,x,y,cv=j)\n",
    "    cv_mean=cv_score.mean()\n",
    "    print(f\"At cross fold {j} the cv score is {cv_mean} and accuracy score for training is {train_score} and the accuracy for testing is {test_score}\")\n",
    "    print(\"\\n\")"
   ]
  },
  {
   "cell_type": "markdown",
   "id": "acdbcd0d",
   "metadata": {},
   "source": [
    "From the above results, Random_state is set to be 98, \n",
    "\n",
    "Cv_score is set to be 2 to train and test the models."
   ]
  },
  {
   "cell_type": "code",
   "execution_count": 81,
   "id": "bc83d1b9",
   "metadata": {},
   "outputs": [],
   "source": [
    "xtrain,xtest,ytrain,ytest= train_test_split(x,y,test_size=20,random_state=98)"
   ]
  },
  {
   "cell_type": "markdown",
   "id": "a0cd14cb",
   "metadata": {},
   "source": [
    "# Linear Regression"
   ]
  },
  {
   "cell_type": "code",
   "execution_count": 82,
   "id": "cfe7ee93",
   "metadata": {},
   "outputs": [
    {
     "name": "stdout",
     "output_type": "stream",
     "text": [
      "Score: 0.901698907605113\n",
      "mean_squared_error 1.9887236948775702\n",
      "mean_absolute_error: 1.124986925824589\n",
      "r2_score: 0.9268245846879467\n"
     ]
    }
   ],
   "source": [
    "lr=LinearRegression()\n",
    "lr.fit(xtrain,ytrain)\n",
    "predlr= lr.predict(xtest)\n",
    "print('Score:',lr.score(xtrain,ytrain))\n",
    "print('mean_squared_error', mean_squared_error(ytest,predlr))\n",
    "print('mean_absolute_error:', mean_absolute_error(predlr,ytest))\n",
    "print('r2_score:', r2_score(predlr,ytest))"
   ]
  },
  {
   "cell_type": "code",
   "execution_count": 84,
   "id": "2deb4077",
   "metadata": {},
   "outputs": [
    {
     "name": "stdout",
     "output_type": "stream",
     "text": [
      "Cross Validation Score of LinearRegression is: 0.9042245206305917\n"
     ]
    }
   ],
   "source": [
    "cr_lr=cross_val_score(lr,x,y, cv=2)\n",
    "print('Cross Validation Score of LinearRegression is:', cr_lr.mean())"
   ]
  },
  {
   "cell_type": "markdown",
   "id": "0abc58e6",
   "metadata": {},
   "source": [
    "R2 score and cross validation score are very close values, which indicates the model is performing well"
   ]
  },
  {
   "cell_type": "markdown",
   "id": "67d57a8e",
   "metadata": {},
   "source": [
    "# Decision Tree Regressor"
   ]
  },
  {
   "cell_type": "code",
   "execution_count": 85,
   "id": "e2e1a70c",
   "metadata": {},
   "outputs": [
    {
     "name": "stdout",
     "output_type": "stream",
     "text": [
      "Score: 1.0\n",
      "mean_squared_error 1.5835000000000008\n",
      "mean_absolute_error: 0.9250000000000004\n",
      "r2_score: 0.9465342656775984\n"
     ]
    }
   ],
   "source": [
    "dtc=DecisionTreeRegressor()\n",
    "dtc.fit(xtrain,ytrain)\n",
    "preddtc= dtc.predict(xtest)\n",
    "print('Score:',dtc.score(xtrain,ytrain))\n",
    "print('mean_squared_error', mean_squared_error(ytest,preddtc))\n",
    "print('mean_absolute_error:', mean_absolute_error(preddtc,ytest))\n",
    "print('r2_score:', r2_score(preddtc,ytest))"
   ]
  },
  {
   "cell_type": "code",
   "execution_count": 86,
   "id": "06d2363d",
   "metadata": {},
   "outputs": [
    {
     "name": "stdout",
     "output_type": "stream",
     "text": [
      "Cross Validation Score of LinearRegression is: 0.91246696396725\n"
     ]
    }
   ],
   "source": [
    "cr_dtc=cross_val_score(dtc,x,y, cv=2)\n",
    "print('Cross Validation Score of DecisionTreeRegressor is:', cr_dtc.mean())"
   ]
  },
  {
   "cell_type": "markdown",
   "id": "8f1d97b9",
   "metadata": {},
   "source": [
    "In DecisionTreeRegressor, r2 score and CV score are nearly close to each other indicating good performance of the model"
   ]
  },
  {
   "cell_type": "markdown",
   "id": "9a1e0fba",
   "metadata": {},
   "source": [
    "# RandomForestRegressor"
   ]
  },
  {
   "cell_type": "code",
   "execution_count": 87,
   "id": "adf5a448",
   "metadata": {},
   "outputs": [
    {
     "name": "stdout",
     "output_type": "stream",
     "text": [
      "mean_squared_error 0.7427987499999948\n",
      "mean_absolute_error: 0.6714499999999992\n",
      "Rf Score 0.9969317575088863\n",
      "r2_score: 0.97421178241722\n"
     ]
    }
   ],
   "source": [
    "rf=RandomForestRegressor()\n",
    "rf.fit(xtrain,ytrain)\n",
    "predrf= rf.predict(xtest)\n",
    "print('mean_squared_error', mean_squared_error(ytest,predrf))\n",
    "print('mean_absolute_error:', mean_absolute_error(predrf,ytest))\n",
    "print('Rf Score', rf.score(xtrain,ytrain))\n",
    "print('r2_score:', r2_score(predrf,ytest))"
   ]
  },
  {
   "cell_type": "code",
   "execution_count": 89,
   "id": "a7d8cb7f",
   "metadata": {},
   "outputs": [
    {
     "name": "stdout",
     "output_type": "stream",
     "text": [
      "Cross Validation Score of RandomForestRegressor is: 0.9717695978966138\n"
     ]
    }
   ],
   "source": [
    "cr_rf=cross_val_score(rf, x,y, cv=2)\n",
    "print('Cross Validation Score of RandomForestRegressor is:', cr_rf.mean())"
   ]
  },
  {
   "cell_type": "markdown",
   "id": "882536de",
   "metadata": {},
   "source": [
    "R2 score and cv score are equal here, so the model works perfectly well without any deviation"
   ]
  },
  {
   "cell_type": "markdown",
   "id": "97d4724d",
   "metadata": {},
   "source": [
    "# SVR"
   ]
  },
  {
   "cell_type": "code",
   "execution_count": 90,
   "id": "355a3de7",
   "metadata": {},
   "outputs": [
    {
     "name": "stdout",
     "output_type": "stream",
     "text": [
      "mean_squared_error 2.085976337615712\n",
      "mean_absolute_error: 1.1609641457661675\n",
      "Score: 0.9011966349135316\n",
      "r2_score: 0.9210014348200614\n"
     ]
    }
   ],
   "source": [
    "svc=SVR(kernel='linear')\n",
    "svc.fit(xtrain,ytrain)\n",
    "predsvc= svc.predict(xtest)\n",
    "print('mean_squared_error', mean_squared_error(ytest,predsvc))\n",
    "print('mean_absolute_error:', mean_absolute_error(predsvc,ytest))\n",
    "print('Score:', svc.score(xtrain,ytrain))\n",
    "print('r2_score:', r2_score(predsvc,ytest))"
   ]
  },
  {
   "cell_type": "code",
   "execution_count": 91,
   "id": "b1d39b50",
   "metadata": {},
   "outputs": [
    {
     "name": "stdout",
     "output_type": "stream",
     "text": [
      "Cross Validation Score of SVR is: 0.9024717959087372\n"
     ]
    }
   ],
   "source": [
    "cv_svc=cross_val_score(svc, x,y, cv=2)\n",
    "print('Cross Validation Score of SVR is:', cv_svc.mean())"
   ]
  },
  {
   "cell_type": "markdown",
   "id": "969221b2",
   "metadata": {},
   "source": [
    "r2 score and cv score here is also close indicating good performance."
   ]
  },
  {
   "cell_type": "markdown",
   "id": "f49168ab",
   "metadata": {},
   "source": [
    "Among all the models, RandomForestRegressor shows highest performance, the error is also very less. So we shall improve it with HyperParameter tuning"
   ]
  },
  {
   "cell_type": "markdown",
   "id": "32a0b54a",
   "metadata": {},
   "source": [
    "# HyperParameter Tuning With GridSearchCV"
   ]
  },
  {
   "cell_type": "code",
   "execution_count": 92,
   "id": "679e68f2",
   "metadata": {},
   "outputs": [],
   "source": [
    "from sklearn.model_selection import GridSearchCV"
   ]
  },
  {
   "cell_type": "markdown",
   "id": "e5632f60",
   "metadata": {},
   "source": [
    "# RandomForestRegressor"
   ]
  },
  {
   "cell_type": "code",
   "execution_count": 109,
   "id": "f634b1d0",
   "metadata": {},
   "outputs": [
    {
     "data": {
      "text/plain": [
       "RandomForestRegressor()"
      ]
     },
     "execution_count": 109,
     "metadata": {},
     "output_type": "execute_result"
    }
   ],
   "source": [
    "RandomForestRegressor()"
   ]
  },
  {
   "cell_type": "code",
   "execution_count": 115,
   "id": "059342c4",
   "metadata": {},
   "outputs": [
    {
     "data": {
      "text/plain": [
       "{'criterion': 'squared_error',\n",
       " 'max_depth': 4,\n",
       " 'max_features': 'auto',\n",
       " 'min_samples_leaf': 1}"
      ]
     },
     "execution_count": 115,
     "metadata": {},
     "output_type": "execute_result"
    }
   ],
   "source": [
    "parameters={'max_features': [\"auto\", \"sqrt\", \"log2\"],\n",
    "            'max_depth': [4,5,6,7,8],\n",
    "            'criterion':[\"squared_error\", \"absolute_error\", \"poisson\"],\n",
    "            'min_samples_leaf': [1,2,3]}\n",
    "\n",
    "GCV=GridSearchCV(RandomForestRegressor(), parameters, cv=2, scoring='accuracy')\n",
    "GCV.fit(xtrain,ytrain)\n",
    "GCV.best_params_"
   ]
  },
  {
   "cell_type": "code",
   "execution_count": 116,
   "id": "ba1d0ca9",
   "metadata": {},
   "outputs": [
    {
     "data": {
      "text/plain": [
       "RandomForestRegressor(max_depth=4)"
      ]
     },
     "execution_count": 116,
     "metadata": {},
     "output_type": "execute_result"
    }
   ],
   "source": [
    "GCV.best_estimator_"
   ]
  },
  {
   "cell_type": "code",
   "execution_count": 114,
   "id": "67a23a9c",
   "metadata": {},
   "outputs": [
    {
     "data": {
      "text/plain": [
       "0.9638309202878064"
      ]
     },
     "execution_count": 114,
     "metadata": {},
     "output_type": "execute_result"
    }
   ],
   "source": [
    "GCV_pred=GCV.best_estimator_.predict(xtest)\n",
    "r2_score(ytest,GCV_pred)"
   ]
  },
  {
   "cell_type": "code",
   "execution_count": 124,
   "id": "b1a7f78b",
   "metadata": {},
   "outputs": [
    {
     "name": "stdout",
     "output_type": "stream",
     "text": [
      "mean_squared_error 1.2870908448463676\n",
      "mean_absolute_error: 0.8928681642444362\n",
      "Rf Score 0.9848758919999495\n",
      "r2_score: 0.9509658913452168\n"
     ]
    }
   ],
   "source": [
    "rf=RandomForestRegressor(max_depth=4,\n",
    "                         criterion= 'squared_error',\n",
    "                         max_features= 'auto',\n",
    "                         min_samples_leaf= 1)\n",
    "rf.fit(xtrain,ytrain)\n",
    "predrf= rf.predict(xtest)\n",
    "print('mean_squared_error', mean_squared_error(ytest,predrf))\n",
    "print('mean_absolute_error:', mean_absolute_error(predrf,ytest))\n",
    "print('Rf Score', rf.score(xtrain,ytrain))\n",
    "print('r2_score:', r2_score(predrf,ytest))"
   ]
  },
  {
   "cell_type": "markdown",
   "id": "59ffa8ee",
   "metadata": {},
   "source": [
    "With the best parameters used the performance of the model is stabilized to 95%, which shows that the model performs well with the dataset"
   ]
  },
  {
   "cell_type": "markdown",
   "id": "c52984e1",
   "metadata": {},
   "source": [
    "# Save The Model"
   ]
  },
  {
   "cell_type": "code",
   "execution_count": 125,
   "id": "3181f416",
   "metadata": {},
   "outputs": [],
   "source": [
    "import pickle\n",
    "filename= 'Advertising.pkl'\n",
    "pickle.dump(rf,open(filename, 'wb'))"
   ]
  },
  {
   "cell_type": "markdown",
   "id": "8d3f984e",
   "metadata": {},
   "source": [
    "# Compare Original results with the Predicted Results"
   ]
  },
  {
   "cell_type": "code",
   "execution_count": 126,
   "id": "2ae2406e",
   "metadata": {},
   "outputs": [
    {
     "data": {
      "text/html": [
       "<div>\n",
       "<style scoped>\n",
       "    .dataframe tbody tr th:only-of-type {\n",
       "        vertical-align: middle;\n",
       "    }\n",
       "\n",
       "    .dataframe tbody tr th {\n",
       "        vertical-align: top;\n",
       "    }\n",
       "\n",
       "    .dataframe thead th {\n",
       "        text-align: right;\n",
       "    }\n",
       "</style>\n",
       "<table border=\"1\" class=\"dataframe\">\n",
       "  <thead>\n",
       "    <tr style=\"text-align: right;\">\n",
       "      <th></th>\n",
       "      <th>original</th>\n",
       "      <th>Predicted</th>\n",
       "    </tr>\n",
       "  </thead>\n",
       "  <tbody>\n",
       "    <tr>\n",
       "      <th>0</th>\n",
       "      <td>17.1</td>\n",
       "      <td>18.036906</td>\n",
       "    </tr>\n",
       "    <tr>\n",
       "      <th>1</th>\n",
       "      <td>10.7</td>\n",
       "      <td>10.297487</td>\n",
       "    </tr>\n",
       "    <tr>\n",
       "      <th>2</th>\n",
       "      <td>18.0</td>\n",
       "      <td>16.597648</td>\n",
       "    </tr>\n",
       "    <tr>\n",
       "      <th>3</th>\n",
       "      <td>19.0</td>\n",
       "      <td>19.155260</td>\n",
       "    </tr>\n",
       "    <tr>\n",
       "      <th>4</th>\n",
       "      <td>23.8</td>\n",
       "      <td>21.913391</td>\n",
       "    </tr>\n",
       "    <tr>\n",
       "      <th>5</th>\n",
       "      <td>3.2</td>\n",
       "      <td>5.476939</td>\n",
       "    </tr>\n",
       "    <tr>\n",
       "      <th>6</th>\n",
       "      <td>12.6</td>\n",
       "      <td>13.035560</td>\n",
       "    </tr>\n",
       "    <tr>\n",
       "      <th>7</th>\n",
       "      <td>6.6</td>\n",
       "      <td>7.401040</td>\n",
       "    </tr>\n",
       "    <tr>\n",
       "      <th>8</th>\n",
       "      <td>15.5</td>\n",
       "      <td>15.426543</td>\n",
       "    </tr>\n",
       "    <tr>\n",
       "      <th>9</th>\n",
       "      <td>10.8</td>\n",
       "      <td>10.206716</td>\n",
       "    </tr>\n",
       "    <tr>\n",
       "      <th>10</th>\n",
       "      <td>8.7</td>\n",
       "      <td>9.174931</td>\n",
       "    </tr>\n",
       "    <tr>\n",
       "      <th>11</th>\n",
       "      <td>7.0</td>\n",
       "      <td>7.620470</td>\n",
       "    </tr>\n",
       "    <tr>\n",
       "      <th>12</th>\n",
       "      <td>16.6</td>\n",
       "      <td>16.129244</td>\n",
       "    </tr>\n",
       "    <tr>\n",
       "      <th>13</th>\n",
       "      <td>10.3</td>\n",
       "      <td>11.103863</td>\n",
       "    </tr>\n",
       "    <tr>\n",
       "      <th>14</th>\n",
       "      <td>25.5</td>\n",
       "      <td>24.261235</td>\n",
       "    </tr>\n",
       "    <tr>\n",
       "      <th>15</th>\n",
       "      <td>24.7</td>\n",
       "      <td>22.172699</td>\n",
       "    </tr>\n",
       "    <tr>\n",
       "      <th>16</th>\n",
       "      <td>14.1</td>\n",
       "      <td>14.367625</td>\n",
       "    </tr>\n",
       "    <tr>\n",
       "      <th>17</th>\n",
       "      <td>17.6</td>\n",
       "      <td>15.878041</td>\n",
       "    </tr>\n",
       "    <tr>\n",
       "      <th>18</th>\n",
       "      <td>11.7</td>\n",
       "      <td>11.930326</td>\n",
       "    </tr>\n",
       "    <tr>\n",
       "      <th>19</th>\n",
       "      <td>11.6</td>\n",
       "      <td>11.062554</td>\n",
       "    </tr>\n",
       "  </tbody>\n",
       "</table>\n",
       "</div>"
      ],
      "text/plain": [
       "    original  Predicted\n",
       "0       17.1  18.036906\n",
       "1       10.7  10.297487\n",
       "2       18.0  16.597648\n",
       "3       19.0  19.155260\n",
       "4       23.8  21.913391\n",
       "5        3.2   5.476939\n",
       "6       12.6  13.035560\n",
       "7        6.6   7.401040\n",
       "8       15.5  15.426543\n",
       "9       10.8  10.206716\n",
       "10       8.7   9.174931\n",
       "11       7.0   7.620470\n",
       "12      16.6  16.129244\n",
       "13      10.3  11.103863\n",
       "14      25.5  24.261235\n",
       "15      24.7  22.172699\n",
       "16      14.1  14.367625\n",
       "17      17.6  15.878041\n",
       "18      11.7  11.930326\n",
       "19      11.6  11.062554"
      ]
     },
     "execution_count": 126,
     "metadata": {},
     "output_type": "execute_result"
    }
   ],
   "source": [
    "x=np.array(ytest)\n",
    "predicted= np.array(rf.predict(xtest))\n",
    "df_con= pd.DataFrame({'original': x, 'Predicted': predicted}, index= range(len(x)))\n",
    "df_con"
   ]
  },
  {
   "cell_type": "markdown",
   "id": "98646574",
   "metadata": {},
   "source": [
    "After saving the model, if we compare the actual values to the predicted values the results are 95% close to the actual values indicating that the model workd well with the provided dataset"
   ]
  },
  {
   "cell_type": "code",
   "execution_count": null,
   "id": "464250eb",
   "metadata": {},
   "outputs": [],
   "source": []
  }
 ],
 "metadata": {
  "kernelspec": {
   "display_name": "Python 3",
   "language": "python",
   "name": "python3"
  },
  "language_info": {
   "codemirror_mode": {
    "name": "ipython",
    "version": 3
   },
   "file_extension": ".py",
   "mimetype": "text/x-python",
   "name": "python",
   "nbconvert_exporter": "python",
   "pygments_lexer": "ipython3",
   "version": "3.8.8"
  }
 },
 "nbformat": 4,
 "nbformat_minor": 5
}
